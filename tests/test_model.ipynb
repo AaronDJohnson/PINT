{
 "metadata": {
  "name": ""
 },
 "nbformat": 3,
 "nbformat_minor": 0,
 "worksheets": [
  {
   "cells": [
    {
     "cell_type": "code",
     "collapsed": false,
     "input": [],
     "language": "python",
     "metadata": {},
     "outputs": [],
     "prompt_number": 12
    },
    {
     "cell_type": "code",
     "collapsed": false,
     "input": [
      "#! /usr/bin/env python\n",
      "import time, sys\n",
      "import pint.models as tm\n",
      "from pint.phase import *\n",
      "from pint import toa\n",
      "import matplotlib.pyplot as plt\n",
      "import numpy\n",
      "\n",
      "m = tm.StandardTimingModel()\n",
      "m.read_parfile('J1744-1134.basic.par')\n",
      "\n",
      "print \"model.as_parfile():\"\n",
      "print m.as_parfile()\n",
      "\n",
      "try:\n",
      "    planet_ephems = m.PLANET_SHAPIRO.value\n",
      "except AttributeError:\n",
      "    planet_ephems = False\n",
      "\n",
      "sys.stderr.write(\"Reading TOAs...\\n\")\n",
      "t0 = time.time()\n",
      "t = toa.TOAs('J1744-1134.Rcvr1_2.GASP.8y.x.tim')\n",
      "t1 = time.time()\n",
      "print t1-t0,\"reading\"\n",
      "if not \"clkcorr\" in t.toas[0].flags:\n",
      "    sys.stderr.write(\"Applying clock corrections...\\n\")\n",
      "    t.apply_clock_corrections()\n",
      "t.get_tdb_longdouble()\n",
      "    \n",
      "if not hasattr(t.toas[0], \"pvs\"):\n",
      "    sys.stderr.write(\"Computing observatory positions and velocities...\\n\")\n",
      "    t.compute_posvels(planets=True)\n",
      "    #t.compute_posvels_ld(planets=True)\n",
      "    t.get_freq_array()\n",
      "time_toa = time.time() - t0\n",
      "sys.stderr.write(\"Read/corrected TOAs in %.3f sec\\n\" % time_toa)\n",
      "\n",
      "\n",
      "\n",
      "mjds = numpy.array([x.mjd.value for x in t.toas])\n",
      "errs = t.get_errors()\n",
      "resids = numpy.zeros_like(mjds)\n",
      "resids2 = numpy.zeros_like(mjds)\n",
      "resids3 = numpy.zeros_like(mjds)\n",
      "sys.stderr.write(\"Computing residuals...\\n\")\n",
      "t0 = time.time()\n",
      "\n",
      "#p = m.phase_ld(t)\n",
      "#resids = p.frac\n",
      "\n",
      "p22 = []\n",
      "for ii, tt in enumerate(t.toas):\n",
      "    p2 = m.phase(tt)\n",
      "    p22.append(p2)\n",
      "    resids2[ii] = p2.frac\n",
      "time_phase = time.time() - t0\n",
      "sys.stderr.write(\"Computed phases in %.3f sec\\n\" % time_phase)\n",
      "\n",
      "plt.plot(mjds, resids2)\n",
      "plt.xlabel(\"MJDs\")\n",
      "plt.ylabel(\"Residuals (phase)\")\n",
      "plt.show()"
     ],
     "language": "python",
     "metadata": {},
     "outputs": [
      {
       "output_type": "stream",
       "stream": "stdout",
       "text": [
        "model.as_parfile():\n",
        "PSR                             1744-1134\n",
        "PLANET_SHAPIRO                          Y\n",
        "DM                                 3.1388\n",
        "F0                    245.426123707467781 1 4.13e-12\n",
        "F1                     -5.38085137486e-16 1 1.28426599777e-20\n",
        "TZRMJD              53694.613541102364010\n",
        "PEPOCH              50434.000000000000000\n",
        "RA                      17:44:29.39171911 1 2.312e-05\n",
        "DEC                    -11:34:54.56715670 1 0.0010157\n",
        "POSEPOCH            50434.000000000000000\n",
        "PMRA                              18.6744 1 0.0308\n",
        "PMDEC                            -10.1488 1 0.0932\n",
        "PX                                 2.9362 1 0.1678\n",
        "\n",
        "6.75752496719"
       ]
      },
      {
       "output_type": "stream",
       "stream": "stderr",
       "text": [
        "Reading TOAs...\n",
        "Applying clock corrections...\n"
       ]
      },
      {
       "output_type": "stream",
       "stream": "stdout",
       "text": [
        " reading\n",
        "INFO"
       ]
      },
      {
       "output_type": "stream",
       "stream": "stderr",
       "text": [
        "Computing observatory positions and velocities...\n",
        "Read/corrected TOAs in 20.980 sec\n"
       ]
      },
      {
       "output_type": "stream",
       "stream": "stderr",
       "text": [
        "Computing residuals...\n",
        "Computed phases in 8.041 sec\n"
       ]
      },
      {
       "output_type": "stream",
       "stream": "stdout",
       "text": [
        ": Loaded ephemeris from /Users/jingluo/Research_codes/PINT/datafiles/de421.bsp [pint.toa]\n"
       ]
      },
      {
       "metadata": {},
       "output_type": "display_data",
       "png": "[encoded data removed]",
       "text": [
        "<matplotlib.figure.Figure at 0x10da29e10>"
       ]
      }
     ],
     "prompt_number": 13
    },
    {
     "cell_type": "code",
     "collapsed": false,
     "input": [
      "m.solar_system_geometric_delay?"
     ],
     "language": "python",
     "metadata": {},
     "outputs": [],
     "prompt_number": 30
    },
    {
     "cell_type": "code",
     "collapsed": false,
     "input": [
      "t = Table.read('photometry.dat', format='ascii.daophot')p"
     ],
     "language": "python",
     "metadata": {},
     "outputs": [
      {
       "metadata": {},
       "output_type": "pyout",
       "prompt_number": 2,
       "text": [
        "Phase_array(int=array([-1.0146135e+10, -1.0146135e+10, -1.0146135e+10, ...,  4.1238348e+10,\n",
        "        4.1238348e+10,  4.1238348e+10], dtype=float128), frac=array([-0.17299455, -0.17496294, -0.17538515, ...,  0.28649231,\n",
        "        0.28674798,  0.28788786], dtype=float128))"
       ]
      }
     ],
     "prompt_number": 2
    },
    {
     "cell_type": "code",
     "collapsed": false,
     "input": [
      "for toa in t.toas:\n",
      "   print  m.solar_system_shapiro_delay(toa)"
     ],
     "language": "python",
     "metadata": {},
     "outputs": [
      {
       "output_type": "stream",
       "stream": "stdout",
       "text": [
        "-5.61779291032e-06\n",
        "-5.6177929103e-06\n",
        "-5.61779291027e-06\n",
        "-5.61779291025e-06\n",
        "-5.61779291025e-06\n",
        "-5.61779291008e-06\n",
        "-5.61779291003e-06\n",
        "-5.61779291002e-06\n",
        "-5.61738705459e-06\n",
        "-5.61738705457e-06\n",
        "-5.61738705453e-06"
       ]
      },
      {
       "output_type": "stream",
       "stream": "stdout",
       "text": [
        "\n",
        "-5.61738705452e-06\n",
        "-5.6173870545e-06\n",
        "-5.6173870544e-06\n",
        "-5.61738705435e-06\n",
        "-5.61738705431e-06\n",
        "-5.6173870543e-06\n",
        "-5.4252947121e-06\n",
        "-5.42529471208e-06\n",
        "-5.42529471205e-06\n",
        "-5.42529471202e-06\n",
        "-5.42529471199e-06\n",
        "-5.42529471196e-06"
       ]
      },
      {
       "output_type": "stream",
       "stream": "stdout",
       "text": [
        "\n",
        "-5.42529471194e-06\n",
        "-5.42529471191e-06\n",
        "-5.42529471188e-06\n",
        "-5.42529471185e-06\n",
        "-5.42529471182e-06\n",
        "-5.42529471179e-06\n",
        "-5.42111825259e-06\n",
        "-5.42111825256e-06\n",
        "-5.42111825253e-06\n",
        "-5.4211182525e-06\n",
        "-5.42111825247e-06"
       ]
      },
      {
       "output_type": "stream",
       "stream": "stdout",
       "text": [
        "\n",
        "-5.42111825245e-06\n",
        "-5.42111825242e-06\n",
        "-5.42111825239e-06\n",
        "-5.42111825236e-06\n",
        "-5.42111825233e-06\n",
        "-5.4211182523e-06\n",
        "-5.42111825227e-06\n",
        "-9.60661877915e-09\n",
        "-9.60661870531e-09\n",
        "-9.60661864159e-09"
       ]
      },
      {
       "output_type": "stream",
       "stream": "stdout",
       "text": [
        "\n",
        "-9.60661856875e-09\n",
        "-9.60661849077e-09\n",
        "-9.60661842909e-09\n",
        "-9.60661834825e-09\n",
        "-9.60661826707e-09\n",
        "-9.60661822902e-09\n",
        "-9.6066181448e-09\n",
        "-9.60661805363e-09\n",
        "-9.60661798098e-09\n",
        "-5.67199520252e-09\n",
        "-5.67199511065e-09"
       ]
      },
      {
       "output_type": "stream",
       "stream": "stdout",
       "text": [
        "\n",
        "-5.67199507343e-09\n",
        "-5.67199482853e-09\n",
        "-5.67199479078e-09\n",
        "-5.67199469586e-09\n",
        "5.1968290805e-06\n",
        "5.19682908061e-06\n",
        "5.19682908071e-06\n",
        "5.19682908082e-06\n",
        "5.19682908093e-06\n",
        "5.19682908104e-06\n",
        "5.19682908115e-06\n",
        "5.19682908127e-06\n",
        "5.19682908137e-06"
       ]
      },
      {
       "output_type": "stream",
       "stream": "stdout",
       "text": [
        "\n",
        "5.19682908148e-06\n",
        "5.1968290816e-06\n",
        "5.19682908172e-06\n",
        "5.2043692102e-06\n",
        "5.2043692103e-06\n",
        "5.20436921041e-06\n",
        "5.20436921052e-06\n",
        "5.20436921063e-06\n",
        "5.20436921074e-06\n",
        "5.20436921085e-06\n",
        "5.20436921096e-06\n",
        "5.20436921107e-06\n",
        "5.20436921118e-06\n",
        "5.20436921129e-06\n",
        "5.20436921141e-06"
       ]
      },
      {
       "output_type": "stream",
       "stream": "stdout",
       "text": [
        "\n",
        "1.52766354792e-05\n",
        "1.52766354794e-05\n",
        "1.52766354796e-05\n",
        "1.52766354798e-05\n",
        "1.527663548e-05\n",
        "1.52766354802e-05\n",
        "1.52766354804e-05\n",
        "1.52766354806e-05\n",
        "1.52766354808e-05\n",
        "1.5276635481e-05\n",
        "1.52766354812e-05\n",
        "1.52766354814e-05\n",
        "1.89831197622e-05"
       ]
      },
      {
       "output_type": "stream",
       "stream": "stdout",
       "text": [
        "\n",
        "1.89831197624e-05\n",
        "1.89831197627e-05\n",
        "1.89831197629e-05\n",
        "1.89831197631e-05\n",
        "1.89831197634e-05\n",
        "1.89831197636e-05\n",
        "1.89831197639e-05\n",
        "1.89831197641e-05\n",
        "1.89831197643e-05\n",
        "1.89831197646e-05\n",
        "1.89831197649e-05\n",
        "1.90097330714e-05\n",
        "1.90097330716e-05"
       ]
      },
      {
       "output_type": "stream",
       "stream": "stdout",
       "text": [
        "\n",
        "1.90097330718e-05\n",
        "1.90097330721e-05\n",
        "1.90097330723e-05\n",
        "1.90097330726e-05\n",
        "1.90097330728e-05\n",
        "1.90097330731e-05\n",
        "1.90097330733e-05\n",
        "1.90097330735e-05\n",
        "1.90097330738e-05\n",
        "1.9009733074e-05\n",
        "3.80623826949e-05\n",
        "3.8062382695e-05\n",
        "3.80623826951e-05\n",
        "3.80623826951e-05\n",
        "3.80623826952e-05"
       ]
      },
      {
       "output_type": "stream",
       "stream": "stdout",
       "text": [
        "\n",
        "3.80623826952e-05\n",
        "3.80623826953e-05\n",
        "3.80623826953e-05\n",
        "3.80623826954e-05\n",
        "3.80623826955e-05\n",
        "3.80623826955e-05\n",
        "3.80623826956e-05\n",
        "3.80637714583e-05\n",
        "3.80637714583e-05\n",
        "3.80637714584e-05\n",
        "3.80637714584e-05\n",
        "3.80637714585e-05\n",
        "3.80637714585e-05\n",
        "3.80637714586e-05\n",
        "3.80637714587e-05"
       ]
      },
      {
       "output_type": "stream",
       "stream": "stdout",
       "text": [
        "\n",
        "3.80637714587e-05\n",
        "3.80637714588e-05\n",
        "3.80637714588e-05\n",
        "3.80637714589e-05\n",
        "1.40543475064e-05\n",
        "1.40543475063e-05\n",
        "1.40543475058e-05\n",
        "1.40543475053e-05\n",
        "1.40543475051e-05\n",
        "1.4054347505e-05\n",
        "1.40543475048e-05\n",
        "1.40543475046e-05\n",
        "1.40543475043e-05\n",
        "1.40487683349e-05"
       ]
      },
      {
       "output_type": "stream",
       "stream": "stdout",
       "text": [
        "\n",
        "1.40487683347e-05\n",
        "1.40487683336e-05\n",
        "1.40487683335e-05\n",
        "1.40487683334e-05\n",
        "1.40487683332e-05\n",
        "1.4048768333e-05\n",
        "1.40487683328e-05\n",
        "1.1846953591e-05\n",
        "1.18469535909e-05\n",
        "1.18469535907e-05\n",
        "1.18469535905e-05"
       ]
      },
      {
       "output_type": "stream",
       "stream": "stdout",
       "text": [
        "\n",
        "1.18469535904e-05\n",
        "1.18469535902e-05\n",
        "1.184695359e-05\n",
        "1.18469535899e-05\n",
        "1.18469535897e-05\n",
        "1.18469535895e-05\n",
        "1.18469535894e-05\n",
        "1.18469535892e-05\n",
        "1.18420647329e-05\n",
        "1.18420647327e-05\n",
        "1.18420647325e-05\n",
        "1.18420647324e-05\n",
        "1.18420647322e-05\n",
        "1.1842064732e-05\n",
        "1.18420647319e-05"
       ]
      },
      {
       "output_type": "stream",
       "stream": "stdout",
       "text": [
        "\n",
        "1.18420647317e-05\n",
        "1.18420647315e-05\n",
        "1.18420647314e-05\n",
        "1.18420647312e-05\n",
        "1.1842064731e-05\n",
        "7.42670081174e-06\n",
        "7.42670081161e-06\n",
        "7.42670081148e-06\n",
        "7.42670081136e-06\n",
        "7.42670081122e-06\n",
        "7.42670081111e-06\n",
        "7.42670081097e-06\n",
        "7.42670081084e-06\n",
        "7.42670081071e-06\n",
        "7.42670081058e-06\n",
        "7.42670081044e-06"
       ]
      },
      {
       "output_type": "stream",
       "stream": "stdout",
       "text": [
        "\n",
        "7.4267008103e-06\n",
        "7.42290844855e-06\n",
        "7.42290844843e-06\n",
        "7.4229084483e-06\n",
        "7.42290844818e-06\n",
        "7.42290844804e-06\n",
        "7.42290844791e-06\n",
        "7.42290844777e-06\n",
        "7.42290844765e-06\n",
        "7.42290844753e-06\n",
        "7.42290844739e-06\n",
        "7.42290844725e-06\n",
        "7.42290844712e-06\n",
        "-6.32419842957e-06\n",
        "-6.32419842959e-06"
       ]
      },
      {
       "output_type": "stream",
       "stream": "stdout",
       "text": [
        "\n",
        "-6.3241984296e-06\n",
        "-6.32419842962e-06\n",
        "-6.32419842964e-06\n",
        "-6.32419842965e-06\n",
        "-6.32419842967e-06\n",
        "-6.32419842969e-06\n",
        "-6.3241984297e-06\n",
        "-6.32419842972e-06\n",
        "-6.32419842974e-06\n",
        "-6.32419842976e-06\n",
        "-6.32482688216e-06\n",
        "-6.32482688217e-06\n",
        "-6.32482688219e-06\n",
        "-6.32482688221e-06\n",
        "-6.32482688222e-06"
       ]
      },
      {
       "output_type": "stream",
       "stream": "stdout",
       "text": [
        "\n",
        "-6.32482688224e-06\n",
        "-6.32482688226e-06\n",
        "-6.32482688227e-06\n",
        "-6.3248268823e-06\n",
        "-6.32482688231e-06\n",
        "-6.32482688232e-06\n",
        "-6.32482688234e-06\n",
        "-5.97751345041e-06\n",
        "-5.97751345039e-06\n",
        "-5.97751345037e-06\n",
        "-5.97751345035e-06\n",
        "-5.97751345032e-06\n",
        "-5.9775134503e-06\n",
        "-5.97751345028e-06"
       ]
      },
      {
       "output_type": "stream",
       "stream": "stdout",
       "text": [
        "\n",
        "-5.97751345026e-06\n",
        "-5.97751345024e-06\n",
        "-5.97751345022e-06\n",
        "-5.97751345019e-06\n",
        "-5.97751345017e-06\n",
        "-5.97678209106e-06\n",
        "-5.97678209104e-06\n",
        "-5.97678209102e-06\n",
        "-5.976782091e-06\n",
        "-5.97678209098e-06\n",
        "-5.97678209096e-06\n",
        "-5.97678209094e-06\n",
        "-5.97678209092e-06\n",
        "-5.97678209089e-06"
       ]
      },
      {
       "output_type": "stream",
       "stream": "stdout",
       "text": [
        "\n",
        "-5.97678209087e-06\n",
        "-5.97678209085e-06\n",
        "-5.97678209083e-06\n",
        "-3.14587250961e-06\n",
        "-3.14587250956e-06\n",
        "-3.14587250951e-06\n",
        "-3.14587250947e-06\n",
        "-3.14587250942e-06\n",
        "-3.14587250937e-06\n",
        "-3.14587250933e-06\n",
        "-3.14587250928e-06\n",
        "-3.14587250923e-06\n",
        "-3.14587250918e-06"
       ]
      },
      {
       "output_type": "stream",
       "stream": "stdout",
       "text": [
        "\n",
        "-3.14587250913e-06\n",
        "-3.14587250908e-06\n",
        "-3.14448460274e-06\n",
        "-3.14448460269e-06\n",
        "-3.14448460264e-06\n",
        "-3.1444846026e-06\n",
        "-3.14448460255e-06\n",
        "-3.1444846025e-06\n",
        "-3.14448460245e-06\n",
        "-3.14448460241e-06\n",
        "-3.14448460236e-06\n",
        "-3.14448460231e-06"
       ]
      },
      {
       "output_type": "stream",
       "stream": "stdout",
       "text": [
        "\n",
        "-3.14448460226e-06\n",
        "-3.14448460221e-06\n",
        "1.31906289025e-06\n",
        "1.31906289033e-06\n",
        "1.31906289041e-06\n",
        "1.31906289048e-06\n",
        "1.31906289056e-06\n",
        "1.31906289064e-06\n",
        "1.31906289073e-06\n",
        "1.31906289081e-06\n",
        "1.31906289089e-06\n",
        "1.31906289097e-06"
       ]
      },
      {
       "output_type": "stream",
       "stream": "stdout",
       "text": [
        "\n",
        "1.31906289105e-06\n",
        "1.31906289114e-06\n",
        "1.32180104717e-06\n",
        "1.32180104724e-06\n",
        "1.32180104732e-06\n",
        "1.3218010474e-06\n",
        "1.32180104748e-06\n",
        "1.32180104756e-06\n",
        "1.32180104765e-06\n",
        "1.32180104772e-06\n",
        "1.32180104781e-06\n",
        "1.32180104789e-06\n",
        "1.32180104797e-06"
       ]
      },
      {
       "output_type": "stream",
       "stream": "stdout",
       "text": [
        "\n",
        "1.32180104806e-06\n",
        "1.92994427373e-05\n",
        "1.92994427375e-05\n",
        "1.92994427377e-05\n",
        "1.92994427379e-05\n",
        "1.92994427382e-05\n",
        "1.92994427387e-05\n",
        "1.92994427387e-05\n",
        "1.92994427389e-05\n",
        "1.92994427395e-05\n",
        "1.92994427397e-05\n",
        "1.92994427401e-05\n",
        "1.92994427413e-05\n",
        "1.92994427417e-05"
       ]
      },
      {
       "output_type": "stream",
       "stream": "stdout",
       "text": [
        "\n",
        "1.92994427421e-05\n",
        "1.92994427423e-05\n",
        "1.92994427426e-05\n",
        "1.9299442743e-05\n",
        "2.90317480664e-05\n",
        "2.90317480661e-05\n",
        "2.90317480658e-05\n",
        "2.90317480654e-05\n",
        "2.90317480651e-05\n",
        "2.90317480647e-05\n",
        "2.90317480644e-05\n",
        "2.9031748064e-05"
       ]
      },
      {
       "output_type": "stream",
       "stream": "stdout",
       "text": [
        "\n",
        "2.90317480636e-05\n",
        "2.90317480633e-05\n",
        "2.9031748063e-05\n",
        "2.90317480625e-05\n",
        "2.90317480607e-05\n",
        "2.90317480603e-05\n",
        "2.90317480598e-05\n",
        "2.90317480595e-05\n",
        "2.90317480591e-05\n",
        "2.90317480587e-05\n",
        "2.90317480583e-05\n",
        "2.90317480584e-05"
       ]
      },
      {
       "output_type": "stream",
       "stream": "stdout",
       "text": [
        "\n",
        "1.05275366192e-05\n",
        "1.0527536619e-05\n",
        "1.05275366189e-05\n",
        "1.05275366187e-05\n",
        "1.05275366185e-05\n",
        "1.05275366184e-05\n",
        "1.05275366182e-05\n",
        "1.05275366181e-05\n",
        "1.05275366179e-05\n",
        "1.05275366177e-05\n",
        "1.05275366176e-05\n",
        "1.05275366174e-05"
       ]
      },
      {
       "output_type": "stream",
       "stream": "stdout",
       "text": [
        "\n",
        "2.01488000539e-06\n",
        "2.0148800054e-06\n",
        "2.01488000531e-06\n",
        "2.01488000533e-06\n",
        "2.01488000517e-06\n",
        "2.01488000506e-06\n",
        "2.01488000496e-06\n",
        "2.01488000489e-06\n",
        "2.01488000478e-06\n",
        "2.01275386055e-06\n",
        "2.01275386053e-06"
       ]
      },
      {
       "output_type": "stream",
       "stream": "stdout",
       "text": [
        "\n",
        "2.01275386038e-06\n",
        "2.01275386035e-06\n",
        "2.01275386023e-06\n",
        "2.01275386015e-06\n",
        "2.01275386005e-06\n",
        "-3.65698786146e-06\n",
        "-3.6569878615e-06\n",
        "-3.65698786154e-06\n",
        "-3.6569878616e-06\n",
        "-3.65698786163e-06\n",
        "-3.65698786168e-06\n",
        "-3.65698786172e-06"
       ]
      },
      {
       "output_type": "stream",
       "stream": "stdout",
       "text": [
        "\n",
        "-3.65698786177e-06\n",
        "-3.65698786181e-06\n",
        "-3.65698786187e-06\n",
        "-3.65698786191e-06\n",
        "-3.65698786196e-06\n",
        "-3.65830240413e-06\n",
        "-3.65830240417e-06\n",
        "-3.65830240421e-06\n",
        "-3.65830240425e-06\n",
        "-3.6583024043e-06\n",
        "-3.65830240434e-06\n",
        "-3.65830240439e-06"
       ]
      },
      {
       "output_type": "stream",
       "stream": "stdout",
       "text": [
        "\n",
        "-3.65830240444e-06\n",
        "-3.65830240448e-06\n",
        "-3.65830240453e-06\n",
        "-3.65830240458e-06\n",
        "-3.65830240462e-06\n",
        "-5.37120209731e-06\n",
        "-5.37120209735e-06\n",
        "-5.37120209739e-06\n",
        "-5.37120209755e-06\n",
        "-5.37120209763e-06\n",
        "-6.73451017831e-06\n",
        "-6.73451017832e-06"
       ]
      },
      {
       "output_type": "stream",
       "stream": "stdout",
       "text": [
        "\n",
        "-6.73451017833e-06\n",
        "-6.73451017834e-06\n",
        "-6.73451017836e-06\n",
        "-6.73451017836e-06\n",
        "-6.73451017837e-06\n",
        "-6.73451017837e-06\n",
        "-6.73451017838e-06\n",
        "-6.7345101784e-06\n",
        "-6.73451017841e-06\n",
        "-6.73451017842e-06\n",
        "-6.7347899352e-06\n",
        "-6.73478993522e-06"
       ]
      },
      {
       "output_type": "stream",
       "stream": "stdout",
       "text": [
        "\n",
        "-6.73478993523e-06\n",
        "-6.73478993524e-06\n",
        "-6.73478993525e-06\n",
        "-6.73478993526e-06\n",
        "-6.73478993527e-06\n",
        "-6.73478993528e-06\n",
        "-6.73478993529e-06\n",
        "-6.7347899353e-06\n",
        "-6.73478993531e-06\n",
        "-6.73478993532e-06\n",
        "-6.75774297205e-06\n",
        "-6.75774297204e-06\n",
        "-6.75774297204e-06"
       ]
      },
      {
       "output_type": "stream",
       "stream": "stdout",
       "text": [
        "\n",
        "-6.75774297203e-06\n",
        "-6.75774297202e-06\n",
        "-6.75774297201e-06\n",
        "-6.757742972e-06\n",
        "-6.757742972e-06\n",
        "-6.75774297197e-06\n",
        "-6.75753709807e-06\n",
        "-6.75753709806e-06\n",
        "-6.75753709806e-06\n",
        "-6.75753709805e-06\n",
        "-6.75753709804e-06\n",
        "-6.75753709803e-06"
       ]
      },
      {
       "output_type": "stream",
       "stream": "stdout",
       "text": [
        "\n",
        "-6.75753709803e-06\n",
        "-6.75753709802e-06\n",
        "-6.75753709801e-06\n",
        "-6.757537098e-06\n",
        "-6.75753709799e-06\n",
        "-6.75753709799e-06\n",
        "-2.57266185678e-06\n",
        "-2.57266185673e-06\n",
        "-2.57266185668e-06\n",
        "-2.57266185662e-06\n",
        "-2.57266185658e-06\n",
        "-2.57266185652e-06\n",
        "-2.57266185647e-06\n",
        "-2.57266185641e-06"
       ]
      },
      {
       "output_type": "stream",
       "stream": "stdout",
       "text": [
        "\n",
        "-2.57266185637e-06\n",
        "-2.57266185631e-06\n",
        "-2.57266185627e-06\n",
        "-2.5726618562e-06\n",
        "-2.57127265742e-06\n",
        "-2.57127265737e-06\n",
        "-2.57127265732e-06\n",
        "-2.57127265727e-06\n",
        "-2.57127265722e-06\n",
        "-2.57127265717e-06\n",
        "-2.57127265712e-06\n",
        "-2.57127265706e-06\n",
        "-2.57127265699e-06\n",
        "-2.57127265695e-06\n",
        "-2.57127265689e-06"
       ]
      },
      {
       "output_type": "stream",
       "stream": "stdout",
       "text": [
        "\n",
        "-2.57127265684e-06\n",
        "2.27247729742e-06\n",
        "2.2724772975e-06\n",
        "2.27247729759e-06\n",
        "2.27247729767e-06\n",
        "2.27247729776e-06\n",
        "2.27247729785e-06\n",
        "2.27247729793e-06\n",
        "2.27247729802e-06\n",
        "2.27247729811e-06\n",
        "2.2724772982e-06\n",
        "2.27247729829e-06\n",
        "2.27247729838e-06\n",
        "2.27523888666e-06"
       ]
      },
      {
       "output_type": "stream",
       "stream": "stdout",
       "text": [
        "\n",
        "2.27523888675e-06\n",
        "2.27523888683e-06\n",
        "2.2752388869e-06\n",
        "2.27523888699e-06\n",
        "2.27523888708e-06\n",
        "2.27523888717e-06\n",
        "2.27523888726e-06\n",
        "2.27523888735e-06\n",
        "2.27523888744e-06\n",
        "2.27523888753e-06\n",
        "2.27523888762e-06\n",
        "9.45096750437e-06\n",
        "9.45096750452e-06"
       ]
      },
      {
       "output_type": "stream",
       "stream": "stdout",
       "text": [
        "\n",
        "9.45096750466e-06\n",
        "9.45096750478e-06\n",
        "9.45096750493e-06\n",
        "9.45096750508e-06\n",
        "9.45096750523e-06\n",
        "9.45096750537e-06\n",
        "9.45096750552e-06\n",
        "9.45096750567e-06\n",
        "9.45096750582e-06\n",
        "9.45096750597e-06\n",
        "9.4548453186e-06\n",
        "9.45484531874e-06"
       ]
      },
      {
       "output_type": "stream",
       "stream": "stdout",
       "text": [
        "\n",
        "9.45484531888e-06\n",
        "9.45484531901e-06\n",
        "9.45484531916e-06\n",
        "9.4548453193e-06\n",
        "9.45484531945e-06\n",
        "9.45484531959e-06\n",
        "9.45484531975e-06\n",
        "9.45484531989e-06\n",
        "9.45484532004e-06\n",
        "9.45484532019e-06\n",
        "2.29136091339e-05\n",
        "2.29136091342e-05\n",
        "2.29136091345e-05"
       ]
      },
      {
       "output_type": "stream",
       "stream": "stdout",
       "text": [
        "\n",
        "2.29136091347e-05\n",
        "2.2913609135e-05\n",
        "2.29136091353e-05\n",
        "2.29136091356e-05\n",
        "2.29136091359e-05\n",
        "2.29136091362e-05\n",
        "2.29136091365e-05\n",
        "2.29136091368e-05\n",
        "2.29136091371e-05\n",
        "2.29219472328e-05\n",
        "2.29219472331e-05\n",
        "2.29219472334e-05\n",
        "2.29219472335e-05\n",
        "2.29219472338e-05"
       ]
      },
      {
       "output_type": "stream",
       "stream": "stdout",
       "text": [
        "\n",
        "2.29219472342e-05\n",
        "2.29219472344e-05\n",
        "2.29219472347e-05\n",
        "2.2921947235e-05\n",
        "2.29219472353e-05\n",
        "2.29219472356e-05\n",
        "2.29219472359e-05\n",
        "2.92156198467e-05\n",
        "2.92156198464e-05\n",
        "2.9215619846e-05\n",
        "2.92156198457e-05\n",
        "2.92156198453e-05"
       ]
      },
      {
       "output_type": "stream",
       "stream": "stdout",
       "text": [
        "\n",
        "2.9215619845e-05\n",
        "2.92156198446e-05\n",
        "2.92156198443e-05\n",
        "2.92156198439e-05\n",
        "2.92156198435e-05\n",
        "2.92156198432e-05\n",
        "2.92156198429e-05\n",
        "2.92062671283e-05\n",
        "2.92062671279e-05\n",
        "2.92062671276e-05\n",
        "2.92062671273e-05\n",
        "2.92062671269e-05\n",
        "2.92062671266e-05\n",
        "2.92062671262e-05"
       ]
      },
      {
       "output_type": "stream",
       "stream": "stdout",
       "text": [
        "\n",
        "2.92062671259e-05\n",
        "2.92062671255e-05\n",
        "2.92062671251e-05\n",
        "2.92062671248e-05\n",
        "2.92062671244e-05\n",
        "1.06276087485e-05\n",
        "1.06276087484e-05\n",
        "1.06276087482e-05\n",
        "1.06276087481e-05\n",
        "1.06276087479e-05\n",
        "1.06276087478e-05"
       ]
      },
      {
       "output_type": "stream",
       "stream": "stdout",
       "text": [
        "\n",
        "1.06276087476e-05\n",
        "1.06276087475e-05\n",
        "1.06276087473e-05\n",
        "1.06276087471e-05\n",
        "1.0627608747e-05\n",
        "1.06276087468e-05\n",
        "1.06237801521e-05\n",
        "1.06237801519e-05\n",
        "1.06237801518e-05\n",
        "1.06237801516e-05\n",
        "1.06237801514e-05\n",
        "1.06237801513e-05"
       ]
      },
      {
       "output_type": "stream",
       "stream": "stdout",
       "text": [
        "\n",
        "1.06237801511e-05\n",
        "1.0623780151e-05\n",
        "1.06237801508e-05\n",
        "1.06237801507e-05\n",
        "1.06237801505e-05\n",
        "1.06237801503e-05\n",
        "3.84481992061e-06\n",
        "3.84481992053e-06\n",
        "3.84481992043e-06\n",
        "3.84481992032e-06\n",
        "3.84481992022e-06\n",
        "3.84481992012e-06"
       ]
      },
      {
       "output_type": "stream",
       "stream": "stdout",
       "text": [
        "\n",
        "3.84481992002e-06\n",
        "3.84481991992e-06\n",
        "3.84481991981e-06\n",
        "3.84481991971e-06\n",
        "3.8448199196e-06\n",
        "3.84481991949e-06\n",
        "3.84187202995e-06\n",
        "3.84187202986e-06\n",
        "3.84187202974e-06\n",
        "3.84187202966e-06\n",
        "3.84187202955e-06"
       ]
      },
      {
       "output_type": "stream",
       "stream": "stdout",
       "text": [
        "\n",
        "3.84187202947e-06\n",
        "3.84187202937e-06\n",
        "3.84187202925e-06\n",
        "3.84187202915e-06\n",
        "3.84187202905e-06\n",
        "3.84187202894e-06\n",
        "3.84187202884e-06\n",
        "-1.22893286304e-06\n",
        "-1.2289328631e-06\n",
        "-1.22893286317e-06\n",
        "-1.22893286323e-06\n",
        "-1.22893286328e-06\n",
        "-1.22893286336e-06\n",
        "-1.22893286341e-06"
       ]
      },
      {
       "output_type": "stream",
       "stream": "stdout",
       "text": [
        "\n",
        "-1.22893286348e-06\n",
        "-1.22893286354e-06\n",
        "-1.22893286361e-06\n",
        "-1.22893286368e-06\n",
        "-1.22893286374e-06\n",
        "-1.23078557489e-06\n",
        "-1.23078557498e-06\n",
        "-1.23078557506e-06\n",
        "-1.23078557511e-06\n",
        "-1.23078557516e-06\n",
        "-1.23078557523e-06\n",
        "-1.23078557528e-06\n",
        "-1.23078557536e-06\n",
        "-1.23078557542e-06"
       ]
      },
      {
       "output_type": "stream",
       "stream": "stdout",
       "text": [
        "\n",
        "-1.23078557549e-06\n",
        "-1.23078557556e-06\n",
        "-1.23078557563e-06\n",
        "2.23509911681e-06\n",
        "2.23509911693e-06\n",
        "2.23509911689e-06\n",
        "2.23509911721e-06\n",
        "2.23509911744e-06\n",
        "2.23509911759e-06\n",
        "2.23509911761e-06\n",
        "2.23509911772e-06\n",
        "2.23509911781e-06\n",
        "2.23721264641e-06"
       ]
      },
      {
       "output_type": "stream",
       "stream": "stdout",
       "text": [
        "\n",
        "2.23721264648e-06\n",
        "2.23721264663e-06\n",
        "2.23721264691e-06\n",
        "2.2372126472e-06\n",
        "2.23721264728e-06\n",
        "2.23721264726e-06\n",
        "2.23721264737e-06\n",
        "9.39186568837e-06\n",
        "9.39186568851e-06\n",
        "9.39186568865e-06\n",
        "9.39186568879e-06\n",
        "9.39186568893e-06\n",
        "9.39186568908e-06"
       ]
      },
      {
       "output_type": "stream",
       "stream": "stdout",
       "text": [
        "\n",
        "9.39186568922e-06\n",
        "9.39186568936e-06\n",
        "9.39186568952e-06\n",
        "9.39186568966e-06\n",
        "9.39186568981e-06\n",
        "9.39186568996e-06\n",
        "9.3957175426e-06\n",
        "9.39571754274e-06\n",
        "9.39571754288e-06\n",
        "9.39571754302e-06\n",
        "9.39571754316e-06\n"
       ]
      },
      {
       "output_type": "stream",
       "stream": "stdout",
       "text": [
        "9.3957175433e-06\n",
        "9.39571754345e-06\n",
        "9.39571754359e-06\n",
        "9.39571754374e-06\n",
        "9.39571754389e-06\n",
        "9.39571754404e-06\n",
        "9.39571754419e-06\n",
        "2.27698987101e-05\n",
        "2.27698987103e-05\n",
        "2.27698987106e-05\n",
        "2.27698987109e-05\n",
        "2.27698987112e-05"
       ]
      },
      {
       "output_type": "stream",
       "stream": "stdout",
       "text": [
        "\n",
        "2.27698987114e-05\n",
        "2.27698987117e-05\n",
        "2.2769898712e-05\n",
        "2.27698987123e-05\n",
        "2.27698987126e-05\n",
        "2.27698987129e-05\n",
        "2.27698987132e-05\n",
        "3.02526324257e-05\n",
        "3.02526324253e-05\n",
        "3.0252632425e-05\n",
        "3.02526324247e-05\n",
        "3.02526324244e-05\n",
        "3.02526324239e-05\n",
        "3.02526324235e-05"
       ]
      },
      {
       "output_type": "stream",
       "stream": "stdout",
       "text": [
        "\n",
        "3.02526324232e-05\n",
        "3.02526324228e-05\n",
        "3.02526324225e-05\n",
        "3.02526324221e-05\n",
        "3.02526324218e-05\n",
        "1.26748767916e-05\n",
        "1.26748767914e-05\n",
        "1.26748767912e-05\n",
        "1.2674876791e-05\n",
        "1.26748767909e-05\n",
        "1.26748767907e-05\n",
        "1.26748767905e-05\n",
        "1.26748767903e-05"
       ]
      },
      {
       "output_type": "stream",
       "stream": "stdout",
       "text": [
        "\n",
        "1.26748767902e-05\n",
        "1.267487679e-05\n",
        "1.26748767898e-05\n",
        "1.26748767896e-05\n",
        "1.26701445431e-05\n",
        "1.2670144543e-05\n",
        "1.26701445428e-05\n",
        "1.26701445426e-05\n",
        "1.26701445425e-05\n",
        "1.26701445423e-05\n",
        "1.26701445421e-05\n",
        "1.26701445419e-05\n",
        "1.26701445417e-05"
       ]
      },
      {
       "output_type": "stream",
       "stream": "stdout",
       "text": [
        "\n",
        "1.26701445416e-05\n",
        "1.26701445414e-05\n",
        "1.26701445412e-05\n",
        "2.335172322e-06\n",
        "2.33517232205e-06\n",
        "2.33517232194e-06\n",
        "2.335172322e-06\n",
        "2.33517232159e-06\n",
        "2.33517232148e-06\n",
        "2.33517232141e-06\n",
        "2.33517232121e-06\n",
        "2.33517232111e-06"
       ]
      },
      {
       "output_type": "stream",
       "stream": "stdout",
       "text": [
        "\n",
        "2.33269602112e-06\n",
        "2.33269602104e-06\n",
        "2.3326960207e-06\n",
        "2.33269602035e-06\n",
        "2.33269602023e-06\n",
        "2.33269602017e-06\n",
        "-1.78017459961e-06\n",
        "-1.78017459967e-06\n",
        "-1.78017459973e-06\n",
        "-1.78017459978e-06\n",
        "-1.78017459984e-06\n",
        "-1.7801745999e-06"
       ]
      },
      {
       "output_type": "stream",
       "stream": "stdout",
       "text": [
        "\n",
        "-1.78017459996e-06\n",
        "-1.78017460002e-06\n",
        "-1.78017460008e-06\n",
        "-1.78017460014e-06\n",
        "-1.78017460021e-06\n",
        "-1.78017460027e-06\n",
        "-4.8059688292e-06\n",
        "-4.80596882923e-06\n",
        "-4.80596882927e-06\n",
        "-4.8059688293e-06\n",
        "-4.80596882934e-06\n",
        "-4.80596882937e-06"
       ]
      },
      {
       "output_type": "stream",
       "stream": "stdout",
       "text": [
        "\n",
        "-4.80596882941e-06\n",
        "-4.80596882944e-06\n",
        "-4.80596882948e-06\n",
        "-4.80596882951e-06\n",
        "-4.80596882955e-06\n",
        "-4.80596882959e-06\n",
        "-4.80671422765e-06\n",
        "-4.80671422769e-06\n",
        "-4.80671422772e-06\n",
        "-4.80671422776e-06\n",
        "-4.80671422779e-06\n",
        "-4.80671422782e-06"
       ]
      },
      {
       "output_type": "stream",
       "stream": "stdout",
       "text": [
        "\n",
        "-4.80671422786e-06\n",
        "-4.80671422789e-06\n",
        "-4.80671422793e-06\n",
        "-4.80671422797e-06\n",
        "-4.806714228e-06\n",
        "-4.80671422804e-06\n",
        "-4.80756306963e-06\n",
        "-4.80756306967e-06\n",
        "-4.8075630697e-06\n",
        "-4.80756306973e-06\n",
        "-4.80756306977e-06\n",
        "-4.8075630698e-06\n",
        "-4.80756306984e-06"
       ]
      },
      {
       "output_type": "stream",
       "stream": "stdout",
       "text": [
        "\n",
        "-4.80756306987e-06\n",
        "-4.80756306991e-06\n",
        "-4.80756306995e-06\n",
        "-4.80756306998e-06\n",
        "-4.80756307002e-06\n",
        "-6.58722598242e-06\n",
        "-6.58722598243e-06\n",
        "-6.58722598245e-06\n",
        "-6.58722598246e-06\n",
        "-6.58722598247e-06\n",
        "-6.58722598248e-06\n",
        "-6.5872259825e-06\n",
        "-6.58722598251e-06"
       ]
      },
      {
       "output_type": "stream",
       "stream": "stdout",
       "text": [
        "\n",
        "-6.58722598252e-06\n",
        "-6.58722598254e-06\n",
        "-6.58722598255e-06\n",
        "-6.58722598256e-06\n",
        "-6.58756993372e-06\n",
        "-6.58756993373e-06\n",
        "-6.58756993375e-06\n",
        "-6.58756993376e-06\n",
        "-6.58756993377e-06\n",
        "-6.58756993378e-06\n",
        "-6.5875699338e-06\n",
        "-6.58756993381e-06\n",
        "-6.58756993382e-06"
       ]
      },
      {
       "output_type": "stream",
       "stream": "stdout",
       "text": [
        "\n",
        "-6.58756993384e-06\n",
        "-6.58756993385e-06\n",
        "-6.58756993386e-06\n",
        "-6.84173293644e-06\n",
        "-6.84173293643e-06\n",
        "-6.84173293643e-06\n",
        "-6.84173293643e-06\n",
        "-6.84173293642e-06\n",
        "-6.84173293642e-06\n",
        "-6.84173293641e-06\n",
        "-6.84173293641e-06\n",
        "-6.84173293641e-06"
       ]
      },
      {
       "output_type": "stream",
       "stream": "stdout",
       "text": [
        "\n",
        "-6.8417329364e-06\n",
        "-6.8417329364e-06\n",
        "-6.84173293639e-06\n",
        "-6.84162750154e-06\n",
        "-6.84162750154e-06\n",
        "-6.84162750153e-06\n",
        "-6.84162750153e-06\n",
        "-6.84162750153e-06\n",
        "-6.84162750152e-06\n",
        "-6.84162750152e-06\n",
        "-6.84162750152e-06\n",
        "-6.84162750151e-06"
       ]
      },
      {
       "output_type": "stream",
       "stream": "stdout",
       "text": [
        "\n",
        "-6.84162750151e-06\n",
        "-6.8416275015e-06\n",
        "-6.8416275015e-06\n",
        "-5.83323568224e-06\n",
        "-5.83323568222e-06\n",
        "-5.8332356822e-06\n",
        "-5.83323568218e-06\n",
        "-5.83323568215e-06\n",
        "-5.83323568213e-06\n",
        "-5.83323568211e-06\n",
        "-5.83323568208e-06\n",
        "-5.83323568206e-06\n",
        "-5.83323568204e-06"
       ]
      },
      {
       "output_type": "stream",
       "stream": "stdout",
       "text": [
        "\n",
        "-5.83323568201e-06\n",
        "-5.83323568199e-06\n",
        "-5.83260249516e-06\n",
        "-5.83260249514e-06\n",
        "-5.83260249511e-06\n",
        "-5.83260249509e-06\n",
        "-5.83260249507e-06\n",
        "-5.83260249505e-06\n",
        "-5.83260249502e-06\n",
        "-5.832602495e-06\n",
        "-5.83260249498e-06\n",
        "-5.83260249495e-06\n",
        "-5.83260249493e-06"
       ]
      },
      {
       "output_type": "stream",
       "stream": "stdout",
       "text": [
        "\n",
        "-5.8326024949e-06\n",
        "-2.49566845953e-06\n",
        "-2.49566845947e-06\n",
        "-2.49566845942e-06\n",
        "-2.49566845938e-06\n",
        "-2.49566845931e-06\n",
        "-2.49566845926e-06\n",
        "-2.49566845921e-06\n",
        "-2.49566845915e-06\n",
        "-2.4956684591e-06\n",
        "-2.49566845905e-06\n",
        "-2.495668459e-06\n",
        "-2.49566845895e-06"
       ]
      },
      {
       "output_type": "stream",
       "stream": "stdout",
       "text": [
        "\n",
        "-2.49422475932e-06\n",
        "-2.49422475927e-06\n",
        "-2.49422475923e-06\n",
        "-2.49422475917e-06\n",
        "-2.49422475911e-06\n",
        "-2.49422475907e-06\n",
        "-2.49422475902e-06\n",
        "-2.49422475896e-06\n",
        "-2.49422475891e-06\n",
        "-2.49422475885e-06\n",
        "-2.4942247588e-06\n",
        "-2.49422475874e-06\n",
        "1.01429403654e-06"
       ]
      },
      {
       "output_type": "stream",
       "stream": "stdout",
       "text": [
        "\n",
        "1.01429403662e-06\n",
        "1.01429403669e-06\n",
        "1.01429403677e-06\n",
        "1.01429403685e-06\n",
        "1.01429403693e-06\n",
        "1.014294037e-06\n",
        "1.01429403708e-06\n",
        "1.01429403716e-06\n",
        "1.01429403724e-06\n",
        "1.01429403732e-06\n",
        "1.01429403741e-06"
       ]
      },
      {
       "output_type": "stream",
       "stream": "stdout",
       "text": [
        "\n",
        "1.01644298665e-06\n",
        "1.01644298673e-06\n",
        "1.01644298681e-06\n",
        "1.01644298688e-06\n",
        "1.01644298696e-06\n",
        "1.01644298703e-06\n",
        "1.01644298711e-06\n",
        "1.01644298719e-06\n",
        "1.01644298727e-06\n",
        "1.01644298735e-06\n",
        "1.01644298743e-06\n",
        "1.01644298751e-06\n",
        "1.67578471752e-05"
       ]
      },
      {
       "output_type": "stream",
       "stream": "stdout",
       "text": [
        "\n",
        "1.67578471754e-05\n",
        "1.67578471756e-05\n",
        "1.67578471758e-05\n",
        "1.6757847176e-05\n",
        "1.67578471762e-05\n",
        "1.67578471764e-05\n",
        "1.67578471766e-05\n",
        "1.67578471769e-05\n",
        "1.67578471771e-05\n",
        "1.67578471773e-05\n",
        "1.67578471775e-05\n",
        "1.67637992669e-05\n",
        "1.67637992671e-05"
       ]
      },
      {
       "output_type": "stream",
       "stream": "stdout",
       "text": [
        "\n",
        "1.67637992673e-05\n",
        "1.67637992675e-05\n",
        "1.67637992678e-05\n",
        "1.6763799268e-05\n",
        "1.67637992682e-05\n",
        "1.67637992684e-05\n",
        "1.67637992686e-05\n",
        "1.67637992689e-05\n",
        "1.67637992691e-05\n",
        "1.67637992693e-05\n",
        "2.39357975734e-05\n",
        "2.39357975737e-05\n",
        "2.39357975739e-05\n",
        "2.39357975742e-05"
       ]
      },
      {
       "output_type": "stream",
       "stream": "stdout",
       "text": [
        "\n",
        "2.39357975745e-05\n",
        "2.39357975748e-05\n",
        "2.39357975751e-05\n",
        "2.39357975754e-05\n",
        "2.39357975757e-05\n",
        "2.3935797576e-05\n",
        "2.39357975764e-05\n",
        "2.39357975767e-05\n",
        "2.39439858121e-05\n",
        "2.39439858124e-05\n",
        "2.39439858127e-05\n",
        "2.3943985813e-05"
       ]
      },
      {
       "output_type": "stream",
       "stream": "stdout",
       "text": [
        "\n",
        "2.39439858133e-05\n",
        "2.39439858136e-05\n",
        "2.39439858139e-05\n",
        "2.39439858142e-05\n",
        "2.39439858145e-05\n",
        "2.39439858148e-05\n",
        "2.39439858151e-05\n",
        "2.39439858154e-05\n",
        "3.76024885549e-05\n",
        "3.76024885548e-05"
       ]
      },
      {
       "output_type": "stream",
       "stream": "stdout",
       "text": [
        "\n",
        "3.76024885546e-05\n",
        "3.76024885545e-05\n",
        "3.76024885543e-05\n",
        "3.76024885541e-05\n",
        "3.7602488554e-05\n",
        "3.76024885538e-05\n",
        "3.76024885536e-05\n",
        "3.76024885535e-05\n",
        "3.76024885533e-05\n",
        "3.76024885531e-05\n",
        "3.75980144237e-05\n",
        "3.75980144235e-05"
       ]
      },
      {
       "output_type": "stream",
       "stream": "stdout",
       "text": [
        "\n",
        "3.75980144234e-05\n",
        "3.75980144232e-05\n",
        "3.7598014423e-05\n",
        "3.75980144229e-05\n",
        "3.75980144227e-05\n",
        "3.75980144225e-05\n",
        "3.75980144224e-05\n",
        "3.75980144222e-05\n",
        "3.7598014422e-05\n",
        "3.75980144219e-05\n",
        "3.65608071347e-05\n",
        "3.65608071344e-05\n",
        "3.65608071342e-05"
       ]
      },
      {
       "output_type": "stream",
       "stream": "stdout",
       "text": [
        "\n",
        "3.65608071339e-05\n",
        "3.65608071337e-05\n",
        "3.65608071335e-05\n",
        "3.65608071332e-05\n",
        "3.65608071329e-05\n",
        "3.65608071325e-05\n",
        "3.65608071325e-05\n",
        "3.65608071322e-05\n",
        "3.65542331081e-05\n",
        "3.65542331078e-05"
       ]
      },
      {
       "output_type": "stream",
       "stream": "stdout",
       "text": [
        "\n",
        "3.65542331076e-05\n",
        "3.65542331073e-05\n",
        "3.65542331071e-05\n",
        "3.65542331068e-05\n",
        "3.65542331067e-05\n",
        "3.65542331063e-05\n",
        "3.65542331059e-05\n",
        "3.65542331057e-05\n",
        "1.45071359956e-05\n",
        "1.45071359954e-05\n",
        "1.45071359952e-05\n",
        "1.4507135995e-05\n",
        "1.45071359948e-05"
       ]
      },
      {
       "output_type": "stream",
       "stream": "stdout",
       "text": [
        "\n",
        "1.45071359946e-05\n",
        "1.45071359944e-05\n",
        "1.45071359942e-05\n",
        "1.4507135994e-05\n",
        "1.45071359938e-05\n",
        "1.45071359936e-05\n",
        "5.18841906606e-06\n",
        "5.18841906594e-06\n",
        "5.18841906588e-06\n",
        "5.18841906575e-06\n",
        "5.18841906563e-06\n",
        "5.18841906553e-06\n",
        "5.18841906541e-06"
       ]
      },
      {
       "output_type": "stream",
       "stream": "stdout",
       "text": [
        "\n",
        "5.1884190653e-06\n",
        "5.18841906519e-06\n",
        "5.18841906506e-06\n",
        "5.18841906495e-06\n",
        "5.18533998385e-06\n",
        "5.18533998376e-06\n",
        "5.18533998363e-06\n",
        "5.18533998352e-06\n",
        "5.18533998341e-06\n",
        "5.18533998331e-06\n",
        "5.18533998319e-06\n",
        "5.18533998307e-06\n",
        "5.18533998297e-06"
       ]
      },
      {
       "output_type": "stream",
       "stream": "stdout",
       "text": [
        "\n",
        "5.18533998284e-06\n",
        "5.18533998273e-06\n",
        "-1.47279888714e-06\n",
        "-1.47279888721e-06\n",
        "-1.47279888725e-06\n",
        "-1.47279888733e-06\n",
        "-1.47279888738e-06\n",
        "-1.47279888744e-06\n",
        "-1.4727988875e-06\n",
        "-1.47279888758e-06\n",
        "-1.47279888764e-06\n",
        "-1.4727988877e-06\n",
        "-1.47279888776e-06"
       ]
      },
      {
       "output_type": "stream",
       "stream": "stdout",
       "text": [
        "\n",
        "-1.47450599554e-06\n",
        "-1.47450599559e-06\n",
        "-1.47450599565e-06\n",
        "-1.47450599572e-06\n",
        "-1.47450599578e-06\n",
        "-1.47450599584e-06\n",
        "-1.4745059959e-06\n",
        "-1.47450599596e-06\n",
        "-1.47450599603e-06\n",
        "-1.47450599608e-06\n",
        "-1.47450599615e-06\n",
        "-4.45706742534e-06\n",
        "-4.45706742539e-06"
       ]
      },
      {
       "output_type": "stream",
       "stream": "stdout",
       "text": [
        "\n",
        "-4.45706742542e-06\n",
        "-4.45706742546e-06\n",
        "-4.45706742549e-06\n",
        "-4.45706742554e-06\n",
        "-4.4570674256e-06\n",
        "-4.45706742561e-06\n",
        "-4.45706742566e-06\n",
        "-4.45706742569e-06\n",
        "-4.45706742574e-06\n",
        "-4.45812494982e-06\n",
        "-4.45812494986e-06"
       ]
      },
      {
       "output_type": "stream",
       "stream": "stdout",
       "text": [
        "\n",
        "-4.4581249499e-06\n",
        "-4.45812494994e-06\n",
        "-4.45812494997e-06\n",
        "-4.45812495e-06\n",
        "-4.45812495004e-06\n",
        "-4.4581249501e-06\n",
        "-4.45812495013e-06\n",
        "-4.45812495016e-06\n",
        "-4.45812495021e-06\n",
        "-6.56388377873e-06\n",
        "-6.56388377874e-06\n",
        "-6.56388377875e-06"
       ]
      },
      {
       "output_type": "stream",
       "stream": "stdout",
       "text": [
        "\n",
        "-6.56388377877e-06\n",
        "-6.56388377877e-06\n",
        "-6.5638837788e-06\n",
        "-6.5638837788e-06\n",
        "-6.56388377882e-06\n",
        "-6.56388377884e-06\n",
        "-6.56388377885e-06\n",
        "-6.5642609102e-06\n",
        "-6.56426091021e-06\n",
        "-6.56426091022e-06\n",
        "-6.56426091024e-06\n",
        "-6.56426091024e-06"
       ]
      },
      {
       "output_type": "stream",
       "stream": "stdout",
       "text": [
        "\n",
        "-6.56426091026e-06\n",
        "-6.56426091029e-06\n",
        "-6.87725945461e-06\n",
        "-6.87725945461e-06\n",
        "-6.8772594546e-06\n",
        "-6.8772594546e-06\n",
        "-6.8772594546e-06\n",
        "-6.8772594546e-06\n",
        "-6.87725945459e-06\n",
        "-6.87725945459e-06\n",
        "-6.87725945459e-06\n",
        "-6.87725945459e-06\n",
        "-6.87725945458e-06"
       ]
      },
      {
       "output_type": "stream",
       "stream": "stdout",
       "text": [
        "\n",
        "-6.87719059972e-06\n",
        "-6.87719059972e-06\n",
        "-6.87719059972e-06\n",
        "-6.87719059972e-06\n",
        "-6.87719059971e-06\n",
        "-6.87719059971e-06\n",
        "-6.87719059971e-06\n",
        "-6.87719059971e-06\n",
        "-6.8771905997e-06\n",
        "-6.8771905997e-06\n",
        "-6.8771905997e-06\n",
        "-6.21141965765e-06"
       ]
      },
      {
       "output_type": "stream",
       "stream": "stdout",
       "text": [
        "\n",
        "-6.21141965763e-06\n",
        "-6.21141965761e-06\n",
        "-6.21141965759e-06\n",
        "-6.21141965758e-06\n",
        "-6.21141965756e-06\n",
        "-6.21141965754e-06\n",
        "-6.21141965752e-06\n",
        "-6.2114196575e-06\n",
        "-6.21141965748e-06\n",
        "-6.21141965746e-06\n",
        "-6.21091556925e-06\n",
        "-6.21091556924e-06"
       ]
      },
      {
       "output_type": "stream",
       "stream": "stdout",
       "text": [
        "\n",
        "-6.21091556922e-06\n",
        "-6.2109155692e-06\n",
        "-6.21091556918e-06\n",
        "-6.21091556916e-06\n",
        "-6.21091556914e-06\n",
        "-6.21091556913e-06\n",
        "-6.21091556911e-06\n",
        "-6.21091556909e-06\n",
        "-6.21091556907e-06\n",
        "-2.90437706391e-06\n",
        "-2.90437706386e-06\n",
        "-2.90437706382e-06\n",
        "-2.90437706376e-06\n",
        "-2.90437706372e-06"
       ]
      },
      {
       "output_type": "stream",
       "stream": "stdout",
       "text": [
        "\n",
        "-2.90437706367e-06\n",
        "-2.90437706361e-06\n",
        "-2.90437706358e-06\n",
        "-2.90437706352e-06\n",
        "-2.90437706346e-06\n",
        "-2.90437706341e-06\n",
        "-2.90301554467e-06\n",
        "-2.90301554462e-06\n",
        "-2.90301554458e-06\n",
        "-2.90301554453e-06\n",
        "-2.90301554448e-06\n",
        "-2.90301554442e-06"
       ]
      },
      {
       "output_type": "stream",
       "stream": "stdout",
       "text": [
        "\n",
        "-2.90301554438e-06\n",
        "-2.90301554432e-06\n",
        "-2.90301554429e-06\n",
        "-2.9030155442e-06\n",
        "-2.90301554415e-06\n",
        "2.40544282894e-07\n",
        "2.40544282965e-07\n",
        "2.40544283036e-07\n",
        "2.4054428311e-07\n",
        "2.40544283177e-07\n",
        "2.40544283258e-07\n",
        "2.40544283329e-07"
       ]
      },
      {
       "output_type": "stream",
       "stream": "stdout",
       "text": [
        "\n",
        "2.40544283397e-07\n",
        "2.40544283474e-07\n",
        "2.40544283551e-07\n",
        "2.40544283627e-07\n",
        "2.42308739225e-07\n",
        "2.42308739298e-07\n",
        "2.42308739366e-07\n",
        "2.42308739437e-07\n",
        "2.4230873951e-07\n",
        "2.42308739586e-07\n",
        "2.42308739657e-07\n",
        "2.42308739734e-07\n",
        "2.42308739806e-07\n",
        "2.42308739881e-07"
       ]
      },
      {
       "output_type": "stream",
       "stream": "stdout",
       "text": [
        "\n",
        "2.42308739959e-07\n",
        "5.34510846358e-06\n",
        "5.34510846369e-06\n",
        "5.34510846379e-06\n",
        "5.3451084639e-06\n",
        "5.345108464e-06\n",
        "5.34510846413e-06\n",
        "5.34510846424e-06\n",
        "5.34510846434e-06\n",
        "5.34510846446e-06\n",
        "5.34510846458e-06\n",
        "5.3451084647e-06\n",
        "1.93097555932e-05"
       ]
      },
      {
       "output_type": "stream",
       "stream": "stdout",
       "text": [
        "\n",
        "1.93097555934e-05\n",
        "1.93097555937e-05\n",
        "1.93097555939e-05\n",
        "1.93097555941e-05\n",
        "1.93097555944e-05\n",
        "1.93097555946e-05\n",
        "1.93097555949e-05\n",
        "1.93097555951e-05\n",
        "1.93097555954e-05\n",
        "1.93097555956e-05"
       ]
      },
      {
       "output_type": "stream",
       "stream": "stdout",
       "text": [
        "\n",
        "1.93157040966e-05\n",
        "1.93157040968e-05\n",
        "1.93157040971e-05\n",
        "1.93157040973e-05\n",
        "1.93157040976e-05\n",
        "1.93157040978e-05\n",
        "1.93157040981e-05\n",
        "1.93157040983e-05\n",
        "1.93157040986e-05\n",
        "1.93157040988e-05\n",
        "1.93157040991e-05\n",
        "1.75929480925e-05"
       ]
      },
      {
       "output_type": "stream",
       "stream": "stdout",
       "text": [
        "\n",
        "1.75929480922e-05\n",
        "1.7592948092e-05\n",
        "1.75929480918e-05\n",
        "1.75929480915e-05\n",
        "1.75929480913e-05\n",
        "1.75929480911e-05\n",
        "1.75929480908e-05\n",
        "1.75929480902e-05\n",
        "1.75929480904e-05\n",
        "1.75929480901e-05\n",
        "5.78505959892e-06\n",
        "5.7850595988e-06"
       ]
      },
      {
       "output_type": "stream",
       "stream": "stdout",
       "text": [
        "\n",
        "5.78505959869e-06\n",
        "5.78505959858e-06\n",
        "5.78505959847e-06\n",
        "5.78505959835e-06\n",
        "5.78505959825e-06\n",
        "5.78505959813e-06\n",
        "5.78505959799e-06\n",
        "5.78505959787e-06\n",
        "5.78505959775e-06\n",
        "5.78222465466e-06\n",
        "5.78222465452e-06\n",
        "5.78222465444e-06"
       ]
      },
      {
       "output_type": "stream",
       "stream": "stdout",
       "text": [
        "\n",
        "5.78222465429e-06\n",
        "5.7822246542e-06\n",
        "5.78222465408e-06\n",
        "5.78222465396e-06\n",
        "5.78222465381e-06\n",
        "5.78222465369e-06\n",
        "5.78222465357e-06\n",
        "5.78222465345e-06\n",
        "-5.26380576075e-07\n",
        "-5.26380576152e-07\n",
        "-5.26380576214e-07\n",
        "-5.26380576287e-07\n",
        "-5.26380576367e-07"
       ]
      },
      {
       "output_type": "stream",
       "stream": "stdout",
       "text": [
        "\n",
        "-5.26380576419e-07\n",
        "-5.2638057649e-07\n",
        "-5.26380576553e-07\n",
        "-5.26380576625e-07\n",
        "-5.26380576701e-07\n",
        "-5.26380576778e-07\n",
        "-5.28058878863e-07\n",
        "-5.28058878926e-07\n",
        "-5.28058879008e-07\n",
        "-5.2805887908e-07\n",
        "-5.28058879145e-07\n",
        "-5.28058879208e-07"
       ]
      },
      {
       "output_type": "stream",
       "stream": "stdout",
       "text": [
        "\n",
        "-5.28058879278e-07\n",
        "-5.28058879342e-07\n",
        "-5.28058879417e-07\n",
        "-5.28058879492e-07\n",
        "-5.28058879573e-07\n",
        "-6.34894607582e-06\n",
        "-6.34894607584e-06\n",
        "-6.34894607586e-06\n",
        "-6.34894607587e-06\n",
        "-6.34894607589e-06\n",
        "-6.3489460759e-06\n",
        "-6.34894607592e-06\n",
        "-6.34894607594e-06\n",
        "-6.34894607596e-06\n",
        "-6.34894607598e-06"
       ]
      },
      {
       "output_type": "stream",
       "stream": "stdout",
       "text": [
        "\n",
        "-6.348946076e-06\n",
        "-6.34937530215e-06\n",
        "-6.34937530216e-06\n",
        "-6.34937530218e-06\n",
        "-6.34937530219e-06\n",
        "-6.34937530221e-06\n",
        "-6.34937530223e-06\n",
        "-6.34937530224e-06\n",
        "-6.34937530226e-06\n",
        "-6.34937530229e-06\n",
        "-6.3493753023e-06\n",
        "-6.34937530231e-06\n",
        "-6.90326551223e-06"
       ]
      },
      {
       "output_type": "stream",
       "stream": "stdout",
       "text": [
        "\n",
        "-6.90326551223e-06\n",
        "-6.90326551223e-06\n",
        "-6.90326551223e-06\n",
        "-6.90326551223e-06\n",
        "-6.90326551223e-06\n",
        "-6.90326551223e-06\n",
        "-6.90326551223e-06\n",
        "-6.90326551223e-06\n",
        "-6.90326551223e-06\n",
        "-6.90326551224e-06\n",
        "-6.90327674771e-06\n",
        "-6.90327674772e-06"
       ]
      },
      {
       "output_type": "stream",
       "stream": "stdout",
       "text": [
        "\n",
        "-6.90327674772e-06\n",
        "-6.90327674772e-06\n",
        "-6.90327674772e-06\n",
        "-6.90327674772e-06\n",
        "-6.90327674772e-06\n",
        "-6.90327674772e-06\n",
        "-6.90327674772e-06\n",
        "-6.90327674772e-06\n",
        "-6.90327674772e-06\n",
        "-6.46658090341e-06\n",
        "-6.4665809034e-06\n",
        "-6.46658090339e-06"
       ]
      },
      {
       "output_type": "stream",
       "stream": "stdout",
       "text": [
        "\n",
        "-6.46658090337e-06\n",
        "-6.46658090336e-06\n",
        "-6.46658090334e-06\n",
        "-6.46658090333e-06\n",
        "-6.46658090331e-06\n",
        "-6.4665809033e-06\n",
        "-6.46658090328e-06\n",
        "-6.46658090327e-06\n",
        "-6.46610901073e-06\n",
        "-6.46610901072e-06\n",
        "-6.4661090107e-06\n",
        "-6.46610901069e-06\n",
        "-6.46610901067e-06\n",
        "-6.46610901066e-06"
       ]
      },
      {
       "output_type": "stream",
       "stream": "stdout",
       "text": [
        "\n",
        "-6.46610901064e-06\n",
        "-6.46610901063e-06\n",
        "-6.46610901061e-06\n",
        "-6.4661090106e-06\n",
        "-6.46610901058e-06\n",
        "-3.80835970832e-06\n",
        "-3.80835970828e-06\n",
        "-3.80835970823e-06\n",
        "-3.8083597082e-06\n",
        "-3.80835970815e-06"
       ]
      },
      {
       "output_type": "stream",
       "stream": "stdout",
       "text": [
        "\n",
        "-3.80835970811e-06\n",
        "-3.80835970807e-06\n",
        "-3.80835970802e-06\n",
        "-3.80835970796e-06\n",
        "-3.80835970794e-06\n",
        "-3.8083597079e-06\n",
        "-3.80732878374e-06\n",
        "-3.8073287837e-06\n",
        "-3.80732878365e-06\n",
        "-3.80732878361e-06\n",
        "-3.80732878357e-06\n",
        "-3.80732878353e-06"
       ]
      },
      {
       "output_type": "stream",
       "stream": "stdout",
       "text": [
        "\n",
        "-3.80732878348e-06\n",
        "-3.80732878343e-06\n",
        "-3.80732878335e-06\n",
        "9.04688154948e-07\n",
        "9.04688155022e-07\n",
        "9.04688155097e-07\n",
        "9.04688155171e-07\n",
        "9.04688155249e-07\n",
        "9.04688155327e-07\n",
        "9.04688155406e-07\n",
        "9.04688155483e-07\n",
        "9.04688155563e-07"
       ]
      },
      {
       "output_type": "stream",
       "stream": "stdout",
       "text": [
        "\n",
        "9.04688155643e-07\n",
        "9.04688155726e-07\n",
        "9.06569368684e-07\n",
        "9.0656936876e-07\n",
        "9.06569368839e-07\n",
        "9.0656936891e-07\n",
        "9.06569368988e-07\n",
        "9.06569369067e-07\n",
        "9.06569369145e-07\n",
        "9.06569369221e-07\n",
        "9.06569369304e-07"
       ]
      },
      {
       "output_type": "stream",
       "stream": "stdout",
       "text": [
        "\n",
        "9.06569369383e-07\n",
        "9.06569369462e-07\n",
        "7.82064324966e-06\n",
        "7.82064324978e-06\n",
        "7.82064324991e-06\n",
        "7.82064325004e-06\n",
        "7.82064325017e-06\n",
        "7.8206432503e-06\n",
        "7.82064325044e-06\n",
        "7.82064325054e-06\n",
        "7.82064325069e-06\n",
        "7.82064325084e-06\n",
        "7.82064325098e-06\n",
        "1.97360915326e-05"
       ]
      },
      {
       "output_type": "stream",
       "stream": "stdout",
       "text": [
        "\n",
        "1.97360915328e-05\n",
        "1.97360915331e-05\n",
        "1.97360915333e-05\n",
        "1.97360915336e-05\n",
        "1.97360915338e-05\n",
        "1.97360915341e-05\n",
        "1.97360915343e-05\n",
        "1.97360915346e-05\n",
        "1.97360915348e-05\n",
        "1.97360915351e-05\n",
        "1.97421548996e-05\n",
        "1.97421548998e-05\n",
        "1.97421549001e-05\n",
        "1.97421549003e-05"
       ]
      },
      {
       "output_type": "stream",
       "stream": "stdout",
       "text": [
        "\n",
        "1.97421549006e-05\n",
        "1.97421549008e-05\n",
        "1.97421549011e-05\n",
        "1.97421549013e-05\n",
        "1.97421549016e-05\n",
        "1.97421549018e-05\n",
        "1.97421549021e-05\n",
        "3.66586364901e-05\n",
        "3.66586364903e-05\n",
        "3.66586364905e-05\n",
        "3.66586364908e-05\n",
        "3.6658636491e-05\n",
        "3.66586364913e-05\n",
        "3.66586364915e-05"
       ]
      },
      {
       "output_type": "stream",
       "stream": "stdout",
       "text": [
        "\n",
        "3.66586364918e-05\n",
        "3.6658636492e-05\n",
        "3.66586364923e-05\n",
        "3.66586364925e-05\n",
        "1.77049196556e-05\n",
        "1.77049196554e-05\n",
        "1.77049196552e-05\n",
        "1.77049196549e-05\n",
        "1.77049196546e-05\n",
        "1.77049196544e-05\n",
        "1.77049196543e-05"
       ]
      },
      {
       "output_type": "stream",
       "stream": "stdout",
       "text": [
        "\n",
        "1.7704919654e-05\n",
        "1.77049196538e-05\n",
        "1.77049196534e-05\n",
        "1.77049196533e-05\n",
        "1.7699358983e-05\n",
        "1.76993589828e-05\n",
        "1.76993589825e-05\n",
        "1.76993589823e-05\n",
        "1.76993589821e-05\n",
        "1.76993589819e-05\n",
        "1.76993589816e-05\n",
        "1.76993589814e-05"
       ]
      },
      {
       "output_type": "stream",
       "stream": "stdout",
       "text": [
        "\n",
        "1.76993589811e-05\n",
        "1.76993589809e-05\n",
        "1.76993589807e-05\n",
        "4.29995992777e-06\n",
        "4.29995992767e-06\n",
        "4.29995992757e-06\n",
        "4.29995992746e-06\n",
        "4.29995992736e-06\n",
        "4.29995992725e-06\n",
        "4.29995992714e-06\n",
        "4.29995992704e-06\n",
        "4.29995992693e-06\n",
        "4.29995992682e-06"
       ]
      },
      {
       "output_type": "stream",
       "stream": "stdout",
       "text": [
        "\n",
        "-3.33952266535e-07\n",
        "-3.33952266594e-07\n",
        "-3.33952266675e-07\n",
        "-3.33952266757e-07\n",
        "-3.33952266822e-07\n",
        "-3.33952266883e-07\n",
        "-3.33952266958e-07\n",
        "-3.3395226704e-07\n"
       ]
      }
     ],
     "prompt_number": 5
    },
    {
     "cell_type": "code",
     "collapsed": false,
     "input": [
      "import astropy.units as u\n",
      "a = [1,2,3]\n",
      "a = a*u.m\n",
      "a.dot([1,1,1])"
     ],
     "language": "python",
     "metadata": {},
     "outputs": [
      {
       "latex": [
        "$6 \\; \\mathrm{m}$"
       ],
       "metadata": {},
       "output_type": "pyout",
       "prompt_number": 11,
       "text": [
        "<Quantity 6.0 m>"
       ]
      }
     ],
     "prompt_number": 11
    },
    {
     "cell_type": "code",
     "collapsed": false,
     "input": [
      "numpy.modf(phase2)"
     ],
     "language": "python",
     "metadata": {},
     "outputs": [
      {
       "metadata": {},
       "output_type": "pyout",
       "prompt_number": 11,
       "text": [
        "(-0.17299454566091299057, -10146134521.0)"
       ]
      }
     ],
     "prompt_number": 11
    },
    {
     "cell_type": "code",
     "collapsed": false,
     "input": [
      "plt.plot(mjds,resids2-resids[0])"
     ],
     "language": "python",
     "metadata": {},
     "outputs": [
      {
       "metadata": {},
       "output_type": "pyout",
       "prompt_number": 18,
       "text": [
        "[<matplotlib.lines.Line2D at 0x105e5ccd0>]"
       ]
      },
      {
       "metadata": {},
       "output_type": "display_data",
       "png": "[encoded data removed]",
       "text": [
        "<matplotlib.figure.Figure at 0x10d002950>"
       ]
      }
     ],
     "prompt_number": 18
    },
    {
     "cell_type": "code",
     "collapsed": false,
     "input": [
      "a= (0.5*m.F1.value*(m.dt-2.0*m.dt_pepoch[0])+m.F0.value)*m.dt \n",
      "b = (0.5*m.F1.longd_value*(m.dt_ld-2.0*m.dt_pepoch_ld)+m.F0.longd_value)*m.dt_ld\n",
      "c = modf(a)[0]\n",
      "d = modf(b)[0]\n",
      "plt.plot(mjds,c-d)"
     ],
     "language": "python",
     "metadata": {},
     "outputs": [
      {
       "output_type": "stream",
       "stream": "stdout",
       "text": [
        "add long double to  F1 -5.38085137486e-16\n",
        "add long double to  F0 245.426123707\n"
       ]
      },
      {
       "metadata": {},
       "output_type": "pyout",
       "prompt_number": 26,
       "text": [
        "[<matplotlib.lines.Line2D at 0x10dc5ad90>]"
       ]
      },
      {
       "metadata": {},
       "output_type": "display_data",
       "png": "[encoded data removed]",
       "text": [
        "<matplotlib.figure.Figure at 0x10db32250>"
       ]
      }
     ],
     "prompt_number": 26
    },
    {
     "cell_type": "code",
     "collapsed": false,
     "input": [
      "rr = numpy.zeros_like(t.tdbld)\n",
      "for ii,pp in enumerate(a):\n",
      "    rr[ii] = Phase(pp).frac"
     ],
     "language": "python",
     "metadata": {},
     "outputs": [],
     "prompt_number": 33
    },
    {
     "cell_type": "code",
     "collapsed": false,
     "input": [
      "numpy.nonzero(c-rr)"
     ],
     "language": "python",
     "metadata": {},
     "outputs": [
      {
       "metadata": {},
       "output_type": "pyout",
       "prompt_number": 36,
       "text": [
        "(array([  41,   42,   43,   44,   45,   46,   47,   48,   49,   50,   51,\n",
        "         52,   53,   54,   55,   56,   57,   58,   59,   60,   61,   62,\n",
        "         63,   64,   65,   66,   67,   68,   69,   70,   71,   72,   73,\n",
        "         74,   75,   76,   77,   78,   79,   80,   81,   82,  208,  209,\n",
        "        210,  211,  212,  213,  214,  215,  216,  217,  218,  219,  220,\n",
        "        221,  222,  223,  224,  225,  226,  227,  228,  229,  230,  231,\n",
        "        256,  257,  258,  259,  260,  261,  262,  263,  264,  265,  266,\n",
        "        267,  268,  269,  270,  271,  272,  273,  274,  275,  276,  277,\n",
        "        278,  279,  280,  281,  282,  283,  284,  285,  286,  287,  288,\n",
        "        289,  290,  291,  292,  293,  294,  295,  296,  297,  298,  299,\n",
        "        300,  301,  302,  303,  341,  342,  343,  344,  345,  346,  347,\n",
        "        348,  349,  350,  351,  352,  393,  394,  395,  396,  397,  563,\n",
        "        564,  565,  566,  567,  568,  569,  570,  571,  572,  573,  574,\n",
        "        575,  576,  577,  578,  579,  580,  581,  582,  583,  584,  585,\n",
        "        586,  700,  701,  702,  703,  704,  705,  706,  707,  708,  709,\n",
        "        710,  711,  712,  713,  714,  715,  716,  717,  718,  719,  720,\n",
        "        721,  722,  723,  751,  752,  753,  754,  755,  756,  757,  758,\n",
        "        759,  760,  761,  762,  763,  764,  765,  766,  767,  768,  769,\n",
        "        770,  771,  772,  773,  774,  775,  776,  777,  778,  779,  780,\n",
        "        781,  782,  783,  784,  785,  786,  835,  836,  837,  838,  839,\n",
        "        840,  841,  842,  843,  844,  845,  846,  847,  848,  849,  850,\n",
        "        851,  852,  853,  854,  855,  856,  857,  858,  907,  908,  909,\n",
        "        910,  911,  912,  913,  914,  915,  916,  917,  918,  919,  920,\n",
        "        921,  922,  923,  924,  925,  926,  927,  928,  929,  930,  955,\n",
        "        956,  957,  958,  959,  960,  961,  962,  963,  964,  965,  966,\n",
        "        967,  968,  969,  970,  971,  972,  973,  974,  975,  976,  977,\n",
        "        978,  979,  980,  981,  982,  983,  984,  985,  986,  987,  988,\n",
        "        989,  990,  991,  992,  993,  994,  995,  996,  997,  998,  999,\n",
        "       1000, 1001, 1002, 1003, 1004, 1005, 1006, 1007, 1008, 1009, 1010,\n",
        "       1055, 1056, 1057, 1058, 1059, 1060, 1061, 1062, 1063, 1064, 1065,\n",
        "       1066, 1067, 1068, 1069, 1070, 1071, 1072, 1073, 1074, 1075, 1076,\n",
        "       1094, 1095, 1096, 1097, 1098, 1099, 1100, 1101, 1102, 1103, 1104,\n",
        "       1105, 1106, 1107, 1108, 1109, 1110, 1111, 1112, 1113, 1114, 1115,\n",
        "       1116, 1117, 1118, 1119, 1120, 1121, 1122, 1123, 1124, 1125, 1126,\n",
        "       1127, 1128, 1129, 1130, 1131, 1132, 1133, 1134, 1135, 1136, 1137,\n",
        "       1193, 1194, 1195, 1196, 1197, 1198, 1199, 1200, 1201, 1202, 1203,\n",
        "       1204, 1205, 1206, 1207, 1208, 1209, 1210, 1211, 1212, 1213, 1214,\n",
        "       1292, 1293, 1294, 1295, 1296, 1297, 1298, 1299, 1300, 1301, 1302,\n",
        "       1303, 1304, 1305, 1306, 1307, 1308, 1309, 1310, 1311, 1312, 1313,\n",
        "       1389, 1390, 1391, 1392, 1393, 1394, 1395, 1396, 1397, 1398, 1399,\n",
        "       1400, 1401, 1402, 1403, 1404, 1405, 1406, 1407, 1408, 1409, 1410,\n",
        "       1411, 1412, 1413, 1414, 1415, 1416, 1417, 1418, 1419, 1420, 1421]),)"
       ]
      }
     ],
     "prompt_number": 36
    },
    {
     "cell_type": "code",
     "collapsed": false,
     "input": [
      "Phase(a)"
     ],
     "language": "python",
     "metadata": {},
     "outputs": [
      {
       "ename": "TypeError",
       "evalue": "only length-1 arrays can be converted to Python scalars",
       "output_type": "pyerr",
       "traceback": [
        "\u001b[0;31m---------------------------------------------------------------------------\u001b[0m\n\u001b[0;31mTypeError\u001b[0m                                 Traceback (most recent call last)",
        "\u001b[0;32m<ipython-input-52-7df206bb93dd>\u001b[0m in \u001b[0;36m<module>\u001b[0;34m()\u001b[0m\n\u001b[0;32m----> 1\u001b[0;31m \u001b[0mPhase\u001b[0m\u001b[0;34m(\u001b[0m\u001b[0ma\u001b[0m\u001b[0;34m)\u001b[0m\u001b[0;34m\u001b[0m\u001b[0m\n\u001b[0m",
        "\u001b[0;32m/Users/jingluo/Research_codes/PINT/pint/phase.pyc\u001b[0m in \u001b[0;36m__new__\u001b[0;34m(cls, arg1, arg2)\u001b[0m\n\u001b[1;32m     33\u001b[0m         \u001b[0;31m# case to parse strings as input.\u001b[0m\u001b[0;34m\u001b[0m\u001b[0;34m\u001b[0m\u001b[0m\n\u001b[1;32m     34\u001b[0m         \u001b[0;32mif\u001b[0m \u001b[0marg2\u001b[0m \u001b[0;32mis\u001b[0m \u001b[0mNone\u001b[0m\u001b[0;34m:\u001b[0m\u001b[0;34m\u001b[0m\u001b[0m\n\u001b[0;32m---> 35\u001b[0;31m             \u001b[0mii\u001b[0m \u001b[0;34m=\u001b[0m \u001b[0mint\u001b[0m\u001b[0;34m(\u001b[0m\u001b[0marg1\u001b[0m\u001b[0;34m)\u001b[0m\u001b[0;34m\u001b[0m\u001b[0m\n\u001b[0m\u001b[1;32m     36\u001b[0m             \u001b[0mff\u001b[0m \u001b[0;34m=\u001b[0m \u001b[0mfloat\u001b[0m\u001b[0;34m(\u001b[0m\u001b[0marg1\u001b[0m \u001b[0;34m-\u001b[0m \u001b[0mii\u001b[0m\u001b[0;34m)\u001b[0m\u001b[0;34m\u001b[0m\u001b[0m\n\u001b[1;32m     37\u001b[0m         \u001b[0;32melse\u001b[0m\u001b[0;34m:\u001b[0m\u001b[0;34m\u001b[0m\u001b[0m\n",
        "\u001b[0;31mTypeError\u001b[0m: only length-1 arrays can be converted to Python scalars"
       ]
      }
     ],
     "prompt_number": 52
    },
    {
     "cell_type": "code",
     "collapsed": false,
     "input": [
      "rr[41]"
     ],
     "language": "python",
     "metadata": {},
     "outputs": [
      {
       "metadata": {},
       "output_type": "pyout",
       "prompt_number": 40,
       "text": [
        "0.35330211836844682693"
       ]
      }
     ],
     "prompt_number": 40
    },
    {
     "cell_type": "code",
     "collapsed": false,
     "input": [
      "a[41]"
     ],
     "language": "python",
     "metadata": {},
     "outputs": [
      {
       "metadata": {},
       "output_type": "pyout",
       "prompt_number": 39,
       "text": [
        "-9064342168.6466978816"
       ]
      }
     ],
     "prompt_number": 39
    },
    {
     "cell_type": "code",
     "collapsed": false,
     "input": [
      "Phase(a[41])"
     ],
     "language": "python",
     "metadata": {},
     "outputs": [
      {
       "metadata": {},
       "output_type": "pyout",
       "prompt_number": 41,
       "text": [
        "Phase(int=-9064342169, frac=0.3533021183684468)"
       ]
      }
     ],
     "prompt_number": 41
    },
    {
     "cell_type": "code",
     "collapsed": false,
     "input": [
      "b = (numpy.longdouble(t.toas[0].mjd.tdb.jd1)+numpy.longdouble(t.toas[0].mjd.tdb.jd2)-numpy.longdouble(2400000.5))\\\n",
      " *u.day-(delay2[0]*u.s).to(u.day)\n",
      "b.value"
     ],
     "language": "python",
     "metadata": {},
     "outputs": [
      {
       "metadata": {},
       "output_type": "pyout",
       "prompt_number": 39,
       "text": [
        "53216.131754036355304"
       ]
      }
     ],
     "prompt_number": 39
    },
    {
     "cell_type": "code",
     "collapsed": false,
     "input": [
      "c = t.tdbld[0]*u.day-(delay1[0]*u.s).to(u.day)\n",
      "c.value"
     ],
     "language": "python",
     "metadata": {},
     "outputs": [
      {
       "metadata": {},
       "output_type": "pyout",
       "prompt_number": 33,
       "text": [
        "53216.131754036361251"
       ]
      }
     ],
     "prompt_number": 33
    },
    {
     "cell_type": "code",
     "collapsed": false,
     "input": [
      "tdbld2 = numpy.zeros_like(t.tdbld)\n",
      "for ii,tt in enumerate(t.toas):\n",
      "    tdbld2[ii] = (numpy.longdouble(tt.mjd.tdb.jd1)-numpy.longdouble(2400000.5)+numpy.longdouble(tt.mjd.tdb.jd2))    "
     ],
     "language": "python",
     "metadata": {},
     "outputs": [],
     "prompt_number": 23
    },
    {
     "cell_type": "code",
     "collapsed": false,
     "input": [
      "import mpmath as mp\n",
      "mp.mp.dps = 40\n",
      "tdbld3 = []\n",
      "for ii,tt in enumerate(t.toas):\n",
      "    tdbld3.append(mp.mpf(tt.mjd.tdb.jd1)+mp.mpf(tt.mjd.tdb.jd2)-mp.mpf(2400000.5))"
     ],
     "language": "python",
     "metadata": {},
     "outputs": [],
     "prompt_number": 19
    },
    {
     "cell_type": "code",
     "collapsed": false,
     "input": [
      "plt.plot(mjds,t.tdbld-tdbld2)"
     ],
     "language": "python",
     "metadata": {},
     "outputs": [
      {
       "metadata": {},
       "output_type": "pyout",
       "prompt_number": 26,
       "text": [
        "[<matplotlib.lines.Line2D at 0x10a96c3d0>]"
       ]
      },
      {
       "metadata": {},
       "output_type": "display_data",
       "png": "[encoded data removed]",
       "text": [
        "<matplotlib.figure.Figure at 0x10d544410>"
       ]
      }
     ],
     "prompt_number": 26
    },
    {
     "cell_type": "code",
     "collapsed": false,
     "input": [
      "tdbld2[0]"
     ],
     "language": "python",
     "metadata": {},
     "outputs": [
      {
       "metadata": {},
       "output_type": "pyout",
       "prompt_number": 25,
       "text": [
        "53216.127424125752043"
       ]
      }
     ],
     "prompt_number": 25
    },
    {
     "cell_type": "code",
     "collapsed": false,
     "input": [
      "delay2 = numpy.zeros_like(mjds)\n",
      "for ii,tt in enumerate(t.toas):\n",
      "    delay2[ii] = m.delay(tt)"
     ],
     "language": "python",
     "metadata": {},
     "outputs": [],
     "prompt_number": 14
    },
    {
     "cell_type": "code",
     "collapsed": false,
     "input": [
      "delay2.max()"
     ],
     "language": "python",
     "metadata": {},
     "outputs": [
      {
       "metadata": {},
       "output_type": "pyout",
       "prompt_number": 19,
       "text": [
        "482.08951066612616"
       ]
      }
     ],
     "prompt_number": 19
    },
    {
     "cell_type": "code",
     "collapsed": false,
     "input": [
      "delay = m.delay_ld_array(t)"
     ],
     "language": "python",
     "metadata": {},
     "outputs": [
      {
       "output_type": "stream",
       "stream": "stdout",
       "text": [
        "add long double to  POSEPOCH 50434.0\n",
        "add long double to "
       ]
      },
      {
       "output_type": "stream",
       "stream": "stdout",
       "text": [
        " POSEPOCH 50434.0\n",
        "add long double to "
       ]
      },
      {
       "output_type": "stream",
       "stream": "stdout",
       "text": [
        " POSEPOCH 50434.0\n"
       ]
      }
     ],
     "prompt_number": 16
    },
    {
     "cell_type": "code",
     "collapsed": false,
     "input": [
      "plt.plot(mjds,delay-delay2)"
     ],
     "language": "python",
     "metadata": {},
     "outputs": [
      {
       "metadata": {},
       "output_type": "pyout",
       "prompt_number": 18,
       "text": [
        "[<matplotlib.lines.Line2D at 0x10cde8450>]"
       ]
      },
      {
       "metadata": {},
       "output_type": "display_data",
       "png": "[encoded data removed]",
       "text": [
        "<matplotlib.figure.Figure at 0x10def9c50>"
       ]
      }
     ],
     "prompt_number": 18
    },
    {
     "cell_type": "code",
     "collapsed": false,
     "input": [
      "p[0]"
     ],
     "language": "python",
     "metadata": {},
     "outputs": [
      {
       "metadata": {},
       "output_type": "pyout",
       "prompt_number": 25,
       "text": [
        "-10146134521.172869649"
       ]
      }
     ],
     "prompt_number": 25
    },
    {
     "cell_type": "code",
     "collapsed": false,
     "input": [
      "dt = numpy.longdouble(100.1234567891011121314)\n",
      "PMRA = 12134.0032\n",
      "DEC = 30.92232\n",
      "dRA = (dt*u.day * PMRA * (u.mas/u.yr)/numpy.cos(DEC)).to(u.mas)"
     ],
     "language": "python",
     "metadata": {},
     "outputs": [],
     "prompt_number": 29
    },
    {
     "cell_type": "code",
     "collapsed": false,
     "input": [
      "(356*u.day*1*(u.mas/u.yr)).to(u.mas).value"
     ],
     "language": "python",
     "metadata": {},
     "outputs": [
      {
       "metadata": {},
       "output_type": "pyout",
       "prompt_number": 8,
       "text": [
        "0.974674880219028"
       ]
      }
     ],
     "prompt_number": 8
    },
    {
     "cell_type": "code",
     "collapsed": false,
     "input": [
      "import time"
     ],
     "language": "python",
     "metadata": {},
     "outputs": [],
     "prompt_number": 1
    },
    {
     "cell_type": "code",
     "collapsed": false,
     "input": [
      "time.time()"
     ],
     "language": "python",
     "metadata": {},
     "outputs": [
      {
       "metadata": {},
       "output_type": "pyout",
       "prompt_number": 6,
       "text": [
        "1396825939.374869"
       ]
      }
     ],
     "prompt_number": 6
    },
    {
     "cell_type": "code",
     "collapsed": false,
     "input": [
      "mmm = numpy.array([1.0,2.0,3.0,4.0])"
     ],
     "language": "python",
     "metadata": {},
     "outputs": [],
     "prompt_number": 27
    },
    {
     "cell_type": "code",
     "collapsed": false,
     "input": [
      "numpy.cos(1.333)"
     ],
     "language": "python",
     "metadata": {},
     "outputs": [
      {
       "metadata": {},
       "output_type": "pyout",
       "prompt_number": 24,
       "text": [
        "0.23556153952869024"
       ]
      }
     ],
     "prompt_number": 24
    },
    {
     "cell_type": "code",
     "collapsed": false,
     "input": [
      "mmm += numpy.cos(1.444)"
     ],
     "language": "python",
     "metadata": {},
     "outputs": [],
     "prompt_number": 28
    },
    {
     "cell_type": "code",
     "collapsed": false,
     "input": [
      "mmm"
     ],
     "language": "python",
     "metadata": {},
     "outputs": [
      {
       "metadata": {},
       "output_type": "pyout",
       "prompt_number": 29,
       "text": [
        "array([ 1.12645684,  2.12645684,  3.12645684,  4.12645684])"
       ]
      }
     ],
     "prompt_number": 29
    },
    {
     "cell_type": "code",
     "collapsed": false,
     "input": [
      "import astropy.coordinates as coords\n",
      "import astropy.units as u"
     ],
     "language": "python",
     "metadata": {},
     "outputs": [],
     "prompt_number": 9
    },
    {
     "cell_type": "code",
     "collapsed": false,
     "input": [
      "coords.ICRS(ra=[0,]*u.mas, dec=[200,]*u.mas).cartesian"
     ],
     "language": "python",
     "metadata": {},
     "outputs": [
      {
       "metadata": {},
       "output_type": "pyout",
       "prompt_number": 12,
       "text": [
        "<CartesianPoints [[  1.00000000e+00],\n",
        "                  [  0.00000000e+00],\n",
        "                  [  9.69627362e-07]]>"
       ]
      }
     ],
     "prompt_number": 12
    },
    {
     "cell_type": "code",
     "collapsed": false,
     "input": [
      "import spice\n",
      "a = [0.00,1.00,2.00]\n",
      "spice.spkezr(\"EARTH\",float(a),\"J2000\",\"NONE\",\"SUN\")"
     ],
     "language": "python",
     "metadata": {},
     "outputs": [
      {
       "ename": "TypeError",
       "evalue": "float() argument must be a string or a number",
       "output_type": "pyerr",
       "traceback": [
        "\u001b[0;31m---------------------------------------------------------------------------\u001b[0m\n\u001b[0;31mTypeError\u001b[0m                                 Traceback (most recent call last)",
        "\u001b[0;32m<ipython-input-19-ce3db212fbb0>\u001b[0m in \u001b[0;36m<module>\u001b[0;34m()\u001b[0m\n\u001b[1;32m      1\u001b[0m \u001b[0;32mimport\u001b[0m \u001b[0mspice\u001b[0m\u001b[0;34m\u001b[0m\u001b[0m\n\u001b[1;32m      2\u001b[0m \u001b[0ma\u001b[0m \u001b[0;34m=\u001b[0m \u001b[0;34m[\u001b[0m\u001b[0;36m0.00\u001b[0m\u001b[0;34m,\u001b[0m\u001b[0;36m1.00\u001b[0m\u001b[0;34m,\u001b[0m\u001b[0;36m2.00\u001b[0m\u001b[0;34m]\u001b[0m\u001b[0;34m\u001b[0m\u001b[0m\n\u001b[0;32m----> 3\u001b[0;31m \u001b[0mspice\u001b[0m\u001b[0;34m.\u001b[0m\u001b[0mspkezr\u001b[0m\u001b[0;34m(\u001b[0m\u001b[0;34m\"EARTH\"\u001b[0m\u001b[0;34m,\u001b[0m\u001b[0mfloat\u001b[0m\u001b[0;34m(\u001b[0m\u001b[0ma\u001b[0m\u001b[0;34m)\u001b[0m\u001b[0;34m,\u001b[0m\u001b[0;34m\"J2000\"\u001b[0m\u001b[0;34m,\u001b[0m\u001b[0;34m\"NONE\"\u001b[0m\u001b[0;34m,\u001b[0m\u001b[0;34m\"SUN\"\u001b[0m\u001b[0;34m)\u001b[0m\u001b[0;34m\u001b[0m\u001b[0m\n\u001b[0m",
        "\u001b[0;31mTypeError\u001b[0m: float() argument must be a string or a number"
       ]
      }
     ],
     "prompt_number": 19
    },
    {
     "cell_type": "code",
     "collapsed": false,
     "input": [
      "from pint.models.timing_model import TimingModel, generate_timing_model\n",
      "from pint.models.astrometry import Astrometry\n",
      "from pint.models.spindown import Spindown"
     ],
     "language": "python",
     "metadata": {},
     "outputs": [],
     "prompt_number": 2
    },
    {
     "cell_type": "code",
     "collapsed": false,
     "input": [
      "mydd = type(\"my\",(Astrometry,Spindown),dict(a=1))\n"
     ],
     "language": "python",
     "metadata": {},
     "outputs": [],
     "prompt_number": 9
    },
    {
     "cell_type": "code",
     "collapsed": false,
     "input": [
      "a1 = np.array([1.0,2.0,3.0])\n",
      "a2 = np.array([2.0,3.0,4.0])\n",
      "a1/a2"
     ],
     "language": "python",
     "metadata": {},
     "outputs": [
      {
       "metadata": {},
       "output_type": "pyout",
       "prompt_number": 49,
       "text": [
        "array([ 0.5       ,  0.66666667,  0.75      ])"
       ]
      }
     ],
     "prompt_number": 49
    },
    {
     "cell_type": "code",
     "collapsed": false,
     "input": [
      "plt.plot(mjds,resids2-resids[0])"
     ],
     "language": "python",
     "metadata": {},
     "outputs": [
      {
       "metadata": {},
       "output_type": "pyout",
       "prompt_number": 22,
       "text": [
        "[<matplotlib.lines.Line2D at 0x10b2752d0>]"
       ]
      },
      {
       "metadata": {},
       "output_type": "display_data",
       "png": "[encoded data removed]",
       "text": [
        "<matplotlib.figure.Figure at 0x10a349d10>"
       ]
      }
     ],
     "prompt_number": 22
    },
    {
     "cell_type": "code",
     "collapsed": false,
     "input": [
      "mm,ff = numpy.modf(a1)\n",
      "ff"
     ],
     "language": "python",
     "metadata": {},
     "outputs": [
      {
       "metadata": {},
       "output_type": "pyout",
       "prompt_number": 55,
       "text": [
        "array([ 1.,  2.,  3.])"
       ]
      }
     ],
     "prompt_number": 55
    },
    {
     "cell_type": "code",
     "collapsed": false,
     "input": [
      "m.s"
     ],
     "language": "python",
     "metadata": {},
     "outputs": [
      {
       "metadata": {},
       "output_type": "pyout",
       "prompt_number": 46,
       "text": [
        "'1.7.1'"
       ]
      }
     ],
     "prompt_number": 46
    },
    {
     "cell_type": "code",
     "collapsed": false,
     "input": [
      "\n",
      "profile.run(\"sdl = m.solar_system_shapiro_delay(t)\")"
     ],
     "language": "python",
     "metadata": {},
     "outputs": [
      {
       "output_type": "stream",
       "stream": "stdout",
       "text": [
        "add long double to  POSEPOCH 50434.0\n",
        "        "
       ]
      },
      {
       "output_type": "stream",
       "stream": "stdout",
       "text": [
        " 3443315 function calls (3421357 primitive calls) in 27.566 seconds\n",
        "\n",
        "   Ordered by: standard name\n",
        "\n",
        "   ncalls  tottime  percall  cumtime  percall filename:lineno(function)\n",
        "        2    0.000    0.000    0.000    0.000 :0(__new__)\n",
        "    21941    0.162    0.000    0.253    0.000 :0(all)\n",
        "    80434    0.868    0.000    1.593    0.000 :0(any)\n",
        "     7316    0.028    0.000    0.028    0.000 :0(append)\n",
        "    21957    0.146    0.000    0.146    0.000 :0(array)\n",
        "     7312    0.049    0.000    0.049    0.000 :0(astype)\n",
        "    29254    0.119    0.000    0.119    0.000 :0(can_cast)\n",
        "        1    0.000    0.000    0.000    0.000 :0(copyto)\n",
        "        1    0.000    0.000    0.000    0.000 :0(d_tdb_tt)\n",
        "        6    0.000    0.000    0.000    0.000 :0(decode)\n",
        "    14620    0.286    0.000    0.480    0.000 :0(dot)\n",
        "        1    0.000    0.000    0.000    0.000 :0(empty_like)\n",
        "        1    0.000    0.000    0.000    0.000 :0(era_gd2gc)\n",
        "    43877    0.353    0.000    0.353    0.000 :0(format)\n",
        "        7    0.000    0.000    0.000    0.000 :0(get)\n",
        "239866/239858    1.194    0.000    1.509    0.000 :0(getattr)\n",
        "        6    0.000    0.000    0.000    0.000 :0(getpid)\n",
        "    87754    0.751    0.000    1.502    0.000 :0(hasattr)\n",
        "   555810    2.268    0.000    3.894    0.000 :0(isinstance)\n",
        "    21936    0.071    0.000    0.071    0.000 :0(item)\n",
        "    58490    0.176    0.000    0.176    0.000 :0(iter)\n",
        "    36558    0.102    0.000    0.102    0.000 :0(iteritems)\n",
        "   109727    0.320    0.000    0.320    0.000 :0(len)\n",
        "     7310    0.034    0.000    0.034    0.000 :0(lower)\n",
        "       10    0.000    0.000    0.000    0.000 :0(pop)\n",
        "        1    0.000    0.000    0.000    0.000 :0(range)\n",
        "        5    0.000    0.000    0.000    0.000 :0(reduce)\n",
        "        1    0.000    0.000    0.000    0.000 :0(round)\n",
        "       12    0.000    0.000    0.000    0.000 :0(setattr)\n",
        "        1    0.000    0.000    0.000    0.000 :0(setprofile)\n",
        "    36558    0.297    0.000    0.852    0.000 :0(sort)\n",
        "        1    0.000    0.000    0.000    0.000 :0(sorted)\n",
        "        1    0.000    0.000    0.000    0.000 :0(tai_tt)\n",
        "        1    0.000    0.000    0.000    0.000 :0(tai_utc)\n",
        "        6    0.000    0.000    0.000    0.000 :0(time)\n",
        "        3    0.000    0.000    0.000    0.000 :0(tolist)\n",
        "        1    0.000    0.000    0.000    0.000 :0(tt_tai)\n",
        "        1    0.000    0.000    0.000    0.000 :0(tt_tdb)\n",
        "        1    0.000    0.000    0.000    0.000 :0(utc_tai)\n",
        "        6    0.000    0.000    0.000    0.000 :0(utf_8_decode)\n",
        "    95076    0.597    0.000    1.111    0.000 :0(view)\n",
        "        6    0.000    0.000    0.000    0.000 :0(write)\n",
        "     7313    0.041    0.000    0.041    0.000 :0(zip)\n",
        "        1    0.000    0.000   27.566   27.566 <string>:1(<module>)\n",
        "        5    0.000    0.000    0.000    0.000 _methods.py:24(_any)\n",
        "   109676    0.409    0.000    0.409    0.000 _weakrefset.py:68(__contains__)\n",
        "    80436    0.970    0.000    1.626    0.000 abc.py:128(__instancecheck__)\n",
        "        3    0.000    0.000    0.000    0.000 angles.py:148(_tuple_to_float)\n",
        "       10    0.000    0.000    0.000    0.000 angles.py:167(_convert_unit_to_angle_unit)\n",
        "        4    0.000    0.000    0.001    0.000 angles.py:176(__quantity_view__)\n",
        "        2    0.000    0.000    0.003    0.001 angles.py:190(__add__)\n",
        "        1    0.000    0.000    0.001    0.001 angles.py:554(__new__)\n",
        "        1    0.000    0.000    0.000    0.000 angles.py:559(_validate_angles)\n",
        "        1    0.000    0.000    0.002    0.002 angles.py:635(__new__)\n",
        "        1    0.000    0.000    0.001    0.001 angles.py:644(_wrap_internal)\n",
        "        1    0.000    0.000    0.000    0.000 angles.py:659(wrap_angle)\n",
        "        1    0.000    0.000    0.002    0.002 angles.py:663(wrap_angle)\n",
        "        1    0.000    0.000    0.000    0.000 angles.py:687(__array_finalize__)\n",
        "        3    0.000    0.000    0.001    0.000 angles.py:85(__new__)\n",
        "        1    0.000    0.000    0.027    0.027 astrometry.py:118(ssb_to_psb_xyzld)\n",
        "        1    0.002    0.002    0.024    0.024 astrometry.py:90(coords_as_ICRS_ld)\n",
        "        1    0.000    0.000    0.003    0.003 builtin_systems.py:57(__init__)\n",
        "     7310    0.027    0.000    0.027    0.000 constant.py:142(name)\n",
        "     7310    0.024    0.000    0.024    0.000 constant.py:166(system)\n",
        "     7310    0.182    0.000    4.106    0.001 constant.py:36(wrapper)\n",
        "        2    0.000    0.000    0.000    0.000 coordsystems.py:327(latangle)\n",
        "        2    0.000    0.000    0.000    0.000 coordsystems.py:338(lonangle)\n",
        "        1    0.000    0.000    0.003    0.003 coordsystems.py:406(cartesian)\n",
        "        1    0.000    0.000    0.000    0.000 coordsystems.py:41(__init__)\n",
        "        1    0.000    0.000    0.003    0.003 coordsystems.py:411(_make_cart)\n",
        "        1    0.000    0.000    0.003    0.003 coordsystems.py:99(_initialize_latlon)\n",
        "        5    0.000    0.000    0.000    0.000 core.py:1281(__init__)\n",
        "        6    0.000    0.000    0.000    0.000 core.py:129(registry)\n",
        "        5    0.000    0.000    0.000    0.000 core.py:1298(scale)\n",
        "        5    0.000    0.000    0.000    0.000 core.py:1304(scale)\n",
        "        5    0.000    0.000    0.000    0.000 core.py:1332(_check_scale)\n",
        "     7310    0.021    0.000    0.021    0.000 core.py:1335(is_unity)\n",
        "        2    0.000    0.000    0.000    0.000 core.py:1400(value)\n",
        "    36580    0.121    0.000    0.121    0.000 core.py:1466(name)\n",
        "     7320    0.048    0.000    0.070    0.000 core.py:1559(decompose)\n",
        "    36591    0.528    0.000    0.976    0.000 core.py:1654(__call__)\n",
        "    21960    0.151    0.000    0.360    0.000 core.py:1838(decompose)\n",
        "    14624    0.088    0.000    0.485    0.000 core.py:1842(is_unity)\n",
        "    36558    0.715    0.000    9.056    0.000 core.py:1879(__init__)\n",
        "    87752    0.236    0.000    0.236    0.000 core.py:1917(scale)\n",
        "   117011    0.315    0.000    0.315    0.000 core.py:1924(bases)\n",
        "    80446    0.214    0.000    0.214    0.000 core.py:1931(powers)\n",
        "    36558    1.937    0.000    6.561    0.000 core.py:1938(_expand_and_gather)\n",
        "    58500    0.258    0.000    0.258    0.000 core.py:1939(add_unit)\n",
        "    36566    0.208    0.000    0.555    0.000 core.py:1971(<lambda>)\n",
        "65835/51205    0.829    0.000    4.751    0.000 core.py:1987(decompose)\n",
        "    21941    0.302    0.000    0.655    0.000 core.py:2007(is_unity)\n",
        "        1    0.000    0.000    0.000    0.000 core.py:2015(day_frac)\n",
        "        2    0.000    0.000    0.000    0.000 core.py:2057(two_sum)\n",
        "        8    0.000    0.000    0.000    0.000 core.py:211(equivalencies)\n",
        "    14632    0.102    0.000    0.146    0.000 core.py:2172(_condition_arg)\n",
        "       14    0.000    0.000    0.000    0.000 core.py:270(get_current_unit_registry)\n",
        "        3    0.000    0.000    0.000    0.000 core.py:324(format)\n",
        "        1    0.000    0.000    0.001    0.001 core.py:334(__str__)\n",
        "        5    0.000    0.000    0.000    0.000 core.py:337(scale)\n",
        "        1    0.000    0.000    0.001    0.001 core.py:342(_set_scale)\n",
        "        7    0.000    0.000    0.000    0.000 core.py:391(precision)\n",
        "        2    0.000    0.000    0.000    0.000 core.py:399(precision)\n",
        "        7    0.000    0.000    0.000    0.000 core.py:406(in_subfmt)\n",
        "        2    0.000    0.000    0.000    0.000 core.py:414(in_subfmt)\n",
        "        7    0.000    0.000    0.000    0.000 core.py:420(out_subfmt)\n",
        "        2    0.000    0.000    0.000    0.000 core.py:427(out_subfmt)\n",
        "        2    0.000    0.000    0.000    0.000 core.py:433(_shaped_like_input)\n",
        "        1    0.000    0.000    0.000    0.000 core.py:443(jd1)\n",
        "        1    0.000    0.000    0.000    0.000 core.py:450(jd2)\n",
        "       16    0.000    0.000    0.001    0.000 core.py:494(_get_physical_type_id)\n",
        "        3    0.000    0.000    0.000    0.000 core.py:536(scale)\n",
        "       10    0.000    0.000    0.000    0.000 core.py:543(bases)\n",
        "       10    0.000    0.000    0.000    0.000 core.py:550(powers)\n",
        "        8    0.000    0.000    0.000    0.000 core.py:577(_normalize_equivalencies)\n",
        "        2    0.000    0.000    0.001    0.001 core.py:577(replicate)\n",
        "     7310    0.071    0.000    2.492    0.000 core.py:604(__pow__)\n",
        "     7313    0.157    0.000    1.953    0.000 core.py:607(__div__)\n",
        "21936/14626    0.466    0.000    5.053    0.000 core.py:634(__mul__)\n",
        "        8    0.000    0.000    0.000    0.000 core.py:64(_normalize_equivalencies)\n",
        "        2    0.000    0.000    0.002    0.001 core.py:649(__rmul__)\n",
        "        1    0.000    0.000    0.000    0.000 core.py:663(__eq__)\n",
        "     12/2    0.000    0.000    0.003    0.002 core.py:686(__getattr__)\n",
        "        8    0.000    0.000    0.002    0.000 core.py:696(is_equivalent)\n",
        "        8    0.000    0.000    0.001    0.000 core.py:727(_is_equivalent)\n",
        "    14632    0.207    0.000    5.892    0.000 core.py:812(get_converter)\n",
        "        1    0.000    0.000    0.001    0.001 core.py:847(_get_delta_tdb_tt)\n",
        "    14632    0.097    0.000    0.243    0.000 core.py:848(<lambda>)\n",
        "    14632    0.503    0.000    5.506    0.000 core.py:850(_to)\n",
        "    21948    0.069    0.000    0.069    0.000 core.py:873(<genexpr>)\n",
        "    14632    0.157    0.000    6.292    0.000 core.py:880(to)\n",
        "        1    0.000    0.000    0.002    0.002 distances.py:240(__new__)\n",
        "        1    0.000    0.000    0.000    0.000 distances.py:365(_convert_to_and_validate_length_unit)\n",
        "        1    0.000    0.000    0.000    0.000 distances.py:430(spherical_to_cartesian)\n",
        "        5    0.000    0.000    0.000    0.000 fromnumeric.py:1563(any)\n",
        "        1    0.000    0.000    0.000    0.000 fromnumeric.py:2387(round_)\n",
        "        6    0.000    0.000    0.001    0.000 iostream.py:178(write)\n",
        "        6    0.000    0.000    0.000    0.000 iostream.py:79(_is_master_process)\n",
        "        6    0.000    0.000    0.000    0.000 iostream.py:88(_check_mp_mode)\n",
        "    21932    0.208    0.000    0.287    0.000 misc.py:215(isiterable)\n",
        "     7310    0.042    0.000    0.042    0.000 misc.py:274(__get__)\n",
        "    14622    0.096    0.000    0.140    0.000 numeric.py:1666(isscalar)\n",
        "       11    0.000    0.000    0.001    0.000 numeric.py:252(asarray)\n",
        "        5    0.000    0.000    0.000    0.000 numeric.py:322(asanyarray)\n",
        "        1    0.000    0.000    0.000    0.000 numeric.py:66(zeros_like)\n",
        "        1    0.000    0.000    0.004    0.004 parameter.py:59(longd_value)\n",
        "        0    0.000             0.000          profile:0(profiler)\n",
        "        1    0.000    0.000   27.566   27.566 profile:0(sdl = m.solar_system_shapiro_delay_ld(t))\n",
        "    21939    0.799    0.000    2.688    0.000 quantity.py:101(__new__)\n",
        "    14620    0.416    0.000    8.176    0.001 quantity.py:1049(dot)\n",
        "    95056    0.551    0.000    0.841    0.000 quantity.py:154(__array_finalize__)\n",
        "    36558    1.472    0.000   16.092    0.000 quantity.py:158(__array_prepare__)\n",
        "    95053    0.274    0.000    0.274    0.000 quantity.py:196(<genexpr>)\n",
        "    95053    0.269    0.000    0.269    0.000 quantity.py:262(<genexpr>)\n",
        "    36558    0.918    0.000    2.937    0.000 quantity.py:295(__array_wrap__)\n",
        "     7315    0.070    0.000    0.130    0.000 quantity.py:30(_can_cast)\n",
        "    14628    0.075    0.000    0.206    0.000 quantity.py:341(<genexpr>)\n",
        "    36559    0.218    0.000    0.820    0.000 quantity.py:378(__quantity_view__)\n",
        "    14622    0.120    0.000    2.036    0.000 quantity.py:399(__quantity_instance__)\n",
        "        4    0.000    0.000    0.003    0.001 quantity.py:424(to)\n",
        "    29261    0.281    0.000    0.462    0.000 quantity.py:451(value)\n",
        "    73128    0.217    0.000    0.217    0.000 quantity.py:460(unit)\n",
        "        2    0.000    0.000    0.000    0.000 quantity.py:472(equivalencies)\n",
        "    43873    0.398    0.000    0.752    0.000 quantity.py:545(__getattr__)\n",
        "        6    0.000    0.000    0.001    0.000 quantity.py:556(get_virtual_unit_attribute)\n",
        "     7316    0.230    0.000    2.031    0.000 quantity.py:578(__mul__)\n",
        "        2    0.000    0.000    0.001    0.001 quantity.py:595(__rmul__)\n",
        "        1    0.000    0.000    0.001    0.001 quantity.py:602(__div__)\n",
        "     7310    0.316    0.000    3.839    0.001 quantity.py:619(__rdiv__)\n",
        "        1    0.000    0.000    0.000    0.000 quantity.py:711(__setitem__)\n",
        "        1    0.000    0.000    0.000    0.000 quantity.py:912(_to_own_unit)\n",
        "    14620    0.043    0.000    0.043    0.000 quantity.py:990(_prepare_out)\n",
        "        1    0.000    0.000    0.000    0.000 quantity_helper.py:142(helper_radian_to_dimensionless)\n",
        "     7314    0.103    0.000    0.544    0.000 quantity_helper.py:172(<lambda>)\n",
        "     7311    0.104    0.000    2.094    0.000 quantity_helper.py:175(<lambda>)\n",
        "     7312    0.135    0.000    3.388    0.000 quantity_helper.py:233(find_scales)\n",
        "    14624    0.044    0.000    0.044    0.000 quantity_helper.py:237(<genexpr>)\n",
        "     7312    0.053    0.000    3.442    0.000 quantity_helper.py:262(helper_twoarg_invariant)\n",
        "     7310    0.061    0.000    2.553    0.000 quantity_helper.py:60(<lambda>)\n",
        "     7310    0.059    0.000    3.187    0.000 quantity_helper.py:73(helper_dimensionless_to_dimensionless)\n",
        "    29250    0.080    0.000    0.080    0.000 quantity_helper.py:8(_d)\n",
        "    36558    0.412    0.000    0.716    0.000 six.py:482(iteritems)\n",
        "     7310    0.916    0.000   27.206    0.004 solar_system_shapiro.py:38(ss_obj_shapiro_delay)\n",
        "        1    0.216    0.216   27.566   27.566 solar_system_shapiro.py:87(solar_system_shapiro_delay_ld)\n",
        "        6    0.000    0.000    0.000    0.000 utf_8.py:15(decode)\n",
        "    65802    0.208    0.000    0.208    0.000 utils.py:126(is_effectively_unity)\n",
        "    65816    0.880    0.000    3.463    0.000 utils.py:130(validate_power)\n",
        "        1    0.000    0.000    0.000    0.000 utils.py:137(time_to_longdouble)\n",
        "\n",
        "\n"
       ]
      }
     ],
     "prompt_number": 11
    },
    {
     "cell_type": "code",
     "collapsed": false,
     "input": [
      "from astropy.table import Table\n",
      "t = Table.read('J1744-1134.Rcvr1_2.GASP.8y.x.tim', format='ascii')"
     ],
     "language": "python",
     "metadata": {},
     "outputs": [
      {
       "ename": "InconsistentTableError",
       "evalue": "\nERROR: Unable to guess table for with the guesses listed below:\nReader:Basic fill_values: [('', '0')] strict_names: True\nReader:Rdb fill_values: [('', '0')] strict_names: True\nReader:Tab fill_values: [('', '0')] strict_names: True\nReader:Cds fill_values: [('', '0')] strict_names: True\nReader:Daophot fill_values: [('', '0')] strict_names: True\nReader:SExtractor fill_values: [('', '0')] strict_names: True\nReader:Ipac fill_values: [('', '0')] strict_names: True\nReader:Latex fill_values: [('', '0')] strict_names: True\nReader:AASTex fill_values: [('', '0')] strict_names: True\nReader:CommentedHeader delimiter: '|' fill_values: [('', '0')] quotechar: '\"' strict_names: True\nReader:CommentedHeader delimiter: '|' fill_values: [('', '0')] quotechar: \"'\" strict_names: True\nReader:CommentedHeader delimiter: ',' fill_values: [('', '0')] quotechar: '\"' strict_names: True\nReader:CommentedHeader delimiter: ',' fill_values: [('', '0')] quotechar: \"'\" strict_names: True\nReader:CommentedHeader delimiter: ' ' fill_values: [('', '0')] quotechar: '\"' strict_names: True\nReader:CommentedHeader delimiter: ' ' fill_values: [('', '0')] quotechar: \"'\" strict_names: True\nReader:CommentedHeader delimiter: '\\\\s' fill_values: [('', '0')] quotechar: '\"' strict_names: True\nReader:CommentedHeader delimiter: '\\\\s' fill_values: [('', '0')] quotechar: \"'\" strict_names: True\nReader:Basic delimiter: '|' fill_values: [('', '0')] quotechar: '\"' strict_names: True\nReader:Basic delimiter: '|' fill_values: [('', '0')] quotechar: \"'\" strict_names: True\nReader:Basic delimiter: ',' fill_values: [('', '0')] quotechar: '\"' strict_names: True\nReader:Basic delimiter: ',' fill_values: [('', '0')] quotechar: \"'\" strict_names: True\nReader:Basic delimiter: ' ' fill_values: [('', '0')] quotechar: '\"' strict_names: True\nReader:Basic delimiter: ' ' fill_values: [('', '0')] quotechar: \"'\" strict_names: True\nReader:Basic delimiter: '\\\\s' fill_values: [('', '0')] quotechar: '\"' strict_names: True\nReader:Basic delimiter: '\\\\s' fill_values: [('', '0')] quotechar: \"'\" strict_names: True\nReader:NoHeader delimiter: '|' fill_values: [('', '0')] quotechar: '\"' strict_names: True\nReader:NoHeader delimiter: '|' fill_values: [('', '0')] quotechar: \"'\" strict_names: True\nReader:NoHeader delimiter: ',' fill_values: [('', '0')] quotechar: '\"' strict_names: True\nReader:NoHeader delimiter: ',' fill_values: [('', '0')] quotechar: \"'\" strict_names: True\nReader:NoHeader delimiter: ' ' fill_values: [('', '0')] quotechar: '\"' strict_names: True\nReader:NoHeader delimiter: ' ' fill_values: [('', '0')] quotechar: \"'\" strict_names: True\nReader:NoHeader delimiter: '\\\\s' fill_values: [('', '0')] quotechar: '\"' strict_names: True\nReader:NoHeader delimiter: '\\\\s' fill_values: [('', '0')] quotechar: \"'\" strict_names: True\nReader:Basic fill_values: [('', '0')]\nERROR: Unable to guess table for with the guesses listed above.\nCheck the table and try with guess=False and appropriate arguments to read()",
       "output_type": "pyerr",
       "traceback": [
        "\u001b[0;31m---------------------------------------------------------------------------\u001b[0m\n\u001b[0;31mInconsistentTableError\u001b[0m                    Traceback (most recent call last)",
        "\u001b[0;32m<ipython-input-9-619336d9f2c8>\u001b[0m in \u001b[0;36m<module>\u001b[0;34m()\u001b[0m\n\u001b[1;32m      1\u001b[0m \u001b[0;32mfrom\u001b[0m \u001b[0mastropy\u001b[0m\u001b[0;34m.\u001b[0m\u001b[0mtable\u001b[0m \u001b[0;32mimport\u001b[0m \u001b[0mTable\u001b[0m\u001b[0;34m\u001b[0m\u001b[0m\n\u001b[0;32m----> 2\u001b[0;31m \u001b[0mt\u001b[0m \u001b[0;34m=\u001b[0m \u001b[0mTable\u001b[0m\u001b[0;34m.\u001b[0m\u001b[0mread\u001b[0m\u001b[0;34m(\u001b[0m\u001b[0;34m'J1744-1134.Rcvr1_2.GASP.8y.x.tim'\u001b[0m\u001b[0;34m,\u001b[0m \u001b[0mformat\u001b[0m\u001b[0;34m=\u001b[0m\u001b[0;34m'ascii'\u001b[0m\u001b[0;34m)\u001b[0m\u001b[0;34m\u001b[0m\u001b[0m\n\u001b[0m",
        "\u001b[0;32m/Users/jingluo/anaconda/lib/python2.7/site-packages/astropy-0.4.dev7574-py2.7-macosx-10.5-x86_64.egg/astropy/table/table.pyc\u001b[0m in \u001b[0;36mread\u001b[0;34m(cls, *args, **kwargs)\u001b[0m\n\u001b[1;32m   1725\u001b[0m         \u001b[0mpassed\u001b[0m \u001b[0mthrough\u001b[0m \u001b[0mto\u001b[0m \u001b[0mthe\u001b[0m \u001b[0munderlying\u001b[0m \u001b[0mdata\u001b[0m \u001b[0mreader\u001b[0m \u001b[0;34m(\u001b[0m\u001b[0me\u001b[0m\u001b[0;34m.\u001b[0m\u001b[0mg\u001b[0m\u001b[0;34m.\u001b[0m \u001b[0;34m`\u001b[0m\u001b[0;34m~\u001b[0m\u001b[0mastropy\u001b[0m\u001b[0;34m.\u001b[0m\u001b[0mio\u001b[0m\u001b[0;34m.\u001b[0m\u001b[0mascii\u001b[0m\u001b[0;34m.\u001b[0m\u001b[0mui\u001b[0m\u001b[0;34m.\u001b[0m\u001b[0mread\u001b[0m\u001b[0;34m`\u001b[0m\u001b[0;34m)\u001b[0m\u001b[0;34m.\u001b[0m\u001b[0;34m\u001b[0m\u001b[0m\n\u001b[1;32m   1726\u001b[0m         \"\"\"\n\u001b[0;32m-> 1727\u001b[0;31m         \u001b[0;32mreturn\u001b[0m \u001b[0mio_registry\u001b[0m\u001b[0;34m.\u001b[0m\u001b[0mread\u001b[0m\u001b[0;34m(\u001b[0m\u001b[0mcls\u001b[0m\u001b[0;34m,\u001b[0m \u001b[0;34m*\u001b[0m\u001b[0margs\u001b[0m\u001b[0;34m,\u001b[0m \u001b[0;34m**\u001b[0m\u001b[0mkwargs\u001b[0m\u001b[0;34m)\u001b[0m\u001b[0;34m\u001b[0m\u001b[0m\n\u001b[0m\u001b[1;32m   1728\u001b[0m \u001b[0;34m\u001b[0m\u001b[0m\n\u001b[1;32m   1729\u001b[0m     \u001b[0;32mdef\u001b[0m \u001b[0mwrite\u001b[0m\u001b[0;34m(\u001b[0m\u001b[0mself\u001b[0m\u001b[0;34m,\u001b[0m \u001b[0;34m*\u001b[0m\u001b[0margs\u001b[0m\u001b[0;34m,\u001b[0m \u001b[0;34m**\u001b[0m\u001b[0mkwargs\u001b[0m\u001b[0;34m)\u001b[0m\u001b[0;34m:\u001b[0m\u001b[0;34m\u001b[0m\u001b[0m\n",
        "\u001b[0;32m/Users/jingluo/anaconda/lib/python2.7/site-packages/astropy-0.4.dev7574-py2.7-macosx-10.5-x86_64.egg/astropy/io/registry.pyc\u001b[0m in \u001b[0;36mread\u001b[0;34m(cls, *args, **kwargs)\u001b[0m\n\u001b[1;32m    321\u001b[0m \u001b[0;34m\u001b[0m\u001b[0m\n\u001b[1;32m    322\u001b[0m         \u001b[0mreader\u001b[0m \u001b[0;34m=\u001b[0m \u001b[0mget_reader\u001b[0m\u001b[0;34m(\u001b[0m\u001b[0mformat\u001b[0m\u001b[0;34m,\u001b[0m \u001b[0mcls\u001b[0m\u001b[0;34m)\u001b[0m\u001b[0;34m\u001b[0m\u001b[0m\n\u001b[0;32m--> 323\u001b[0;31m         \u001b[0mtable\u001b[0m \u001b[0;34m=\u001b[0m \u001b[0mreader\u001b[0m\u001b[0;34m(\u001b[0m\u001b[0;34m*\u001b[0m\u001b[0margs\u001b[0m\u001b[0;34m,\u001b[0m \u001b[0;34m**\u001b[0m\u001b[0mkwargs\u001b[0m\u001b[0;34m)\u001b[0m\u001b[0;34m\u001b[0m\u001b[0m\n\u001b[0m\u001b[1;32m    324\u001b[0m \u001b[0;34m\u001b[0m\u001b[0m\n\u001b[1;32m    325\u001b[0m         \u001b[0;32mif\u001b[0m \u001b[0;32mnot\u001b[0m \u001b[0misinstance\u001b[0m\u001b[0;34m(\u001b[0m\u001b[0mtable\u001b[0m\u001b[0;34m,\u001b[0m \u001b[0mcls\u001b[0m\u001b[0;34m)\u001b[0m\u001b[0;34m:\u001b[0m\u001b[0;34m\u001b[0m\u001b[0m\n",
        "\u001b[0;32m/Users/jingluo/anaconda/lib/python2.7/site-packages/astropy-0.4.dev7574-py2.7-macosx-10.5-x86_64.egg/astropy/io/ascii/connect.pyc\u001b[0m in \u001b[0;36mread_asciitable\u001b[0;34m(filename, **kwargs)\u001b[0m\n\u001b[1;32m     19\u001b[0m \u001b[0;32mdef\u001b[0m \u001b[0mread_asciitable\u001b[0m\u001b[0;34m(\u001b[0m\u001b[0mfilename\u001b[0m\u001b[0;34m,\u001b[0m \u001b[0;34m**\u001b[0m\u001b[0mkwargs\u001b[0m\u001b[0;34m)\u001b[0m\u001b[0;34m:\u001b[0m\u001b[0;34m\u001b[0m\u001b[0m\n\u001b[1;32m     20\u001b[0m     \u001b[0;32mfrom\u001b[0m \u001b[0;34m.\u001b[0m\u001b[0mui\u001b[0m \u001b[0;32mimport\u001b[0m \u001b[0mread\u001b[0m\u001b[0;34m\u001b[0m\u001b[0m\n\u001b[0;32m---> 21\u001b[0;31m     \u001b[0;32mreturn\u001b[0m \u001b[0mread\u001b[0m\u001b[0;34m(\u001b[0m\u001b[0mfilename\u001b[0m\u001b[0;34m,\u001b[0m \u001b[0;34m**\u001b[0m\u001b[0mkwargs\u001b[0m\u001b[0;34m)\u001b[0m\u001b[0;34m\u001b[0m\u001b[0m\n\u001b[0m\u001b[1;32m     22\u001b[0m \u001b[0;34m\u001b[0m\u001b[0m\n\u001b[1;32m     23\u001b[0m \u001b[0mio_registry\u001b[0m\u001b[0;34m.\u001b[0m\u001b[0mregister_reader\u001b[0m\u001b[0;34m(\u001b[0m\u001b[0;34m'ascii'\u001b[0m\u001b[0;34m,\u001b[0m \u001b[0mTable\u001b[0m\u001b[0;34m,\u001b[0m \u001b[0mread_asciitable\u001b[0m\u001b[0;34m)\u001b[0m\u001b[0;34m\u001b[0m\u001b[0m\n",
        "\u001b[0;32m/Users/jingluo/anaconda/lib/python2.7/site-packages/astropy-0.4.dev7574-py2.7-macosx-10.5-x86_64.egg/astropy/io/ascii/ui.pyc\u001b[0m in \u001b[0;36mread\u001b[0;34m(table, guess, **kwargs)\u001b[0m\n\u001b[1;32m    154\u001b[0m         \u001b[0mguess\u001b[0m \u001b[0;34m=\u001b[0m \u001b[0m_GUESS\u001b[0m\u001b[0;34m\u001b[0m\u001b[0m\n\u001b[1;32m    155\u001b[0m     \u001b[0;32mif\u001b[0m \u001b[0mguess\u001b[0m\u001b[0;34m:\u001b[0m\u001b[0;34m\u001b[0m\u001b[0m\n\u001b[0;32m--> 156\u001b[0;31m         \u001b[0mdat\u001b[0m \u001b[0;34m=\u001b[0m \u001b[0m_guess\u001b[0m\u001b[0;34m(\u001b[0m\u001b[0mtable\u001b[0m\u001b[0;34m,\u001b[0m \u001b[0mnew_kwargs\u001b[0m\u001b[0;34m)\u001b[0m\u001b[0;34m\u001b[0m\u001b[0m\n\u001b[0m\u001b[1;32m    157\u001b[0m     \u001b[0;32melse\u001b[0m\u001b[0;34m:\u001b[0m\u001b[0;34m\u001b[0m\u001b[0m\n\u001b[1;32m    158\u001b[0m         \u001b[0mreader\u001b[0m \u001b[0;34m=\u001b[0m \u001b[0mget_reader\u001b[0m\u001b[0;34m(\u001b[0m\u001b[0;34m**\u001b[0m\u001b[0mnew_kwargs\u001b[0m\u001b[0;34m)\u001b[0m\u001b[0;34m\u001b[0m\u001b[0m\n",
        "\u001b[0;32m/Users/jingluo/anaconda/lib/python2.7/site-packages/astropy-0.4.dev7574-py2.7-macosx-10.5-x86_64.egg/astropy/io/ascii/ui.pyc\u001b[0m in \u001b[0;36m_guess\u001b[0;34m(table, read_kwargs)\u001b[0m\n\u001b[1;32m    225\u001b[0m             lines.append('Check the table and try with guess=False '\n\u001b[1;32m    226\u001b[0m                          'and appropriate arguments to read()')\n\u001b[0;32m--> 227\u001b[0;31m             \u001b[0;32mraise\u001b[0m \u001b[0mcore\u001b[0m\u001b[0;34m.\u001b[0m\u001b[0mInconsistentTableError\u001b[0m\u001b[0;34m(\u001b[0m\u001b[0;34m'\\n'\u001b[0m\u001b[0;34m.\u001b[0m\u001b[0mjoin\u001b[0m\u001b[0;34m(\u001b[0m\u001b[0mlines\u001b[0m\u001b[0;34m)\u001b[0m\u001b[0;34m)\u001b[0m\u001b[0;34m\u001b[0m\u001b[0m\n\u001b[0m\u001b[1;32m    228\u001b[0m \u001b[0;34m\u001b[0m\u001b[0m\n\u001b[1;32m    229\u001b[0m \u001b[0;34m\u001b[0m\u001b[0m\n",
        "\u001b[0;31mInconsistentTableError\u001b[0m: \nERROR: Unable to guess table for with the guesses listed below:\nReader:Basic fill_values: [('', '0')] strict_names: True\nReader:Rdb fill_values: [('', '0')] strict_names: True\nReader:Tab fill_values: [('', '0')] strict_names: True\nReader:Cds fill_values: [('', '0')] strict_names: True\nReader:Daophot fill_values: [('', '0')] strict_names: True\nReader:SExtractor fill_values: [('', '0')] strict_names: True\nReader:Ipac fill_values: [('', '0')] strict_names: True\nReader:Latex fill_values: [('', '0')] strict_names: True\nReader:AASTex fill_values: [('', '0')] strict_names: True\nReader:CommentedHeader delimiter: '|' fill_values: [('', '0')] quotechar: '\"' strict_names: True\nReader:CommentedHeader delimiter: '|' fill_values: [('', '0')] quotechar: \"'\" strict_names: True\nReader:CommentedHeader delimiter: ',' fill_values: [('', '0')] quotechar: '\"' strict_names: True\nReader:CommentedHeader delimiter: ',' fill_values: [('', '0')] quotechar: \"'\" strict_names: True\nReader:CommentedHeader delimiter: ' ' fill_values: [('', '0')] quotechar: '\"' strict_names: True\nReader:CommentedHeader delimiter: ' ' fill_values: [('', '0')] quotechar: \"'\" strict_names: True\nReader:CommentedHeader delimiter: '\\\\s' fill_values: [('', '0')] quotechar: '\"' strict_names: True\nReader:CommentedHeader delimiter: '\\\\s' fill_values: [('', '0')] quotechar: \"'\" strict_names: True\nReader:Basic delimiter: '|' fill_values: [('', '0')] quotechar: '\"' strict_names: True\nReader:Basic delimiter: '|' fill_values: [('', '0')] quotechar: \"'\" strict_names: True\nReader:Basic delimiter: ',' fill_values: [('', '0')] quotechar: '\"' strict_names: True\nReader:Basic delimiter: ',' fill_values: [('', '0')] quotechar: \"'\" strict_names: True\nReader:Basic delimiter: ' ' fill_values: [('', '0')] quotechar: '\"' strict_names: True\nReader:Basic delimiter: ' ' fill_values: [('', '0')] quotechar: \"'\" strict_names: True\nReader:Basic delimiter: '\\\\s' fill_values: [('', '0')] quotechar: '\"' strict_names: True\nReader:Basic delimiter: '\\\\s' fill_values: [('', '0')] quotechar: \"'\" strict_names: True\nReader:NoHeader delimiter: '|' fill_values: [('', '0')] quotechar: '\"' strict_names: True\nReader:NoHeader delimiter: '|' fill_values: [('', '0')] quotechar: \"'\" strict_names: True\nReader:NoHeader delimiter: ',' fill_values: [('', '0')] quotechar: '\"' strict_names: True\nReader:NoHeader delimiter: ',' fill_values: [('', '0')] quotechar: \"'\" strict_names: True\nReader:NoHeader delimiter: ' ' fill_values: [('', '0')] quotechar: '\"' strict_names: True\nReader:NoHeader delimiter: ' ' fill_values: [('', '0')] quotechar: \"'\" strict_names: True\nReader:NoHeader delimiter: '\\\\s' fill_values: [('', '0')] quotechar: '\"' strict_names: True\nReader:NoHeader delimiter: '\\\\s' fill_values: [('', '0')] quotechar: \"'\" strict_names: True\nReader:Basic fill_values: [('', '0')]\nERROR: Unable to guess table for with the guesses listed above.\nCheck the table and try with guess=False and appropriate arguments to read()"
       ]
      }
     ],
     "prompt_number": 9
    },
    {
     "cell_type": "code",
     "collapsed": false,
     "input": [
      "from pint import toaTable"
     ],
     "language": "python",
     "metadata": {},
     "outputs": [],
     "prompt_number": 1
    },
    {
     "cell_type": "code",
     "collapsed": false,
     "input": [
      "\n",
      "tt = toaTable.TOAs('J1744-1134.Rcvr1_2.GASP.8y.x.tim')"
     ],
     "language": "python",
     "metadata": {},
     "outputs": [
      {
       "output_type": "stream",
       "stream": "stdout",
       "text": [
        "None\n",
        "None\n",
        "None\n",
        "(53216, 0.126681263557175)\n"
       ]
      }
     ],
     "prompt_number": 2
    },
    {
     "cell_type": "code",
     "collapsed": false,
     "input": [
      "dir(tt)"
     ],
     "language": "python",
     "metadata": {},
     "outputs": [
      {
       "metadata": {},
       "output_type": "pyout",
       "prompt_number": 8,
       "text": [
        "['__class__',\n",
        " '__delattr__',\n",
        " '__dict__',\n",
        " '__doc__',\n",
        " '__format__',\n",
        " '__getattribute__',\n",
        " '__hash__',\n",
        " '__init__',\n",
        " '__module__',\n",
        " '__new__',\n",
        " '__reduce__',\n",
        " '__reduce_ex__',\n",
        " '__repr__',\n",
        " '__setattr__',\n",
        " '__sizeof__',\n",
        " '__str__',\n",
        " '__subclasshook__',\n",
        " '__weakref__',\n",
        " 'cdict',\n",
        " 'commands',\n",
        " 'filename',\n",
        " 'observatories',\n",
        " 'read_toa_file_table',\n",
        " 'toaTable',\n",
        " 'toas']"
       ]
      }
     ],
     "prompt_number": 8
    },
    {
     "cell_type": "code",
     "collapsed": false,
     "input": [
      "tt.toas"
     ],
     "language": "python",
     "metadata": {},
     "outputs": [
      {
       "metadata": {},
       "output_type": "pyout",
       "prompt_number": 9,
       "text": [
        "[None, None, None, (53216, 0.126681263557175)]"
       ]
      }
     ],
     "prompt_number": 9
    },
    {
     "cell_type": "code",
     "collapsed": false,
     "input": [
      "ls"
     ],
     "language": "python",
     "metadata": {},
     "outputs": [
      {
       "output_type": "stream",
       "stream": "stdout",
       "text": [
        "20yrsTOA.par                             test2.tim\r\n",
        "20yrsTOA.tim                             testTTmTDB20yrs.pyc\r\n",
        "\u001b[31mJ0000+0000.par\u001b[m\u001b[m*                          test_astropy_times.py\r\n",
        "\u001b[31mJ0000+0000.tim\u001b[m\u001b[m*                          test_fitter.py\r\n",
        "J1744-1134.Rcvr1_2.GASP.8y.x.tim         test_gps2utc.ipynb\r\n",
        "J1744-1134.Rcvr1_2.GASP.8y.x.tim.pickle  test_gps2utc.pyc\r\n",
        "J1744-1134.basic.par                     test_kepler.py\r\n",
        "J1744-1134.basic2.par                    test_model.ipynb\r\n",
        "NGC6440E.par                             \u001b[31mtest_model.py\u001b[m\u001b[m*\r\n",
        "NGC6440E.tim                             \u001b[31mtest_parfile.py\u001b[m\u001b[m*\r\n",
        "T2-PINT_ROEMER.png                       test_pos.py\r\n",
        "makePlot.pyc                             test_toa_reader.py\r\n",
        "spindown.ipynb                           testtimes.par\r\n",
        "tempo2_utils.py                          testtimes.py\r\n",
        "tempo2_utils.pyc                         testtimes.tim\r\n",
        "test1.tim                                time_test.ipynb\r\n"
       ]
      }
     ],
     "prompt_number": 5
    },
    {
     "cell_type": "code",
     "collapsed": false,
     "input": [],
     "language": "python",
     "metadata": {},
     "outputs": [
      {
       "ename": "SyntaxError",
       "evalue": "invalid syntax (<ipython-input-6-62de80ab92a2>, line 1)",
       "output_type": "pyerr",
       "traceback": [
        "\u001b[0;36m  File \u001b[0;32m\"<ipython-input-6-62de80ab92a2>\"\u001b[0;36m, line \u001b[0;32m1\u001b[0m\n\u001b[0;31m    less J1744-1134.Rcvr1_2.GASP.8y.x.tim\u001b[0m\n\u001b[0m             ^\u001b[0m\n\u001b[0;31mSyntaxError\u001b[0m\u001b[0;31m:\u001b[0m invalid syntax\n"
       ]
      }
     ],
     "prompt_number": 6
    },
    {
     "cell_type": "code",
     "collapsed": false,
     "input": [
      "t = toa.TOAs('J1744-1134.Rcvr1_2.GASP.8y.x.tim')\n",
      "t.summary()"
     ],
     "language": "python",
     "metadata": {},
     "outputs": [
      {
       "metadata": {},
       "output_type": "pyout",
       "prompt_number": 2,
       "text": [
        "\"There are 1 observatories:\\t['GBT']\\nThere are 1462 TOAs\\nThere are 2 commands\\nMin / Max TOA errors:\\t0.146\\t38.831\\tus\\nMean / Median / StDev TOA error:\\t3.34904\\t1.5415\\t4.5334\\tus\\n\""
       ]
      }
     ],
     "prompt_number": 2
    },
    {
     "cell_type": "code",
     "collapsed": false,
     "input": [
      "dir(t)"
     ],
     "language": "python",
     "metadata": {},
     "outputs": [
      {
       "metadata": {},
       "output_type": "pyout",
       "prompt_number": 4,
       "text": [
        "['__add__',\n",
        " '__class__',\n",
        " '__delattr__',\n",
        " '__dict__',\n",
        " '__doc__',\n",
        " '__format__',\n",
        " '__getattribute__',\n",
        " '__hash__',\n",
        " '__init__',\n",
        " '__module__',\n",
        " '__new__',\n",
        " '__reduce__',\n",
        " '__reduce_ex__',\n",
        " '__repr__',\n",
        " '__setattr__',\n",
        " '__sizeof__',\n",
        " '__str__',\n",
        " '__sub__',\n",
        " '__subclasshook__',\n",
        " '__weakref__',\n",
        " 'apply_clock_corrections',\n",
        " 'commands',\n",
        " 'compute_posvels',\n",
        " 'compute_posvels_ld',\n",
        " 'earth_pvs',\n",
        " 'filename',\n",
        " 'freq',\n",
        " 'get_errors',\n",
        " 'get_flags',\n",
        " 'get_freq_array',\n",
        " 'get_freqs',\n",
        " 'get_mjd_longdouble',\n",
        " 'get_mjds',\n",
        " 'get_obss',\n",
        " 'get_tdb_longdouble',\n",
        " 'obs_sun_pvs',\n",
        " 'observatories',\n",
        " 'pickle',\n",
        " 'pvs',\n",
        " 'read_toa_file',\n",
        " 'read_toa_file_table',\n",
        " 'summary',\n",
        " 'table',\n",
        " 'to_table',\n",
        " 'toas']"
       ]
      }
     ],
     "prompt_number": 4
    },
    {
     "cell_type": "code",
     "collapsed": false,
     "input": [
      "for tt in t.toas:\n",
      "    m.solar_system_geometric_delay(tt)"
     ],
     "language": "python",
     "metadata": {},
     "outputs": [
      {
       "ename": "AttributeError",
       "evalue": "'TOA' object has no attribute 'pvs'",
       "output_type": "pyerr",
       "traceback": [
        "\u001b[0;31m---------------------------------------------------------------------------\u001b[0m\n\u001b[0;31mAttributeError\u001b[0m                            Traceback (most recent call last)",
        "\u001b[0;32m<ipython-input-12-483b2f1a1129>\u001b[0m in \u001b[0;36m<module>\u001b[0;34m()\u001b[0m\n\u001b[1;32m      1\u001b[0m \u001b[0;32mfor\u001b[0m \u001b[0mtt\u001b[0m \u001b[0;32min\u001b[0m \u001b[0mt\u001b[0m\u001b[0;34m.\u001b[0m\u001b[0mtoas\u001b[0m\u001b[0;34m:\u001b[0m\u001b[0;34m\u001b[0m\u001b[0m\n\u001b[0;32m----> 2\u001b[0;31m     \u001b[0mm\u001b[0m\u001b[0;34m.\u001b[0m\u001b[0msolar_system_geometric_delay\u001b[0m\u001b[0;34m(\u001b[0m\u001b[0mtt\u001b[0m\u001b[0;34m)\u001b[0m\u001b[0;34m\u001b[0m\u001b[0m\n\u001b[0m",
        "\u001b[0;32m/Users/jingluo/Research_codes/PINT/pint/models/astrometry.pyc\u001b[0m in \u001b[0;36msolar_system_geometric_delay\u001b[0;34m(self, toa)\u001b[0m\n\u001b[1;32m    170\u001b[0m         \"\"\"\n\u001b[1;32m    171\u001b[0m         \u001b[0mL_hat\u001b[0m \u001b[0;34m=\u001b[0m \u001b[0mself\u001b[0m\u001b[0;34m.\u001b[0m\u001b[0mssb_to_psb_xyz\u001b[0m\u001b[0;34m(\u001b[0m\u001b[0mepoch\u001b[0m\u001b[0;34m=\u001b[0m\u001b[0mtoa\u001b[0m\u001b[0;34m.\u001b[0m\u001b[0mmjd\u001b[0m\u001b[0;34m)\u001b[0m\u001b[0;34m\u001b[0m\u001b[0m\n\u001b[0;32m--> 172\u001b[0;31m         \u001b[0mre_dot_L\u001b[0m \u001b[0;34m=\u001b[0m \u001b[0mtoa\u001b[0m\u001b[0;34m.\u001b[0m\u001b[0mpvs\u001b[0m\u001b[0;34m.\u001b[0m\u001b[0mpos\u001b[0m\u001b[0;34m.\u001b[0m\u001b[0mdot\u001b[0m\u001b[0;34m(\u001b[0m\u001b[0mL_hat\u001b[0m\u001b[0;34m)\u001b[0m\u001b[0;34m\u001b[0m\u001b[0m\n\u001b[0m\u001b[1;32m    173\u001b[0m         \u001b[0mdelay\u001b[0m \u001b[0;34m=\u001b[0m \u001b[0;34m-\u001b[0m\u001b[0mre_dot_L\u001b[0m\u001b[0;34m.\u001b[0m\u001b[0mto\u001b[0m\u001b[0;34m(\u001b[0m\u001b[0mls\u001b[0m\u001b[0;34m)\u001b[0m\u001b[0;34m.\u001b[0m\u001b[0mvalue\u001b[0m\u001b[0;34m\u001b[0m\u001b[0m\n\u001b[1;32m    174\u001b[0m         \u001b[0;32mif\u001b[0m \u001b[0mself\u001b[0m\u001b[0;34m.\u001b[0m\u001b[0mPX\u001b[0m\u001b[0;34m.\u001b[0m\u001b[0mvalue\u001b[0m \u001b[0;34m!=\u001b[0m \u001b[0;36m0.0\u001b[0m\u001b[0;34m:\u001b[0m\u001b[0;34m\u001b[0m\u001b[0m\n",
        "\u001b[0;31mAttributeError\u001b[0m: 'TOA' object has no attribute 'pvs'"
       ]
      }
     ],
     "prompt_number": 12
    },
    {
     "cell_type": "code",
     "collapsed": false,
     "input": [
      "dir(t.toas[0])"
     ],
     "language": "python",
     "metadata": {},
     "outputs": [
      {
       "metadata": {},
       "output_type": "pyout",
       "prompt_number": 15,
       "text": [
        "['__class__',\n",
        " '__delattr__',\n",
        " '__dict__',\n",
        " '__doc__',\n",
        " '__format__',\n",
        " '__getattribute__',\n",
        " '__hash__',\n",
        " '__init__',\n",
        " '__module__',\n",
        " '__new__',\n",
        " '__reduce__',\n",
        " '__reduce_ex__',\n",
        " '__repr__',\n",
        " '__setattr__',\n",
        " '__sizeof__',\n",
        " '__str__',\n",
        " '__subclasshook__',\n",
        " '__weakref__',\n",
        " 'error',\n",
        " 'flags',\n",
        " 'freq',\n",
        " 'mjd',\n",
        " 'obs',\n",
        " 'tdblongd']"
       ]
      }
     ],
     "prompt_number": 15
    },
    {
     "cell_type": "code",
     "collapsed": false,
     "input": [],
     "language": "python",
     "metadata": {},
     "outputs": []
    }
   ],
   "metadata": {}
  }
 ]
}