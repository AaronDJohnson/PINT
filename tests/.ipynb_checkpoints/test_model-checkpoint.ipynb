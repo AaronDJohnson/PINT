{
 "metadata": {
  "name": ""
 },
 "nbformat": 3,
 "nbformat_minor": 0,
 "worksheets": [
  {
   "cells": [
    {
     "cell_type": "code",
     "collapsed": false,
     "input": [],
     "language": "python",
     "metadata": {},
     "outputs": [],
     "prompt_number": 12
    },
    {
     "cell_type": "code",
     "collapsed": false,
     "input": [
      "#! /usr/bin/env python\n",
      "import time, sys\n",
      "import pint.models as tm\n",
      "from pint.phase import *\n",
      "from pint import toa\n",
      "import matplotlib.pyplot as plt\n",
      "import numpy\n",
      "\n",
      "m = tm.StandardTimingModel()\n",
      "m.read_parfile('J1744-1134.basic.par')\n",
      "\n",
      "print \"model.as_parfile():\"\n",
      "print m.as_parfile()\n",
      "\n",
      "try:\n",
      "    planet_ephems = m.PLANET_SHAPIRO.value\n",
      "except AttributeError:\n",
      "    planet_ephems = False\n",
      "\n",
      "sys.stderr.write(\"Reading TOAs...\\n\")\n",
      "t0 = time.time()\n",
      "t = toa.TOAs('J1744-1134.Rcvr1_2.GASP.8y.x.tim')\n",
      "t1 = time.time()\n",
      "if not \"clkcorr\" in t.toas[0].flags:\n",
      "    sys.stderr.write(\"Applying clock corrections...\\n\")\n",
      "    t.apply_clock_corrections()\n",
      "t.get_tdb_longdouble()\n",
      "    \n",
      "if not hasattr(t.toas[0], \"pvs\"):\n",
      "    sys.stderr.write(\"Computing observatory positions and velocities...\\n\")\n",
      "    t.compute_posvels(planets=True)\n",
      "    t.compute_posvels_ld(planets=True)\n",
      "    t.get_freq_array()\n",
      "time_toa = time.time() - t0\n",
      "sys.stderr.write(\"Read/corrected TOAs in %.3f sec\\n\" % time_toa)\n",
      "\n",
      "\n",
      "\n",
      "mjds = numpy.array([x.mjd.value for x in t.toas])\n",
      "errs = t.get_errors()\n",
      "resids = numpy.zeros_like(mjds)\n",
      "resids2 = numpy.zeros_like(mjds)\n",
      "resids3 = numpy.zeros_like(mjds)\n",
      "sys.stderr.write(\"Computing residuals...\\n\")\n",
      "t0 = time.time()\n",
      "\n",
      "p = m.phase_ld(t)\n",
      "resids = p.frac\n",
      "\n",
      "p22 = []\n",
      "for ii, tt in enumerate(t.toas):\n",
      "    p2 = m.phase(tt)\n",
      "    p22.append(p2)\n",
      "    resids2[ii] = p2.frac\n",
      "    resids3[ii] = Phase(p[ii]).frac\n",
      "time_phase = time.time() - t0\n",
      "sys.stderr.write(\"Computed phases in %.3f sec\\n\" % time_phase)\n",
      "\n",
      "plt.plot(mjds, resids)\n",
      "plt.xlabel(\"MJDs\")\n",
      "plt.ylabel(\"Residuals (phase)\")\n",
      "plt.show()"
     ],
     "language": "python",
     "metadata": {},
     "outputs": [
      {
       "output_type": "stream",
       "stream": "stderr",
       "text": [
        "/Users/jingluo/Research_codes/PINT/pint/models/timing_model.py:231: UserWarning: Unrecognized parfile line 'START            53216.126'\n",
        "  warn(\"Unrecognized parfile line '%s'\" % l)\n",
        "/Users/jingluo/Research_codes/PINT/pint/models/timing_model.py:231: UserWarning: Unrecognized parfile line 'FINISH           55122.747'\n",
        "  warn(\"Unrecognized parfile line '%s'\" % l)\n",
        "/Users/jingluo/Research_codes/PINT/pint/models/timing_model.py:231: UserWarning: Unrecognized parfile line 'SOLARN0              0.00'\n",
        "  warn(\"Unrecognized parfile line '%s'\" % l)\n",
        "/Users/jingluo/Research_codes/PINT/pint/models/timing_model.py:231: UserWarning: Unrecognized parfile line 'EPHEM             DE405'\n",
        "  warn(\"Unrecognized parfile line '%s'\" % l)\n",
        "/Users/jingluo/Research_codes/PINT/pint/models/timing_model.py:231: UserWarning: Unrecognized parfile line 'CLK               TT(BIPM)'\n",
        "  warn(\"Unrecognized parfile line '%s'\" % l)\n",
        "/Users/jingluo/Research_codes/PINT/pint/models/timing_model.py:231: UserWarning: Unrecognized parfile line 'NTOA                    15'\n",
        "  warn(\"Unrecognized parfile line '%s'\" % l)\n",
        "/Users/jingluo/Research_codes/PINT/pint/models/timing_model.py:231: UserWarning: Unrecognized parfile line 'TRES                  0.62'\n",
        "  warn(\"Unrecognized parfile line '%s'\" % l)\n",
        "/Users/jingluo/Research_codes/PINT/pint/models/timing_model.py:231: UserWarning: Unrecognized parfile line 'TZRFRQ             760.000'\n",
        "  warn(\"Unrecognized parfile line '%s'\" % l)\n",
        "/Users/jingluo/Research_codes/PINT/pint/models/timing_model.py:231: UserWarning: Unrecognized parfile line 'TZRSITE                  1'\n",
        "  warn(\"Unrecognized parfile line '%s'\" % l)\n",
        "/Users/jingluo/Research_codes/PINT/pint/models/timing_model.py:231: UserWarning: Unrecognized parfile line 'NITS                     1'\n",
        "  warn(\"Unrecognized parfile line '%s'\" % l)\n",
        "/Users/jingluo/Research_codes/PINT/pint/models/timing_model.py:231: UserWarning: Unrecognized parfile line 'TEMPO1'\n",
        "  warn(\"Unrecognized parfile line '%s'\" % l)\n",
        "Reading TOAs...\n",
        "Applying clock corrections...\n"
       ]
      },
      {
       "output_type": "stream",
       "stream": "stdout",
       "text": [
        "model.as_parfile():\n",
        "PSR                             1744-1134\n",
        "PLANET_SHAPIRO                          Y\n",
        "DM                                 3.1388\n",
        "F0                    245.426123707467781 1 4.13e-12\n",
        "F1                     -5.38085137486e-16 1 1.28426599777e-20\n",
        "TZRMJD              53694.613541102364010\n",
        "PEPOCH              50434.000000000000000\n",
        "RA                      17:44:29.39171911 1 2.312e-05\n",
        "DEC                    -11:34:54.56715670 1 0.0010157\n",
        "POSEPOCH            50434.000000000000000\n",
        "PMRA                              18.6744 1 0.0308\n",
        "PMDEC                            -10.1488 1 0.0932\n",
        "PX                                 2.9362 1 0.1678\n",
        "\n",
        "INFO"
       ]
      },
      {
       "output_type": "stream",
       "stream": "stdout",
       "text": [
        ": SPICE loaded planetary constants. [pint.spiceutils]\n",
        "INFO: SPICE loaded leap seconds. [pint.spiceutils]\n",
        "INFO: SPICE loaded Earth rotation parameters. [pint.spiceutils]\n",
        "INFO: SPICE loaded DE421 Planetary Ephemeris. [pint.spiceutils]\n",
        "INFO: Loaded ephemeris from /Users/jingluo/Research_codes/PINT/datafiles/de421.bsp [pint.toa]\n",
        "INFO"
       ]
      },
      {
       "output_type": "stream",
       "stream": "stderr",
       "text": [
        "Computing observatory positions and velocities...\n",
        "Read/corrected TOAs in 37.501 sec\n"
       ]
      },
      {
       "output_type": "stream",
       "stream": "stdout",
       "text": [
        ": Loaded ephemeris from /Users/jingluo/Research_codes/PINT/datafiles/de421.bsp [pint.toa]\n",
        "add long double to "
       ]
      },
      {
       "output_type": "stream",
       "stream": "stdout",
       "text": [
        " POSEPOCH 50434.0\n",
        "add long double to "
       ]
      },
      {
       "output_type": "stream",
       "stream": "stdout",
       "text": [
        " POSEPOCH 50434.0\n",
        "add long double to "
       ]
      },
      {
       "output_type": "stream",
       "stream": "stdout",
       "text": [
        " POSEPOCH 50434.0\n",
        "add long double to "
       ]
      },
      {
       "ename": "TypeError",
       "evalue": "unsupported operand type(s) for +: 'numpy.float128' and 'NoneType'",
       "output_type": "pyerr",
       "traceback": [
        "\u001b[0;31m---------------------------------------------------------------------------\u001b[0m\n\u001b[0;31mTypeError\u001b[0m                                 Traceback (most recent call last)",
        "\u001b[0;32m<ipython-input-1-41791447ab08>\u001b[0m in \u001b[0;36m<module>\u001b[0;34m()\u001b[0m\n\u001b[1;32m     45\u001b[0m \u001b[0mt0\u001b[0m \u001b[0;34m=\u001b[0m \u001b[0mtime\u001b[0m\u001b[0;34m.\u001b[0m\u001b[0mtime\u001b[0m\u001b[0;34m(\u001b[0m\u001b[0;34m)\u001b[0m\u001b[0;34m\u001b[0m\u001b[0m\n\u001b[1;32m     46\u001b[0m \u001b[0;34m\u001b[0m\u001b[0m\n\u001b[0;32m---> 47\u001b[0;31m \u001b[0mp\u001b[0m \u001b[0;34m=\u001b[0m \u001b[0mm\u001b[0m\u001b[0;34m.\u001b[0m\u001b[0mphase_ld\u001b[0m\u001b[0;34m(\u001b[0m\u001b[0mt\u001b[0m\u001b[0;34m)\u001b[0m\u001b[0;34m\u001b[0m\u001b[0m\n\u001b[0m\u001b[1;32m     48\u001b[0m \u001b[0mresids\u001b[0m \u001b[0;34m=\u001b[0m \u001b[0mp\u001b[0m\u001b[0;34m.\u001b[0m\u001b[0mfrac\u001b[0m\u001b[0;34m\u001b[0m\u001b[0m\n\u001b[1;32m     49\u001b[0m \u001b[0;34m\u001b[0m\u001b[0m\n",
        "\u001b[0;32m/Users/jingluo/Research_codes/PINT/pint/models/timing_model.pyc\u001b[0m in \u001b[0;36mphase_ld\u001b[0;34m(self, TOAs)\u001b[0m\n\u001b[1;32m    138\u001b[0m         \u001b[0mphase\u001b[0m \u001b[0;34m=\u001b[0m \u001b[0mnp\u001b[0m\u001b[0;34m.\u001b[0m\u001b[0mzeros_like\u001b[0m\u001b[0;34m(\u001b[0m\u001b[0mTOAs\u001b[0m\u001b[0;34m.\u001b[0m\u001b[0mtdbld\u001b[0m\u001b[0;34m)\u001b[0m\u001b[0;34m\u001b[0m\u001b[0m\n\u001b[1;32m    139\u001b[0m         \u001b[0;32mfor\u001b[0m \u001b[0mpf\u001b[0m \u001b[0;32min\u001b[0m \u001b[0mself\u001b[0m\u001b[0;34m.\u001b[0m\u001b[0mphase_funcs_ld\u001b[0m\u001b[0;34m:\u001b[0m\u001b[0;34m\u001b[0m\u001b[0m\n\u001b[0;32m--> 140\u001b[0;31m             \u001b[0mphase\u001b[0m \u001b[0;34m+=\u001b[0m \u001b[0mpf\u001b[0m\u001b[0;34m(\u001b[0m\u001b[0mTOAs\u001b[0m\u001b[0;34m,\u001b[0m\u001b[0mdelay\u001b[0m\u001b[0;34m)\u001b[0m\u001b[0;34m\u001b[0m\u001b[0m\n\u001b[0m\u001b[1;32m    141\u001b[0m \u001b[0;34m\u001b[0m\u001b[0m\n\u001b[1;32m    142\u001b[0m \u001b[0;34m\u001b[0m\u001b[0m\n",
        "\u001b[0;31mTypeError\u001b[0m: unsupported operand type(s) for +: 'numpy.float128' and 'NoneType'"
       ]
      },
      {
       "output_type": "stream",
       "stream": "stdout",
       "text": [
        " TZRMJD 53694.6135411\n",
        "add long double to  PEPOCH 50434.0\n",
        "add long double to  TZRMJD 53694.6135411\n",
        "add long double to  F0 245.426123707468\n",
        "add long double to  F1 -5.38085137486e-16\n"
       ]
      },
      {
       "output_type": "stream",
       "stream": "stderr",
       "text": [
        "Computing residuals...\n"
       ]
      }
     ],
     "prompt_number": 1
    },
    {
     "cell_type": "code",
     "collapsed": false,
     "input": [
      "a= numpy.array([1.2,3.2,4.5])\n",
      "Phase_array(a)"
     ],
     "language": "python",
     "metadata": {},
     "outputs": [],
     "prompt_number": 11
    },
    {
     "cell_type": "code",
     "collapsed": false,
     "input": [],
     "language": "python",
     "metadata": {},
     "outputs": [],
     "prompt_number": 3
    },
    {
     "cell_type": "code",
     "collapsed": false,
     "input": [
      "pp2 = Phase(1.2)\n",
      "pp2"
     ],
     "language": "python",
     "metadata": {},
     "outputs": [
      {
       "ename": "TypeError",
       "evalue": "super(type, obj): obj must be an instance or subtype of type",
       "output_type": "pyerr",
       "traceback": [
        "\u001b[0;31m---------------------------------------------------------------------------\u001b[0m\n\u001b[0;31mTypeError\u001b[0m                                 Traceback (most recent call last)",
        "\u001b[0;32m<ipython-input-12-999dc0a44d00>\u001b[0m in \u001b[0;36m<module>\u001b[0;34m()\u001b[0m\n\u001b[0;32m----> 1\u001b[0;31m \u001b[0mpp2\u001b[0m \u001b[0;34m=\u001b[0m \u001b[0mPhase\u001b[0m\u001b[0;34m(\u001b[0m\u001b[0;36m1.2\u001b[0m\u001b[0;34m)\u001b[0m\u001b[0;34m\u001b[0m\u001b[0m\n\u001b[0m\u001b[1;32m      2\u001b[0m \u001b[0mpp2\u001b[0m\u001b[0;34m\u001b[0m\u001b[0m\n",
        "\u001b[0;32m/Users/jingluo/Research_codes/PINT/pint/phase.py\u001b[0m in \u001b[0;36m__new__\u001b[0;34m(cls, arg1, arg2)\u001b[0m\n\u001b[1;32m     44\u001b[0m             \u001b[0mff\u001b[0m \u001b[0;34m-=\u001b[0m \u001b[0;36m1.0\u001b[0m\u001b[0;34m\u001b[0m\u001b[0m\n\u001b[1;32m     45\u001b[0m             \u001b[0mii\u001b[0m \u001b[0;34m+=\u001b[0m \u001b[0;36m1\u001b[0m\u001b[0;34m\u001b[0m\u001b[0m\n\u001b[0;32m---> 46\u001b[0;31m         \u001b[0;32mreturn\u001b[0m \u001b[0msuper\u001b[0m\u001b[0;34m(\u001b[0m\u001b[0mPhase\u001b[0m\u001b[0;34m,\u001b[0m \u001b[0mcls\u001b[0m\u001b[0;34m)\u001b[0m\u001b[0;34m.\u001b[0m\u001b[0m__new__\u001b[0m\u001b[0;34m(\u001b[0m\u001b[0mcls\u001b[0m\u001b[0;34m,\u001b[0m \u001b[0mii\u001b[0m\u001b[0;34m,\u001b[0m \u001b[0mff\u001b[0m\u001b[0;34m)\u001b[0m\u001b[0;34m\u001b[0m\u001b[0m\n\u001b[0m\u001b[1;32m     47\u001b[0m \u001b[0;34m\u001b[0m\u001b[0m\n\u001b[1;32m     48\u001b[0m     \u001b[0;32mdef\u001b[0m \u001b[0m__neg__\u001b[0m\u001b[0;34m(\u001b[0m\u001b[0mself\u001b[0m\u001b[0;34m)\u001b[0m\u001b[0;34m:\u001b[0m\u001b[0;34m\u001b[0m\u001b[0m\n",
        "\u001b[0;31mTypeError\u001b[0m: super(type, obj): obj must be an instance or subtype of type"
       ]
      }
     ],
     "prompt_number": 12
    },
    {
     "cell_type": "code",
     "collapsed": false,
     "input": [
      "phase2 = (m.F0.longd_value + 0.5*m.F1.longd_value*(m.dt_ld[0]-2.0*m.dt_pepoch_ld))*m.dt_ld[0]\n",
      "phase2"
     ],
     "language": "python",
     "metadata": {},
     "outputs": [
      {
       "output_type": "stream",
       "stream": "stdout",
       "text": [
        "add long double to  F0 245.426123707\n",
        "add long double to  F1 -5.38085137486e-16\n"
       ]
      },
      {
       "metadata": {},
       "output_type": "pyout",
       "prompt_number": 10,
       "text": [
        "-10146134521.172994546"
       ]
      }
     ],
     "prompt_number": 10
    },
    {
     "cell_type": "code",
     "collapsed": false,
     "input": [
      "numpy.modf(phase2)"
     ],
     "language": "python",
     "metadata": {},
     "outputs": [
      {
       "metadata": {},
       "output_type": "pyout",
       "prompt_number": 11,
       "text": [
        "(-0.17299454566091299057, -10146134521.0)"
       ]
      }
     ],
     "prompt_number": 11
    },
    {
     "cell_type": "code",
     "collapsed": false,
     "input": [
      "plt.plot(mjds,resids2-resids[0])"
     ],
     "language": "python",
     "metadata": {},
     "outputs": [
      {
       "metadata": {},
       "output_type": "pyout",
       "prompt_number": 18,
       "text": [
        "[<matplotlib.lines.Line2D at 0x105e5ccd0>]"
       ]
      },
      {
       "metadata": {},
       "output_type": "display_data",
       "png": "[encoded data removed]",
       "text": [
        "<matplotlib.figure.Figure at 0x10d002950>"
       ]
      }
     ],
     "prompt_number": 18
    },
    {
     "cell_type": "code",
     "collapsed": false,
     "input": [
      "a= (0.5*m.F1.value*(m.dt-2.0*m.dt_pepoch[0])+m.F0.value)*m.dt \n",
      "b = (0.5*m.F1.longd_value*(m.dt_ld-2.0*m.dt_pepoch_ld)+m.F0.longd_value)*m.dt_ld\n",
      "c = modf(a)[0]\n",
      "d = modf(b)[0]\n",
      "plt.plot(mjds,c-d)"
     ],
     "language": "python",
     "metadata": {},
     "outputs": [
      {
       "output_type": "stream",
       "stream": "stdout",
       "text": [
        "add long double to  F1 -5.38085137486e-16\n",
        "add long double to  F0 245.426123707\n"
       ]
      },
      {
       "metadata": {},
       "output_type": "pyout",
       "prompt_number": 26,
       "text": [
        "[<matplotlib.lines.Line2D at 0x10dc5ad90>]"
       ]
      },
      {
       "metadata": {},
       "output_type": "display_data",
       "png": "[encoded data removed]",
       "text": [
        "<matplotlib.figure.Figure at 0x10db32250>"
       ]
      }
     ],
     "prompt_number": 26
    },
    {
     "cell_type": "code",
     "collapsed": false,
     "input": [
      "rr = numpy.zeros_like(t.tdbld)\n",
      "for ii,pp in enumerate(a):\n",
      "    rr[ii] = Phase(pp).frac"
     ],
     "language": "python",
     "metadata": {},
     "outputs": [],
     "prompt_number": 33
    },
    {
     "cell_type": "code",
     "collapsed": false,
     "input": [
      "numpy.nonzero(c-rr)"
     ],
     "language": "python",
     "metadata": {},
     "outputs": [
      {
       "metadata": {},
       "output_type": "pyout",
       "prompt_number": 36,
       "text": [
        "(array([  41,   42,   43,   44,   45,   46,   47,   48,   49,   50,   51,\n",
        "         52,   53,   54,   55,   56,   57,   58,   59,   60,   61,   62,\n",
        "         63,   64,   65,   66,   67,   68,   69,   70,   71,   72,   73,\n",
        "         74,   75,   76,   77,   78,   79,   80,   81,   82,  208,  209,\n",
        "        210,  211,  212,  213,  214,  215,  216,  217,  218,  219,  220,\n",
        "        221,  222,  223,  224,  225,  226,  227,  228,  229,  230,  231,\n",
        "        256,  257,  258,  259,  260,  261,  262,  263,  264,  265,  266,\n",
        "        267,  268,  269,  270,  271,  272,  273,  274,  275,  276,  277,\n",
        "        278,  279,  280,  281,  282,  283,  284,  285,  286,  287,  288,\n",
        "        289,  290,  291,  292,  293,  294,  295,  296,  297,  298,  299,\n",
        "        300,  301,  302,  303,  341,  342,  343,  344,  345,  346,  347,\n",
        "        348,  349,  350,  351,  352,  393,  394,  395,  396,  397,  563,\n",
        "        564,  565,  566,  567,  568,  569,  570,  571,  572,  573,  574,\n",
        "        575,  576,  577,  578,  579,  580,  581,  582,  583,  584,  585,\n",
        "        586,  700,  701,  702,  703,  704,  705,  706,  707,  708,  709,\n",
        "        710,  711,  712,  713,  714,  715,  716,  717,  718,  719,  720,\n",
        "        721,  722,  723,  751,  752,  753,  754,  755,  756,  757,  758,\n",
        "        759,  760,  761,  762,  763,  764,  765,  766,  767,  768,  769,\n",
        "        770,  771,  772,  773,  774,  775,  776,  777,  778,  779,  780,\n",
        "        781,  782,  783,  784,  785,  786,  835,  836,  837,  838,  839,\n",
        "        840,  841,  842,  843,  844,  845,  846,  847,  848,  849,  850,\n",
        "        851,  852,  853,  854,  855,  856,  857,  858,  907,  908,  909,\n",
        "        910,  911,  912,  913,  914,  915,  916,  917,  918,  919,  920,\n",
        "        921,  922,  923,  924,  925,  926,  927,  928,  929,  930,  955,\n",
        "        956,  957,  958,  959,  960,  961,  962,  963,  964,  965,  966,\n",
        "        967,  968,  969,  970,  971,  972,  973,  974,  975,  976,  977,\n",
        "        978,  979,  980,  981,  982,  983,  984,  985,  986,  987,  988,\n",
        "        989,  990,  991,  992,  993,  994,  995,  996,  997,  998,  999,\n",
        "       1000, 1001, 1002, 1003, 1004, 1005, 1006, 1007, 1008, 1009, 1010,\n",
        "       1055, 1056, 1057, 1058, 1059, 1060, 1061, 1062, 1063, 1064, 1065,\n",
        "       1066, 1067, 1068, 1069, 1070, 1071, 1072, 1073, 1074, 1075, 1076,\n",
        "       1094, 1095, 1096, 1097, 1098, 1099, 1100, 1101, 1102, 1103, 1104,\n",
        "       1105, 1106, 1107, 1108, 1109, 1110, 1111, 1112, 1113, 1114, 1115,\n",
        "       1116, 1117, 1118, 1119, 1120, 1121, 1122, 1123, 1124, 1125, 1126,\n",
        "       1127, 1128, 1129, 1130, 1131, 1132, 1133, 1134, 1135, 1136, 1137,\n",
        "       1193, 1194, 1195, 1196, 1197, 1198, 1199, 1200, 1201, 1202, 1203,\n",
        "       1204, 1205, 1206, 1207, 1208, 1209, 1210, 1211, 1212, 1213, 1214,\n",
        "       1292, 1293, 1294, 1295, 1296, 1297, 1298, 1299, 1300, 1301, 1302,\n",
        "       1303, 1304, 1305, 1306, 1307, 1308, 1309, 1310, 1311, 1312, 1313,\n",
        "       1389, 1390, 1391, 1392, 1393, 1394, 1395, 1396, 1397, 1398, 1399,\n",
        "       1400, 1401, 1402, 1403, 1404, 1405, 1406, 1407, 1408, 1409, 1410,\n",
        "       1411, 1412, 1413, 1414, 1415, 1416, 1417, 1418, 1419, 1420, 1421]),)"
       ]
      }
     ],
     "prompt_number": 36
    },
    {
     "cell_type": "code",
     "collapsed": false,
     "input": [
      "Phase(a)"
     ],
     "language": "python",
     "metadata": {},
     "outputs": [
      {
       "ename": "TypeError",
       "evalue": "only length-1 arrays can be converted to Python scalars",
       "output_type": "pyerr",
       "traceback": [
        "\u001b[0;31m---------------------------------------------------------------------------\u001b[0m\n\u001b[0;31mTypeError\u001b[0m                                 Traceback (most recent call last)",
        "\u001b[0;32m<ipython-input-52-7df206bb93dd>\u001b[0m in \u001b[0;36m<module>\u001b[0;34m()\u001b[0m\n\u001b[0;32m----> 1\u001b[0;31m \u001b[0mPhase\u001b[0m\u001b[0;34m(\u001b[0m\u001b[0ma\u001b[0m\u001b[0;34m)\u001b[0m\u001b[0;34m\u001b[0m\u001b[0m\n\u001b[0m",
        "\u001b[0;32m/Users/jingluo/Research_codes/PINT/pint/phase.pyc\u001b[0m in \u001b[0;36m__new__\u001b[0;34m(cls, arg1, arg2)\u001b[0m\n\u001b[1;32m     33\u001b[0m         \u001b[0;31m# case to parse strings as input.\u001b[0m\u001b[0;34m\u001b[0m\u001b[0;34m\u001b[0m\u001b[0m\n\u001b[1;32m     34\u001b[0m         \u001b[0;32mif\u001b[0m \u001b[0marg2\u001b[0m \u001b[0;32mis\u001b[0m \u001b[0mNone\u001b[0m\u001b[0;34m:\u001b[0m\u001b[0;34m\u001b[0m\u001b[0m\n\u001b[0;32m---> 35\u001b[0;31m             \u001b[0mii\u001b[0m \u001b[0;34m=\u001b[0m \u001b[0mint\u001b[0m\u001b[0;34m(\u001b[0m\u001b[0marg1\u001b[0m\u001b[0;34m)\u001b[0m\u001b[0;34m\u001b[0m\u001b[0m\n\u001b[0m\u001b[1;32m     36\u001b[0m             \u001b[0mff\u001b[0m \u001b[0;34m=\u001b[0m \u001b[0mfloat\u001b[0m\u001b[0;34m(\u001b[0m\u001b[0marg1\u001b[0m \u001b[0;34m-\u001b[0m \u001b[0mii\u001b[0m\u001b[0;34m)\u001b[0m\u001b[0;34m\u001b[0m\u001b[0m\n\u001b[1;32m     37\u001b[0m         \u001b[0;32melse\u001b[0m\u001b[0;34m:\u001b[0m\u001b[0;34m\u001b[0m\u001b[0m\n",
        "\u001b[0;31mTypeError\u001b[0m: only length-1 arrays can be converted to Python scalars"
       ]
      }
     ],
     "prompt_number": 52
    },
    {
     "cell_type": "code",
     "collapsed": false,
     "input": [
      "rr[41]"
     ],
     "language": "python",
     "metadata": {},
     "outputs": [
      {
       "metadata": {},
       "output_type": "pyout",
       "prompt_number": 40,
       "text": [
        "0.35330211836844682693"
       ]
      }
     ],
     "prompt_number": 40
    },
    {
     "cell_type": "code",
     "collapsed": false,
     "input": [
      "a[41]"
     ],
     "language": "python",
     "metadata": {},
     "outputs": [
      {
       "metadata": {},
       "output_type": "pyout",
       "prompt_number": 39,
       "text": [
        "-9064342168.6466978816"
       ]
      }
     ],
     "prompt_number": 39
    },
    {
     "cell_type": "code",
     "collapsed": false,
     "input": [
      "Phase(a[41])"
     ],
     "language": "python",
     "metadata": {},
     "outputs": [
      {
       "metadata": {},
       "output_type": "pyout",
       "prompt_number": 41,
       "text": [
        "Phase(int=-9064342169, frac=0.3533021183684468)"
       ]
      }
     ],
     "prompt_number": 41
    },
    {
     "cell_type": "code",
     "collapsed": false,
     "input": [
      "b = (numpy.longdouble(t.toas[0].mjd.tdb.jd1)+numpy.longdouble(t.toas[0].mjd.tdb.jd2)-numpy.longdouble(2400000.5))\\\n",
      " *u.day-(delay2[0]*u.s).to(u.day)\n",
      "b.value"
     ],
     "language": "python",
     "metadata": {},
     "outputs": [
      {
       "metadata": {},
       "output_type": "pyout",
       "prompt_number": 39,
       "text": [
        "53216.131754036355304"
       ]
      }
     ],
     "prompt_number": 39
    },
    {
     "cell_type": "code",
     "collapsed": false,
     "input": [
      "c = t.tdbld[0]*u.day-(delay1[0]*u.s).to(u.day)\n",
      "c.value"
     ],
     "language": "python",
     "metadata": {},
     "outputs": [
      {
       "metadata": {},
       "output_type": "pyout",
       "prompt_number": 33,
       "text": [
        "53216.131754036361251"
       ]
      }
     ],
     "prompt_number": 33
    },
    {
     "cell_type": "code",
     "collapsed": false,
     "input": [
      "tdbld2 = numpy.zeros_like(t.tdbld)\n",
      "for ii,tt in enumerate(t.toas):\n",
      "    tdbld2[ii] = (numpy.longdouble(tt.mjd.tdb.jd1)-numpy.longdouble(2400000.5)+numpy.longdouble(tt.mjd.tdb.jd2))    "
     ],
     "language": "python",
     "metadata": {},
     "outputs": [],
     "prompt_number": 23
    },
    {
     "cell_type": "code",
     "collapsed": false,
     "input": [
      "import mpmath as mp\n",
      "mp.mp.dps = 40\n",
      "tdbld3 = []\n",
      "for ii,tt in enumerate(t.toas):\n",
      "    tdbld3.append(mp.mpf(tt.mjd.tdb.jd1)+mp.mpf(tt.mjd.tdb.jd2)-mp.mpf(2400000.5))"
     ],
     "language": "python",
     "metadata": {},
     "outputs": [],
     "prompt_number": 19
    },
    {
     "cell_type": "code",
     "collapsed": false,
     "input": [
      "plt.plot(mjds,t.tdbld-tdbld2)"
     ],
     "language": "python",
     "metadata": {},
     "outputs": [
      {
       "metadata": {},
       "output_type": "pyout",
       "prompt_number": 26,
       "text": [
        "[<matplotlib.lines.Line2D at 0x10a96c3d0>]"
       ]
      },
      {
       "metadata": {},
       "output_type": "display_data",
       "png": "[encoded data removed]",
       "text": [
        "<matplotlib.figure.Figure at 0x10d544410>"
       ]
      }
     ],
     "prompt_number": 26
    },
    {
     "cell_type": "code",
     "collapsed": false,
     "input": [
      "tdbld2[0]"
     ],
     "language": "python",
     "metadata": {},
     "outputs": [
      {
       "metadata": {},
       "output_type": "pyout",
       "prompt_number": 25,
       "text": [
        "53216.127424125752043"
       ]
      }
     ],
     "prompt_number": 25
    },
    {
     "cell_type": "code",
     "collapsed": false,
     "input": [
      "delay2 = numpy.zeros_like(mjds)\n",
      "for ii,tt in enumerate(t.toas):\n",
      "    delay2[ii] = m.delay(tt)"
     ],
     "language": "python",
     "metadata": {},
     "outputs": [],
     "prompt_number": 14
    },
    {
     "cell_type": "code",
     "collapsed": false,
     "input": [
      "delay2.max()"
     ],
     "language": "python",
     "metadata": {},
     "outputs": [
      {
       "metadata": {},
       "output_type": "pyout",
       "prompt_number": 19,
       "text": [
        "482.08951066612616"
       ]
      }
     ],
     "prompt_number": 19
    },
    {
     "cell_type": "code",
     "collapsed": false,
     "input": [
      "delay = m.delay_ld_array(t)"
     ],
     "language": "python",
     "metadata": {},
     "outputs": [
      {
       "output_type": "stream",
       "stream": "stdout",
       "text": [
        "add long double to  POSEPOCH 50434.0\n",
        "add long double to "
       ]
      },
      {
       "output_type": "stream",
       "stream": "stdout",
       "text": [
        " POSEPOCH 50434.0\n",
        "add long double to "
       ]
      },
      {
       "output_type": "stream",
       "stream": "stdout",
       "text": [
        " POSEPOCH 50434.0\n"
       ]
      }
     ],
     "prompt_number": 16
    },
    {
     "cell_type": "code",
     "collapsed": false,
     "input": [
      "plt.plot(mjds,delay-delay2)"
     ],
     "language": "python",
     "metadata": {},
     "outputs": [
      {
       "metadata": {},
       "output_type": "pyout",
       "prompt_number": 18,
       "text": [
        "[<matplotlib.lines.Line2D at 0x10cde8450>]"
       ]
      },
      {
       "metadata": {},
       "output_type": "display_data",
       "png": "[encoded data removed]",
       "text": [
        "<matplotlib.figure.Figure at 0x10def9c50>"
       ]
      }
     ],
     "prompt_number": 18
    },
    {
     "cell_type": "code",
     "collapsed": false,
     "input": [
      "p[0]"
     ],
     "language": "python",
     "metadata": {},
     "outputs": [
      {
       "metadata": {},
       "output_type": "pyout",
       "prompt_number": 25,
       "text": [
        "-10146134521.172869649"
       ]
      }
     ],
     "prompt_number": 25
    },
    {
     "cell_type": "code",
     "collapsed": false,
     "input": [
      "dt = numpy.longdouble(100.1234567891011121314)\n",
      "PMRA = 12134.0032\n",
      "DEC = 30.92232\n",
      "dRA = (dt*u.day * PMRA * (u.mas/u.yr)/numpy.cos(DEC)).to(u.mas)"
     ],
     "language": "python",
     "metadata": {},
     "outputs": [],
     "prompt_number": 29
    },
    {
     "cell_type": "code",
     "collapsed": false,
     "input": [
      "(356*u.day*1*(u.mas/u.yr)).to(u.mas).value"
     ],
     "language": "python",
     "metadata": {},
     "outputs": [
      {
       "metadata": {},
       "output_type": "pyout",
       "prompt_number": 8,
       "text": [
        "0.974674880219028"
       ]
      }
     ],
     "prompt_number": 8
    },
    {
     "cell_type": "code",
     "collapsed": false,
     "input": [
      "import time"
     ],
     "language": "python",
     "metadata": {},
     "outputs": [],
     "prompt_number": 1
    },
    {
     "cell_type": "code",
     "collapsed": false,
     "input": [
      "time.time()"
     ],
     "language": "python",
     "metadata": {},
     "outputs": [
      {
       "metadata": {},
       "output_type": "pyout",
       "prompt_number": 6,
       "text": [
        "1396825939.374869"
       ]
      }
     ],
     "prompt_number": 6
    },
    {
     "cell_type": "code",
     "collapsed": false,
     "input": [
      "mmm = numpy.array([1.0,2.0,3.0,4.0])"
     ],
     "language": "python",
     "metadata": {},
     "outputs": [],
     "prompt_number": 27
    },
    {
     "cell_type": "code",
     "collapsed": false,
     "input": [
      "numpy.cos(1.333)"
     ],
     "language": "python",
     "metadata": {},
     "outputs": [
      {
       "metadata": {},
       "output_type": "pyout",
       "prompt_number": 24,
       "text": [
        "0.23556153952869024"
       ]
      }
     ],
     "prompt_number": 24
    },
    {
     "cell_type": "code",
     "collapsed": false,
     "input": [
      "mmm += numpy.cos(1.444)"
     ],
     "language": "python",
     "metadata": {},
     "outputs": [],
     "prompt_number": 28
    },
    {
     "cell_type": "code",
     "collapsed": false,
     "input": [
      "mmm"
     ],
     "language": "python",
     "metadata": {},
     "outputs": [
      {
       "metadata": {},
       "output_type": "pyout",
       "prompt_number": 29,
       "text": [
        "array([ 1.12645684,  2.12645684,  3.12645684,  4.12645684])"
       ]
      }
     ],
     "prompt_number": 29
    },
    {
     "cell_type": "code",
     "collapsed": false,
     "input": [
      "import astropy.coordinates as coords\n",
      "import astropy.units as u"
     ],
     "language": "python",
     "metadata": {},
     "outputs": [],
     "prompt_number": 9
    },
    {
     "cell_type": "code",
     "collapsed": false,
     "input": [
      "coords.ICRS(ra=[0,]*u.mas, dec=[200,]*u.mas).cartesian"
     ],
     "language": "python",
     "metadata": {},
     "outputs": [
      {
       "metadata": {},
       "output_type": "pyout",
       "prompt_number": 12,
       "text": [
        "<CartesianPoints [[  1.00000000e+00],\n",
        "                  [  0.00000000e+00],\n",
        "                  [  9.69627362e-07]]>"
       ]
      }
     ],
     "prompt_number": 12
    },
    {
     "cell_type": "code",
     "collapsed": false,
     "input": [
      "import spice\n",
      "a = [0.00,1.00,2.00]\n",
      "spice.spkezr(\"EARTH\",float(a),\"J2000\",\"NONE\",\"SUN\")"
     ],
     "language": "python",
     "metadata": {},
     "outputs": [
      {
       "ename": "TypeError",
       "evalue": "float() argument must be a string or a number",
       "output_type": "pyerr",
       "traceback": [
        "\u001b[0;31m---------------------------------------------------------------------------\u001b[0m\n\u001b[0;31mTypeError\u001b[0m                                 Traceback (most recent call last)",
        "\u001b[0;32m<ipython-input-19-ce3db212fbb0>\u001b[0m in \u001b[0;36m<module>\u001b[0;34m()\u001b[0m\n\u001b[1;32m      1\u001b[0m \u001b[0;32mimport\u001b[0m \u001b[0mspice\u001b[0m\u001b[0;34m\u001b[0m\u001b[0m\n\u001b[1;32m      2\u001b[0m \u001b[0ma\u001b[0m \u001b[0;34m=\u001b[0m \u001b[0;34m[\u001b[0m\u001b[0;36m0.00\u001b[0m\u001b[0;34m,\u001b[0m\u001b[0;36m1.00\u001b[0m\u001b[0;34m,\u001b[0m\u001b[0;36m2.00\u001b[0m\u001b[0;34m]\u001b[0m\u001b[0;34m\u001b[0m\u001b[0m\n\u001b[0;32m----> 3\u001b[0;31m \u001b[0mspice\u001b[0m\u001b[0;34m.\u001b[0m\u001b[0mspkezr\u001b[0m\u001b[0;34m(\u001b[0m\u001b[0;34m\"EARTH\"\u001b[0m\u001b[0;34m,\u001b[0m\u001b[0mfloat\u001b[0m\u001b[0;34m(\u001b[0m\u001b[0ma\u001b[0m\u001b[0;34m)\u001b[0m\u001b[0;34m,\u001b[0m\u001b[0;34m\"J2000\"\u001b[0m\u001b[0;34m,\u001b[0m\u001b[0;34m\"NONE\"\u001b[0m\u001b[0;34m,\u001b[0m\u001b[0;34m\"SUN\"\u001b[0m\u001b[0;34m)\u001b[0m\u001b[0;34m\u001b[0m\u001b[0m\n\u001b[0m",
        "\u001b[0;31mTypeError\u001b[0m: float() argument must be a string or a number"
       ]
      }
     ],
     "prompt_number": 19
    },
    {
     "cell_type": "code",
     "collapsed": false,
     "input": [
      "from pint.models.timing_model import TimingModel, generate_timing_model\n",
      "from pint.models.astrometry import Astrometry\n",
      "from pint.models.spindown import Spindown"
     ],
     "language": "python",
     "metadata": {},
     "outputs": [],
     "prompt_number": 2
    },
    {
     "cell_type": "code",
     "collapsed": false,
     "input": [
      "mydd = type(\"my\",(Astrometry,Spindown),dict(a=1))\n"
     ],
     "language": "python",
     "metadata": {},
     "outputs": [],
     "prompt_number": 9
    },
    {
     "cell_type": "code",
     "collapsed": false,
     "input": [
      "a1 = np.array([1.0,2.0,3.0])\n",
      "a2 = np.array([2.0,3.0,4.0])\n",
      "a1/a2"
     ],
     "language": "python",
     "metadata": {},
     "outputs": [
      {
       "metadata": {},
       "output_type": "pyout",
       "prompt_number": 49,
       "text": [
        "array([ 0.5       ,  0.66666667,  0.75      ])"
       ]
      }
     ],
     "prompt_number": 49
    },
    {
     "cell_type": "code",
     "collapsed": false,
     "input": [
      "plt.plot(mjds,resids2-resids[0])"
     ],
     "language": "python",
     "metadata": {},
     "outputs": [
      {
       "metadata": {},
       "output_type": "pyout",
       "prompt_number": 22,
       "text": [
        "[<matplotlib.lines.Line2D at 0x10b2752d0>]"
       ]
      },
      {
       "metadata": {},
       "output_type": "display_data",
       "png": "[encoded data removed]",
       "text": [
        "<matplotlib.figure.Figure at 0x10a349d10>"
       ]
      }
     ],
     "prompt_number": 22
    },
    {
     "cell_type": "code",
     "collapsed": false,
     "input": [
      "mm,ff = numpy.modf(a1)\n",
      "ff"
     ],
     "language": "python",
     "metadata": {},
     "outputs": [
      {
       "metadata": {},
       "output_type": "pyout",
       "prompt_number": 55,
       "text": [
        "array([ 1.,  2.,  3.])"
       ]
      }
     ],
     "prompt_number": 55
    },
    {
     "cell_type": "code",
     "collapsed": false,
     "input": [
      "numpy.__version__"
     ],
     "language": "python",
     "metadata": {},
     "outputs": [
      {
       "metadata": {},
       "output_type": "pyout",
       "prompt_number": 46,
       "text": [
        "'1.7.1'"
       ]
      }
     ],
     "prompt_number": 46
    },
    {
     "cell_type": "code",
     "collapsed": false,
     "input": [],
     "language": "python",
     "metadata": {},
     "outputs": []
    }
   ],
   "metadata": {}
  }
 ]
}