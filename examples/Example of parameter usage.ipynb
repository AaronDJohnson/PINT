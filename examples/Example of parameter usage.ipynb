{
 "metadata": {
  "name": ""
 },
 "nbformat": 3,
 "nbformat_minor": 0,
 "worksheets": [
  {
   "cells": [
    {
     "cell_type": "heading",
     "level": 1,
     "metadata": {},
     "source": [
      "Example of parameter usage"
     ]
    },
    {
     "cell_type": "code",
     "collapsed": false,
     "input": [
      "import pint.models.model_builder as mb\n",
      "import pint.models.parameter as p\n",
      "import astropy.units as u"
     ],
     "language": "python",
     "metadata": {},
     "outputs": [],
     "prompt_number": 1
    },
    {
     "cell_type": "code",
     "collapsed": false,
     "input": [
      "model = mb.get_model('../tests/datafile/B1855+09_NANOGrav_dfg+12_TAI.par')"
     ],
     "language": "python",
     "metadata": {},
     "outputs": [
      {
       "output_type": "stream",
       "stream": "stderr",
       "text": [
        "WARNING: Unrecognized parfile line 'DMEPOCH        49453' [pint.models.timing_model]\n",
        "WARNING: Unrecognized parfile line 'EPHVER         5' [pint.models.timing_model]\n",
        "WARNING"
       ]
      },
      {
       "output_type": "stream",
       "stream": "stderr",
       "text": [
        ": Unrecognized parfile line 'MODE 1' [pint.models.timing_model]\n",
        "WARNING: Unrecognized parfile line 'T2CMETHOD      TEMPO' [pint.models.timing_model]\n",
        "WARNING: Unrecognized parfile line 'NE_SW          0.000' [pint.models.timing_model]\n",
        "WARNING: Unrecognized parfile line 'CHI2R          2.1896 637' [pint.models.timing_model]\n"
       ]
      }
     ],
     "prompt_number": 2
    },
    {
     "cell_type": "code",
     "collapsed": false,
     "input": [
      "print model.params"
     ],
     "language": "python",
     "metadata": {},
     "outputs": [
      {
       "output_type": "stream",
       "stream": "stdout",
       "text": [
        "['PSR', 'F0', 'F1', 'TZRMJD', 'PEPOCH', 'RAJ', 'DECJ', 'POSEPOCH', 'PMRA', 'PMDEC', 'PX', 'PLANET_SHAPIRO', 'DM', 'DMX', 'DMX_0001', 'DMXR1_0001', 'DMXR2_0001', 'PB', 'PBDOT', 'XPBDOT', 'A1', 'A1DOT', 'ECC', 'EDOT', 'T0', 'OM', 'OMDOT', 'M2', 'A0', 'B0', 'GAMMA', 'DR', 'DTH', 'SINI', 'JUMP1', 'DMXR2_0022', 'DMXR2_0023', 'DMXR2_0020', 'DMXR2_0021', 'DMXR2_0026', 'DMXR2_0027', 'DMXR2_0024', 'DMXR2_0025', 'DMXR2_0028', 'DMXR2_0029', 'DMXR2_0030', 'DMXR2_0004', 'DMXR2_0005', 'DMXR2_0006', 'DMXR2_0007', 'DMXR2_0002', 'DMXR2_0003', 'DMXR2_0008', 'DMXR2_0009', 'DMXR2_0019', 'DMXR2_0018', 'DMXR2_0013', 'DMXR2_0012', 'DMXR2_0011', 'DMXR2_0010', 'DMXR2_0017', 'DMXR2_0016', 'DMXR2_0015', 'DMXR2_0014', 'DMXR1_0003', 'DMXR1_0018', 'DMXR1_0019', 'DMXR1_0016', 'DMXR1_0017', 'DMXR1_0014', 'DMXR1_0015', 'DMXR1_0012', 'DMXR1_0013', 'DMXR1_0010', 'DMXR1_0011', 'DMXR1_0009', 'DMXR1_0008', 'DMXR1_0005', 'DMXR1_0004', 'DMXR1_0007', 'DMXR1_0006', 'DMXR1_0002', 'DMXR1_0030', 'DMXR1_0029', 'DMXR1_0027', 'DMXR1_0026', 'DMXR1_0025', 'DMXR1_0024', 'DMXR1_0023', 'DMXR1_0022', 'DMXR1_0021', 'DMXR1_0020', 'DMXR1_0028', 'DMX_0009', 'DMX_0020', 'DMX_0021', 'DMX_0022', 'DMX_0023', 'DMX_0024', 'DMX_0025', 'DMX_0026', 'DMX_0027', 'DMX_0028', 'DMX_0029', 'DMX_0030', 'DMX_0006', 'DMX_0007', 'DMX_0004', 'DMX_0005', 'DMX_0008', 'DMX_0019', 'DMX_0018', 'DMX_0011', 'DMX_0010', 'DMX_0013', 'DMX_0012', 'DMX_0015', 'DMX_0014', 'DMX_0017', 'DMX_0016', 'DMX_0002', 'DMX_0003', 'JUMP9', 'JUMP3', 'JUMP2', 'JUMP5', 'JUMP4', 'JUMP7', 'JUMP6', 'JUMP11', 'JUMP10', 'JUMP13', 'JUMP12', 'JUMP15', 'JUMP14', 'JUMP17', 'JUMP16', 'JUMP19', 'JUMP18', 'JUMP8', 'JUMP20', 'JUMP21']\n"
       ]
      }
     ],
     "prompt_number": 3
    },
    {
     "cell_type": "heading",
     "level": 2,
     "metadata": {},
     "source": [
      "Attributions in Parameters"
     ]
    },
    {
     "cell_type": "code",
     "collapsed": false,
     "input": [
      "\n",
      "printed = []\n",
      "for p in model.params:\n",
      "    par = getattr(model, p)\n",
      "    if type(par) in printed:\n",
      "        continue\n",
      "    print 'Name           ', par.name\n",
      "    print 'Type           ', type(par)\n",
      "    print 'Quantity       ', par.quantity, type(par.quantity)\n",
      "    print 'Value          ', par.value\n",
      "    print 'units          ', par.units\n",
      "    print 'Uncertainty    ', par.uncertainty\n",
      "    print 'num_Uncertainty', par.num_uncertainty\n",
      "    print 'Summary        ', par\n",
      "    print '\\n'\n",
      "    printed.append(type(par))"
     ],
     "language": "python",
     "metadata": {},
     "outputs": [
      {
       "output_type": "stream",
       "stream": "stdout",
       "text": [
        "Name            PSR\n",
        "Type            <class 'pint.models.parameter.strParameter'>\n",
        "Quantity        1855+09 <type 'str'>\n",
        "Value           1855+09\n",
        "units           None\n",
        "Uncertainty     None\n",
        "num_Uncertainty None\n",
        "Summary         PSR 1855+09\n",
        "\n",
        "\n",
        "Name            F0\n",
        "Type            <class 'pint.models.parameter.floatParameter'>\n",
        "Quantity        186.494081567 Hz <class 'astropy.units.quantity.Quantity'>\n",
        "Value           186.494081567\n",
        "units           Hz\n",
        "Uncertainty     6.98911818e-12 Hz\n",
        "num_Uncertainty 6.98911818e-12\n",
        "Summary         F0 (Hz) 186.49408156698235146 +/- 6.98911818e-12 Hz\n",
        "\n",
        "\n",
        "Name            F1\n",
        "Type            <class 'pint.models.parameter.prefixParameter'>\n",
        "Quantity        -6.20495472775e-16 Hz / s <class 'astropy.units.quantity.Quantity'>\n",
        "Value           "
       ]
      },
      {
       "output_type": "stream",
       "stream": "stdout",
       "text": [
        "-6.20495472775e-16\n",
        "units           Hz / s\n",
        "Uncertainty     1.73809343736e-20 Hz / s\n",
        "num_Uncertainty 1.73809343736e-20\n",
        "Summary         F1 (Hz / s) -6.20495472775e-16 +/- 1.73809343736e-20 Hz / s"
       ]
      },
      {
       "output_type": "stream",
       "stream": "stdout",
       "text": [
        "\n",
        "\n",
        "\n",
        "Name            TZRMJD\n",
        "Type            <class 'pint.models.parameter.MJDParameter'>\n",
        "Quantity        54177.5083593 <class 'astropy.time.core.Time'>\n",
        "Value           54177.5083593\n",
        "units           d\n",
        "Uncertainty     None\n",
        "num_Uncertainty None\n",
        "Summary         TZRMJD (d) 54177.508359343262555\n",
        "\n",
        "\n",
        "Name            RAJ\n",
        "Type            <class 'pint.models.parameter.AngleParameter'>\n",
        "Quantity        18h57m36.3933s <class 'astropy.coordinates.angles.Angle'>\n",
        "Value           18.9601092468\n",
        "units           hourangle\n",
        "Uncertainty     0h00m00s\n",
        "num_Uncertainty 7.22980633528e-09\n",
        "Summary         RAJ (hourangle) 18:57:36.39328840 +/- 0h00m00s\n",
        "\n",
        "\n",
        "Name            PLANET_SHAPIRO\n",
        "Type            <class 'pint.models.parameter.boolParameter'>\n",
        "Quantity        False <type 'bool'>\n",
        "Value           False\n",
        "units           None\n",
        "Uncertainty     None\n",
        "num_Uncertainty None\n",
        "Summary         PLANET_SHAPIRO N\n",
        "\n",
        "\n",
        "Name            JUMP1\n",
        "Type            <class 'pint.models.parameter.maskParameter'>\n",
        "Quantity        7.64565276994e-07 s <class 'astropy.units.quantity.Quantity'>\n",
        "Value           "
       ]
      },
      {
       "output_type": "stream",
       "stream": "stdout",
       "text": [
        "7.64565276994e-07\n",
        "units           s\n",
        "Uncertainty     0.0 s\n",
        "num_Uncertainty 0.0\n",
        "Summary         JUMP1 (s) 7.64565276994e-07 +/- 0.0 s"
       ]
      },
      {
       "output_type": "stream",
       "stream": "stdout",
       "text": [
        "\n",
        "\n",
        "\n"
       ]
      }
     ],
     "prompt_number": 4
    },
    {
     "cell_type": "heading",
     "level": 2,
     "metadata": {},
     "source": [
      "Change Parameter quantity of value"
     ]
    },
    {
     "cell_type": "code",
     "collapsed": false,
     "input": [
      "par = model.F0\n",
      "print par\n",
      "par.quantity = 200\n",
      "print 'Quantity       ', par.quantity, type(par.quantity)\n",
      "print 'Value          ', par.value\n",
      "print par"
     ],
     "language": "python",
     "metadata": {},
     "outputs": [
      {
       "output_type": "stream",
       "stream": "stdout",
       "text": [
        "F0 (Hz) 186.49408156698235146 +/- 6.98911818e-12 Hz\n",
        "Quantity        200.0 Hz <class 'astropy.units.quantity.Quantity'>\n",
        "Value           200.0\n",
        "F0 (Hz) 200.0 +/- 6.98911818e-12 Hz\n"
       ]
      }
     ],
     "prompt_number": 5
    },
    {
     "cell_type": "code",
     "collapsed": false,
     "input": [
      "print par\n",
      "par.value = 150\n",
      "print 'Quantity       ', par.quantity, type(par.quantity)\n",
      "print 'Value          ', par.value\n",
      "print par"
     ],
     "language": "python",
     "metadata": {},
     "outputs": [
      {
       "output_type": "stream",
       "stream": "stdout",
       "text": [
        "F0 (Hz) 200.0 +/- 6.98911818e-12 Hz\n",
        "Quantity        150.0 Hz <class 'astropy.units.quantity.Quantity'>\n",
        "Value           150.0\n",
        "F0 (Hz) 150.0 +/- 6.98911818e-12 Hz\n"
       ]
      }
     ],
     "prompt_number": 6
    },
    {
     "cell_type": "code",
     "collapsed": false,
     "input": [
      "print par\n",
      "par.value = '100'\n",
      "print 'Quantity       ', par.quantity, type(par.quantity)\n",
      "print 'Value          ', par.value\n",
      "print par"
     ],
     "language": "python",
     "metadata": {},
     "outputs": [
      {
       "output_type": "stream",
       "stream": "stdout",
       "text": [
        "F0 (Hz) 150.0 +/- 6.98911818e-12 Hz\n",
        "Quantity        100.0 Hz <class 'astropy.units.quantity.Quantity'>\n",
        "Value           100.0\n",
        "F0 (Hz) 100.0 +/- 6.98911818e-12 Hz\n"
       ]
      }
     ],
     "prompt_number": 7
    },
    {
     "cell_type": "code",
     "collapsed": false,
     "input": [
      "print par\n",
      "par.quantity = '300'\n",
      "print 'Quantity       ', par.quantity, type(par.quantity)\n",
      "print 'Value          ', par.value\n",
      "print par"
     ],
     "language": "python",
     "metadata": {},
     "outputs": [
      {
       "output_type": "stream",
       "stream": "stdout",
       "text": [
        "F0 (Hz) 100.0 +/- 6.98911818e-12 Hz\n",
        "Quantity        300.0 Hz <class 'astropy.units.quantity.Quantity'>\n",
        "Value           300.0\n",
        "F0 (Hz) 300.0 +/- 6.98911818e-12 Hz\n"
       ]
      }
     ],
     "prompt_number": 8
    },
    {
     "cell_type": "code",
     "collapsed": false,
     "input": [
      "par.quantity = 0.3*u.kHz"
     ],
     "language": "python",
     "metadata": {},
     "outputs": [],
     "prompt_number": 9
    },
    {
     "cell_type": "code",
     "collapsed": false,
     "input": [
      "print 'Quantity       ', par.quantity, type(par.quantity)\n",
      "print 'Value          ', par.value\n",
      "print par "
     ],
     "language": "python",
     "metadata": {},
     "outputs": [
      {
       "output_type": "stream",
       "stream": "stdout",
       "text": [
        "Quantity        0.3 kHz <class 'astropy.units.quantity.Quantity'>\n",
        "Value           300.0\n",
        "F0 (Hz) 299.9999999999999889 +/- 6.98911818e-12 Hz\n"
       ]
      }
     ],
     "prompt_number": 10
    },
    {
     "cell_type": "code",
     "collapsed": false,
     "input": [
      "print par\n",
      "par.value = 100\n",
      "print 'Quantity       ', par.quantity, type(par.quantity)\n",
      "print 'Value          ', par.value\n",
      "print par"
     ],
     "language": "python",
     "metadata": {},
     "outputs": [
      {
       "output_type": "stream",
       "stream": "stdout",
       "text": [
        "F0 (Hz) 299.9999999999999889 +/- 6.98911818e-12 Hz\n",
        "Quantity        100.0 Hz <class 'astropy.units.quantity.Quantity'>\n",
        "Value           100.0\n",
        "F0 (Hz) 100.0 +/- 6.98911818e-12 Hz\n"
       ]
      }
     ],
     "prompt_number": 11
    },
    {
     "cell_type": "heading",
     "level": 3,
     "metadata": {},
     "source": [
      "For MJD parameters"
     ]
    },
    {
     "cell_type": "code",
     "collapsed": false,
     "input": [
      "par = model.TZRMJD\n",
      "print par\n",
      "par.quantity = 54000\n",
      "print 'Quantity       ', par.quantity, type(par.quantity)\n",
      "print 'Value          ', par.value\n",
      "print par\n",
      "par.quantity"
     ],
     "language": "python",
     "metadata": {},
     "outputs": []
    },
    {
     "cell_type": "code",
     "collapsed": false,
     "input": [
      "par.quantity = '54001'\n",
      "print 'Quantity       ', par.quantity, type(par.quantity)\n",
      "print 'Value          ', par.value\n",
      "print par\n",
      "par.quantity"
     ],
     "language": "python",
     "metadata": {},
     "outputs": []
    },
    {
     "cell_type": "code",
     "collapsed": false,
     "input": [
      "par.value = 54002\n",
      "print 'Quantity       ', par.quantity, type(par.quantity)\n",
      "print 'Value          ', par.value\n",
      "print par\n",
      "par.quantity"
     ],
     "language": "python",
     "metadata": {},
     "outputs": []
    },
    {
     "cell_type": "code",
     "collapsed": false,
     "input": [
      "par.value = '54003'\n",
      "print 'Quantity       ', par.quantity, type(par.quantity)\n",
      "print 'Value          ', par.value\n",
      "print par\n",
      "par.quantity"
     ],
     "language": "python",
     "metadata": {},
     "outputs": []
    },
    {
     "cell_type": "heading",
     "level": 3,
     "metadata": {},
     "source": [
      "For AngleParameters"
     ]
    },
    {
     "cell_type": "code",
     "collapsed": false,
     "input": [
      "par = model.RAJ\n",
      "print par\n",
      "par.quantity = 50\n",
      "print 'Quantity       ', par.quantity, type(par.quantity)\n",
      "print 'Value          ', par.value\n",
      "print par\n",
      "par.quantity"
     ],
     "language": "python",
     "metadata": {},
     "outputs": []
    },
    {
     "cell_type": "code",
     "collapsed": false,
     "input": [
      "print par\n",
      "par.quantity = 30.5\n",
      "print 'Quantity       ', par.quantity, type(par.quantity)\n",
      "print 'Value          ', par.value\n",
      "print par\n",
      "par.quantity"
     ],
     "language": "python",
     "metadata": {},
     "outputs": []
    },
    {
     "cell_type": "code",
     "collapsed": false,
     "input": [
      "print par\n",
      "par.quantity = '20:30:00'\n",
      "print 'Quantity       ', par.quantity, type(par.quantity)\n",
      "print 'Value          ', par.value\n",
      "print par\n",
      "par.quantity"
     ],
     "language": "python",
     "metadata": {},
     "outputs": []
    },
    {
     "cell_type": "code",
     "collapsed": false,
     "input": [
      "print par\n",
      "par.value = '20:05:0'\n",
      "print 'Quantity       ', par.quantity, type(par.quantity)\n",
      "print 'Value          ', par.value\n",
      "print par\n",
      "par.quantity"
     ],
     "language": "python",
     "metadata": {},
     "outputs": []
    },
    {
     "cell_type": "code",
     "collapsed": false,
     "input": [],
     "language": "python",
     "metadata": {},
     "outputs": []
    }
   ],
   "metadata": {}
  }
 ]
}