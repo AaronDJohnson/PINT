{
 "metadata": {
  "name": ""
 },
 "nbformat": 3,
 "nbformat_minor": 0,
 "worksheets": [
  {
   "cells": [
    {
     "cell_type": "heading",
     "level": 1,
     "metadata": {},
     "source": [
      "Example of parameter usage"
     ]
    },
    {
     "cell_type": "code",
     "collapsed": false,
     "input": [
      "import pint.models.model_builder as mb\n",
      "import pint.models.parameter as p\n",
      "import astropy.units as u"
     ],
     "language": "python",
     "metadata": {},
     "outputs": [],
     "prompt_number": 28
    },
    {
     "cell_type": "code",
     "collapsed": false,
     "input": [
      "model = mb.get_model('../tests/datafile/B1855+09_NANOGrav_dfg+12_TAI.par')"
     ],
     "language": "python",
     "metadata": {},
     "outputs": [
      {
       "output_type": "stream",
       "stream": "stderr",
       "text": [
        "WARNING: Unrecognized parfile line 'DMEPOCH        49453' [pint.models.timing_model]\n",
        "WARNING: Unrecognized parfile line 'EPHVER         5' [pint.models.timing_model]\n",
        "WARNING"
       ]
      },
      {
       "output_type": "stream",
       "stream": "stderr",
       "text": [
        ": Unrecognized parfile line 'MODE 1' [pint.models.timing_model]\n",
        "WARNING: Unrecognized parfile line 'T2CMETHOD      TEMPO' [pint.models.timing_model]\n",
        "WARNING: Unrecognized parfile line 'NE_SW          0.000' [pint.models.timing_model]\n",
        "WARNING: Unrecognized parfile line 'CHI2R          2.1896 637' [pint.models.timing_model]\n"
       ]
      }
     ],
     "prompt_number": 2
    },
    {
     "cell_type": "code",
     "collapsed": false,
     "input": [
      "print model.params"
     ],
     "language": "python",
     "metadata": {},
     "outputs": [
      {
       "output_type": "stream",
       "stream": "stdout",
       "text": [
        "['PSR', 'F0', 'F1', 'TZRMJD', 'PEPOCH', 'RAJ', 'DECJ', 'POSEPOCH', 'PMRA', 'PMDEC', 'PX', 'PLANET_SHAPIRO', 'DM', 'DMX', 'DMX_0001', 'DMXR1_0001', 'DMXR2_0001', 'PB', 'PBDOT', 'XPBDOT', 'A1', 'A1DOT', 'ECC', 'EDOT', 'T0', 'OM', 'OMDOT', 'M2', 'A0', 'B0', 'GAMMA', 'DR', 'DTH', 'SINI', 'JUMP1', 'DMXR2_0022', 'DMXR2_0023', 'DMXR2_0020', 'DMXR2_0021', 'DMXR2_0026', 'DMXR2_0027', 'DMXR2_0024', 'DMXR2_0025', 'DMXR2_0028', 'DMXR2_0029', 'DMXR2_0030', 'DMXR2_0004', 'DMXR2_0005', 'DMXR2_0006', 'DMXR2_0007', 'DMXR2_0002', 'DMXR2_0003', 'DMXR2_0008', 'DMXR2_0009', 'DMXR2_0019', 'DMXR2_0018', 'DMXR2_0013', 'DMXR2_0012', 'DMXR2_0011', 'DMXR2_0010', 'DMXR2_0017', 'DMXR2_0016', 'DMXR2_0015', 'DMXR2_0014', 'DMXR1_0003', 'DMXR1_0018', 'DMXR1_0019', 'DMXR1_0016', 'DMXR1_0017', 'DMXR1_0014', 'DMXR1_0015', 'DMXR1_0012', 'DMXR1_0013', 'DMXR1_0010', 'DMXR1_0011', 'DMXR1_0009', 'DMXR1_0008', 'DMXR1_0005', 'DMXR1_0004', 'DMXR1_0007', 'DMXR1_0006', 'DMXR1_0002', 'DMXR1_0030', 'DMXR1_0029', 'DMXR1_0027', 'DMXR1_0026', 'DMXR1_0025', 'DMXR1_0024', 'DMXR1_0023', 'DMXR1_0022', 'DMXR1_0021', 'DMXR1_0020', 'DMXR1_0028', 'DMX_0009', 'DMX_0020', 'DMX_0021', 'DMX_0022', 'DMX_0023', 'DMX_0024', 'DMX_0025', 'DMX_0026', 'DMX_0027', 'DMX_0028', 'DMX_0029', 'DMX_0030', 'DMX_0006', 'DMX_0007', 'DMX_0004', 'DMX_0005', 'DMX_0008', 'DMX_0019', 'DMX_0018', 'DMX_0011', 'DMX_0010', 'DMX_0013', 'DMX_0012', 'DMX_0015', 'DMX_0014', 'DMX_0017', 'DMX_0016', 'DMX_0002', 'DMX_0003', 'JUMP9', 'JUMP3', 'JUMP2', 'JUMP5', 'JUMP4', 'JUMP7', 'JUMP6', 'JUMP11', 'JUMP10', 'JUMP13', 'JUMP12', 'JUMP15', 'JUMP14', 'JUMP17', 'JUMP16', 'JUMP19', 'JUMP18', 'JUMP8', 'JUMP20', 'JUMP21']\n"
       ]
      }
     ],
     "prompt_number": 4
    },
    {
     "cell_type": "heading",
     "level": 2,
     "metadata": {},
     "source": [
      "Attributions in Parameters"
     ]
    },
    {
     "cell_type": "code",
     "collapsed": false,
     "input": [
      "printed = []\n",
      "for p in model.params:\n",
      "    par = getattr(model, p)\n",
      "    if type(par) in printed:\n",
      "        continue\n",
      "    print 'Name           ', par.name\n",
      "    print 'Type           ', type(par)\n",
      "    print 'Quantity       ', par.quantity, type(par.quantity)\n",
      "    print 'Value          ', par.value\n",
      "    print 'units          ', par.units\n",
      "    print 'Uncertainty    ', par.uncertainty\n",
      "    print 'num_Uncertainty', par.num_uncertainty\n",
      "    print 'Summary        ', par\n",
      "    print '\\n'\n",
      "    printed.append(type(par))"
     ],
     "language": "python",
     "metadata": {},
     "outputs": [
      {
       "output_type": "stream",
       "stream": "stdout",
       "text": [
        "Name            PSR\n",
        "Type            <class 'pint.models.parameter.strParameter'>\n",
        "Quantity        1855+09 <type 'str'>\n",
        "Value           1855+09\n",
        "units           None\n",
        "Uncertainty     None\n",
        "num_Uncertainty None\n",
        "Summary         PSR 1855+09\n",
        "\n",
        "\n",
        "Name            F0\n",
        "Type            <class 'pint.models.parameter.floatParameter'>\n",
        "Quantity        186.494081567 Hz <class 'astropy.units.quantity.Quantity'>\n",
        "Value           186.494081567\n",
        "units           Hz\n",
        "Uncertainty     6.98911818e-12 Hz\n",
        "num_Uncertainty 6.98911818e-12\n",
        "Summary         F0 (Hz) 186.49408156698235146 +/- 6.98911818e-12 Hz\n",
        "\n",
        "\n",
        "Name            F1\n",
        "Type            <class 'pint.models.parameter.prefixParameter'>\n",
        "Quantity        -6.20495472775e-16 Hz / s <class 'astropy.units.quantity.Quantity'>\n",
        "Value           "
       ]
      },
      {
       "output_type": "stream",
       "stream": "stdout",
       "text": [
        "-6.20495472775e-16\n",
        "units           Hz / s\n",
        "Uncertainty     1.73809343736e-20 Hz / s\n",
        "num_Uncertainty 1.73809343736e-20\n",
        "Summary         F1 (Hz / s) -6.20495472775e-16 +/- 1.73809343736e-20 Hz / s"
       ]
      },
      {
       "output_type": "stream",
       "stream": "stdout",
       "text": [
        "\n",
        "\n",
        "\n",
        "Name            TZRMJD\n",
        "Type            <class 'pint.models.parameter.MJDParameter'>\n",
        "Quantity        54177.5083593 <class 'astropy.time.core.Time'>\n",
        "Value           54177.5083593\n",
        "units           d\n",
        "Uncertainty     None\n",
        "num_Uncertainty None\n",
        "Summary         TZRMJD (d) 54177.508359343262555\n",
        "\n",
        "\n",
        "Name            RAJ\n",
        "Type            <class 'pint.models.parameter.AngleParameter'>\n",
        "Quantity        18h57m36.3933s <class 'astropy.coordinates.angles.Angle'>\n",
        "Value           18.9601092468\n",
        "units           hourangle\n",
        "Uncertainty     0h00m00s\n",
        "num_Uncertainty 7.22980633528e-09\n",
        "Summary         RAJ (hourangle) 18:57:36.39328840 +/- 0h00m00s\n",
        "\n",
        "\n",
        "Name            PLANET_SHAPIRO\n",
        "Type            <class 'pint.models.parameter.boolParameter'>\n",
        "Quantity        False <type 'bool'>\n",
        "Value           False\n",
        "units           None\n",
        "Uncertainty     None\n",
        "num_Uncertainty None\n",
        "Summary         PLANET_SHAPIRO N\n",
        "\n",
        "\n",
        "Name            JUMP1\n",
        "Type            <class 'pint.models.parameter.maskParameter'>\n",
        "Quantity        7.64565276994e-07 s <class 'astropy.units.quantity.Quantity'>\n",
        "Value           "
       ]
      },
      {
       "output_type": "stream",
       "stream": "stdout",
       "text": [
        "7.64565276994e-07\n",
        "units           s\n",
        "Uncertainty     0.0 s\n",
        "num_Uncertainty 0.0\n",
        "Summary         JUMP1 (s) 7.64565276994e-07 +/- 0.0 s"
       ]
      },
      {
       "output_type": "stream",
       "stream": "stdout",
       "text": [
        "\n",
        "\n",
        "\n"
       ]
      }
     ],
     "prompt_number": 23
    },
    {
     "cell_type": "heading",
     "level": 2,
     "metadata": {},
     "source": [
      "Change Parameter quantity of value"
     ]
    },
    {
     "cell_type": "code",
     "collapsed": false,
     "input": [
      "par = model.F0\n",
      "print par\n",
      "par.quantity = 200\n",
      "print 'Quantity       ', par.quantity, type(par.quantity)\n",
      "print 'Value          ', par.value\n",
      "print par"
     ],
     "language": "python",
     "metadata": {},
     "outputs": [
      {
       "output_type": "stream",
       "stream": "stdout",
       "text": [
        "F0 (Hz) 186.49408156698235146 +/- 6.98911818e-12 Hz\n",
        "Quantity        200.0 Hz <class 'astropy.units.quantity.Quantity'>\n",
        "Value           200.0\n"
       ]
      }
     ],
     "prompt_number": 25
    },
    {
     "cell_type": "code",
     "collapsed": false,
     "input": [
      "print par\n",
      "par.value = 150\n",
      "print 'Quantity       ', par.quantity, type(par.quantity)\n",
      "print 'Value          ', par.value\n",
      "print par"
     ],
     "language": "python",
     "metadata": {},
     "outputs": [
      {
       "output_type": "stream",
       "stream": "stdout",
       "text": [
        "F0 (Hz) 150.0 +/- 6.98911818e-12 Hz\n",
        "Quantity        150.0 Hz <class 'astropy.units.quantity.Quantity'>\n",
        "Value           150.0\n",
        "F0 (Hz) 150.0 +/- 6.98911818e-12 Hz\n"
       ]
      }
     ],
     "prompt_number": 27
    },
    {
     "cell_type": "code",
     "collapsed": false,
     "input": [
      "print par\n",
      "par.value = '100'\n",
      "print 'Quantity       ', par.quantity, type(par.quantity)\n",
      "print 'Value          ', par.value\n",
      "print par"
     ],
     "language": "python",
     "metadata": {},
     "outputs": [
      {
       "output_type": "stream",
       "stream": "stdout",
       "text": [
        "F0 (Hz) 150.0 +/- 6.98911818e-12 Hz\n",
        "Quantity        100.0 Hz <class 'astropy.units.quantity.Quantity'>\n",
        "Value           100.0\n",
        "F0 (Hz) 100.0 +/- 6.98911818e-12 Hz\n"
       ]
      }
     ],
     "prompt_number": 30
    },
    {
     "cell_type": "code",
     "collapsed": false,
     "input": [
      "print par\n",
      "par.quantity = '300'\n",
      "print 'Quantity       ', par.quantity, type(par.quantity)\n",
      "print 'Value          ', par.value\n",
      "print par"
     ],
     "language": "python",
     "metadata": {},
     "outputs": [
      {
       "output_type": "stream",
       "stream": "stdout",
       "text": [
        "F0 (Hz) 100.0 +/- 6.98911818e-12 Hz\n",
        "Quantity        300.0 Hz <class 'astropy.units.quantity.Quantity'>\n",
        "Value           300.0\n",
        "F0 (Hz) 300.0 +/- 6.98911818e-12 Hz\n"
       ]
      }
     ],
     "prompt_number": 32
    },
    {
     "cell_type": "code",
     "collapsed": false,
     "input": [
      "print par\n",
      "par.value = 100*u.second\n",
      "print 'Quantity       ', par.quantity, type(par.quantity)\n",
      "print 'Value          ', par.value\n",
      "print par"
     ],
     "language": "python",
     "metadata": {},
     "outputs": [
      {
       "ename": "UnitConversionError",
       "evalue": "'s' (time) and 'Hz' (frequency) are not convertible",
       "output_type": "pyerr",
       "traceback": [
        "\u001b[0;31m---------------------------------------------------------------------------\u001b[0m\n\u001b[0;31mUnitConversionError\u001b[0m                       Traceback (most recent call last)",
        "\u001b[0;32m<ipython-input-29-bdcc6e868c22>\u001b[0m in \u001b[0;36m<module>\u001b[0;34m()\u001b[0m\n\u001b[1;32m      1\u001b[0m \u001b[0;32mprint\u001b[0m \u001b[0mpar\u001b[0m\u001b[0;34m\u001b[0m\u001b[0m\n\u001b[0;32m----> 2\u001b[0;31m \u001b[0mpar\u001b[0m\u001b[0;34m.\u001b[0m\u001b[0mvalue\u001b[0m \u001b[0;34m=\u001b[0m \u001b[0;36m100\u001b[0m\u001b[0;34m*\u001b[0m\u001b[0mu\u001b[0m\u001b[0;34m.\u001b[0m\u001b[0msecond\u001b[0m\u001b[0;34m\u001b[0m\u001b[0m\n\u001b[0m\u001b[1;32m      3\u001b[0m \u001b[0;32mprint\u001b[0m \u001b[0;34m'Quantity       '\u001b[0m\u001b[0;34m,\u001b[0m \u001b[0mpar\u001b[0m\u001b[0;34m.\u001b[0m\u001b[0mquantity\u001b[0m\u001b[0;34m,\u001b[0m \u001b[0mtype\u001b[0m\u001b[0;34m(\u001b[0m\u001b[0mpar\u001b[0m\u001b[0;34m.\u001b[0m\u001b[0mquantity\u001b[0m\u001b[0;34m)\u001b[0m\u001b[0;34m\u001b[0m\u001b[0m\n\u001b[1;32m      4\u001b[0m \u001b[0;32mprint\u001b[0m \u001b[0;34m'Value          '\u001b[0m\u001b[0;34m,\u001b[0m \u001b[0mpar\u001b[0m\u001b[0;34m.\u001b[0m\u001b[0mvalue\u001b[0m\u001b[0;34m\u001b[0m\u001b[0m\n\u001b[1;32m      5\u001b[0m \u001b[0;32mprint\u001b[0m \u001b[0mpar\u001b[0m\u001b[0;34m\u001b[0m\u001b[0m\n",
        "\u001b[0;32m/Users/jingluo/Research_codes/PINT/pint/models/parameter.pyc\u001b[0m in \u001b[0;36mvalue\u001b[0;34m(self, val)\u001b[0m\n\u001b[1;32m    190\u001b[0m             \u001b[0;32melse\u001b[0m\u001b[0;34m:\u001b[0m\u001b[0;34m\u001b[0m\u001b[0m\n\u001b[1;32m    191\u001b[0m                 \u001b[0mself\u001b[0m\u001b[0;34m.\u001b[0m\u001b[0mvalue\u001b[0m \u001b[0;34m=\u001b[0m \u001b[0mval\u001b[0m\u001b[0;34m\u001b[0m\u001b[0m\n\u001b[0;32m--> 192\u001b[0;31m         \u001b[0mself\u001b[0m\u001b[0;34m.\u001b[0m\u001b[0m_quantity\u001b[0m \u001b[0;34m=\u001b[0m \u001b[0mself\u001b[0m\u001b[0;34m.\u001b[0m\u001b[0mset_quantity\u001b[0m\u001b[0;34m(\u001b[0m\u001b[0mval\u001b[0m\u001b[0;34m)\u001b[0m\u001b[0;34m\u001b[0m\u001b[0m\n\u001b[0m\u001b[1;32m    193\u001b[0m \u001b[0;34m\u001b[0m\u001b[0m\n\u001b[1;32m    194\u001b[0m     \u001b[0;34m@\u001b[0m\u001b[0mproperty\u001b[0m\u001b[0;34m\u001b[0m\u001b[0m\n",
        "\u001b[0;32m/Users/jingluo/Research_codes/PINT/pint/models/parameter.pyc\u001b[0m in \u001b[0;36mset_quantity_longdouble\u001b[0;34m(self, val)\u001b[0m\n\u001b[1;32m    361\u001b[0m     \u001b[0;32mdef\u001b[0m \u001b[0mset_quantity_longdouble\u001b[0m\u001b[0;34m(\u001b[0m\u001b[0mself\u001b[0m\u001b[0;34m,\u001b[0m \u001b[0mval\u001b[0m\u001b[0;34m)\u001b[0m\u001b[0;34m:\u001b[0m\u001b[0;34m\u001b[0m\u001b[0m\n\u001b[1;32m    362\u001b[0m         \u001b[0;32mtry\u001b[0m\u001b[0;34m:\u001b[0m\u001b[0;34m\u001b[0m\u001b[0m\n\u001b[0;32m--> 363\u001b[0;31m             \u001b[0m_\u001b[0m \u001b[0;34m=\u001b[0m \u001b[0mval\u001b[0m\u001b[0;34m.\u001b[0m\u001b[0mto\u001b[0m\u001b[0;34m(\u001b[0m\u001b[0mself\u001b[0m\u001b[0;34m.\u001b[0m\u001b[0munits\u001b[0m\u001b[0;34m)\u001b[0m\u001b[0;34m\u001b[0m\u001b[0m\n\u001b[0m\u001b[1;32m    364\u001b[0m             \u001b[0mresult\u001b[0m \u001b[0;34m=\u001b[0m \u001b[0mdata2longdouble\u001b[0m\u001b[0;34m(\u001b[0m\u001b[0mval\u001b[0m\u001b[0;34m.\u001b[0m\u001b[0mvalue\u001b[0m\u001b[0;34m)\u001b[0m\u001b[0;34m*\u001b[0m\u001b[0mval\u001b[0m\u001b[0;34m.\u001b[0m\u001b[0munit\u001b[0m\u001b[0;34m\u001b[0m\u001b[0m\n\u001b[1;32m    365\u001b[0m         \u001b[0;32mexcept\u001b[0m \u001b[0mAttributeError\u001b[0m\u001b[0;34m:\u001b[0m\u001b[0;34m\u001b[0m\u001b[0m\n",
        "\u001b[0;32m/Users/jingluo/.local/lib/python2.7/site-packages/astropy-1.1.dev14232-py2.7-macosx-10.5-x86_64.egg/astropy/units/quantity.pyc\u001b[0m in \u001b[0;36mto\u001b[0;34m(self, unit, equivalencies)\u001b[0m\n\u001b[1;32m    631\u001b[0m         \u001b[0munit\u001b[0m \u001b[0;34m=\u001b[0m \u001b[0mUnit\u001b[0m\u001b[0;34m(\u001b[0m\u001b[0munit\u001b[0m\u001b[0;34m)\u001b[0m\u001b[0;34m\u001b[0m\u001b[0m\n\u001b[1;32m    632\u001b[0m         new_val = self.unit.to(unit, self.view(np.ndarray),\n\u001b[0;32m--> 633\u001b[0;31m                                equivalencies=equivalencies)\n\u001b[0m\u001b[1;32m    634\u001b[0m         \u001b[0;32mreturn\u001b[0m \u001b[0mself\u001b[0m\u001b[0;34m.\u001b[0m\u001b[0m_new_view\u001b[0m\u001b[0;34m(\u001b[0m\u001b[0mnew_val\u001b[0m\u001b[0;34m,\u001b[0m \u001b[0munit\u001b[0m\u001b[0;34m)\u001b[0m\u001b[0;34m\u001b[0m\u001b[0m\n\u001b[1;32m    635\u001b[0m \u001b[0;34m\u001b[0m\u001b[0m\n",
        "\u001b[0;32m/Users/jingluo/.local/lib/python2.7/site-packages/astropy-1.1.dev14232-py2.7-macosx-10.5-x86_64.egg/astropy/units/core.pyc\u001b[0m in \u001b[0;36mto\u001b[0;34m(self, other, value, equivalencies)\u001b[0m\n\u001b[1;32m    966\u001b[0m             \u001b[0mIf\u001b[0m \u001b[0munits\u001b[0m \u001b[0mare\u001b[0m \u001b[0minconsistent\u001b[0m\u001b[0;34m\u001b[0m\u001b[0m\n\u001b[1;32m    967\u001b[0m         \"\"\"\n\u001b[0;32m--> 968\u001b[0;31m         \u001b[0;32mreturn\u001b[0m \u001b[0mself\u001b[0m\u001b[0;34m.\u001b[0m\u001b[0m_get_converter\u001b[0m\u001b[0;34m(\u001b[0m\u001b[0mother\u001b[0m\u001b[0;34m,\u001b[0m \u001b[0mequivalencies\u001b[0m\u001b[0;34m=\u001b[0m\u001b[0mequivalencies\u001b[0m\u001b[0;34m)\u001b[0m\u001b[0;34m(\u001b[0m\u001b[0mvalue\u001b[0m\u001b[0;34m)\u001b[0m\u001b[0;34m\u001b[0m\u001b[0m\n\u001b[0m\u001b[1;32m    969\u001b[0m \u001b[0;34m\u001b[0m\u001b[0m\n\u001b[1;32m    970\u001b[0m     \u001b[0;32mdef\u001b[0m \u001b[0min_units\u001b[0m\u001b[0;34m(\u001b[0m\u001b[0mself\u001b[0m\u001b[0;34m,\u001b[0m \u001b[0mother\u001b[0m\u001b[0;34m,\u001b[0m \u001b[0mvalue\u001b[0m\u001b[0;34m=\u001b[0m\u001b[0;36m1.0\u001b[0m\u001b[0;34m,\u001b[0m \u001b[0mequivalencies\u001b[0m\u001b[0;34m=\u001b[0m\u001b[0;34m[\u001b[0m\u001b[0;34m]\u001b[0m\u001b[0;34m)\u001b[0m\u001b[0;34m:\u001b[0m\u001b[0;34m\u001b[0m\u001b[0m\n",
        "\u001b[0;32m/Users/jingluo/.local/lib/python2.7/site-packages/astropy-1.1.dev14232-py2.7-macosx-10.5-x86_64.egg/astropy/units/core.pyc\u001b[0m in \u001b[0;36m_get_converter\u001b[0;34m(self, other, equivalencies)\u001b[0m\n\u001b[1;32m    867\u001b[0m         \u001b[0;32mexcept\u001b[0m \u001b[0mUnitsError\u001b[0m\u001b[0;34m:\u001b[0m\u001b[0;34m\u001b[0m\u001b[0m\n\u001b[1;32m    868\u001b[0m             return self._apply_equivalencies(\n\u001b[0;32m--> 869\u001b[0;31m                 self, other, self._normalize_equivalencies(equivalencies))\n\u001b[0m\u001b[1;32m    870\u001b[0m         \u001b[0;32mreturn\u001b[0m \u001b[0;32mlambda\u001b[0m \u001b[0mval\u001b[0m\u001b[0;34m:\u001b[0m \u001b[0mscale\u001b[0m \u001b[0;34m*\u001b[0m \u001b[0m_condition_arg\u001b[0m\u001b[0;34m(\u001b[0m\u001b[0mval\u001b[0m\u001b[0;34m)\u001b[0m\u001b[0;34m\u001b[0m\u001b[0m\n\u001b[1;32m    871\u001b[0m \u001b[0;34m\u001b[0m\u001b[0m\n",
        "\u001b[0;32m/Users/jingluo/.local/lib/python2.7/site-packages/astropy-1.1.dev14232-py2.7-macosx-10.5-x86_64.egg/astropy/units/core.pyc\u001b[0m in \u001b[0;36m_apply_equivalencies\u001b[0;34m(self, unit, other, equivalencies)\u001b[0m\n\u001b[1;32m    858\u001b[0m         raise UnitConversionError(\n\u001b[1;32m    859\u001b[0m             \"{0} and {1} are not convertible\".format(\n\u001b[0;32m--> 860\u001b[0;31m                 unit_str, other_str))\n\u001b[0m\u001b[1;32m    861\u001b[0m \u001b[0;34m\u001b[0m\u001b[0m\n\u001b[1;32m    862\u001b[0m     \u001b[0;32mdef\u001b[0m \u001b[0m_get_converter\u001b[0m\u001b[0;34m(\u001b[0m\u001b[0mself\u001b[0m\u001b[0;34m,\u001b[0m \u001b[0mother\u001b[0m\u001b[0;34m,\u001b[0m \u001b[0mequivalencies\u001b[0m\u001b[0;34m=\u001b[0m\u001b[0;34m[\u001b[0m\u001b[0;34m]\u001b[0m\u001b[0;34m)\u001b[0m\u001b[0;34m:\u001b[0m\u001b[0;34m\u001b[0m\u001b[0m\n",
        "\u001b[0;31mUnitConversionError\u001b[0m: 's' (time) and 'Hz' (frequency) are not convertible"
       ]
      },
      {
       "output_type": "stream",
       "stream": "stdout",
       "text": [
        "F0 (Hz) 150.0 +/- 6.98911818e-12 Hz\n"
       ]
      }
     ],
     "prompt_number": 29
    },
    {
     "cell_type": "heading",
     "level": 3,
     "metadata": {},
     "source": [
      "For MJD parameters"
     ]
    },
    {
     "cell_type": "code",
     "collapsed": false,
     "input": [
      "par = model.TZRMJD\n",
      "print par\n",
      "par.quantity = 54000\n",
      "print 'Quantity       ', par.quantity, type(par.quantity)\n",
      "print 'Value          ', par.value\n",
      "print par\n",
      "par.quantity"
     ],
     "language": "python",
     "metadata": {},
     "outputs": [
      {
       "output_type": "stream",
       "stream": "stdout",
       "text": [
        "TZRMJD (d) 54000.000000000000000\n",
        "Quantity        54000.0 <class 'astropy.time.core.Time'>\n",
        "Value           54000.0\n",
        "TZRMJD (d) 54000.000000000000000\n"
       ]
      },
      {
       "metadata": {},
       "output_type": "pyout",
       "prompt_number": 36,
       "text": [
        "<Time object: scale='tdb' format='mjd' value=54000.0>"
       ]
      }
     ],
     "prompt_number": 36
    },
    {
     "cell_type": "code",
     "collapsed": false,
     "input": [
      "par.quantity = '54001'\n",
      "print 'Quantity       ', par.quantity, type(par.quantity)\n",
      "print 'Value          ', par.value\n",
      "print par\n",
      "par.quantity"
     ],
     "language": "python",
     "metadata": {},
     "outputs": [
      {
       "output_type": "stream",
       "stream": "stdout",
       "text": [
        "Quantity        54001.0 <class 'astropy.time.core.Time'>\n",
        "Value           54001.0\n",
        "TZRMJD (d) 54001.000000000000000\n"
       ]
      },
      {
       "metadata": {},
       "output_type": "pyout",
       "prompt_number": 37,
       "text": [
        "<Time object: scale='tdb' format='mjd' value=54001.0>"
       ]
      }
     ],
     "prompt_number": 37
    },
    {
     "cell_type": "code",
     "collapsed": false,
     "input": [
      "par.value = 54002\n",
      "print 'Quantity       ', par.quantity, type(par.quantity)\n",
      "print 'Value          ', par.value\n",
      "print par\n",
      "par.quantity"
     ],
     "language": "python",
     "metadata": {},
     "outputs": [
      {
       "output_type": "stream",
       "stream": "stdout",
       "text": [
        "Quantity        54002.0 <class 'astropy.time.core.Time'>\n",
        "Value           54002.0\n",
        "TZRMJD (d) 54002.000000000000000\n"
       ]
      },
      {
       "metadata": {},
       "output_type": "pyout",
       "prompt_number": 38,
       "text": [
        "<Time object: scale='tdb' format='mjd' value=54002.0>"
       ]
      }
     ],
     "prompt_number": 38
    },
    {
     "cell_type": "code",
     "collapsed": false,
     "input": [
      "par.value = '54003'\n",
      "print 'Quantity       ', par.quantity, type(par.quantity)\n",
      "print 'Value          ', par.value\n",
      "print par\n",
      "par.quantity"
     ],
     "language": "python",
     "metadata": {},
     "outputs": [
      {
       "output_type": "stream",
       "stream": "stdout",
       "text": [
        "Quantity        54003.0 <class 'astropy.time.core.Time'>\n",
        "Value           54003.0\n",
        "TZRMJD (d) 54003.000000000000000\n"
       ]
      },
      {
       "metadata": {},
       "output_type": "pyout",
       "prompt_number": 39,
       "text": [
        "<Time object: scale='tdb' format='mjd' value=54003.0>"
       ]
      }
     ],
     "prompt_number": 39
    },
    {
     "cell_type": "heading",
     "level": 3,
     "metadata": {},
     "source": [
      "For AngleParameters"
     ]
    },
    {
     "cell_type": "code",
     "collapsed": false,
     "input": [
      "par = model.RAJ\n",
      "print par\n",
      "par.quantity = 50\n",
      "print 'Quantity       ', par.quantity, type(par.quantity)\n",
      "print 'Value          ', par.value\n",
      "print par\n",
      "par.quantity"
     ],
     "language": "python",
     "metadata": {},
     "outputs": [
      {
       "output_type": "stream",
       "stream": "stdout",
       "text": [
        "RAJ (hourangle) 18:57:36.39328840 +/- 0h00m00s\n",
        "Quantity        50h00m00s <class 'astropy.coordinates.angles.Angle'>\n",
        "Value           50.0\n",
        "RAJ (hourangle) 50:00:00.00000000 +/- 0h00m00s\n"
       ]
      },
      {
       "latex": [
        "$50^\\mathrm{h}00^\\mathrm{m}00^\\mathrm{s}$"
       ],
       "metadata": {},
       "output_type": "pyout",
       "prompt_number": 40,
       "text": [
        "<Angle 50.0 hourangle>"
       ]
      }
     ],
     "prompt_number": 40
    },
    {
     "cell_type": "code",
     "collapsed": false,
     "input": [
      "print par\n",
      "par.quantity = 30.5\n",
      "print 'Quantity       ', par.quantity, type(par.quantity)\n",
      "print 'Value          ', par.value\n",
      "print par\n",
      "par.quantity"
     ],
     "language": "python",
     "metadata": {},
     "outputs": [
      {
       "output_type": "stream",
       "stream": "stdout",
       "text": [
        "RAJ (hourangle) 20:30:00.00000000 +/- 0h00m00s\n",
        "Quantity        30h30m00s <class 'astropy.coordinates.angles.Angle'>\n",
        "Value           30.5\n",
        "RAJ (hourangle) 30:30:00.00000000 +/- 0h00m00s\n"
       ]
      },
      {
       "latex": [
        "$30^\\mathrm{h}30^\\mathrm{m}00^\\mathrm{s}$"
       ],
       "metadata": {},
       "output_type": "pyout",
       "prompt_number": 44,
       "text": [
        "<Angle 30.5 hourangle>"
       ]
      }
     ],
     "prompt_number": 44
    },
    {
     "cell_type": "code",
     "collapsed": false,
     "input": [
      "print par\n",
      "par.quantity = '20:30:00'\n",
      "print 'Quantity       ', par.quantity, type(par.quantity)\n",
      "print 'Value          ', par.value\n",
      "print par\n",
      "par.quantity"
     ],
     "language": "python",
     "metadata": {},
     "outputs": [
      {
       "output_type": "stream",
       "stream": "stdout",
       "text": [
        "RAJ (hourangle) 30:30:00.00000000 +/- 0h00m00s\n",
        "Quantity        20h30m00s <class 'astropy.coordinates.angles.Angle'>\n",
        "Value           20.5\n",
        "RAJ (hourangle) 20:30:00.00000000 +/- 0h00m00s\n"
       ]
      },
      {
       "latex": [
        "$20^\\mathrm{h}30^\\mathrm{m}00^\\mathrm{s}$"
       ],
       "metadata": {},
       "output_type": "pyout",
       "prompt_number": 45,
       "text": [
        "<Angle 20.5 hourangle>"
       ]
      }
     ],
     "prompt_number": 45
    },
    {
     "cell_type": "code",
     "collapsed": false,
     "input": [
      "print par\n",
      "par.value = '20:05:0'\n",
      "print 'Quantity       ', par.quantity, type(par.quantity)\n",
      "print 'Value          ', par.value\n",
      "print par\n",
      "par.quantity"
     ],
     "language": "python",
     "metadata": {},
     "outputs": [
      {
       "output_type": "stream",
       "stream": "stdout",
       "text": [
        "RAJ (hourangle) 20:30:05.00000000 +/- 0h00m00s\n",
        "Quantity        20h05m00s <class 'astropy.coordinates.angles.Angle'>\n",
        "Value           20.0833333333\n",
        "RAJ (hourangle) 20:05:00.00000000 +/- 0h00m00s\n"
       ]
      },
      {
       "latex": [
        "$20^\\mathrm{h}05^\\mathrm{m}00^\\mathrm{s}$"
       ],
       "metadata": {},
       "output_type": "pyout",
       "prompt_number": 48,
       "text": [
        "<Angle 20.083333333333332 hourangle>"
       ]
      }
     ],
     "prompt_number": 48
    },
    {
     "cell_type": "code",
     "collapsed": false,
     "input": [],
     "language": "python",
     "metadata": {},
     "outputs": []
    }
   ],
   "metadata": {}
  }
 ]
}