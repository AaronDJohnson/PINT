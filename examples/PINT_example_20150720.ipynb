{
 "cells": [
  {
   "cell_type": "markdown",
   "metadata": {},
   "source": [
    "# PINT Example notebook"
   ]
  },
  {
   "cell_type": "markdown",
   "metadata": {},
   "source": [
    "The PINT \"homepage\":  https://github.com/nanograv/PINT\n",
    "\n",
    "PINT will normally be run via a script, or for \"work\", via an interactive session like ipython or a frontend"
   ]
  },
  {
   "cell_type": "markdown",
   "metadata": {},
   "source": [
    "## Times of Arrival (TOAs)"
   ]
  },
  {
   "cell_type": "markdown",
   "metadata": {},
   "source": [
    "Read in some TOAs.\n",
    "\n",
    "Note:  The first time that things get read in, lots of processing (can) happen.  Can take a few seconds.  But a \"pickle\" file is saved, so the next import (if nothing changed), things are much faster (typically ~1 second)"
   ]
  },
  {
   "cell_type": "code",
   "execution_count": 2,
   "metadata": {
    "collapsed": false
   },
   "outputs": [
    {
     "name": "stdout",
     "output_type": "stream",
     "text": [
      "INFO: Applying clock corrections. [pint.toa]\n",
      "INFO: Getting IERS params and computing TDBs. [pint.toa]\n",
      "INFO: Computing observatory positions and velocities. [pint.toa]\n"
     ]
    }
   ],
   "source": [
    "import pint.toa as toa\n",
    "t = toa.get_TOAs(\"J0613-sim.tim\")"
   ]
  },
  {
   "cell_type": "code",
   "execution_count": 3,
   "metadata": {
    "collapsed": false
   },
   "outputs": [
    {
     "name": "stdout",
     "output_type": "stream",
     "text": [
      "Number of TOAs:  1462\n",
      "Number of commands:  2\n",
      "Number of observatories:  1 ['gbt']\n",
      "gbt TOAs (1462):\n",
      "  Min error:     0.146 us\n",
      "  Max error:     38.8 us\n",
      "  Mean error:    3.35 us\n",
      "  Median error:  1.54 us\n",
      "  Error stddev:  4.53 us\n",
      "\n"
     ]
    }
   ],
   "source": [
    "t.print_summary()"
   ]
  },
  {
   "cell_type": "code",
   "execution_count": 4,
   "metadata": {
    "collapsed": false
   },
   "outputs": [
    {
     "data": {
      "text/plain": [
       "53216.126681259244"
      ]
     },
     "execution_count": 4,
     "metadata": {},
     "output_type": "execute_result"
    }
   ],
   "source": [
    "t.get_mjds()[0]"
   ]
  },
  {
   "cell_type": "markdown",
   "metadata": {},
   "source": [
    "Vast majority of the information is in an [Astropy Table](http://astropy.readthedocs.org/en/latest/table/):"
   ]
  },
  {
   "cell_type": "code",
   "execution_count": 5,
   "metadata": {
    "collapsed": false
   },
   "outputs": [
    {
     "data": {
      "text/plain": [
       "['index',\n",
       " 'mjd',\n",
       " 'mjd_float',\n",
       " 'error',\n",
       " 'freq',\n",
       " 'obs',\n",
       " 'flags',\n",
       " 'tdb',\n",
       " 'tdbld',\n",
       " 'ssb_obs_pos',\n",
       " 'ssb_obs_vel',\n",
       " 'obs_sun_pos']"
      ]
     },
     "execution_count": 5,
     "metadata": {},
     "output_type": "execute_result"
    }
   ],
   "source": [
    "t.table.colnames"
   ]
  },
  {
   "cell_type": "markdown",
   "metadata": {},
   "source": [
    "Lots of cool things that tables can do..."
   ]
  },
  {
   "cell_type": "code",
   "execution_count": 6,
   "metadata": {
    "collapsed": false
   },
   "outputs": [],
   "source": [
    "tt = t.table\n",
    "#tt.show_in_browser()"
   ]
  },
  {
   "cell_type": "markdown",
   "metadata": {},
   "source": [
    "Can do fancy sorting, selecting, re-arranging very easily."
   ]
  },
  {
   "cell_type": "code",
   "execution_count": 7,
   "metadata": {
    "collapsed": false
   },
   "outputs": [
    {
     "name": "stdout",
     "output_type": "stream",
     "text": [
      "[ True  True  True ...,  True  True  True]\n"
     ]
    }
   ],
   "source": [
    "select = tt['error'] < 20\n",
    "print(select)"
   ]
  },
  {
   "cell_type": "code",
   "execution_count": 8,
   "metadata": {
    "collapsed": false
   },
   "outputs": [
    {
     "data": {
      "text/html": [
       "&lt;Column name=&apos;tdb&apos; dtype=&apos;object&apos; length=1444&gt;\n",
       "<table>\n",
       "<tr><td>53216.1274241</td></tr>\n",
       "<tr><td>53216.1274241</td></tr>\n",
       "<tr><td>53216.1274241</td></tr>\n",
       "<tr><td>53216.1274241</td></tr>\n",
       "<tr><td>53216.1274241</td></tr>\n",
       "<tr><td>53216.1274241</td></tr>\n",
       "<tr><td>53216.1274241</td></tr>\n",
       "<tr><td>53216.1340098</td></tr>\n",
       "<tr><td>53216.1340098</td></tr>\n",
       "<tr><td>53216.1340098</td></tr>\n",
       "<tr><td>53216.1340098</td></tr>\n",
       "<tr><td>53216.1340098</td></tr>\n",
       "<tr><td>...</td></tr>\n",
       "<tr><td>55616.3949255</td></tr>\n",
       "<tr><td>55616.3949255</td></tr>\n",
       "<tr><td>55616.3949255</td></tr>\n",
       "<tr><td>55616.3949255</td></tr>\n",
       "<tr><td>55639.3772982</td></tr>\n",
       "<tr><td>55639.3772982</td></tr>\n",
       "<tr><td>55639.3772982</td></tr>\n",
       "<tr><td>55639.3772982</td></tr>\n",
       "<tr><td>55639.3772982</td></tr>\n",
       "<tr><td>55639.3772982</td></tr>\n",
       "<tr><td>55639.3772982</td></tr>\n",
       "<tr><td>55639.3772982</td></tr>\n",
       "</table>"
      ],
      "text/plain": [
       "<Column name='tdb' dtype='object' length=1444>\n",
       "53216.1274241\n",
       "53216.1274241\n",
       "53216.1274241\n",
       "53216.1274241\n",
       "53216.1274241\n",
       "53216.1274241\n",
       "53216.1274241\n",
       "53216.1340098\n",
       "53216.1340098\n",
       "53216.1340098\n",
       "53216.1340098\n",
       "53216.1340098\n",
       "          ...\n",
       "55616.3949255\n",
       "55616.3949255\n",
       "55616.3949255\n",
       "55616.3949255\n",
       "55639.3772982\n",
       "55639.3772982\n",
       "55639.3772982\n",
       "55639.3772982\n",
       "55639.3772982\n",
       "55639.3772982\n",
       "55639.3772982\n",
       "55639.3772982"
      ]
     },
     "execution_count": 8,
     "metadata": {},
     "output_type": "execute_result"
    }
   ],
   "source": [
    "tt['tdb'][select]"
   ]
  },
  {
   "cell_type": "markdown",
   "metadata": {},
   "source": [
    "Many PINT routines / classes / functions use [Astropy Units](http://astropy.readthedocs.org/en/latest/units/) internally or externally:"
   ]
  },
  {
   "cell_type": "code",
   "execution_count": 9,
   "metadata": {
    "collapsed": false
   },
   "outputs": [
    {
     "data": {
      "text/plain": [
       "array([False, False, False, ..., False, False, False], dtype=bool)"
      ]
     },
     "execution_count": 9,
     "metadata": {},
     "output_type": "execute_result"
    }
   ],
   "source": [
    "import astropy.units as u\n",
    "t.get_errors() < 20 * u.ns"
   ]
  },
  {
   "cell_type": "markdown",
   "metadata": {},
   "source": [
    "The times in each row contain (or are derived from) [Astropy Time](http://astropy.readthedocs.org/en/latest/time/) objects:"
   ]
  },
  {
   "cell_type": "code",
   "execution_count": 10,
   "metadata": {
    "collapsed": false
   },
   "outputs": [],
   "source": [
    "t0 = tt['mjd'][0]"
   ]
  },
  {
   "cell_type": "code",
   "execution_count": 11,
   "metadata": {
    "collapsed": false
   },
   "outputs": [
    {
     "data": {
      "text/plain": [
       "<Time object: scale='tai' format='pulsar_mjd' value=53216.1270516>"
      ]
     },
     "execution_count": 11,
     "metadata": {},
     "output_type": "execute_result"
    }
   ],
   "source": [
    "t0.tai"
   ]
  },
  {
   "cell_type": "markdown",
   "metadata": {},
   "source": [
    "But the most useful timescale, TDB (and maybe soon others) are also stored as long double (i.e. \"float96\") Numpy arrays:"
   ]
  },
  {
   "cell_type": "code",
   "execution_count": 12,
   "metadata": {
    "collapsed": false
   },
   "outputs": [
    {
     "data": {
      "text/html": [
       "&lt;Column name=&apos;tdbld&apos; dtype=&apos;float128&apos; length=3&gt;\n",
       "<table>\n",
       "<tr><td>53216.1274241</td></tr>\n",
       "<tr><td>53216.1274241</td></tr>\n",
       "<tr><td>53216.1274241</td></tr>\n",
       "</table>"
      ],
      "text/plain": [
       "<Column name='tdbld' dtype='float128' length=3>\n",
       "53216.1274241\n",
       "53216.1274241\n",
       "53216.1274241"
      ]
     },
     "execution_count": 12,
     "metadata": {},
     "output_type": "execute_result"
    }
   ],
   "source": [
    "tt['tdbld'][:3]"
   ]
  },
  {
   "cell_type": "markdown",
   "metadata": {},
   "source": [
    "## Timing (or other) Models"
   ]
  },
  {
   "cell_type": "markdown",
   "metadata": {},
   "source": [
    "Now let's define and load a timing model"
   ]
  },
  {
   "cell_type": "code",
   "execution_count": 14,
   "metadata": {
    "collapsed": false
   },
   "outputs": [
    {
     "name": "stderr",
     "output_type": "stream",
     "text": [
      "WARNING: Unrecognized parfile line 'DMEPOCH         54890.000000' [pint.models.timing_model]\n",
      "WARNING: Unrecognized parfile line 'SOLARN0               0.00' [pint.models.timing_model]\n"
     ]
    }
   ],
   "source": [
    "import pint.models as models\n",
    "m = models.get_model('J0613-sim.par')"
   ]
  },
  {
   "cell_type": "code",
   "execution_count": 15,
   "metadata": {
    "collapsed": false
   },
   "outputs": [
    {
     "name": "stdout",
     "output_type": "stream",
     "text": [
      "PSR                            J0613-0200\n",
      "POSEPOCH            54890.000000000000000\n",
      "PX                          1.11638926306 1 0.111363301398\n",
      "RAJ                      6:13:43.97767520 1 9.83147324167e-10\n",
      "DECJ                    -2:00:47.22538000 1 2.44045780433e-08\n",
      "PMRA                        1.82779595278 1 0.0176467150286\n",
      "PMDEC                       -10.338557736 1 0.0342648157615\n",
      "F0                  326.60056202349007573 1 4.67708045e-12\n",
      "F1              -1.0229704624634172473e-15 1 3.58956892683e-20\n",
      "TZRMJD              54401.720778357950280\n",
      "PEPOCH              54890.000000000000000\n",
      "PLANET_SHAPIRO                          N\n",
      "DM                          38.7775344453 1 0.000631748243622\n",
      "PB                          1.19851257522 1 1.274978299e-11\n",
      "PBDOT                                 0.0\n",
      "A1                          1.09143421206 1 7.29224866087e-08\n",
      "A1DOT                                 0.0\n",
      "ECC                     5.28646359551e-06 1 3.82222685592e-07\n",
      "EDOT                                  0.0\n",
      "T0                  53113.955095598856090 1 0.00266858155449\n",
      "OM                          47.6815195974 1 0.801568045055\n",
      "OMDOT                                 0.0\n",
      "SINI                                  0.0\n",
      "GAMMA                                 0.0\n",
      "UNITS TDB\n",
      "\n"
     ]
    }
   ],
   "source": [
    "print(m.as_parfile())"
   ]
  },
  {
   "cell_type": "code",
   "execution_count": 16,
   "metadata": {
    "collapsed": false
   },
   "outputs": [
    {
     "name": "stdout",
     "output_type": "stream",
     "text": [
      "6.22888268756 326.600562023 53113.9550956\n"
     ]
    }
   ],
   "source": [
    "print m.RAJ.value, m.F0.value, m.T0.value"
   ]
  },
  {
   "cell_type": "markdown",
   "metadata": {},
   "source": [
    "Timing models are basically composed of \"delay\" terms and \"phase\" terms:"
   ]
  },
  {
   "cell_type": "code",
   "execution_count": 17,
   "metadata": {
    "collapsed": false
   },
   "outputs": [
    {
     "data": {
      "text/plain": [
       "{'L1': [<bound method J0613-sim.solar_system_geometric_delay of <pint.models.timing_model.J0613-sim object at 0x11156ef10>>,\n",
       "  <bound method J0613-sim.solar_system_shapiro_delay of <pint.models.timing_model.J0613-sim object at 0x11156ef10>>,\n",
       "  <bound method J0613-sim.dispersion_delay of <pint.models.timing_model.J0613-sim object at 0x11156ef10>>],\n",
       " 'L2': [<bound method J0613-sim.binarymodel_delay of <pint.models.timing_model.J0613-sim object at 0x11156ef10>>]}"
      ]
     },
     "execution_count": 17,
     "metadata": {},
     "output_type": "execute_result"
    }
   ],
   "source": [
    "m.delay_funcs"
   ]
  },
  {
   "cell_type": "code",
   "execution_count": 18,
   "metadata": {
    "collapsed": false
   },
   "outputs": [
    {
     "data": {
      "text/plain": [
       "[<bound method J0613-sim.spindown_phase of <pint.models.timing_model.J0613-sim object at 0x11156ef10>>]"
      ]
     },
     "execution_count": 18,
     "metadata": {},
     "output_type": "execute_result"
    }
   ],
   "source": [
    "m.phase_funcs"
   ]
  },
  {
   "cell_type": "markdown",
   "metadata": {},
   "source": [
    "Can easily show/compute individual terms..."
   ]
  },
  {
   "cell_type": "code",
   "execution_count": 19,
   "metadata": {
    "collapsed": false
   },
   "outputs": [
    {
     "name": "stdout",
     "output_type": "stream",
     "text": [
      "[  1.36588635e-05   1.36588635e-05   1.36588635e-05 ...,  -7.78619494e-07\n",
      "  -7.78619494e-07  -7.78619498e-07]\n"
     ]
    }
   ],
   "source": [
    "ds = m.solar_system_shapiro_delay(tt)\n",
    "print(ds)"
   ]
  },
  {
   "cell_type": "code",
   "execution_count": 20,
   "metadata": {
    "collapsed": false
   },
   "outputs": [
    {
     "data": {
      "text/plain": [
       "<matplotlib.text.Text at 0x112890650>"
      ]
     },
     "execution_count": 20,
     "metadata": {},
     "output_type": "execute_result"
    },
    {
     "data": {
      "image/png": "[encoded data removed]",
      "text/plain": [
       "<matplotlib.figure.Figure at 0x111f0da50>"
      ]
     },
     "metadata": {},
     "output_type": "display_data"
    }
   ],
   "source": [
    "import matplotlib.pyplot as plt\n",
    "%matplotlib inline\n",
    "plt.plot(t.get_mjds(high_precision=False), ds*1e6, 'x')\n",
    "plt.xlabel(\"MJD\") ; plt.ylabel(\"Delay ($\\mu$s)\")"
   ]
  },
  {
   "cell_type": "markdown",
   "metadata": {},
   "source": [
    "or all of the terms added together:"
   ]
  },
  {
   "cell_type": "code",
   "execution_count": 21,
   "metadata": {
    "collapsed": false
   },
   "outputs": [
    {
     "data": {
      "text/plain": [
       "array([ 383.42189435,  383.42233456,  383.4227785 , ...,  -42.364831  ,\n",
       "        -42.36435585,  -42.36387685])"
      ]
     },
     "execution_count": 21,
     "metadata": {},
     "output_type": "execute_result"
    }
   ],
   "source": [
    "m.delay(tt)"
   ]
  },
  {
   "cell_type": "code",
   "execution_count": 22,
   "metadata": {
    "collapsed": false
   },
   "outputs": [
    {
     "data": {
      "text/plain": [
       "Phase(int=<Column name='tdbld' dtype='float128' length=1462>\n",
       "-33455540619.0\n",
       "-33455540619.0\n",
       "-33455540619.0\n",
       "-33455540619.0\n",
       "-33455540620.0\n",
       "-33455540620.0\n",
       "-33455540620.0\n",
       "-33455540621.0\n",
       "-33455354765.0\n",
       "-33455354765.0\n",
       "-33455354765.0\n",
       "-33455354765.0\n",
       "           ...\n",
       " 34276095062.0\n",
       " 34276095061.0\n",
       " 34276095061.0\n",
       " 34276095061.0\n",
       " 34924562649.0\n",
       " 34924562649.0\n",
       " 34924562649.0\n",
       " 34924562649.0\n",
       " 34924562649.0\n",
       " 34924562649.0\n",
       " 34924562649.0\n",
       " 34924562648.0, frac=<Column name='tdbld' dtype='float128' length=1462>\n",
       "0.129232738167\n",
       "0.130273494869\n",
       "0.130822904408\n",
       "0.127799611539\n",
       "0.123268928379\n",
       "0.133111756295\n",
       "0.124778985977\n",
       "0.132246188819\n",
       " 0.13095825538\n",
       "0.128953747451\n",
       "0.127470262349\n",
       "0.128128949553\n",
       "           ...\n",
       "0.163823828101\n",
       "0.164243225008\n",
       "0.163413535804\n",
       "0.164021525532\n",
       " 0.16853357479\n",
       "0.168779201806\n",
       "0.171340979636\n",
       "0.170001294464\n",
       "0.167892184108\n",
       "0.167743381113\n",
       "0.168957974762\n",
       "0.167411573231)"
      ]
     },
     "execution_count": 22,
     "metadata": {},
     "output_type": "execute_result"
    }
   ],
   "source": [
    "m.phase(tt)"
   ]
  },
  {
   "cell_type": "markdown",
   "metadata": {},
   "source": [
    "## Residuals"
   ]
  },
  {
   "cell_type": "code",
   "execution_count": 23,
   "metadata": {
    "collapsed": false
   },
   "outputs": [],
   "source": [
    "import pint.residuals as r"
   ]
  },
  {
   "cell_type": "code",
   "execution_count": 24,
   "metadata": {
    "collapsed": false
   },
   "outputs": [
    {
     "name": "stderr",
     "output_type": "stream",
     "text": [
      "/opt/local/Library/Frameworks/Python.framework/Versions/2.7/lib/python2.7/site-packages/astropy/table/column.py:263: FutureWarning: comparison to `None` will result in an elementwise object comparison in the future.\n",
      "  return self.data.__eq__(other)\n"
     ]
    }
   ],
   "source": [
    "rs = r.resids(t, m).phase_resids"
   ]
  },
  {
   "cell_type": "code",
   "execution_count": 25,
   "metadata": {
    "collapsed": false
   },
   "outputs": [
    {
     "data": {
      "image/png": "[encoded data removed]",
      "text/plain": [
       "<matplotlib.figure.Figure at 0x113b200d0>"
      ]
     },
     "metadata": {},
     "output_type": "display_data"
    }
   ],
   "source": [
    "plt.plot(t.get_mjds(high_precision=False), rs, 'x')\n",
    "plt.title(\"%s Pre-Fit Timing Residuals\" % m.PSR.value)\n",
    "plt.xlabel('MJD'); plt.ylabel('Residual (phase)')\n",
    "plt.grid()\n"
   ]
  },
  {
   "cell_type": "markdown",
   "metadata": {},
   "source": [
    "## Fitting and Post-Fit residuals"
   ]
  },
  {
   "cell_type": "markdown",
   "metadata": {},
   "source": [
    "The fitter is *completely* separate from the model and the TOA code.  So you can use any type of fitter with some easy coding.  This example uses a very simple Powell minimizer from the SciPy optimize module. "
   ]
  },
  {
   "cell_type": "code",
   "execution_count": 26,
   "metadata": {
    "collapsed": false
   },
   "outputs": [],
   "source": [
    "import pint.fitter as fit\n",
    "f = fit.wls_fitter(t, m)"
   ]
  },
  {
   "cell_type": "code",
   "execution_count": 27,
   "metadata": {
    "collapsed": false
   },
   "outputs": [
    {
     "data": {
      "text/plain": [
       "{'A1': <Quantity 1.0914342120578364 ls>,\n",
       " 'DECJ': <Angle -2.013118161111111 deg>,\n",
       " 'DM': <Quantity 38.77753444534659 pc / cm3>,\n",
       " 'ECC': <Quantity 5.286463595509009e-06>,\n",
       " 'F0': <Quantity 326.60056202349007573 Hz>,\n",
       " 'F1': <Quantity -1.0229704624634172473e-15 Hz / s>,\n",
       " 'OM': <Quantity 47.68151959744386 deg>,\n",
       " 'PB': <Quantity 1.198512575222573 d>,\n",
       " 'PMDEC': <Quantity -10.338557735985926 mas / yr>,\n",
       " 'PMRA': <Quantity 1.8277959527833962 mas / yr>,\n",
       " 'PX': <Quantity 1.1163892630643213 mas>,\n",
       " 'RAJ': <Angle 6.228882687555556 hourangle>,\n",
       " 'T0': <Time object: scale='tdb' format='mjd' value=53113.9550956>}"
      ]
     },
     "execution_count": 27,
     "metadata": {},
     "output_type": "execute_result"
    }
   ],
   "source": [
    "f.get_fitparams()"
   ]
  },
  {
   "cell_type": "code",
   "execution_count": 28,
   "metadata": {
    "collapsed": false
   },
   "outputs": [
    {
     "name": "stdout",
     "output_type": "stream",
     "text": [
      "('d_delay_d_Offset', 'd_phase_d_Offset')\n",
      "('d_delay_d_PX', 'd_phase_d_PX')\n",
      "d_delay_astrometry_d_PX\n",
      "('d_delay_d_RAJ', 'd_phase_d_RAJ')\n",
      "d_delay_astrometry_d_RAJ\n",
      "('d_delay_d_DECJ', 'd_phase_d_DECJ')\n",
      "d_delay_astrometry_d_DECJ\n",
      "('d_delay_d_PMRA', 'd_phase_d_PMRA')\n",
      "d_delay_astrometry_d_PMRA\n",
      "('d_delay_d_PMDEC', 'd_phase_d_PMDEC')\n",
      "d_delay_astrometry_d_PMDEC\n",
      "('d_delay_d_F0', 'd_phase_d_F0')\n",
      "('d_delay_d_F1', 'd_phase_d_F1')\n",
      "('d_delay_d_DM', 'd_phase_d_DM')\n",
      "d_delay_dispersion_d_DM\n",
      "('d_delay_d_PB', 'd_phase_d_PB')\n",
      "d_delay_binary_d_PB\n"
     ]
    },
    {
     "ename": "AttributeError",
     "evalue": "'NoneType' object has no attribute 'to'",
     "output_type": "error",
     "traceback": [
      "\u001b[0;31m---------------------------------------------------------------------------\u001b[0m",
      "\u001b[0;31mAttributeError\u001b[0m                            Traceback (most recent call last)",
      "\u001b[0;32m<ipython-input-28-cbecf5cd4f9e>\u001b[0m in \u001b[0;36m<module>\u001b[0;34m()\u001b[0m\n\u001b[0;32m----> 1\u001b[0;31m \u001b[0mf\u001b[0m\u001b[0;34m.\u001b[0m\u001b[0mcall_minimize\u001b[0m\u001b[0;34m(\u001b[0m\u001b[0;34m)\u001b[0m\u001b[0;34m\u001b[0m\u001b[0m\n\u001b[0m",
      "\u001b[0;32m/Users/paulr/Library/Python/2.7/lib/python/site-packages/pint-0.0.1-py2.7-macosx-10.11-x86_64.egg/pint/fitter.pyc\u001b[0m in \u001b[0;36mcall_minimize\u001b[0;34m(self, method, maxiter)\u001b[0m\n\u001b[1;32m    101\u001b[0m         \u001b[0;31m# Define the linear system\u001b[0m\u001b[0;34m\u001b[0m\u001b[0;34m\u001b[0m\u001b[0m\n\u001b[1;32m    102\u001b[0m         M, params, units = self.model.designmatrix(toas=self.toas.table,\n\u001b[0;32m--> 103\u001b[0;31m                 incfrozen=False, incoffset=True)\n\u001b[0m\u001b[1;32m    104\u001b[0m         \u001b[0mNvec\u001b[0m \u001b[0;34m=\u001b[0m \u001b[0mnumpy\u001b[0m\u001b[0;34m.\u001b[0m\u001b[0marray\u001b[0m\u001b[0;34m(\u001b[0m\u001b[0mself\u001b[0m\u001b[0;34m.\u001b[0m\u001b[0mtoas\u001b[0m\u001b[0;34m.\u001b[0m\u001b[0mget_errors\u001b[0m\u001b[0;34m(\u001b[0m\u001b[0;34m)\u001b[0m\u001b[0;34m.\u001b[0m\u001b[0mto\u001b[0m\u001b[0;34m(\u001b[0m\u001b[0mu\u001b[0m\u001b[0;34m.\u001b[0m\u001b[0ms\u001b[0m\u001b[0;34m)\u001b[0m\u001b[0;34m)\u001b[0m\u001b[0;34m**\u001b[0m\u001b[0;36m2\u001b[0m\u001b[0;34m\u001b[0m\u001b[0m\n\u001b[1;32m    105\u001b[0m         \u001b[0mself\u001b[0m\u001b[0;34m.\u001b[0m\u001b[0mupdate_resids\u001b[0m\u001b[0;34m(\u001b[0m\u001b[0;34m)\u001b[0m\u001b[0;34m\u001b[0m\u001b[0m\n",
      "\u001b[0;32m/Users/paulr/Library/Python/2.7/lib/python/site-packages/pint-0.0.1-py2.7-macosx-10.11-x86_64.egg/pint/models/timing_model.pyc\u001b[0m in \u001b[0;36mdesignmatrix\u001b[0;34m(self, toas, incfrozen, incoffset)\u001b[0m\n\u001b[1;32m    361\u001b[0m                 \u001b[0munits\u001b[0m\u001b[0;34m.\u001b[0m\u001b[0mappend\u001b[0m\u001b[0;34m(\u001b[0m\u001b[0mq\u001b[0m\u001b[0;34m.\u001b[0m\u001b[0munit\u001b[0m\u001b[0;34m)\u001b[0m\u001b[0;34m\u001b[0m\u001b[0m\n\u001b[1;32m    362\u001b[0m             \u001b[0;32melse\u001b[0m\u001b[0;34m:\u001b[0m\u001b[0;34m\u001b[0m\u001b[0m\n\u001b[0;32m--> 363\u001b[0;31m                 \u001b[0mq\u001b[0m \u001b[0;34m=\u001b[0m \u001b[0mself\u001b[0m\u001b[0;34m.\u001b[0m\u001b[0md_delay_d_param\u001b[0m\u001b[0;34m(\u001b[0m\u001b[0mtoas\u001b[0m\u001b[0;34m,\u001b[0m \u001b[0mparam\u001b[0m\u001b[0;34m)\u001b[0m\u001b[0;34m\u001b[0m\u001b[0m\n\u001b[0m\u001b[1;32m    364\u001b[0m                 \u001b[0mM\u001b[0m\u001b[0;34m[\u001b[0m\u001b[0;34m:\u001b[0m\u001b[0;34m,\u001b[0m\u001b[0mii\u001b[0m\u001b[0;34m]\u001b[0m \u001b[0;34m=\u001b[0m \u001b[0mq\u001b[0m\u001b[0;34m\u001b[0m\u001b[0m\n\u001b[1;32m    365\u001b[0m                 \u001b[0;31m# TODO: Make all the derivs has unit\u001b[0m\u001b[0;34m\u001b[0m\u001b[0;34m\u001b[0m\u001b[0m\n",
      "\u001b[0;32m/Users/paulr/Library/Python/2.7/lib/python/site-packages/pint-0.0.1-py2.7-macosx-10.11-x86_64.egg/pint/models/timing_model.pyc\u001b[0m in \u001b[0;36md_delay_d_param\u001b[0;34m(self, toas, param)\u001b[0m\n\u001b[1;32m    323\u001b[0m         \u001b[0;32mfor\u001b[0m \u001b[0mdf\u001b[0m \u001b[0;32min\u001b[0m \u001b[0mparam_delay_derivs\u001b[0m\u001b[0;34m:\u001b[0m\u001b[0;34m\u001b[0m\u001b[0m\n\u001b[1;32m    324\u001b[0m             \u001b[0;32mprint\u001b[0m\u001b[0;34m(\u001b[0m\u001b[0mdf\u001b[0m\u001b[0;34m.\u001b[0m\u001b[0m__name__\u001b[0m\u001b[0;34m)\u001b[0m\u001b[0;34m\u001b[0m\u001b[0m\n\u001b[0;32m--> 325\u001b[0;31m             \u001b[0mresult\u001b[0m \u001b[0;34m+=\u001b[0m \u001b[0mdf\u001b[0m\u001b[0;34m(\u001b[0m\u001b[0mtoas\u001b[0m\u001b[0;34m)\u001b[0m\u001b[0;34m.\u001b[0m\u001b[0mto\u001b[0m\u001b[0;34m(\u001b[0m\u001b[0mu\u001b[0m\u001b[0;34m.\u001b[0m\u001b[0ms\u001b[0m\u001b[0;34m/\u001b[0m\u001b[0mpar\u001b[0m\u001b[0;34m.\u001b[0m\u001b[0munits\u001b[0m\u001b[0;34m,\u001b[0m \u001b[0mequivalencies\u001b[0m\u001b[0;34m=\u001b[0m\u001b[0mu\u001b[0m\u001b[0;34m.\u001b[0m\u001b[0mdimensionless_angles\u001b[0m\u001b[0;34m(\u001b[0m\u001b[0;34m)\u001b[0m\u001b[0;34m)\u001b[0m\u001b[0;34m\u001b[0m\u001b[0m\n\u001b[0m\u001b[1;32m    326\u001b[0m         \u001b[0;32mreturn\u001b[0m \u001b[0mresult\u001b[0m\u001b[0;34m\u001b[0m\u001b[0m\n\u001b[1;32m    327\u001b[0m \u001b[0;34m\u001b[0m\u001b[0m\n",
      "\u001b[0;31mAttributeError\u001b[0m: 'NoneType' object has no attribute 'to'"
     ]
    }
   ],
   "source": [
    "f.call_minimize()"
   ]
  },
  {
   "cell_type": "code",
   "execution_count": null,
   "metadata": {
    "collapsed": false
   },
   "outputs": [],
   "source": [
    "print \"Best fit has reduced chi^2 of\", f.resids.chi2_reduced\n",
    "print \"RMS in phase is\", f.resids.phase_resids.std()\n",
    "print \"RMS in time is\", f.resids.time_resids.std().to(u.us)\n",
    "print \"\\n Best model is:\"\n",
    "print f.model.as_parfile()\n"
   ]
  },
  {
   "cell_type": "code",
   "execution_count": null,
   "metadata": {
    "collapsed": false
   },
   "outputs": [],
   "source": [
    "plt.errorbar(t.get_mjds(high_precision=False),\n",
    "             f.resids.time_resids.to(u.us).value,\n",
    "             t.get_errors().to(u.us).value, fmt='x')\n",
    "plt.title(\"%s Post-Fit Timing Residuals\" % m.PSR.value)\n",
    "plt.xlabel('MJD'); plt.ylabel('Residual (us)')\n",
    "plt.grid()"
   ]
  },
  {
   "cell_type": "markdown",
   "metadata": {},
   "source": [
    "## Other interesting things"
   ]
  },
  {
   "cell_type": "markdown",
   "metadata": {},
   "source": [
    "We can make Barycentered TOAs in a single line!"
   ]
  },
  {
   "cell_type": "code",
   "execution_count": 29,
   "metadata": {
    "collapsed": false
   },
   "outputs": [
    {
     "data": {
      "text/latex": [
       "$[53216.123,~53216.123,~53216.123,~\\dots, 55639.378,~55639.378,~55639.378] \\; \\mathrm{d}$"
      ],
      "text/plain": [
       "<Quantity [ 53216.123, 53216.123, 53216.123,...,  55639.378, 55639.378,\n",
       "            55639.378] d>"
      ]
     },
     "execution_count": 29,
     "metadata": {},
     "output_type": "execute_result"
    }
   ],
   "source": [
    "m.get_barycentric_toas(tt)"
   ]
  },
  {
   "cell_type": "code",
   "execution_count": null,
   "metadata": {
    "collapsed": false
   },
   "outputs": [],
   "source": []
  }
 ],
 "metadata": {
  "kernelspec": {
   "display_name": "Python 2",
   "language": "python",
   "name": "python2"
  },
  "language_info": {
   "codemirror_mode": {
    "name": "ipython",
    "version": 2
   },
   "file_extension": ".py",
   "mimetype": "text/x-python",
   "name": "python",
   "nbconvert_exporter": "python",
   "pygments_lexer": "ipython2",
   "version": "2.7.12"
  }
 },
 "nbformat": 4,
 "nbformat_minor": 0
}
