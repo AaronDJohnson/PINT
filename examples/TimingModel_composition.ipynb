{
 "cells": [
  {
   "cell_type": "code",
   "execution_count": 2,
   "metadata": {
    "collapsed": false
   },
   "outputs": [],
   "source": [
    "# timing_model.py\n",
    "# Defines the basic timing model interface classes\n",
    "import functools\n",
    "from pint.models.parameter import strParameter\n",
    "from pint.phase import Phase\n",
    "from astropy import log\n",
    "import astropy.time as time\n",
    "import numpy as np\n",
    "import pint.utils as utils\n",
    "import astropy.units as u\n",
    "import copy\n",
    "import abc\n",
    "from six import add_metaclass\n",
    "import astropy.coordinates as coords\n",
    "import astropy.constants as const\n",
    "from astropy.coordinates.angles import Angle\n",
    "from astropy import log\n",
    "from pint.models import parameter as p\n",
    "from pint.models.timing_model import MissingParameter\n",
    "from pint.utils import time_from_mjd_string, time_to_longdouble, str2longdouble\n",
    "from pint.pulsar_ecliptic import PulsarEcliptic, OBL\n",
    "from pint import ls\n",
    "from pint import utils\n",
    "import time\n",
    "import matplotlib.pyplot as plt\n",
    "%matplotlib inline\n",
    "\n",
    "mas_yr = (u.mas / u.yr)\n",
    "\n",
    "try:\n",
    "    from astropy.erfa import DAYSEC as SECS_PER_DAY\n",
    "except ImportError:\n",
    "    from astropy._erfa import DAYSEC as SECS_PER_DAY\n"
   ]
  },
  {
   "cell_type": "markdown",
   "metadata": {},
   "source": [
    "Define the TimingModel class"
   ]
  },
  {
   "cell_type": "markdown",
   "metadata": {},
   "source": [
    "Define the component class"
   ]
  },
  {
   "cell_type": "code",
   "execution_count": null,
   "metadata": {
    "collapsed": true
   },
   "outputs": [],
   "source": []
  }
 ],
 "metadata": {
  "anaconda-cloud": {},
  "kernelspec": {
   "display_name": "Python [default]",
   "language": "python",
   "name": "python2"
  },
  "language_info": {
   "codemirror_mode": {
    "name": "ipython",
    "version": 2
   },
   "file_extension": ".py",
   "mimetype": "text/x-python",
   "name": "python",
   "nbconvert_exporter": "python",
   "pygments_lexer": "ipython2",
   "version": "2.7.12"
  }
 },
 "nbformat": 4,
 "nbformat_minor": 2
}
