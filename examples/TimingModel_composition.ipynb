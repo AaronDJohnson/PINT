{
 "cells": [
  {
   "cell_type": "code",
   "execution_count": 1,
   "metadata": {
    "collapsed": false
   },
   "outputs": [
    {
     "ename": "AttributeError",
     "evalue": "'AstrometryEquatorial' object has no attribute 'params'",
     "output_type": "error",
     "traceback": [
      "\u001b[0;31m---------------------------------------------------------------------------\u001b[0m",
      "\u001b[0;31mAttributeError\u001b[0m                            Traceback (most recent call last)",
      "\u001b[0;32m<ipython-input-1-ad2b6d56256b>\u001b[0m in \u001b[0;36m<module>\u001b[0;34m()\u001b[0m\n\u001b[1;32m      2\u001b[0m \u001b[0;31m# Defines the basic timing model interface classes\u001b[0m\u001b[0;34m\u001b[0m\u001b[0;34m\u001b[0m\u001b[0m\n\u001b[1;32m      3\u001b[0m \u001b[0;32mimport\u001b[0m \u001b[0mfunctools\u001b[0m\u001b[0;34m\u001b[0m\u001b[0m\n\u001b[0;32m----> 4\u001b[0;31m \u001b[0;32mfrom\u001b[0m \u001b[0mpint\u001b[0m\u001b[0;34m.\u001b[0m\u001b[0mmodels\u001b[0m\u001b[0;34m.\u001b[0m\u001b[0mparameter\u001b[0m \u001b[0;32mimport\u001b[0m \u001b[0mstrParameter\u001b[0m\u001b[0;34m\u001b[0m\u001b[0m\n\u001b[0m\u001b[1;32m      5\u001b[0m \u001b[0;32mfrom\u001b[0m \u001b[0mpint\u001b[0m\u001b[0;34m.\u001b[0m\u001b[0mphase\u001b[0m \u001b[0;32mimport\u001b[0m \u001b[0mPhase\u001b[0m\u001b[0;34m\u001b[0m\u001b[0m\n\u001b[1;32m      6\u001b[0m \u001b[0;32mfrom\u001b[0m \u001b[0mastropy\u001b[0m \u001b[0;32mimport\u001b[0m \u001b[0mlog\u001b[0m\u001b[0;34m\u001b[0m\u001b[0m\n",
      "\u001b[0;32m/Users/jingluo/Research_codes/PINT/pint/models/__init__.py\u001b[0m in \u001b[0;36m<module>\u001b[0;34m()\u001b[0m\n\u001b[1;32m     20\u001b[0m \u001b[0;31m# Define a standard basic model\u001b[0m\u001b[0;34m\u001b[0m\u001b[0;34m\u001b[0m\u001b[0m\n\u001b[1;32m     21\u001b[0m StandardTimingModel = generate_timing_model(\"StandardTimingModel\",\n\u001b[0;32m---> 22\u001b[0;31m         (AstrometryEquatorial, Spindown, Dispersion, SolarSystemShapiro))\n\u001b[0m\u001b[1;32m     23\u001b[0m \u001b[0;31m# BTTimingModel = generate_timing_model(\"BTTimingModel\",\u001b[0m\u001b[0;34m\u001b[0m\u001b[0;34m\u001b[0m\u001b[0m\n\u001b[1;32m     24\u001b[0m \u001b[0;31m#         (Astrometry, Spindown, Dispersion, SolarSystemShapiro, BT))\u001b[0m\u001b[0;34m\u001b[0m\u001b[0;34m\u001b[0m\u001b[0m\n",
      "\u001b[0;32m/Users/jingluo/Research_codes/PINT/pint/models/timing_model.pyc\u001b[0m in \u001b[0;36mgenerate_timing_model\u001b[0;34m(name, components, attributes)\u001b[0m\n\u001b[1;32m    808\u001b[0m             raise(TypeError(\"generate_timing_model() Arg 2\"+\n\u001b[1;32m    809\u001b[0m                             \"has to be a tuple of classes\"))\n\u001b[0;32m--> 810\u001b[0;31m         \u001b[0mcp\u001b[0m \u001b[0;34m=\u001b[0m \u001b[0mc\u001b[0m\u001b[0;34m(\u001b[0m\u001b[0;34m)\u001b[0m\u001b[0;34m\u001b[0m\u001b[0m\n\u001b[0m\u001b[1;32m    811\u001b[0m         \u001b[0mcpi\u001b[0m \u001b[0;34m=\u001b[0m \u001b[0mComponentInfo\u001b[0m\u001b[0;34m(\u001b[0m\u001b[0mcp\u001b[0m\u001b[0;34m)\u001b[0m\u001b[0;34m\u001b[0m\u001b[0m\n\u001b[1;32m    812\u001b[0m         \u001b[0mcps\u001b[0m\u001b[0;34m[\u001b[0m\u001b[0mcpi\u001b[0m\u001b[0;34m.\u001b[0m\u001b[0mname\u001b[0m\u001b[0;34m]\u001b[0m \u001b[0;34m=\u001b[0m \u001b[0mcpi\u001b[0m\u001b[0;34m\u001b[0m\u001b[0m\n",
      "\u001b[0;32m/Users/jingluo/Research_codes/PINT/pint/models/astrometry.pyc\u001b[0m in \u001b[0;36m__init__\u001b[0;34m(self)\u001b[0m\n\u001b[1;32m    145\u001b[0m     \u001b[0mregister\u001b[0m \u001b[0;34m=\u001b[0m \u001b[0mTrue\u001b[0m\u001b[0;34m\u001b[0m\u001b[0m\n\u001b[1;32m    146\u001b[0m     \u001b[0;32mdef\u001b[0m \u001b[0m__init__\u001b[0m\u001b[0;34m(\u001b[0m\u001b[0mself\u001b[0m\u001b[0;34m)\u001b[0m\u001b[0;34m:\u001b[0m\u001b[0;34m\u001b[0m\u001b[0m\n\u001b[0;32m--> 147\u001b[0;31m         \u001b[0msuper\u001b[0m\u001b[0;34m(\u001b[0m\u001b[0mAstrometryEquatorial\u001b[0m\u001b[0;34m,\u001b[0m \u001b[0mself\u001b[0m\u001b[0;34m)\u001b[0m\u001b[0;34m.\u001b[0m\u001b[0m__init__\u001b[0m\u001b[0;34m(\u001b[0m\u001b[0;34m)\u001b[0m\u001b[0;34m\u001b[0m\u001b[0m\n\u001b[0m\u001b[1;32m    148\u001b[0m         self.add_param(p.AngleParameter(name=\"RAJ\",\n\u001b[1;32m    149\u001b[0m             \u001b[0munits\u001b[0m\u001b[0;34m=\u001b[0m\u001b[0;34m\"H:M:S\"\u001b[0m\u001b[0;34m,\u001b[0m\u001b[0;34m\u001b[0m\u001b[0m\n",
      "\u001b[0;32m/Users/jingluo/Research_codes/PINT/pint/models/astrometry.pyc\u001b[0m in \u001b[0;36m__init__\u001b[0;34m(self)\u001b[0m\n\u001b[1;32m     25\u001b[0m     \u001b[0mregister\u001b[0m \u001b[0;34m=\u001b[0m \u001b[0mTrue\u001b[0m\u001b[0;34m\u001b[0m\u001b[0m\n\u001b[1;32m     26\u001b[0m     \u001b[0;32mdef\u001b[0m \u001b[0m__init__\u001b[0m\u001b[0;34m(\u001b[0m\u001b[0mself\u001b[0m\u001b[0;34m)\u001b[0m\u001b[0;34m:\u001b[0m\u001b[0;34m\u001b[0m\u001b[0m\n\u001b[0;32m---> 27\u001b[0;31m         \u001b[0msuper\u001b[0m\u001b[0;34m(\u001b[0m\u001b[0mAstrometry\u001b[0m\u001b[0;34m,\u001b[0m \u001b[0mself\u001b[0m\u001b[0;34m)\u001b[0m\u001b[0;34m.\u001b[0m\u001b[0m__init__\u001b[0m\u001b[0;34m(\u001b[0m\u001b[0;34m)\u001b[0m\u001b[0;34m\u001b[0m\u001b[0m\n\u001b[0m\u001b[1;32m     28\u001b[0m         self.add_param(p.MJDParameter(name=\"POSEPOCH\",\n\u001b[1;32m     29\u001b[0m             description=\"Reference epoch for position\"))\n",
      "\u001b[0;32m/Users/jingluo/Research_codes/PINT/pint/models/timing_model.pyc\u001b[0m in \u001b[0;36m__init__\u001b[0;34m(self, model_components)\u001b[0m\n\u001b[1;32m    175\u001b[0m         self.add_param(strParameter(name=\"PSR\",\n\u001b[1;32m    176\u001b[0m             \u001b[0mdescription\u001b[0m\u001b[0;34m=\u001b[0m\u001b[0;34m\"Source name\"\u001b[0m\u001b[0;34m,\u001b[0m\u001b[0;34m\u001b[0m\u001b[0m\n\u001b[0;32m--> 177\u001b[0;31m             aliases=[\"PSRJ\", \"PSRB\"]))\n\u001b[0m\u001b[1;32m    178\u001b[0m         \u001b[0mself\u001b[0m\u001b[0;34m.\u001b[0m\u001b[0mmodel_type\u001b[0m \u001b[0;34m=\u001b[0m \u001b[0mNone\u001b[0m\u001b[0;34m\u001b[0m\u001b[0m\n\u001b[1;32m    179\u001b[0m         \u001b[0mself\u001b[0m\u001b[0;34m.\u001b[0m\u001b[0mdelay_derivs\u001b[0m \u001b[0;34m=\u001b[0m \u001b[0;34m{\u001b[0m\u001b[0;34m}\u001b[0m\u001b[0;34m\u001b[0m\u001b[0m\n",
      "\u001b[0;32m/Users/jingluo/Research_codes/PINT/pint/models/timing_model.pyc\u001b[0m in \u001b[0;36madd_param\u001b[0;34m(self, param, binary_param)\u001b[0m\n\u001b[1;32m    194\u001b[0m         \"\"\"\n\u001b[1;32m    195\u001b[0m         \u001b[0msetattr\u001b[0m\u001b[0;34m(\u001b[0m\u001b[0mself\u001b[0m\u001b[0;34m,\u001b[0m \u001b[0mparam\u001b[0m\u001b[0;34m.\u001b[0m\u001b[0mname\u001b[0m\u001b[0;34m,\u001b[0m \u001b[0mparam\u001b[0m\u001b[0;34m)\u001b[0m\u001b[0;34m\u001b[0m\u001b[0m\n\u001b[0;32m--> 196\u001b[0;31m         \u001b[0mself\u001b[0m\u001b[0;34m.\u001b[0m\u001b[0mparams\u001b[0m \u001b[0;34m+=\u001b[0m \u001b[0;34m[\u001b[0m\u001b[0mparam\u001b[0m\u001b[0;34m.\u001b[0m\u001b[0mname\u001b[0m\u001b[0;34m,\u001b[0m\u001b[0;34m]\u001b[0m\u001b[0;34m\u001b[0m\u001b[0m\n\u001b[0m\u001b[1;32m    197\u001b[0m \u001b[0;34m\u001b[0m\u001b[0m\n\u001b[1;32m    198\u001b[0m         \u001b[0;32mif\u001b[0m \u001b[0mbinary_param\u001b[0m \u001b[0;32mis\u001b[0m \u001b[0mTrue\u001b[0m\u001b[0;34m:\u001b[0m\u001b[0;34m\u001b[0m\u001b[0m\n",
      "\u001b[0;31mAttributeError\u001b[0m: 'AstrometryEquatorial' object has no attribute 'params'"
     ]
    }
   ],
   "source": [
    "# timing_model.py\n",
    "# Defines the basic timing model interface classes\n",
    "import functools\n",
    "from pint.models.parameter import strParameter\n",
    "from pint.phase import Phase\n",
    "from astropy import log\n",
    "import astropy.time as time\n",
    "import numpy as np\n",
    "import pint.utils as utils\n",
    "import astropy.units as u\n",
    "import copy\n",
    "import abc\n",
    "from six import add_metaclass\n",
    "import astropy.coordinates as coords\n",
    "import astropy.constants as const\n",
    "from astropy.coordinates.angles import Angle\n",
    "from astropy import log\n",
    "from pint.models import parameter as p\n",
    "from pint.models.timing_model import MissingParameter, Cache\n",
    "from pint.utils import time_from_mjd_string, time_to_longdouble, str2longdouble\n",
    "from pint.pulsar_ecliptic import PulsarEcliptic, OBL\n",
    "from pint import ls\n",
    "from pint import utils\n",
    "import time\n",
    "import matplotlib.pyplot as plt\n",
    "%matplotlib inline\n",
    "\n",
    "mas_yr = (u.mas / u.yr)\n",
    "\n",
    "try:\n",
    "    from astropy.erfa import DAYSEC as SECS_PER_DAY\n",
    "except ImportError:\n",
    "    from astropy._erfa import DAYSEC as SECS_PER_DAY\n"
   ]
  },
  {
   "cell_type": "markdown",
   "metadata": {},
   "source": [
    "Define the TimingModel class"
   ]
  },
  {
   "cell_type": "code",
   "execution_count": null,
   "metadata": {
    "collapsed": false
   },
   "outputs": [],
   "source": [
    "ignore_params = ['START', 'FINISH', 'SOLARN0', 'EPHEM', 'CLK', 'UNITS',\n",
    "                 'TIMEEPH', 'T2CMETHOD', 'CORRECT_TROPOSPHERE', 'DILATEFREQ',\n",
    "                 'NTOA', 'CLOCK', 'TRES', 'TZRMJD', 'TZRFRQ', 'TZRSITE',\n",
    "                 'NITS', 'IBOOT','BINARY']\n",
    "ignore_prefix = ['DMXF1_','DMXF2_','DMXEP_'] # DMXEP_ for now.\n",
    "\n",
    "class TimingModelc(object):\n",
    "    \"\"\"This is a class that holds all the model component as a composition style.\n",
    "       The result should be the same to the orginal TimingModel style.\n",
    "       Parameters\n",
    "       ----------\n",
    "       comps : optional\n",
    "           The timing modle components to placed into the TimingModel.\n",
    "    \"\"\"\n",
    "    def __init__(self, comps=[]):\n",
    "        self.comp_list = {}\n",
    "        self.delays = []\n",
    "        self.phases = []\n",
    "        self.delay_comps = []\n",
    "        self.phase_comps = []\n",
    "        self.param_map = {}\n",
    "        self.componet_type_map = {'phase':'phases',\n",
    "                                  'delay':'delays'}\n",
    "        self.add_comps(comps)\n",
    "    \n",
    "    def __getattr__(self, name):\n",
    "        if name in self.params:\n",
    "            cpname = self.param_map[name]\n",
    "            cp = self.comp_list[cpname]\n",
    "            return cp.__getattribute__(name)\n",
    "        else:\n",
    "            super(TimingModelc, self).__getattr__(name)\n",
    "    \n",
    "    @property\n",
    "    def params(self,):\n",
    "        return self.param_map.keys()\n",
    "    \n",
    "    def add_param(self, param, comp=''):\n",
    "        pass            \n",
    "    def add_comps(self, comps):\n",
    "        if not isinstance(comps, (list, tuple)):\n",
    "            comps = [comps,]\n",
    "        for cp in comps:\n",
    "            cpname = cp.__class__.__name__\n",
    "            self.comp_list[cpname] = cp\n",
    "            cp._parent = self\n",
    "            cp_type = cp.component_type\n",
    "            if cp_type in self.componet_type_map.keys():\n",
    "                getattr(self, self.componet_type_map[cp_type]).append(cpname)\n",
    "            else:\n",
    "                new_cp_type = cp_type+'s'\n",
    "                setattr(self, new_cp_type, [cpname,])\n",
    "            for param in cp.params:\n",
    "                self.param_map[param] = cpname\n",
    "                \n",
    "    def remove_comps(self, comps_name):\n",
    "        pass\n",
    "    def delay(self, toas):\n",
    "        # We can put order here. For now it will be kept like this\n",
    "        delay = np.zeros(len(toas))\n",
    "        for cp in self.delays:\n",
    "            dfs = self.comp_list[cp].delay_funcs\n",
    "            for df in dfs:\n",
    "                delay += df(toas)\n",
    "        return delay\n",
    "    \n",
    "    def phase(self, toas):\n",
    "    # First compute the delays to \"pulsar time\"\n",
    "        delay = self.delay(toas)\n",
    "        phase = Phase(np.zeros(len(toas)), np.zeros(len(toas)))\n",
    "        # Then compute the relevant pulse phases\n",
    "        for cp in self.phases:\n",
    "            pfs = self.comp_list[cp].phase_funcs\n",
    "            for pf in pfs:\n",
    "                phase += Phase(pf(toas, delay))     \n",
    "        return phase\n",
    "    \n",
    "    def read_parfile(self, filename):\n",
    "        \"\"\"Read values from the specified parfile into the model parameters.\"\"\"\n",
    "        checked_param = []\n",
    "        repeat_param = {}\n",
    "        pfile = open(filename, 'r')\n",
    "        for l in [pl.strip() for pl in pfile.readlines()]:\n",
    "            # Skip blank lines\n",
    "            if not l:\n",
    "                continue\n",
    "            # Skip commented lines\n",
    "            if l.startswith('#') or l[:2]==\"C \":\n",
    "                continue\n",
    "\n",
    "            k = l.split()\n",
    "            name = k[0].upper()\n",
    "\n",
    "            if name in checked_param:\n",
    "                if name in repeat_param.keys():\n",
    "                    repeat_param[name] += 1\n",
    "                else:\n",
    "                    repeat_param[name] = 2\n",
    "                k[0] = k[0] + str(repeat_param[name])\n",
    "                l = ' '.join(k)\n",
    "\n",
    "            parsed = False\n",
    "            for par in self.params:\n",
    "                cp = self.param_map[par]\n",
    "                if getattr(self.comp_list[cp], par).from_parfile_line(l):\n",
    "                    parsed = True\n",
    "            if not parsed:\n",
    "                try:\n",
    "                    prefix,f,v = utils.split_prefixed_name(l.split()[0])\n",
    "                    if prefix not in ignore_prefix:\n",
    "                        log.warn(\"Unrecognized parfile line '%s'\" % l)\n",
    "                except:\n",
    "                    if l.split()[0] not in ignore_params:\n",
    "                        log.warn(\"Unrecognized parfile line '%s'\" % l)\n",
    "\n",
    "            checked_param.append(name)\n",
    "        # The \"setup\" functions contain tests for required parameters or\n",
    "        # combinations of parameters, etc, that can only be done\n",
    "        # after the entire parfile is read\n",
    "        for cp in self.comp_list.values():\n",
    "            cp.setup()"
   ]
  },
  {
   "cell_type": "markdown",
   "metadata": {},
   "source": [
    "Define the component class"
   ]
  },
  {
   "cell_type": "code",
   "execution_count": 2,
   "metadata": {
    "collapsed": false
   },
   "outputs": [],
   "source": [
    "class Component(object):\n",
    "    def __init__(self,):\n",
    "        self._parent = None\n",
    "        self.params = []\n",
    "        self.order_number = None\n",
    "    def setup(self,):\n",
    "        pass\n",
    "         \n",
    "    def add_param(self, param):\n",
    "        setattr(self, param.name, param)\n",
    "        self.params += [param.name,] \n",
    "    \n",
    "    def set_special_params(self, spcl_params):\n",
    "        als = []\n",
    "        for p in spcl_params:\n",
    "            als += getattr(self, p).aliases\n",
    "        spcl_params += als\n",
    "        self.model_special_params = spcl_params\n",
    "        \n",
    "    def getattr_from(self, name, source):\n",
    "        if isinstance(source, str):\n",
    "            if self._parent is not None and \\\n",
    "            source in list(self._parent.comp_list.keys()):\n",
    "                return getattr(self._parent.comp_list[source], name)\n",
    "            else:\n",
    "                raise AttributeError(\"Can not find %s from Timing \" \\\n",
    "                                     \"Model class\", source)\n",
    "        else:\n",
    "            return getattr(source, name)\n",
    "    \n",
    "    def param_help(self):\n",
    "        \"\"\"Print help lines for all available parameters in model.\n",
    "        \"\"\"\n",
    "        s = \"Available parameters for %s\\n\" % self.__class__\n",
    "        for par in self.params:\n",
    "            s += \"%s\\n\" % getattr(self, par).help_line()\n",
    "        return s\n",
    "\n",
    "    def get_params_of_type(self, param_type):\n",
    "        \"\"\" Get all the parameters in timing model for one specific type\n",
    "        \"\"\"\n",
    "        result = []\n",
    "        for p in self.params:\n",
    "            par = getattr(self, p)\n",
    "            par_type = type(par).__name__\n",
    "            par_prefix = par_type[:-9]\n",
    "            if param_type.upper() == par_type.upper() or \\\n",
    "                param_type.upper() == par_prefix.upper():\n",
    "                result.append(par.name)\n",
    "        return result\n",
    "\n",
    "    #@Cache.use_cache\n",
    "    def get_prefix_mapping(self,prefix):\n",
    "        \"\"\"Get the index mapping for the prefix parameters.\n",
    "           Parameter\n",
    "           ----------\n",
    "           prefix : str\n",
    "               Name of prefix.\n",
    "           Return\n",
    "           ----------\n",
    "           A dictionary with prefix pararameter real index as key and parameter\n",
    "           name as value.\n",
    "        \"\"\"\n",
    "        parnames = [x for x in self.params if x.startswith(prefix)]\n",
    "        mapping = dict()\n",
    "        for parname in parnames:\n",
    "            par = getattr(self, parname)\n",
    "            if par.is_prefix == True and par.prefix == prefix:\n",
    "                mapping[par.index] = parname\n",
    "        return mapping\n",
    "\n",
    "    def match_param_aliases(self, alias):\n",
    "        p_aliases = {}\n",
    "        # if alias is a parameter name, return itself\n",
    "        if alias in self.params:\n",
    "            return alias\n",
    "        # get all the aliases\n",
    "        for p in self.params:\n",
    "            par = getattr(self, p)\n",
    "            if par.aliases !=[]:\n",
    "                p_aliases[p] = par.aliases\n",
    "        # match alias\n",
    "        for pa, pav in zip(p_aliases.keys(), p_aliases.values()):\n",
    "            if alias in pav:\n",
    "                return pa\n",
    "        # if not found any thing.\n",
    "        return ''           \n",
    "\n",
    "class DelayComponent(Component):\n",
    "    def __init__(self,):\n",
    "        super(DelayComponent, self).__init__()\n",
    "        self.params = []\n",
    "        self.delay_funcs = []\n",
    "        self.component_type = 'delay'\n",
    "        \n",
    "class PhaseComponent(Component):\n",
    "    def __init__(self,):\n",
    "        super(PhaseComponent, self).__init__()\n",
    "        self.params = []\n",
    "        self.phase_funcs = []\n",
    "        self.component_type = 'phase'\n",
    "    "
   ]
  },
  {
   "cell_type": "markdown",
   "metadata": {},
   "source": [
    "Define astrometry delay component"
   ]
  },
  {
   "cell_type": "code",
   "execution_count": 3,
   "metadata": {
    "collapsed": false
   },
   "outputs": [
    {
     "ename": "AttributeError",
     "evalue": "'AstrometryEquatorial' object has no attribute 'params'",
     "output_type": "error",
     "traceback": [
      "\u001b[0;31m---------------------------------------------------------------------------\u001b[0m",
      "\u001b[0;31mAttributeError\u001b[0m                            Traceback (most recent call last)",
      "\u001b[0;32m<ipython-input-3-b7bd24e6f4b4>\u001b[0m in \u001b[0;36m<module>\u001b[0;34m()\u001b[0m\n\u001b[1;32m      3\u001b[0m \u001b[0;32mfrom\u001b[0m \u001b[0mastropy\u001b[0m\u001b[0;34m.\u001b[0m\u001b[0mcoordinates\u001b[0m\u001b[0;34m.\u001b[0m\u001b[0mangles\u001b[0m \u001b[0;32mimport\u001b[0m \u001b[0mAngle\u001b[0m\u001b[0;34m\u001b[0m\u001b[0m\n\u001b[1;32m      4\u001b[0m \u001b[0;32mfrom\u001b[0m \u001b[0mastropy\u001b[0m \u001b[0;32mimport\u001b[0m \u001b[0mlog\u001b[0m\u001b[0;34m\u001b[0m\u001b[0m\n\u001b[0;32m----> 5\u001b[0;31m \u001b[0;32mimport\u001b[0m \u001b[0mpint\u001b[0m\u001b[0;34m.\u001b[0m\u001b[0mmodels\u001b[0m\u001b[0;34m.\u001b[0m\u001b[0mparameter\u001b[0m \u001b[0;32mas\u001b[0m \u001b[0mp\u001b[0m\u001b[0;34m\u001b[0m\u001b[0m\n\u001b[0m\u001b[1;32m      6\u001b[0m \u001b[0;32mfrom\u001b[0m \u001b[0mpint\u001b[0m\u001b[0;34m.\u001b[0m\u001b[0mmodels\u001b[0m\u001b[0;34m.\u001b[0m\u001b[0mtiming_model\u001b[0m \u001b[0;32mimport\u001b[0m \u001b[0mTimingModel\u001b[0m\u001b[0;34m,\u001b[0m \u001b[0mMissingParameter\u001b[0m\u001b[0;34m,\u001b[0m \u001b[0mCache\u001b[0m\u001b[0;34m\u001b[0m\u001b[0m\n\u001b[1;32m      7\u001b[0m \u001b[0;32mfrom\u001b[0m \u001b[0mpint\u001b[0m\u001b[0;34m.\u001b[0m\u001b[0mutils\u001b[0m \u001b[0;32mimport\u001b[0m \u001b[0mtime_from_mjd_string\u001b[0m\u001b[0;34m,\u001b[0m \u001b[0mtime_to_longdouble\u001b[0m\u001b[0;34m,\u001b[0m \u001b[0mstr2longdouble\u001b[0m\u001b[0;34m\u001b[0m\u001b[0m\n",
      "\u001b[0;32m/Users/jingluo/Research_codes/PINT/pint/models/__init__.py\u001b[0m in \u001b[0;36m<module>\u001b[0;34m()\u001b[0m\n\u001b[1;32m     20\u001b[0m \u001b[0;31m# Define a standard basic model\u001b[0m\u001b[0;34m\u001b[0m\u001b[0;34m\u001b[0m\u001b[0m\n\u001b[1;32m     21\u001b[0m StandardTimingModel = generate_timing_model(\"StandardTimingModel\",\n\u001b[0;32m---> 22\u001b[0;31m         (AstrometryEquatorial, Spindown, Dispersion, SolarSystemShapiro))\n\u001b[0m\u001b[1;32m     23\u001b[0m \u001b[0;31m# BTTimingModel = generate_timing_model(\"BTTimingModel\",\u001b[0m\u001b[0;34m\u001b[0m\u001b[0;34m\u001b[0m\u001b[0m\n\u001b[1;32m     24\u001b[0m \u001b[0;31m#         (Astrometry, Spindown, Dispersion, SolarSystemShapiro, BT))\u001b[0m\u001b[0;34m\u001b[0m\u001b[0;34m\u001b[0m\u001b[0m\n",
      "\u001b[0;32m/Users/jingluo/Research_codes/PINT/pint/models/timing_model.pyc\u001b[0m in \u001b[0;36mgenerate_timing_model\u001b[0;34m(name, components, attributes)\u001b[0m\n\u001b[1;32m    808\u001b[0m             raise(TypeError(\"generate_timing_model() Arg 2\"+\n\u001b[1;32m    809\u001b[0m                             \"has to be a tuple of classes\"))\n\u001b[0;32m--> 810\u001b[0;31m         \u001b[0mcp\u001b[0m \u001b[0;34m=\u001b[0m \u001b[0mc\u001b[0m\u001b[0;34m(\u001b[0m\u001b[0;34m)\u001b[0m\u001b[0;34m\u001b[0m\u001b[0m\n\u001b[0m\u001b[1;32m    811\u001b[0m         \u001b[0mcpi\u001b[0m \u001b[0;34m=\u001b[0m \u001b[0mComponentInfo\u001b[0m\u001b[0;34m(\u001b[0m\u001b[0mcp\u001b[0m\u001b[0;34m)\u001b[0m\u001b[0;34m\u001b[0m\u001b[0m\n\u001b[1;32m    812\u001b[0m         \u001b[0mcps\u001b[0m\u001b[0;34m[\u001b[0m\u001b[0mcpi\u001b[0m\u001b[0;34m.\u001b[0m\u001b[0mname\u001b[0m\u001b[0;34m]\u001b[0m \u001b[0;34m=\u001b[0m \u001b[0mcpi\u001b[0m\u001b[0;34m\u001b[0m\u001b[0m\n",
      "\u001b[0;32m/Users/jingluo/Research_codes/PINT/pint/models/astrometry.pyc\u001b[0m in \u001b[0;36m__init__\u001b[0;34m(self)\u001b[0m\n\u001b[1;32m    145\u001b[0m     \u001b[0mregister\u001b[0m \u001b[0;34m=\u001b[0m \u001b[0mTrue\u001b[0m\u001b[0;34m\u001b[0m\u001b[0m\n\u001b[1;32m    146\u001b[0m     \u001b[0;32mdef\u001b[0m \u001b[0m__init__\u001b[0m\u001b[0;34m(\u001b[0m\u001b[0mself\u001b[0m\u001b[0;34m)\u001b[0m\u001b[0;34m:\u001b[0m\u001b[0;34m\u001b[0m\u001b[0m\n\u001b[0;32m--> 147\u001b[0;31m         \u001b[0msuper\u001b[0m\u001b[0;34m(\u001b[0m\u001b[0mAstrometryEquatorial\u001b[0m\u001b[0;34m,\u001b[0m \u001b[0mself\u001b[0m\u001b[0;34m)\u001b[0m\u001b[0;34m.\u001b[0m\u001b[0m__init__\u001b[0m\u001b[0;34m(\u001b[0m\u001b[0;34m)\u001b[0m\u001b[0;34m\u001b[0m\u001b[0m\n\u001b[0m\u001b[1;32m    148\u001b[0m         self.add_param(p.AngleParameter(name=\"RAJ\",\n\u001b[1;32m    149\u001b[0m             \u001b[0munits\u001b[0m\u001b[0;34m=\u001b[0m\u001b[0;34m\"H:M:S\"\u001b[0m\u001b[0;34m,\u001b[0m\u001b[0;34m\u001b[0m\u001b[0m\n",
      "\u001b[0;32m/Users/jingluo/Research_codes/PINT/pint/models/astrometry.pyc\u001b[0m in \u001b[0;36m__init__\u001b[0;34m(self)\u001b[0m\n\u001b[1;32m     25\u001b[0m     \u001b[0mregister\u001b[0m \u001b[0;34m=\u001b[0m \u001b[0mTrue\u001b[0m\u001b[0;34m\u001b[0m\u001b[0m\n\u001b[1;32m     26\u001b[0m     \u001b[0;32mdef\u001b[0m \u001b[0m__init__\u001b[0m\u001b[0;34m(\u001b[0m\u001b[0mself\u001b[0m\u001b[0;34m)\u001b[0m\u001b[0;34m:\u001b[0m\u001b[0;34m\u001b[0m\u001b[0m\n\u001b[0;32m---> 27\u001b[0;31m         \u001b[0msuper\u001b[0m\u001b[0;34m(\u001b[0m\u001b[0mAstrometry\u001b[0m\u001b[0;34m,\u001b[0m \u001b[0mself\u001b[0m\u001b[0;34m)\u001b[0m\u001b[0;34m.\u001b[0m\u001b[0m__init__\u001b[0m\u001b[0;34m(\u001b[0m\u001b[0;34m)\u001b[0m\u001b[0;34m\u001b[0m\u001b[0m\n\u001b[0m\u001b[1;32m     28\u001b[0m         self.add_param(p.MJDParameter(name=\"POSEPOCH\",\n\u001b[1;32m     29\u001b[0m             description=\"Reference epoch for position\"))\n",
      "\u001b[0;32m/Users/jingluo/Research_codes/PINT/pint/models/timing_model.pyc\u001b[0m in \u001b[0;36m__init__\u001b[0;34m(self, model_components)\u001b[0m\n\u001b[1;32m    175\u001b[0m         self.add_param(strParameter(name=\"PSR\",\n\u001b[1;32m    176\u001b[0m             \u001b[0mdescription\u001b[0m\u001b[0;34m=\u001b[0m\u001b[0;34m\"Source name\"\u001b[0m\u001b[0;34m,\u001b[0m\u001b[0;34m\u001b[0m\u001b[0m\n\u001b[0;32m--> 177\u001b[0;31m             aliases=[\"PSRJ\", \"PSRB\"]))\n\u001b[0m\u001b[1;32m    178\u001b[0m         \u001b[0mself\u001b[0m\u001b[0;34m.\u001b[0m\u001b[0mmodel_type\u001b[0m \u001b[0;34m=\u001b[0m \u001b[0mNone\u001b[0m\u001b[0;34m\u001b[0m\u001b[0m\n\u001b[1;32m    179\u001b[0m         \u001b[0mself\u001b[0m\u001b[0;34m.\u001b[0m\u001b[0mdelay_derivs\u001b[0m \u001b[0;34m=\u001b[0m \u001b[0;34m{\u001b[0m\u001b[0;34m}\u001b[0m\u001b[0;34m\u001b[0m\u001b[0m\n",
      "\u001b[0;32m/Users/jingluo/Research_codes/PINT/pint/models/timing_model.pyc\u001b[0m in \u001b[0;36madd_param\u001b[0;34m(self, param, binary_param)\u001b[0m\n\u001b[1;32m    194\u001b[0m         \"\"\"\n\u001b[1;32m    195\u001b[0m         \u001b[0msetattr\u001b[0m\u001b[0;34m(\u001b[0m\u001b[0mself\u001b[0m\u001b[0;34m,\u001b[0m \u001b[0mparam\u001b[0m\u001b[0;34m.\u001b[0m\u001b[0mname\u001b[0m\u001b[0;34m,\u001b[0m \u001b[0mparam\u001b[0m\u001b[0;34m)\u001b[0m\u001b[0;34m\u001b[0m\u001b[0m\n\u001b[0;32m--> 196\u001b[0;31m         \u001b[0mself\u001b[0m\u001b[0;34m.\u001b[0m\u001b[0mparams\u001b[0m \u001b[0;34m+=\u001b[0m \u001b[0;34m[\u001b[0m\u001b[0mparam\u001b[0m\u001b[0;34m.\u001b[0m\u001b[0mname\u001b[0m\u001b[0;34m,\u001b[0m\u001b[0;34m]\u001b[0m\u001b[0;34m\u001b[0m\u001b[0m\n\u001b[0m\u001b[1;32m    197\u001b[0m \u001b[0;34m\u001b[0m\u001b[0m\n\u001b[1;32m    198\u001b[0m         \u001b[0;32mif\u001b[0m \u001b[0mbinary_param\u001b[0m \u001b[0;32mis\u001b[0m \u001b[0mTrue\u001b[0m\u001b[0;34m:\u001b[0m\u001b[0;34m\u001b[0m\u001b[0m\n",
      "\u001b[0;31mAttributeError\u001b[0m: 'AstrometryEquatorial' object has no attribute 'params'"
     ]
    }
   ],
   "source": [
    "import astropy.coordinates as coords\n",
    "import astropy.constants as const\n",
    "from astropy.coordinates.angles import Angle\n",
    "from astropy import log\n",
    "import pint.models.parameter as p\n",
    "from pint.models.timing_model import TimingModel, MissingParameter, Cache\n",
    "from pint.utils import time_from_mjd_string, time_to_longdouble, str2longdouble\n",
    "from pint import ls\n",
    "from pint import utils\n",
    "import time\n",
    "\n",
    "mas_yr = (u.mas / u.yr)\n",
    "\n",
    "try:\n",
    "    from astropy.erfa import DAYSEC as SECS_PER_DAY\n",
    "except ImportError:\n",
    "    from astropy._erfa import DAYSEC as SECS_PER_DAY\n",
    "\n",
    "class Astrometry(DelayComponent):\n",
    "    register = True\n",
    "    def __init__(self):\n",
    "        super(Astrometry, self).__init__()\n",
    "        self.add_param(p.MJDParameter(name=\"POSEPOCH\",\n",
    "            description=\"Reference epoch for position\"))\n",
    "\n",
    "        self.add_param(p.floatParameter(name=\"PX\",\n",
    "            units=\"mas\", value=0.0,\n",
    "            description=\"Parallax\"))\n",
    "\n",
    "        self.delay_funcs += [self.solar_system_geometric_delay,]\n",
    "        self.order_number = 0\n",
    "\n",
    "    def setup(self):\n",
    "        super(Astrometry, self).setup()\n",
    "    # @Cache.cache_result\n",
    "    def ssb_to_psb_xyz(self, epoch=None):\n",
    "        \"\"\"Returns unit vector(s) from SSB to pulsar system barycenter.\n",
    "\n",
    "        If epochs (MJD) are given, proper motion is included in the calculation.\n",
    "        \"\"\"\n",
    "        # TODO: would it be better for this to return a 6-vector (pos, vel)?\n",
    "        return self.coords_as_ICRS(epoch=epoch).cartesian.xyz.transpose()\n",
    "\n",
    "    # @Cache.cache_result\n",
    "    def barycentric_radio_freq(self, toas):\n",
    "        \"\"\"Return radio frequencies (MHz) of the toas corrected for Earth motion\"\"\"\n",
    "        L_hat = self.ssb_to_psb_xyz(epoch=toas['tdbld'].astype(numpy.float64))\n",
    "        v_dot_L_array = numpy.sum(toas['ssb_obs_vel']*L_hat, axis=1)\n",
    "        return toas['freq'] * (1.0 - v_dot_L_array / const.c)\n",
    "\n",
    "    def solar_system_geometric_delay(self, toas):\n",
    "        \"\"\"Returns geometric delay (in sec) due to position of site in\n",
    "        solar system.  This includes Roemer delay and parallax.\n",
    "\n",
    "        NOTE: currently assumes XYZ location of TOA relative to SSB is\n",
    "        available as 3-vector toa.xyz, in units of light-seconds.\n",
    "        \"\"\"\n",
    "        L_hat = self.ssb_to_psb_xyz(epoch=toas['tdbld'].astype(numpy.float64))\n",
    "        re_dot_L = numpy.sum(toas['ssb_obs_pos']*L_hat, axis=1)\n",
    "        delay = -re_dot_L.to(ls).value\n",
    "        if self.PX.value != 0.0 \\\n",
    "           and numpy.count_nonzero(toas['ssb_obs_pos']) > 0:\n",
    "            L = ((1.0 / self.PX.value) * u.kpc)\n",
    "            # TODO: numpy.sum currently loses units in some cases...\n",
    "            re_sqr = numpy.sum(toas['ssb_obs_pos']**2, axis=1) * toas['ssb_obs_pos'].unit**2\n",
    "            delay += (0.5 * (re_sqr / L) * (1.0 - re_dot_L**2 / re_sqr)).to(ls).value\n",
    "        return delay\n",
    "    \n",
    "\n",
    "class AstrometryEquatorial(Astrometry):\n",
    "    register = True\n",
    "    def __init__(self):\n",
    "        super(AstrometryEquatorial, self).__init__()\n",
    "        self.add_param(p.AngleParameter(name=\"RAJ\",\n",
    "            units=\"H:M:S\",\n",
    "            description=\"Right ascension (J2000)\",\n",
    "            aliases=[\"RA\"]))\n",
    "\n",
    "        self.add_param(p.AngleParameter(name=\"DECJ\",\n",
    "            units=\"D:M:S\",\n",
    "            description=\"Declination (J2000)\",\n",
    "            aliases=[\"DEC\"]))\n",
    "\n",
    "        self.add_param(p.floatParameter(name=\"PMRA\",\n",
    "            units=\"mas/year\", value=0.0,\n",
    "            description=\"Proper motion in RA\"))\n",
    "\n",
    "        self.add_param(p.floatParameter(name=\"PMDEC\",\n",
    "            units=\"mas/year\", value=0.0,\n",
    "            description=\"Proper motion in DEC\"))\n",
    "        self.set_special_params(['RAJ', 'DECJ', 'PMRA', 'PMDEC'])\n",
    "        self.print_par_func = 'print_par_AstrometryEquatorial'\n",
    "\n",
    "    def setup(self):\n",
    "        super(AstrometryEquatorial, self).setup()\n",
    "        # RA/DEC are required\n",
    "        for p in (\"RAJ\", \"DECJ\"):\n",
    "            if getattr(self, p).value is None:\n",
    "                raise MissingParameter(\"Astrometry\", p)\n",
    "        # If PM is included, check for POSEPOCH\n",
    "        if self.PMRA.value != 0.0 or self.PMDEC.value != 0.0:\n",
    "            if self.POSEPOCH.quantity is None:\n",
    "                if self.PEPOCH.quantity is None:\n",
    "                    raise MissingParameter(\"AstrometryEquatorial\", \"POSEPOCH\",\n",
    "                            \"POSEPOCH or PEPOCH are required if PM is set.\")\n",
    "                else:\n",
    "                    self.POSEPOCH.quantity = self.PEPOCH.quantity\n",
    "\n",
    "    def print_par_AstrometryEquatorial(self):\n",
    "        result = ''\n",
    "        print_order = ['RAJ', 'DECJ', 'PMRA', 'PMDEC', 'PX', 'POSEPOCH']\n",
    "        for p in print_order:\n",
    "            par = getattr(self, p)\n",
    "            if par.quantity is not None:\n",
    "                result += getattr(self, p).as_parfile_line()\n",
    "        return result\n",
    "\n",
    "    #@Cache.cache_result\n",
    "    def coords_as_ICRS(self, epoch=None):\n",
    "        \"\"\"Returns pulsar sky coordinates as an astropy ICRS object instance.\n",
    "\n",
    "        If epoch (MJD) is specified, proper motion is included to return\n",
    "        the position at the given epoch.\n",
    "\n",
    "        If the ecliptic coordinates are provided,\n",
    "        \"\"\"\n",
    "        if epoch is None or (self.PMRA.value == 0.0 and self.PMDEC.value == 0.0):\n",
    "            return coords.ICRS(ra=self.RAJ.quantity, dec=self.DECJ.quantity)\n",
    "        else:\n",
    "            dt = (epoch - self.POSEPOCH.quantity.mjd) * u.d\n",
    "            dRA = dt * self.PMRA.quantity / numpy.cos(self.DECJ.quantity.radian)\n",
    "            dDEC = dt * self.PMDEC.quantity\n",
    "            return coords.ICRS(ra=self.RAJ.quantity+dRA, dec=self.DECJ.quantity+dDEC)\n",
    "\n",
    "    "
   ]
  },
  {
   "cell_type": "markdown",
   "metadata": {},
   "source": [
    "Define solar system shapiro delay component"
   ]
  },
  {
   "cell_type": "code",
   "execution_count": null,
   "metadata": {
    "collapsed": false
   },
   "outputs": [],
   "source": [
    "from pint import Tsun, Tmercury, Tvenus, Tearth, Tmars, \\\n",
    "        Tjupiter, Tsaturn, Turanus, Tneptune\n",
    "\n",
    "class SolarSystemShapiro(DelayComponent):\n",
    "    register = True\n",
    "    def __init__(self):\n",
    "        super(SolarSystemShapiro, self).__init__()\n",
    "\n",
    "        self.add_param(p.boolParameter(name=\"PLANET_SHAPIRO\",\n",
    "             value=False, description=\"Include planetary Shapiro delays (Y/N)\"))\n",
    "        self.delay_funcs += [self.solar_system_shapiro_delay,]\n",
    "\n",
    "    def setup(self):\n",
    "        super(SolarSystemShapiro, self).setup()\n",
    "\n",
    "    # Put masses in a convenient dictionary\n",
    "    _ss_mass_sec = {\"sun\": Tsun.value,\n",
    "                    \"mercury\": Tmercury.value,\n",
    "                    \"venus\": Tvenus.value,\n",
    "                    \"earth\": Tearth.value,\n",
    "                    \"mars\": Tmars.value,\n",
    "                    \"jupiter\": Tjupiter.value,\n",
    "                    \"saturn\": Tsaturn.value,\n",
    "                    \"uranus\": Turanus.value,\n",
    "                    \"neptune\": Tneptune.value}\n",
    "\n",
    "    @staticmethod\n",
    "    def ss_obj_shapiro_delay(obj_pos, psr_dir, T_obj):\n",
    "        \"\"\"\n",
    "        ss_obj_shapiro_delay(obj_pos, psr_dir, T_obj)\n",
    "\n",
    "        returns Shapiro delay in seconds for a solar system object.\n",
    "\n",
    "        Inputs:\n",
    "          obj_pos : position vector from Earth to SS object, with Units\n",
    "          psr_dir : unit vector in direction of pulsar\n",
    "          T_obj : mass of object in seconds (GM/c^3)\n",
    "        \"\"\"\n",
    "        # TODO: numpy.sum currently loses units in some cases...\n",
    "        r = (numpy.sqrt(numpy.sum(obj_pos**2, axis=1))) * obj_pos.unit\n",
    "        rcostheta = numpy.sum(obj_pos*psr_dir, axis=1)\n",
    "        # This formula copied from tempo2 code.  The sign of the\n",
    "        # cos(theta) term has been changed since we are using the\n",
    "        # opposite convention for object position vector (from\n",
    "        # observatory to object in this code).\n",
    "        # Tempo2 uses the postion vector sign differently between the sun and planets\n",
    "        return -2.0 * T_obj * numpy.log((r-rcostheta)/const.au).value\n",
    "\n",
    "    def solar_system_shapiro_delay(self, toas):\n",
    "        \"\"\"\n",
    "        Returns total shapiro delay to due solar system objects.\n",
    "        If the PLANET_SHAPIRO model param is set to True then\n",
    "        planets are included, otherwise only the value for the\n",
    "        Sun is calculated.\n",
    "\n",
    "        Requires Astrometry or similar model that provides the\n",
    "        ssb_to_psb_xyz method for direction to pulsar.\n",
    "\n",
    "        If planets are to be included, TOAs.compute_posvels() must\n",
    "        have been called with the planets=True argument.\n",
    "        \"\"\"\n",
    "        # Start out with 0 delay with units of seconds\n",
    "        delay = numpy.zeros(len(toas))\n",
    "        # This line will have a problem, since we don't know if \n",
    "        # AstrometryEquatorial is the astrometry class we are going to use. \n",
    "        ssb2psb_xyz = self.getattr_from('ssb_to_psb_xyz', 'AstrometryEquatorial')\n",
    "        for ii, key in enumerate(toas.groups.keys):\n",
    "            grp = toas.groups[ii]\n",
    "            obs = toas.groups.keys[ii]['obs']\n",
    "            loind, hiind = toas.groups.indices[ii:ii+2]\n",
    "            if key['obs'].lower() == 'barycenter':\n",
    "                log.info(\"Skipping Shapiro delay for Barycentric TOAs\")\n",
    "                continue\n",
    "            \n",
    "            psr_dir = ssb2psb_xyz(epoch=grp['tdbld'].astype(numpy.float64))\n",
    "            delay[loind:hiind] += self.ss_obj_shapiro_delay(grp['obs_sun_pos'],\n",
    "                                    psr_dir, self._ss_mass_sec['sun'])\n",
    "            if self.PLANET_SHAPIRO.value:\n",
    "                for pl in ('jupiter', 'saturn', 'venus', 'uranus'):\n",
    "                    delay[loind:hiind] += self.ss_obj_shapiro_delay(grp['obs_'+pl+'_pos'],\n",
    "                                                   psr_dir, self._ss_mass_sec[pl])\n",
    "        return delay\n"
   ]
  },
  {
   "cell_type": "markdown",
   "metadata": {},
   "source": [
    "Define thd spindown phase"
   ]
  },
  {
   "cell_type": "code",
   "execution_count": null,
   "metadata": {
    "collapsed": false
   },
   "outputs": [],
   "source": [
    "from pint.phase import *\n",
    "from pint.utils import time_from_mjd_string, time_to_longdouble, str2longdouble,\\\n",
    "    taylor_horner, time_from_longdouble, split_prefixed_name, taylor_horner_deriv\n",
    "\n",
    "\n",
    "\n",
    "class Spindown(PhaseComponent):\n",
    "    \"\"\"This class provides a simple timing model for an isolated pulsar.\"\"\"\n",
    "    register = True\n",
    "    def __init__(self):\n",
    "        super(Spindown, self).__init__()\n",
    "\n",
    "        # The number of terms in the taylor exapansion of spin freq (F0...FN)\n",
    "        #self.num_spin_terms = maxderivs\n",
    "\n",
    "        self.add_param(p.floatParameter(name=\"F0\", value=0.0, units=\"Hz\",\n",
    "                       description=\"Spin-frequency\", long_double=True))\n",
    "\n",
    "        self.add_param(p.prefixParameter(name=\"F1\", value=0.0, units='Hz/s^1',\n",
    "                       description=\"Spindown-rate\",\n",
    "                       unit_template=self.F_unit,\n",
    "                       description_template=self.F_description,\n",
    "                       type_match='float', long_double=True))\n",
    "\n",
    "        self.add_param(p.MJDParameter(name=\"TZRMJD\",\n",
    "                       description=\"Reference epoch for phase = 0.0\",\n",
    "                       time_scale='tdb'))\n",
    "\n",
    "        self.add_param(p.MJDParameter(name=\"PEPOCH\",\n",
    "                       description=\"Reference epoch for spin-down\",\n",
    "                       time_scale='tdb'))\n",
    "\n",
    "        self.phase_funcs += [self.spindown_phase,]\n",
    "        self.order_number = 1\n",
    "        self.print_par_func = 'print_par_F'\n",
    "\n",
    "    def setup(self):\n",
    "        super(Spindown, self).setup()\n",
    "        # Check for required params\n",
    "        for p in (\"F0\",):\n",
    "            if getattr(self, p).value is None:\n",
    "                raise MissingParameter(\"Spindown\", p)\n",
    "\n",
    "        # Check continuity\n",
    "        F_terms = list(self.get_prefix_mapping('F').keys())\n",
    "        F_terms.sort()\n",
    "        F_in_order = list(range(1, max(F_terms)+1))\n",
    "        if not F_terms == F_in_order:\n",
    "            diff = list(set(F_in_order) - set(F_terms))\n",
    "            raise MissingParameter(\"Spindown\", \"F%d\"%diff[0])\n",
    "\n",
    "        # If F1 is set, we need PEPOCH\n",
    "        if self.F1.value != 0.0:\n",
    "            if self.PEPOCH.value is None:\n",
    "                raise MissingParameter(\"Spindown\", \"PEPOCH\",\n",
    "                        \"PEPOCH is required if F1 or higher are set\")\n",
    "        self.num_spin_terms = len(F_terms) + 1\n",
    "        \n",
    "    def F_description(self, n):\n",
    "        \"\"\"Template function for description\"\"\"\n",
    "        return \"Spin-frequency %d derivative\" % n if n else \"Spin-frequency\"\n",
    "\n",
    "    def F_unit(self, n):\n",
    "        \"\"\"Template function for unit\"\"\"\n",
    "        return \"Hz/s^%d\" % n if n else \"Hz\"\n",
    "\n",
    "    def get_spin_terms(self):\n",
    "        \"\"\"Return a list of the spin term values in the model: [F0, F1, ..., FN]\n",
    "        \"\"\"\n",
    "        return [getattr(self, \"F%d\" % ii).value for ii in\n",
    "                range(self.num_spin_terms)]\n",
    "\n",
    "    def get_dt(self, toas, delay):\n",
    "        # If TZRMJD is not defined, use the first time as phase reference\n",
    "        # NOTE, all of this ignores TZRSITE and TZRFRQ for the time being.\n",
    "        # TODO: TZRMJD should be set by default somewhere in a standard place,\n",
    "        #       after the TOAs are loaded (RvH -- June 2, 2015)\n",
    "        # NOTE: Should we be using barycentric arrival times, instead of TDB?\n",
    "        if self.TZRMJD.value is None:\n",
    "            self.TZRMJD.value = toas['tdb'][0] - delay[0]*u.s\n",
    "        # Warning(paulr): This looks wrong.  You need to use the\n",
    "        # TZRFREQ and TZRSITE to compute a proper TDB reference time.\n",
    "        if not hasattr(self, \"TZRMJDld\"):\n",
    "            self.TZRMJDld = time_to_longdouble(self.TZRMJD.value)\n",
    "\n",
    "        dt_tzrmjd = (toas['tdbld'] - self.TZRMJDld) * SECS_PER_DAY - delay\n",
    "        # TODO: what timescale should we use for pepoch calculation? Does this even matter?\n",
    "        dt_pepoch = (time_to_longdouble(self.PEPOCH.value) - self.TZRMJDld) * SECS_PER_DAY\n",
    "        return dt_tzrmjd, dt_pepoch\n",
    "\n",
    "    def spindown_phase(self, toas, delay):\n",
    "        \"\"\"Spindown phase function.\n",
    "\n",
    "        delay is the time delay from the TOA to time of pulse emission\n",
    "          at the pulsar, in seconds.\n",
    "\n",
    "        This routine should implement Eq 120 of the Tempo2 Paper II (2006, MNRAS 372, 1549)\n",
    "\n",
    "        returns an array of phases in long double\n",
    "        \"\"\"\n",
    "        dt_tzrmjd, dt_pepoch = self.get_dt(toas, delay)\n",
    "        # Add the [0.0] because that is the constant phase term\n",
    "        fterms = [0.0] + self.get_spin_terms()\n",
    "        phs_tzrmjd = taylor_horner(dt_tzrmjd-dt_pepoch, fterms)\n",
    "        phs_pepoch = taylor_horner(-dt_pepoch, fterms)\n",
    "        return phs_tzrmjd - phs_pepoch\n",
    "\n",
    "    def print_par_F(self,):\n",
    "        result = ''\n",
    "        f_terms = [\"F%d\" % ii for ii in\n",
    "                range(self.num_spin_terms)]\n",
    "        for ft in f_terms:\n",
    "            par = getattr(self, ft)\n",
    "            result += par.as_parfile_line()\n",
    "        if hasattr(self, 'components'):\n",
    "            p_default = self.components['Spindown'].params\n",
    "        else:\n",
    "            p_default = self.params\n",
    "        for param in p_default:\n",
    "            if param not in f_terms:\n",
    "                result += getattr(self, param).as_parfile_line()\n",
    "        return result\n",
    "\n",
    "    def d_phase_d_F(self, toas, param, delay):\n",
    "        \"\"\"Calculate the derivative wrt to an spin term.\"\"\"\n",
    "        par = getattr(self, param)\n",
    "        unit = par.units\n",
    "        pn, idxf, idxv = split_prefixed_name(param)\n",
    "        order = idxv + 1\n",
    "        fterms = [0.0] + self.get_spin_terms()\n",
    "        # make the choosen fterms 1 others 0\n",
    "        fterms = numpy.longdouble(numpy.zeros(len(fterms)))\n",
    "        fterms[order] = numpy.longdouble(1.0)\n",
    "        dt_tzrmjd, dt_pepoch = self.get_dt(toas, delay)\n",
    "        d_ptzrmjd_d_f = taylor_horner(dt_tzrmjd-dt_pepoch, fterms)\n",
    "        d_ppepoch_d_f = taylor_horner(-dt_pepoch, fterms)\n",
    "        return (d_ptzrmjd_d_f - d_ppepoch_d_f) * u.Unit(\"\")/unit\n",
    "\n",
    "    def d_spindown_phase_d_delay(self, toas, delay):\n",
    "        dt_tzrmjd, dt_pepoch = self.get_dt(toas, delay)\n",
    "        fterms = [0.0] + self.get_spin_terms()\n",
    "        d_ptzrmjd_d_delay = taylor_horner_deriv(dt_tzrmjd-dt_pepoch, fterms)\n",
    "        return -d_ptzrmjd_d_delay * u.Unit(\"\")/u.second\n"
   ]
  },
  {
   "cell_type": "code",
   "execution_count": null,
   "metadata": {
    "collapsed": false
   },
   "outputs": [],
   "source": [
    "ad = AstrometryEquatorial()\n",
    "sd = SolarSystemShapiro()\n",
    "sp = Spindown()"
   ]
  },
  {
   "cell_type": "code",
   "execution_count": null,
   "metadata": {
    "collapsed": false
   },
   "outputs": [],
   "source": [
    "m = TimingModelc(comps = [ad, sd, sp])"
   ]
  },
  {
   "cell_type": "code",
   "execution_count": null,
   "metadata": {
    "collapsed": false
   },
   "outputs": [],
   "source": [
    "m.read_parfile('NGC6440E.par')"
   ]
  },
  {
   "cell_type": "code",
   "execution_count": null,
   "metadata": {
    "collapsed": false
   },
   "outputs": [],
   "source": [
    "print m.params"
   ]
  },
  {
   "cell_type": "code",
   "execution_count": null,
   "metadata": {
    "collapsed": true
   },
   "outputs": [],
   "source": [
    "import pint.toa as toa"
   ]
  },
  {
   "cell_type": "code",
   "execution_count": null,
   "metadata": {
    "collapsed": false
   },
   "outputs": [],
   "source": [
    "t = toa.get_TOAs('NGC6440E.tim')"
   ]
  },
  {
   "cell_type": "code",
   "execution_count": null,
   "metadata": {
    "collapsed": false
   },
   "outputs": [],
   "source": [
    "m.delay(t.table)"
   ]
  },
  {
   "cell_type": "code",
   "execution_count": null,
   "metadata": {
    "collapsed": false
   },
   "outputs": [],
   "source": [
    "m.phase(t.table)"
   ]
  },
  {
   "cell_type": "code",
   "execution_count": null,
   "metadata": {
    "collapsed": true
   },
   "outputs": [],
   "source": [
    "import pint.residuals as resid"
   ]
  },
  {
   "cell_type": "code",
   "execution_count": null,
   "metadata": {
    "collapsed": false
   },
   "outputs": [],
   "source": [
    "r = resid.resids(model=m, toas=t)"
   ]
  },
  {
   "cell_type": "code",
   "execution_count": null,
   "metadata": {
    "collapsed": false
   },
   "outputs": [],
   "source": [
    "plt.plot(t.get_mjds(), r.time_resids, '+')"
   ]
  },
  {
   "cell_type": "code",
   "execution_count": 18,
   "metadata": {
    "collapsed": true
   },
   "outputs": [],
   "source": [
    "import collections"
   ]
  },
  {
   "cell_type": "code",
   "execution_count": 19,
   "metadata": {
    "collapsed": false
   },
   "outputs": [],
   "source": [
    "collections.OrderedDict?\n"
   ]
  },
  {
   "cell_type": "code",
   "execution_count": null,
   "metadata": {
    "collapsed": false
   },
   "outputs": [],
   "source": [
    "a()"
   ]
  },
  {
   "cell_type": "code",
   "execution_count": 31,
   "metadata": {
    "collapsed": false
   },
   "outputs": [],
   "source": [
    "c= {'a': (1, 3), 'b':(5,4), 'c':(3,6), 'd':(3, 7)}"
   ]
  },
  {
   "cell_type": "code",
   "execution_count": 34,
   "metadata": {
    "collapsed": false
   },
   "outputs": [],
   "source": [
    "od = collections.OrderedDict(sorted(c.items(), key=lambda t: t[1][1]))"
   ]
  },
  {
   "cell_type": "code",
   "execution_count": 35,
   "metadata": {
    "collapsed": false
   },
   "outputs": [
    {
     "name": "stdout",
     "output_type": "stream",
     "text": [
      "a\n",
      "b\n",
      "c\n",
      "d\n"
     ]
    }
   ],
   "source": [
    "for m in od.keys():\n",
    "    print m"
   ]
  },
  {
   "cell_type": "code",
   "execution_count": 43,
   "metadata": {
    "collapsed": false
   },
   "outputs": [],
   "source": [
    "od.update({'m':(12,31)})"
   ]
  },
  {
   "cell_type": "code",
   "execution_count": 49,
   "metadata": {
    "collapsed": false
   },
   "outputs": [
    {
     "data": {
      "text/plain": [
       "OrderedDict([('a', (1, 3)),\n",
       "             ('b', (5, 4)),\n",
       "             ('c', (3, 6)),\n",
       "             ('d', (3, 7)),\n",
       "             ('m', (12, 31))])"
      ]
     },
     "execution_count": 49,
     "metadata": {},
     "output_type": "execute_result"
    }
   ],
   "source": [
    " collections.OrderedDict(od.items())"
   ]
  },
  {
   "cell_type": "code",
   "execution_count": 41,
   "metadata": {
    "collapsed": false
   },
   "outputs": [
    {
     "ename": "IndexError",
     "evalue": "list index out of range",
     "output_type": "error",
     "traceback": [
      "\u001b[0;31m---------------------------------------------------------------------------\u001b[0m",
      "\u001b[0;31mIndexError\u001b[0m                                Traceback (most recent call last)",
      "\u001b[0;32m<ipython-input-41-52c33bd002c5>\u001b[0m in \u001b[0;36m<module>\u001b[0;34m()\u001b[0m\n\u001b[0;32m----> 1\u001b[0;31m \u001b[0mn\u001b[0m\u001b[0;34m.\u001b[0m\u001b[0mkeys\u001b[0m\u001b[0;34m(\u001b[0m\u001b[0;34m)\u001b[0m\u001b[0;34m[\u001b[0m\u001b[0;34m-\u001b[0m\u001b[0;36m1\u001b[0m\u001b[0;34m]\u001b[0m\u001b[0;34m\u001b[0m\u001b[0m\n\u001b[0m",
      "\u001b[0;31mIndexError\u001b[0m: list index out of range"
     ]
    }
   ],
   "source": [
    "n.keys()[-1]"
   ]
  },
  {
   "cell_type": "code",
   "execution_count": null,
   "metadata": {
    "collapsed": true
   },
   "outputs": [],
   "source": []
  }
 ],
 "metadata": {
  "anaconda-cloud": {},
  "kernelspec": {
   "display_name": "Python [default]",
   "language": "python",
   "name": "python2"
  },
  "language_info": {
   "codemirror_mode": {
    "name": "ipython",
    "version": 2
   },
   "file_extension": ".py",
   "mimetype": "text/x-python",
   "name": "python",
   "nbconvert_exporter": "python",
   "pygments_lexer": "ipython2",
   "version": "2.7.12"
  }
 },
 "nbformat": 4,
 "nbformat_minor": 2
}
