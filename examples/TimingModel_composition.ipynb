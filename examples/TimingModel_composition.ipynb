{
 "cells": [
  {
   "cell_type": "markdown",
   "metadata": {
    "collapsed": false
   },
   "source": [
    "# Timing Model useage example"
   ]
  },
  {
   "cell_type": "markdown",
   "metadata": {},
   "source": [
    "## Build a timing model "
   ]
  },
  {
   "cell_type": "code",
   "execution_count": 1,
   "metadata": {
    "collapsed": true
   },
   "outputs": [],
   "source": [
    "from pint.models import get_model"
   ]
  },
  {
   "cell_type": "markdown",
   "metadata": {},
   "source": [
    "One can build a timing model via get_model() method. get_model() will make the model according to the .par file. All the model components, delays or phases, will be stored in order. "
   ]
  },
  {
   "cell_type": "code",
   "execution_count": 2,
   "metadata": {
    "collapsed": false
   },
   "outputs": [
    {
     "name": "stderr",
     "output_type": "stream",
     "text": [
      "WARNING: Unrecognized parfile line 'EPHVER         5' [pint.models.timing_model]\n",
      "WARNING: Unrecognized parfile line 'MODE 1' [pint.models.timing_model]\n",
      "WARNING: Unrecognized parfile line 'T2CMETHOD      TEMPO' [pint.models.timing_model]\n",
      "WARNING: Unrecognized parfile line 'NE_SW          0.000' [pint.models.timing_model]\n",
      "WARNING: Unrecognized parfile line 'CHI2R          2.1896 637' [pint.models.timing_model]\n"
     ]
    }
   ],
   "source": [
    "par = 'B1855+09_NANOGrav_dfg+12_TAI.par'\n",
    "m = get_model(par)"
   ]
  },
  {
   "cell_type": "markdown",
   "metadata": {},
   "source": [
    "To take a look what type of model component are in the model"
   ]
  },
  {
   "cell_type": "code",
   "execution_count": 3,
   "metadata": {
    "collapsed": false
   },
   "outputs": [
    {
     "data": {
      "text/plain": [
       "['DelayComponent', 'PhaseComponent']"
      ]
     },
     "execution_count": 3,
     "metadata": {},
     "output_type": "execute_result"
    }
   ],
   "source": [
    "m.component_types # We have delay component and phase component "
   ]
  },
  {
   "cell_type": "markdown",
   "metadata": {},
   "source": [
    "TimingModel class stores the delay model components and phase components in the lists "
   ]
  },
  {
   "cell_type": "code",
   "execution_count": 4,
   "metadata": {
    "collapsed": false
   },
   "outputs": [
    {
     "data": {
      "text/plain": [
       "[<pint.models.astrometry.AstrometryEquatorial at 0x1103d2d90>,\n",
       " <pint.models.jump.JumpDelay at 0x1103c2410>,\n",
       " <pint.models.solar_system_shapiro.SolarSystemShapiro at 0x1103e3450>,\n",
       " <pint.models.dispersion_model.DispersionDMX at 0x1103c2e90>,\n",
       " <pint.models.binary_dd.BinaryDD at 0x1103e3690>]"
      ]
     },
     "execution_count": 4,
     "metadata": {},
     "output_type": "execute_result"
    }
   ],
   "source": [
    "m.DelayComponent_list # Delays are stored in the DelayComponent_list"
   ]
  },
  {
   "cell_type": "code",
   "execution_count": 5,
   "metadata": {
    "collapsed": false
   },
   "outputs": [
    {
     "data": {
      "text/plain": [
       "[<pint.models.spindown.Spindown at 0x1103c2d10>]"
      ]
     },
     "execution_count": 5,
     "metadata": {},
     "output_type": "execute_result"
    }
   ],
   "source": [
    "m.PhaseComponent_list # phases are stored in the PhaseComponent_list"
   ]
  },
  {
   "cell_type": "markdown",
   "metadata": {},
   "source": [
    "To add a component:"
   ]
  },
  {
   "cell_type": "code",
   "execution_count": 6,
   "metadata": {
    "collapsed": true
   },
   "outputs": [],
   "source": [
    "from pint.models.astrometry import AstrometryEcliptic"
   ]
  },
  {
   "cell_type": "code",
   "execution_count": 7,
   "metadata": {
    "collapsed": true
   },
   "outputs": [],
   "source": [
    "a = AstrometryEcliptic() # init the AstrometryEcliptic instance"
   ]
  },
  {
   "cell_type": "markdown",
   "metadata": {},
   "source": [
    "Add the new component instance into time model with order 3"
   ]
  },
  {
   "cell_type": "code",
   "execution_count": 8,
   "metadata": {
    "collapsed": false
   },
   "outputs": [],
   "source": [
    "m.add_component(a, 3)"
   ]
  },
  {
   "cell_type": "code",
   "execution_count": 9,
   "metadata": {
    "collapsed": false
   },
   "outputs": [
    {
     "data": {
      "text/plain": [
       "[<pint.models.astrometry.AstrometryEquatorial at 0x1103d2d90>,\n",
       " <pint.models.jump.JumpDelay at 0x1103c2410>,\n",
       " <pint.models.solar_system_shapiro.SolarSystemShapiro at 0x1103e3450>,\n",
       " <pint.models.astrometry.AstrometryEcliptic at 0x1103c2150>,\n",
       " <pint.models.dispersion_model.DispersionDMX at 0x1103c2e90>,\n",
       " <pint.models.binary_dd.BinaryDD at 0x1103e3690>]"
      ]
     },
     "execution_count": 9,
     "metadata": {},
     "output_type": "execute_result"
    }
   ],
   "source": [
    "m.DelayComponent_list # The new instance is added to delay component list \n",
    "                      # index 3"
   ]
  },
  {
   "cell_type": "markdown",
   "metadata": {},
   "source": [
    "To remove a component is simple. Just use remove it from the list. You can map the component instance using name string via map_component() method"
   ]
  },
  {
   "cell_type": "code",
   "execution_count": 10,
   "metadata": {
    "collapsed": false
   },
   "outputs": [],
   "source": [
    "component, order, from_list, comp_type = \\\n",
    "    m.map_component('AstrometryEcliptic')\n",
    "from_list.remove(component)"
   ]
  },
  {
   "cell_type": "code",
   "execution_count": 11,
   "metadata": {
    "collapsed": false
   },
   "outputs": [
    {
     "data": {
      "text/plain": [
       "[<pint.models.astrometry.AstrometryEquatorial at 0x1103d2d90>,\n",
       " <pint.models.jump.JumpDelay at 0x1103c2410>,\n",
       " <pint.models.solar_system_shapiro.SolarSystemShapiro at 0x1103e3450>,\n",
       " <pint.models.dispersion_model.DispersionDMX at 0x1103c2e90>,\n",
       " <pint.models.binary_dd.BinaryDD at 0x1103e3690>]"
      ]
     },
     "execution_count": 11,
     "metadata": {},
     "output_type": "execute_result"
    }
   ],
   "source": [
    "m.DelayComponent_list # AstrometryEcliptic is removed from delay list. "
   ]
  },
  {
   "cell_type": "markdown",
   "metadata": {},
   "source": [
    "To switch the order of a component, just change the index in the component list. "
   ]
  },
  {
   "cell_type": "code",
   "execution_count": 12,
   "metadata": {
    "collapsed": false
   },
   "outputs": [],
   "source": [
    "# First map the component instance\n",
    "component, order, from_list, comp_type = \\\n",
    "    m.map_component('JumpDelay')\n",
    "# If one wants to move this component to a new order without swapping\n",
    "from_list.remove(component)\n",
    "from_list.insert(5, component)"
   ]
  },
  {
   "cell_type": "code",
   "execution_count": 13,
   "metadata": {
    "collapsed": false
   },
   "outputs": [
    {
     "data": {
      "text/plain": [
       "[<pint.models.astrometry.AstrometryEquatorial at 0x1103d2d90>,\n",
       " <pint.models.solar_system_shapiro.SolarSystemShapiro at 0x1103e3450>,\n",
       " <pint.models.dispersion_model.DispersionDMX at 0x1103c2e90>,\n",
       " <pint.models.binary_dd.BinaryDD at 0x1103e3690>,\n",
       " <pint.models.jump.JumpDelay at 0x1103c2410>]"
      ]
     },
     "execution_count": 13,
     "metadata": {},
     "output_type": "execute_result"
    }
   ],
   "source": [
    "m.DelayComponent_list"
   ]
  },
  {
   "cell_type": "code",
   "execution_count": 14,
   "metadata": {
    "collapsed": true
   },
   "outputs": [],
   "source": [
    "# If one wants to swap with other component\n",
    "component, order, from_list, comp_type = \\\n",
    "    m.map_component('JumpDelay')\n",
    "new_order = 2\n",
    "from_list[order], from_list[new_order] = from_list[new_order], from_list[order]"
   ]
  },
  {
   "cell_type": "code",
   "execution_count": 15,
   "metadata": {
    "collapsed": false
   },
   "outputs": [
    {
     "data": {
      "text/plain": [
       "[<pint.models.astrometry.AstrometryEquatorial at 0x1103d2d90>,\n",
       " <pint.models.solar_system_shapiro.SolarSystemShapiro at 0x1103e3450>,\n",
       " <pint.models.jump.JumpDelay at 0x1103c2410>,\n",
       " <pint.models.binary_dd.BinaryDD at 0x1103e3690>,\n",
       " <pint.models.dispersion_model.DispersionDMX at 0x1103c2e90>]"
      ]
     },
     "execution_count": 15,
     "metadata": {},
     "output_type": "execute_result"
    }
   ],
   "source": [
    "m.DelayComponent_list"
   ]
  },
  {
   "cell_type": "markdown",
   "metadata": {},
   "source": [
    "Delays will be computed in order. "
   ]
  },
  {
   "cell_type": "code",
   "execution_count": 16,
   "metadata": {
    "collapsed": false
   },
   "outputs": [
    {
     "name": "stdout",
     "output_type": "stream",
     "text": [
      "INFO: Applying clock corrections. [pint.toa]\n",
      "INFO: Observatory arecibo, loading clock file /Users/jingluo/Research_codes/PINT/pint/datafiles/time.dat [pint.observatory.topo_obs]\n",
      "INFO: Observatory arecibo, loading GPS clock file /Users/jingluo/Research_codes/PINT/pint/datafiles/gps2utc.clk [pint.observatory.topo_obs]\n",
      "INFO: Observatory arecibo, loading BIPM clock file /Users/jingluo/Research_codes/PINT/pint/datafiles/tai2tt_bipm2015.clk [pint.observatory.topo_obs]\n",
      "INFO: Getting IERS params and computing TDBs. [pint.toa]\n",
      "INFO: Computing TDB columns. [pint.toa]\n",
      "INFO: Computing observatory positions and velocities. [pint.toa]\n",
      "INFO: Compute positions and velocities of observatories and Earth (planets = False), using DE421 ephemeris [pint.toa]\n",
      "INFO: Adding columns ssb_obs_pos ssb_obs_vel obs_sun_pos [pint.toa]\n"
     ]
    }
   ],
   "source": [
    "# First get the toas\n",
    "from pint.toa import get_TOAs\n",
    "t = get_TOAs('../tests/datafile/B1855+09_NANOGrav_dfg+12.tim')"
   ]
  },
  {
   "cell_type": "code",
   "execution_count": 21,
   "metadata": {
    "collapsed": false
   },
   "outputs": [
    {
     "data": {
      "text/plain": [
       "array([ 386.46306501,  292.74493628,  123.64677909,  -68.30001643,\n",
       "       -391.49294556, -391.55211107, -317.02034107, -317.01903715,\n",
       "       -317.01690251, -317.01021663, -172.22028083,  240.44391033,\n",
       "        240.52758075,  366.04797969,  416.44705584,  416.38194674,\n",
       "        238.67530959, -141.66866147, -368.26117845,  188.93718598,\n",
       "        409.62695507,  360.61475497,  276.16176165,  -56.48086239,\n",
       "       -403.64873011,  401.8358864 ,  373.61321114,    9.65651057,\n",
       "       -325.51347386, -401.49974263,  386.45719088,  292.73906113,\n",
       "        123.64090373,  -68.3058918 , -391.49882043, -391.55798594,\n",
       "       -317.02621492, -317.024911  , -317.02277636, -317.01609048,\n",
       "       -172.22615441,  240.43803662,  240.52170704,  366.04210564,\n",
       "        416.44118117,  416.37607207,  238.66943427, -141.67453691,\n",
       "       -368.26705358, -434.64202827, -318.54915314,  -59.74843877,\n",
       "        188.93131205,  409.62108048,  360.60887966,  143.43395126,\n",
       "        415.55294851,  276.15588603,  -56.48673829, -403.65460468,\n",
       "        401.83001164,  373.60733576,    9.65063458, -325.46704568,\n",
       "       -325.51934962, -401.50561816,  -40.99491401,  386.45148057,\n",
       "        292.73334982,  123.63519222,  -68.31160333, -391.50453145,\n",
       "       -391.56369696, -317.03192495, -317.03062103, -317.02848639,\n",
       "       -317.02180051,  240.43232674,  240.51599716,  366.03639541,\n",
       "        416.43547032,  416.37036123,  238.6637228 , -141.6802485 ,\n",
       "       -368.27276485, -434.64773907, -318.55486341,  -59.75414878,\n",
       "        188.92560196,  409.61536973,  360.6031682 ,  143.42823925,\n",
       "        415.54723739,  276.15017428,  -56.49245031, -403.6603154 ,\n",
       "        401.82430073,  373.60162423,    9.64492245, -325.47275757,\n",
       "       -325.52506152, -401.51132984,  -41.00062442,  386.44592789,\n",
       "        292.72779615,  123.62963837,  -68.31715721, -391.51008484,\n",
       "       -391.56925034, -317.03747736, -317.03617344, -317.0340388 ,\n",
       "       -317.02735292, -172.23741631,  240.42677448,  240.5104449 ,\n",
       "        366.03084281,  416.42991712,  416.36480803,  238.65816897,\n",
       "       -141.68580245, -368.27831847, -434.65329223, -318.56041602,\n",
       "        -59.75970116,  188.9200495 ,  409.60981663,  360.59761438,\n",
       "        143.42268491,  415.54168394,  276.14462019,  -56.49800467,\n",
       "       -403.66586849,  401.81874748,  373.59607036,    9.63936799,\n",
       "       -325.4783118 , -325.53061574, -401.51688385,  -41.0061772 ,\n",
       "        386.44052797,  292.72239526,  123.62423731,  -68.3225583 ,\n",
       "       -391.51548545, -391.57465095, -317.04287701, -317.04157309,\n",
       "       -317.03943845, -317.03275257, -172.24281571,  240.42137498,\n",
       "        240.50504541,  366.02544296,  416.42451668,  416.35940759,\n",
       "        238.65276793, -141.69120363, -368.28371931, -434.65869262,\n",
       "       -318.56581586,  -59.76510078,  188.91464981,  409.60441631,\n",
       "        360.59221335,  143.41728338,  415.53628327,  276.13921889,\n",
       "        -56.50340623, -403.6712688 ,  401.81334702,  373.59066927,\n",
       "          9.63396633, -325.48371323, -325.53601717, -401.52228508,\n",
       "        -41.0115772 ,  386.43527398,  292.71714032,  123.61898222,\n",
       "        -68.32781344, -391.52074011, -391.57990561, -317.04813073,\n",
       "       -317.04682681, -317.04469217, -317.03800628, -172.24806918,\n",
       "        240.41612143,  240.49979185,  366.02018905,  238.64751285,\n",
       "       -141.69645884, -368.28897419, -434.66394706,  188.90939607,\n",
       "        409.59916195,  360.58695828,  415.53102857,  276.13396356,\n",
       "        -56.50866181, -403.67652316,  401.80809252,  373.58541413,\n",
       "          9.62871064, -325.48896869, -325.54127263, -401.52754035,\n",
       "        -41.01683126,  386.23421988,  386.21518924,  123.250429  ,\n",
       "        -68.77320007, -391.96872481, -317.28051784, -172.46711351,\n",
       "        240.42326477,  365.74127476,  415.96948692,  238.19310158,\n",
       "       -142.25178298, -368.60193692, -318.57198151,  -59.89010304,\n",
       "        188.86155523,  409.23110175,  275.75905503,  -56.96214418,\n",
       "        -57.02354321, -403.94057372,  401.69634085,  373.15683872,\n",
       "          9.12988522, -325.92603244, -401.67479644,  -41.33074107,\n",
       "        386.2340539 ,  386.21502326,  292.23904253,  123.25026299,\n",
       "        -68.77336607, -391.9688908 , -317.28068382, -172.46727948,\n",
       "        240.42309879,  365.74110878,  415.96932093,  238.19293558,\n",
       "       -142.25194897, -368.60210293, -435.00033632, -318.5721475 ,\n",
       "        -59.89026902,  188.86138924,  409.23093575,  360.17447418,\n",
       "        415.39627391,  275.75888902,  -56.9623102 ,  -57.02370923,\n",
       "       -403.94073972,  401.69617484,  373.15667271,    9.1297192 ,\n",
       "       -325.92619846, -401.67496245,  -41.33090707,  386.23388902,\n",
       "        386.21485838,  292.23887763,  123.25009807,  -68.77353098,\n",
       "       -391.96905601, -317.28084869, -172.46744435,  240.4229339 ,\n",
       "        365.7409439 ,  415.96915604,  238.19277068, -142.25211388,\n",
       "       -368.60226784, -435.00050121, -318.5723124 ,  -59.89043391,\n",
       "        188.86122435,  409.23077084,  360.17430928,  415.39610928,\n",
       "        275.7587241 ,  -56.96247513,  -57.02387416, -403.94090461,\n",
       "        401.69600993,  373.15650781,    9.12955428, -325.92636338,\n",
       "       -401.67512737,  -41.33107196,  386.23372497,  386.21469433,\n",
       "        292.23871305,  123.2499338 ,  -68.77369548, -391.96922007,\n",
       "       -317.28101271, -172.46760826,  240.42277027,  365.7407798 ,\n",
       "        415.96899168,  238.19260616, -142.25227862, -368.60243204,\n",
       "       -435.00066544, -318.57247589,  -59.8905977 ,  188.8610608 ,\n",
       "        409.23060706,  360.1741448 ,  415.3959452 ,  275.75855974,\n",
       "        -56.96263953,  -57.02403855, -403.94106869,  401.6958462 ,\n",
       "        373.15634332,    9.12938967, -325.92652772, -401.67529184,\n",
       "        -41.33123582,  386.2335624 ,  386.21453176,  292.23855046,\n",
       "        123.2497712 ,  -68.77385808, -391.96938265, -317.28117527,\n",
       "       -172.46777082,  240.4226077 ,  365.74061723,  415.9688291 ,\n",
       "        238.19244356, -142.25244122, -368.60259464, -435.00082802,\n",
       "       -318.57263848,  -59.89076027,  188.86089822,  409.23044446,\n",
       "        360.1739822 ,  143.22206912,  415.39578259,  275.75839713,\n",
       "        -56.96280214,  -57.02420117, -403.94123128,  401.69568359,\n",
       "        373.15618072,    9.12922706, -325.92669034, -401.67545444,\n",
       "        -41.3313984 ,  386.2334014 ,  386.21437077,  292.23838945,\n",
       "        123.24961017,  -68.77401909, -391.96954366, -317.28133626,\n",
       "       -172.46793181,  240.4224467 ,  365.74045624,  415.9686681 ,\n",
       "        238.19228255, -142.25260223, -368.60275565, -435.00098903,\n",
       "       -318.57279949,  -59.89092127,  188.86073721,  409.23028344,\n",
       "        360.17382119,  143.22190794,  415.39562157,  275.75823611,\n",
       "        -56.96296318,  -57.0243622 , -403.94139228,  401.69552257,\n",
       "        373.1560197 ,    9.12906603, -325.92685137, -401.67561546,\n",
       "        -41.3315594 ,  386.23324208,  386.21421144,  292.23823011,\n",
       "        123.24945082,  -68.77417844, -391.969703  , -317.28149558,\n",
       "       -172.46809112,  240.42228737,  365.74029691,  415.96850876,\n",
       "        238.1921232 , -142.25276158, -368.60291501, -435.00114836,\n",
       "       -318.57295883,  -59.89108059,  188.86057788,  409.23012409,\n",
       "        360.17366184,  143.22174857,  415.39546221,  275.75807674,\n",
       "        -56.96312254,  -57.02452157, -403.94155162,  401.69536322,\n",
       "        373.15586035,    9.12890666, -325.92701073, -401.67577482,\n",
       "        -41.33171874,  292.23807173,  123.24929242,  -68.77433683,\n",
       "       -391.96986138, -317.28165395, -172.46824948,  240.422129  ,\n",
       "        365.74013855,  415.96835039,  238.19196481, -142.25291996,\n",
       "       -368.6030734 , -435.00130674, -318.57311722,  -59.89123896,\n",
       "        188.8604195 ,  409.22996571,  360.17350345,  143.22159016,\n",
       "        415.39530381,  275.75791834,  -56.96328095,  -57.02467998,\n",
       "       -403.94171   ,  401.69520482,  373.15570196,    9.12874826,\n",
       "       -325.92716914, -401.67593321,  -41.33187712,  386.23292691,\n",
       "        386.21389628,  292.23791492,  123.24913559,  -68.77449366,\n",
       "       -391.97001819, -317.28181074, -172.46840627,  240.4219722 ,\n",
       "        365.73998175,  415.96819358,  238.19180799, -142.25307678,\n",
       "       -368.60323022, -435.00146355, -318.57327403,  -59.89139576,\n",
       "        188.86026269,  409.22980889,  360.17334663,  143.22143332,\n",
       "        415.39514698,  275.75776151,  -56.96343779,  -57.02483682,\n",
       "       -403.94186681,  401.695048  ,  373.15554514,    9.12859142,\n",
       "       -325.92732598, -401.67609004,  -41.33203393,  386.23277166,\n",
       "        386.21374102,  292.23775965,  123.24898031,  -68.77464893,\n",
       "       -391.97017346, -317.28196599, -172.46856151,  240.42181695,\n",
       "        365.7398265 ,  415.96803832,  238.19165272, -142.25323205,\n",
       "       -368.6033855 , -435.00161881, -318.5734293 ,  -59.89155101,\n",
       "        188.86010743,  409.22965361,  360.17319135,  143.22127802,\n",
       "        415.39499169,  275.75760622,  -56.96359308,  -57.02499211,\n",
       "       -403.94202208,  401.69489272,  373.15538986,    9.12843613,\n",
       "       -325.92748127, -401.67624532,  -41.33218919,  386.23261744,\n",
       "        386.2135868 ,  292.23760541,  123.24882606,  -68.77480318,\n",
       "       -391.97032769, -317.28212021, -172.46871573,  240.42166272,\n",
       "        365.73967228,  415.96788409,  238.19149847, -142.25338629,\n",
       "       -368.60353975, -435.00177305, -318.57358354,  -59.89170524,\n",
       "        188.8599532 ,  409.22949937,  360.17303711,  143.22112375,\n",
       "        415.39483744,  275.75745197,  -56.96374735,  -57.02514638,\n",
       "       -403.94217632,  401.69473846,  373.15523562,    9.12828187,\n",
       "       -325.92763553, -401.67639958,  -41.33234343,  386.23246462,\n",
       "        386.21343398,  292.23745258,  123.24867321,  -68.77495602,\n",
       "       -391.97048053, -317.28227302, -172.46886854,  240.4215099 ,\n",
       "        365.73951946,  415.96773126,  238.19134563, -142.25353913,\n",
       "       -368.60369259, -435.00192588, -318.57373637,  -59.89185806,\n",
       "        188.85980037,  409.22934653,  360.17288427,  143.22097089,\n",
       "        415.39468459,  -56.9639002 ,  -57.02529923, -403.94232915,\n",
       "        401.69458562,  373.15508277,    9.12812902, -325.92778838,\n",
       "       -401.67655242,  -41.33249625,  386.232313  ,  386.21328236,\n",
       "        292.23730094,  123.24852156,  -68.77510767, -391.97063216,\n",
       "       -317.28242464, -172.46902015,  240.42135828,  365.73936784,\n",
       "        415.96757963,  238.19119399, -142.25369077, -368.60384424,\n",
       "       -435.00207751, -318.57388801,  -59.89200968,  188.85964874,\n",
       "        409.22919488,  360.17273262,  143.22081922,  415.39453294,\n",
       "        275.75714746, -403.94248078,  401.69443397,  373.15493113,\n",
       "          9.12797736, -325.92794004, -401.67670407,  -41.33264789,\n",
       "        386.23216285,  386.21313222,  292.23715078,  123.24837139,\n",
       "        -68.77525783, -391.97078232, -317.28257478, -172.46917028,\n",
       "        240.42120813,  365.7392177 ,  415.96742948,  238.19104382,\n",
       "       -142.25384093, -368.6039944 , -435.00222766, -318.57403817,\n",
       "        -59.89215982,  188.85949858,  409.22904472,  360.17258246,\n",
       "        143.22066904,  415.39438276,  275.75699728,  -56.96420205,\n",
       "        -57.02560108, -403.94263094,  401.6942838 ,  373.15478096,\n",
       "          9.12782718, -325.92809022, -401.67685424,  -41.33279804,\n",
       "        386.23201377,  386.21298314,  292.23700169,  123.24822228,\n",
       "        -68.77540694, -391.97093141, -317.28272385, -172.46931935,\n",
       "        240.42105905,  365.73906862,  415.96728039,  238.19089473,\n",
       "       -142.25399003, -368.60414351, -435.00237675, -318.57418727,\n",
       "        -59.8923089 ,  188.85934949,  409.22889562,  360.17243336,\n",
       "        143.22051991,  275.75684817,  -56.96435117,  -57.0257502 ,\n",
       "       -403.94278003,  401.69413469,  373.15463186,    9.12767806,\n",
       "       -325.92823934, -401.67700335,  -41.33294713,  386.2318655 ,\n",
       "        386.21283486,  292.23685339,  123.24807398,  -68.77555523,\n",
       "       -317.28287212, -172.46946762,  240.42091078,  365.73892035,\n",
       "        415.96713211,  238.19074643, -142.25413832, -368.60429181,\n",
       "       -435.00252504, -318.57433556,  -59.89245718,  188.85920121,\n",
       "        409.22874732,  143.2203716 ,  275.75669986, -403.94292832,\n",
       "        401.69398639,  373.15448356,    9.12752975, -325.92838765,\n",
       "       -401.67715165,  -41.33309541])"
      ]
     },
     "execution_count": 21,
     "metadata": {},
     "output_type": "execute_result"
    }
   ],
   "source": [
    "# compute the total delay\n",
    "total_delay = m.delay(t.table)\n",
    "total_delay"
   ]
  },
  {
   "cell_type": "markdown",
   "metadata": {},
   "source": [
    "One can get the delay upto some component. For example, I want to the delay computation stop at jump delay."
   ]
  },
  {
   "cell_type": "code",
   "execution_count": 19,
   "metadata": {
    "collapsed": true
   },
   "outputs": [],
   "source": [
    "to_jump_delay = m.delay(t.table, cutoff_component='JumpDelay')\n",
    "to_jump_"
   ]
  },
  {
   "cell_type": "code",
   "execution_count": null,
   "metadata": {
    "collapsed": true
   },
   "outputs": [],
   "source": []
  }
 ],
 "metadata": {
  "anaconda-cloud": {},
  "kernelspec": {
   "display_name": "Python [default]",
   "language": "python",
   "name": "python2"
  },
  "language_info": {
   "codemirror_mode": {
    "name": "ipython",
    "version": 2
   },
   "file_extension": ".py",
   "mimetype": "text/x-python",
   "name": "python",
   "nbconvert_exporter": "python",
   "pygments_lexer": "ipython2",
   "version": "2.7.12"
  }
 },
 "nbformat": 4,
 "nbformat_minor": 2
}
