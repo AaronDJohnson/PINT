{
 "metadata": {
  "name": ""
 },
 "nbformat": 3,
 "nbformat_minor": 0,
 "worksheets": [
  {
   "cells": [
    {
     "cell_type": "heading",
     "level": 1,
     "metadata": {},
     "source": [
      "PINT Example Session (5 Feb 2015)"
     ]
    },
    {
     "cell_type": "markdown",
     "metadata": {},
     "source": [
      "The PINT \"homepage\":  https://github.com/nanograv/PINT\n",
      "\n",
      "PINT will normally be run via a script, or for \"work\", via a command line session like ipython"
     ]
    },
    {
     "cell_type": "heading",
     "level": 2,
     "metadata": {},
     "source": [
      "Times of Arrival (TOAs)"
     ]
    },
    {
     "cell_type": "markdown",
     "metadata": {},
     "source": [
      "Read in some TOAs.\n",
      "\n",
      "Note:  The first time that things get read in, lots of processing (can) happen.  Can take a few seconds.  But a \"pickle\" file is saved, so the next import (if nothing changed), things are much faster (typically ~1 second)"
     ]
    },
    {
     "cell_type": "code",
     "collapsed": false,
     "input": [
      "import pint.toa as toa\n",
      "t = toa.get_TOAs(\"examples/NGC6440E.tim\")"
     ],
     "language": "python",
     "metadata": {},
     "outputs": [
      {
       "output_type": "stream",
       "stream": "stderr",
       "text": [
        "INFO:astropy:Applying clock corrections.\n"
       ]
      },
      {
       "output_type": "stream",
       "stream": "stdout",
       "text": [
        "INFO: Applying clock corrections. [pint.toa]\n",
        "INFO"
       ]
      },
      {
       "output_type": "stream",
       "stream": "stderr",
       "text": [
        "INFO:astropy:Getting IERS params and computing TDBs.\n"
       ]
      },
      {
       "output_type": "stream",
       "stream": "stdout",
       "text": [
        ": Getting IERS params and computing TDBs. [pint.toa]\n",
        "INFO"
       ]
      },
      {
       "output_type": "stream",
       "stream": "stderr",
       "text": [
        "INFO:astropy:Computing observatory positions and velocities.\n"
       ]
      },
      {
       "output_type": "stream",
       "stream": "stdout",
       "text": [
        ": Computing observatory positions and velocities. [pint.toa]\n",
        "INFO"
       ]
      },
      {
       "output_type": "stream",
       "stream": "stderr",
       "text": [
        "INFO:astropy:SPICE loaded planetary constants.\n"
       ]
      },
      {
       "output_type": "stream",
       "stream": "stderr",
       "text": [
        "INFO:astropy:SPICE loaded leap seconds.\n"
       ]
      },
      {
       "output_type": "stream",
       "stream": "stderr",
       "text": [
        "INFO:astropy:SPICE loaded Earth rotation parameters.\n"
       ]
      },
      {
       "output_type": "stream",
       "stream": "stderr",
       "text": [
        "INFO:astropy:SPICE loaded DE421 Planetary Ephemeris.\n"
       ]
      },
      {
       "output_type": "stream",
       "stream": "stderr",
       "text": [
        "INFO:astropy:Loading /home/sransom/git/PINT/datafiles/de421.bsp ephemeris.\n"
       ]
      },
      {
       "output_type": "stream",
       "stream": "stdout",
       "text": [
        ": SPICE loaded planetary constants. [pint.spiceutils]\n",
        "INFO: SPICE loaded leap seconds. [pint.spiceutils]\n",
        "INFO: SPICE loaded Earth rotation parameters. [pint.spiceutils]\n",
        "INFO: SPICE loaded DE421 Planetary Ephemeris. [pint.spiceutils]\n",
        "INFO: Loading /home/sransom/git/PINT/datafiles/de421.bsp ephemeris. [pint.toa]\n",
        "INFO"
       ]
      },
      {
       "output_type": "stream",
       "stream": "stderr",
       "text": [
        "INFO:astropy:Pickling TOAs.\n"
       ]
      },
      {
       "output_type": "stream",
       "stream": "stdout",
       "text": [
        ": Pickling TOAs. [pint.toa]\n"
       ]
      }
     ],
     "prompt_number": 1
    },
    {
     "cell_type": "code",
     "collapsed": false,
     "input": [
      "t.print_summary()"
     ],
     "language": "python",
     "metadata": {},
     "outputs": [
      {
       "output_type": "stream",
       "stream": "stdout",
       "text": [
        "Number of TOAs:  62\n",
        "Number of commands:  1\n",
        "Number of observatories:  1 ['GBT']\n",
        "GBT TOAs (62):\n",
        "  Min error:     13.2 us\n",
        "  Max error:     118 us\n",
        "  Mean error:    26.9 us\n",
        "  Median error:  22.1 us\n",
        "  Error stddev:  15.6 us\n",
        "\n"
       ]
      }
     ],
     "prompt_number": 2
    },
    {
     "cell_type": "code",
     "collapsed": false,
     "input": [
      "t.get_mjds()"
     ],
     "language": "python",
     "metadata": {},
     "outputs": [
      {
       "metadata": {},
       "output_type": "pyout",
       "prompt_number": 3,
       "text": [
        "array([ 53478.28587142,  53483.27670519,  53489.46838979,  53679.87564592,\n",
        "        53679.87564537,  53679.87564493,  53679.87564458,  53679.87564513,\n",
        "        53681.700751  ,  53681.9545449 ,  53683.73678777,  53685.73745904,\n",
        "        53687.68639838,  53687.95032739,  53690.8505221 ,  53695.69557327,\n",
        "        53695.85890789,  53700.71983242,  53700.86649642,  53709.63751695,\n",
        "        53709.80961233,  53740.56747467,  53740.77459869,  53801.3860512 ,\n",
        "        53801.59143301,  53833.2978103 ,  53833.50245772,  53843.33207938,\n",
        "        53865.18476778,  53865.37595137,  53895.11283426,  53895.3234694 ,\n",
        "        53920.05274172,  53920.23971474,  53954.97216082,  53955.17456176,\n",
        "        53980.9030418 ,  53981.11981343,  54010.82143311,  54011.03176787,\n",
        "        54050.70474316,  54050.94624708,  54093.65660523,  54095.65330737,\n",
        "        54098.6648706 ,  54099.70978479,  54148.68651943,  54150.42513338,\n",
        "        54151.52682219,  54152.71744732,  54153.54858413,  54160.52286339,\n",
        "        54187.33158349,  54187.58732417,  54099.70978574,  54099.70978543,\n",
        "        54099.70978515,  54099.7097849 ,  54099.70978468,  54099.70978449,\n",
        "        54099.70978432,  54099.70978416])"
       ]
      }
     ],
     "prompt_number": 3
    },
    {
     "cell_type": "markdown",
     "metadata": {},
     "source": [
      "Vast majority of the information is in an [Astropy Table](http://astropy.readthedocs.org/en/latest/table/):"
     ]
    },
    {
     "cell_type": "code",
     "collapsed": false,
     "input": [
      "t.table.colnames"
     ],
     "language": "python",
     "metadata": {},
     "outputs": [
      {
       "metadata": {},
       "output_type": "pyout",
       "prompt_number": 4,
       "text": [
        "['index',\n",
        " 'mjd',\n",
        " 'error',\n",
        " 'freq',\n",
        " 'obs',\n",
        " 'flags',\n",
        " 'tdb',\n",
        " 'tdbld',\n",
        " 'ssb_obs_pos',\n",
        " 'ssb_obs_vel',\n",
        " 'obs_sun_pos']"
       ]
      }
     ],
     "prompt_number": 4
    },
    {
     "cell_type": "markdown",
     "metadata": {},
     "source": [
      "Lots of cool things that tables can do..."
     ]
    },
    {
     "cell_type": "code",
     "collapsed": false,
     "input": [
      "tt = t.table\n",
      "tt.show_in_browser()"
     ],
     "language": "python",
     "metadata": {},
     "outputs": [],
     "prompt_number": 5
    },
    {
     "cell_type": "markdown",
     "metadata": {},
     "source": [
      "Can do fancy sorting, selecting, re-arranging very easily."
     ]
    },
    {
     "cell_type": "code",
     "collapsed": false,
     "input": [
      "select = tt['error'] < 20\n",
      "print(select)"
     ],
     "language": "python",
     "metadata": {},
     "outputs": [
      {
       "output_type": "stream",
       "stream": "stdout",
       "text": [
        "[False False False False False False False  True False False False False\n",
        " False False  True False  True False False False  True False  True False\n",
        "  True  True  True  True False  True False  True  True  True False False\n",
        " False False False False False False  True  True False  True  True False\n",
        " False False  True False False False False False False False False False\n",
        " False False]\n"
       ]
      }
     ],
     "prompt_number": 6
    },
    {
     "cell_type": "code",
     "collapsed": false,
     "input": [
      "tt['tdb'][select]"
     ],
     "language": "python",
     "metadata": {},
     "outputs": [
      {
       "html": [
        "&lt;Column name=&apos;tdb&apos; dtype=&apos;object&apos; length=18&gt;\n",
        "<table>\n",
        "<tr><td>2005-11-05T21:01:59.922131404</td></tr>\n",
        "<tr><td>2005-11-16T20:25:49.292178013</td></tr>\n",
        "<tr><td>2005-11-21T20:37:53.824617040</td></tr>\n",
        "<tr><td>2005-12-05T19:26:54.688123098</td></tr>\n",
        "<tr><td>2006-01-05T18:36:30.510564396</td></tr>\n",
        "<tr><td>2006-03-07T14:12:44.997350212</td></tr>\n",
        "<tr><td>2006-04-08T07:09:55.995790488</td></tr>\n",
        "<tr><td>2006-04-08T12:04:37.532371787</td></tr>\n",
        "<tr><td>2006-04-18T07:59:16.843625573</td></tr>\n",
        "<tr><td>2006-05-10T09:02:27.384132781</td></tr>\n",
        "<tr><td>2006-06-09T07:46:52.940664073</td></tr>\n",
        "<tr><td>2006-07-04T01:17:02.069013135</td></tr>\n",
        "<tr><td>2006-07-04T05:46:16.537335677</td></tr>\n",
        "<tr><td>2006-12-24T15:46:35.875451365</td></tr>\n",
        "<tr><td>2006-12-26T15:41:50.940406554</td></tr>\n",
        "<tr><td>2006-12-30T17:03:10.589834784</td></tr>\n",
        "<tr><td>2007-02-17T16:29:40.464181223</td></tr>\n",
        "<tr><td>2007-02-22T13:11:02.854104446</td></tr>\n",
        "</table>"
       ],
       "metadata": {},
       "output_type": "pyout",
       "prompt_number": 7,
       "text": [
        "<Column name='tdb' dtype='object' length=18>\n",
        "2005-11-05T21:01:59.922131404\n",
        "2005-11-16T20:25:49.292178013\n",
        "2005-11-21T20:37:53.824617040\n",
        "2005-12-05T19:26:54.688123098\n",
        "2006-01-05T18:36:30.510564396\n",
        "2006-03-07T14:12:44.997350212\n",
        "2006-04-08T07:09:55.995790488\n",
        "2006-04-08T12:04:37.532371787\n",
        "2006-04-18T07:59:16.843625573\n",
        "2006-05-10T09:02:27.384132781\n",
        "2006-06-09T07:46:52.940664073\n",
        "2006-07-04T01:17:02.069013135\n",
        "2006-07-04T05:46:16.537335677\n",
        "2006-12-24T15:46:35.875451365\n",
        "2006-12-26T15:41:50.940406554\n",
        "2006-12-30T17:03:10.589834784\n",
        "2007-02-17T16:29:40.464181223\n",
        "2007-02-22T13:11:02.854104446"
       ]
      }
     ],
     "prompt_number": 7
    },
    {
     "cell_type": "markdown",
     "metadata": {},
     "source": [
      "Many PINT routines / classes / functions use [Astropy Units](http://astropy.readthedocs.org/en/latest/units/) internally or externally:"
     ]
    },
    {
     "cell_type": "code",
     "collapsed": false,
     "input": [
      "import astropy.units as u\n",
      "t.get_errors() < 20 * u.ns"
     ],
     "language": "python",
     "metadata": {},
     "outputs": [
      {
       "metadata": {},
       "output_type": "pyout",
       "prompt_number": 9,
       "text": [
        "array([False, False, False, False, False, False, False, False, False,\n",
        "       False, False, False, False, False, False, False, False, False,\n",
        "       False, False, False, False, False, False, False, False, False,\n",
        "       False, False, False, False, False, False, False, False, False,\n",
        "       False, False, False, False, False, False, False, False, False,\n",
        "       False, False, False, False, False, False, False, False, False,\n",
        "       False, False, False, False, False, False, False, False], dtype=bool)"
       ]
      }
     ],
     "prompt_number": 9
    },
    {
     "cell_type": "markdown",
     "metadata": {},
     "source": [
      "The times in each row contain (or are derived from) [Astropy Time](http://astropy.readthedocs.org/en/latest/time/) objects:"
     ]
    },
    {
     "cell_type": "code",
     "collapsed": false,
     "input": [
      "t0 = tt['mjd'][0]"
     ],
     "language": "python",
     "metadata": {},
     "outputs": [],
     "prompt_number": 10
    },
    {
     "cell_type": "code",
     "collapsed": false,
     "input": [
      "t0.tai"
     ],
     "language": "python",
     "metadata": {},
     "outputs": [
      {
       "metadata": {},
       "output_type": "pyout",
       "prompt_number": 11,
       "text": [
        "<Time object: scale='tai' format='mjd' value=53478.2862418>"
       ]
      }
     ],
     "prompt_number": 11
    },
    {
     "cell_type": "markdown",
     "metadata": {},
     "source": [
      "But the most useful timescale, TDB (and maybe soon others) are also stored as long double (i.e. \"float96\") Numpy arrays:"
     ]
    },
    {
     "cell_type": "code",
     "collapsed": false,
     "input": [
      "tt['tdbld'][:3]"
     ],
     "language": "python",
     "metadata": {},
     "outputs": [
      {
       "html": [
        "&lt;Column name=&apos;tdbld&apos; dtype=&apos;float96&apos; length=3&gt;\n",
        "<table>\n",
        "<tr><td>53478.2866143</td></tr>\n",
        "<tr><td>53483.2774481</td></tr>\n",
        "<tr><td>53489.4691327</td></tr>\n",
        "</table>"
       ],
       "metadata": {},
       "output_type": "pyout",
       "prompt_number": 12,
       "text": [
        "<Column name='tdbld' dtype='float96' length=3>\n",
        "53478.2866143\n",
        "53483.2774481\n",
        "53489.4691327"
       ]
      }
     ],
     "prompt_number": 12
    },
    {
     "cell_type": "heading",
     "level": 2,
     "metadata": {},
     "source": [
      "Timing (or other) Models"
     ]
    },
    {
     "cell_type": "markdown",
     "metadata": {},
     "source": [
      "Now let's define and load a timing model"
     ]
    },
    {
     "cell_type": "code",
     "collapsed": false,
     "input": [
      "import pint.models as models\n",
      "m = models.StandardTimingModel()\n",
      "m.read_parfile(\"examples/NGC6440E.par\")"
     ],
     "language": "python",
     "metadata": {},
     "outputs": [],
     "prompt_number": 13
    },
    {
     "cell_type": "code",
     "collapsed": false,
     "input": [
      "print(m.as_parfile())"
     ],
     "language": "python",
     "metadata": {},
     "outputs": [
      {
       "output_type": "stream",
       "stream": "stdout",
       "text": [
        "PSR                            1748-2021E\n",
        "PLANET_SHAPIRO                          N\n",
        "DM                                  223.9 1\n",
        "F0                  61.485476554000000001 1\n",
        "F1                             -1.181e-15 1\n",
        "TZRMJD              53801.386051182230000\n",
        "PEPOCH              53750.000000000000000\n",
        "RAJ                     17:48:52.75000000 1\n",
        "DECJ                   -20:21:29.00000000 1\n",
        "POSEPOCH            53750.000000000000000\n",
        "PMRA                                  0.0\n",
        "PMDEC                                 0.0\n",
        "PX                                    0.0\n",
        "\n"
       ]
      }
     ],
     "prompt_number": 14
    },
    {
     "cell_type": "markdown",
     "metadata": {},
     "source": [
      "Timing models are basically composed of \"delay\" terms and \"phase\" terms:"
     ]
    },
    {
     "cell_type": "code",
     "collapsed": false,
     "input": [
      "m.delay_funcs"
     ],
     "language": "python",
     "metadata": {},
     "outputs": [
      {
       "metadata": {},
       "output_type": "pyout",
       "prompt_number": 15,
       "text": [
        "[<bound method StandardTimingModel.solar_system_shapiro_delay of <pint.models.timing_model.StandardTimingModel object at 0xa4ee38cc>>,\n",
        " <bound method StandardTimingModel.dispersion_delay of <pint.models.timing_model.StandardTimingModel object at 0xa4ee38cc>>,\n",
        " <bound method StandardTimingModel.solar_system_geometric_delay of <pint.models.timing_model.StandardTimingModel object at 0xa4ee38cc>>]"
       ]
      }
     ],
     "prompt_number": 15
    },
    {
     "cell_type": "code",
     "collapsed": false,
     "input": [
      "m.phase_funcs"
     ],
     "language": "python",
     "metadata": {},
     "outputs": [
      {
       "metadata": {},
       "output_type": "pyout",
       "prompt_number": 16,
       "text": [
        "[<bound method StandardTimingModel.simple_spindown_phase of <pint.models.timing_model.StandardTimingModel object at 0xa4ee38cc>>]"
       ]
      }
     ],
     "prompt_number": 16
    },
    {
     "cell_type": "markdown",
     "metadata": {},
     "source": [
      "Can easily show/compute individual terms..."
     ]
    },
    {
     "cell_type": "code",
     "collapsed": false,
     "input": [
      "ds = m.solar_system_shapiro_delay(tt)\n",
      "print(ds)"
     ],
     "language": "python",
     "metadata": {},
     "outputs": [
      {
       "output_type": "stream",
       "stream": "stdout",
       "text": [
        "[ -4.11774615e-06  -4.58215733e-06  -5.09435414e-06   1.26025166e-05\n",
        "   1.26025164e-05   1.26025162e-05   1.26025160e-05   1.26025163e-05\n",
        "   1.34033282e-05   1.35163226e-05   1.43416919e-05   1.53159181e-05\n",
        "   1.63198995e-05   1.64587639e-05   1.80783671e-05   2.11530227e-05\n",
        "   2.12647452e-05   2.49851393e-05   2.51080759e-05   3.45107578e-05\n",
        "   3.47450145e-05   3.00319035e-05   2.98083009e-05   2.11804876e-06\n",
        "   2.07541049e-06  -3.00762925e-06  -3.03173087e-06  -4.09655364e-06\n",
        "  -5.80849733e-06  -5.81983363e-06  -6.90339229e-06  -6.90646307e-06\n",
        "  -6.82672804e-06  -6.82292820e-06  -5.19141699e-06  -5.17650522e-06\n",
        "  -2.63564143e-06  -2.60880558e-06   2.28385789e-06   2.32788086e-06\n",
        "   1.51692739e-05   1.52882687e-05   5.13321681e-05   4.61456319e-05\n",
        "   3.99876478e-05   3.82020218e-05   6.59654821e-06   6.09155453e-06\n",
        "   5.78124973e-06   5.45386907e-06   5.22873336e-06   3.47897242e-06\n",
        "  -1.52400083e-06  -1.56079046e-06   3.82020202e-05   3.82020207e-05\n",
        "   3.82020212e-05   3.82020216e-05   3.82020219e-05   3.82020222e-05\n",
        "   3.82020225e-05   3.82020228e-05]\n"
       ]
      }
     ],
     "prompt_number": 17
    },
    {
     "cell_type": "code",
     "collapsed": false,
     "input": [
      "import matplotlib.pyplot as plt\n",
      "%matplotlib inline\n",
      "plt.plot(t.get_mjds(), ds*1e6, 'x')\n",
      "plt.xlabel(\"MJD\") ; plt.ylabel(\"Delay ($\\mu$s)\")"
     ],
     "language": "python",
     "metadata": {},
     "outputs": [
      {
       "metadata": {},
       "output_type": "pyout",
       "prompt_number": 18,
       "text": [
        "<matplotlib.text.Text at 0xa3bcc52c>"
       ]
      },
      {
       "metadata": {},
       "output_type": "display_data",
       "png": "[encoded data removed]",
       "text": [
        "<matplotlib.figure.Figure at 0xaa8b066c>"
       ]
      }
     ],
     "prompt_number": 18
    },
    {
     "cell_type": "markdown",
     "metadata": {},
     "source": [
      "or all of the terms added together:"
     ]
    },
    {
     "cell_type": "code",
     "collapsed": false,
     "input": [
      "m.delay(tt)"
     ],
     "language": "python",
     "metadata": {},
     "outputs": [
      {
       "metadata": {},
       "output_type": "pyout",
       "prompt_number": 19,
       "text": [
        "array([-256.27780385, -292.17727414, -333.75096918,  357.15222973,\n",
        "        357.1042449 ,  357.06652485,  357.03633769,  357.08429711,\n",
        "        367.69388946,  369.13838938,  379.080215  ,  389.80455011,\n",
        "        399.7984286 ,  401.11641314,  415.02787367,  435.89826732,\n",
        "        436.54658382,  454.24106089,  454.72545487,  478.04207903,\n",
        "        478.38385956,  468.46407862,  467.91561351,   94.36851725,\n",
        "         92.62907224, -175.81784133, -177.46527042, -253.52910298,\n",
        "       -394.21626284, -395.23691322, -497.24000468, -497.5402638 ,\n",
        "       -488.57105536, -488.1777565 , -337.19429477, -335.9154623 ,\n",
        "       -146.57383909, -144.8059907 ,  105.78805672,  107.5422893 ,\n",
        "        389.24590076,  390.51827027,  490.40921287,  488.47335247,\n",
        "        484.41365305,  482.68741688,  240.08987512,  226.85717062,\n",
        "        218.50192024,  209.24145601,  202.56740376,  146.32214659,\n",
        "        -81.97888773,  -84.14610449,  482.769396  ,  482.74220183,\n",
        "        482.7182698 ,  482.69709825,  482.67827842,  482.66147446,\n",
        "        482.64640844,  482.63284869])"
       ]
      }
     ],
     "prompt_number": 19
    },
    {
     "cell_type": "code",
     "collapsed": false,
     "input": [
      "m.phase(tt)"
     ],
     "language": "python",
     "metadata": {},
     "outputs": [
      {
       "metadata": {},
       "output_type": "pyout",
       "prompt_number": 20,
       "text": [
        "Phase(int=<Column name='tdbld' dtype='float96' length=62>\n",
        "-1716399977.0\n",
        "-1689884738.0\n",
        "-1656989816.0\n",
        " -645523228.0\n",
        " -645523228.0\n",
        " -645523228.0\n",
        " -645523228.0\n",
        " -645523228.0\n",
        " -635828288.0\n",
        " -634480136.0\n",
        " -625012858.0\n",
        " -614385261.0\n",
        "          ...\n",
        " 1870800485.0\n",
        " 1907853722.0\n",
        " 2050284934.0\n",
        " 2051643650.0\n",
        " 1584772976.0\n",
        " 1584772976.0\n",
        " 1584772976.0\n",
        " 1584772976.0\n",
        " 1584772976.0\n",
        " 1584772976.0\n",
        " 1584772976.0\n",
        " 1584772976.0, frac=<Column name='tdbld' dtype='float96' length=62>\n",
        "-0.237274305313\n",
        " -0.24219240353\n",
        "-0.251325528603\n",
        "-0.402865611482\n",
        "-0.403335401206\n",
        "-0.409659981611\n",
        "-0.409792257706\n",
        "-0.406677972351\n",
        " -0.40361573681\n",
        "-0.400442628248\n",
        "-0.400911411445\n",
        "-0.398420902493\n",
        "            ...\n",
        "-0.249790763832\n",
        "-0.250959727215\n",
        " -0.24834137666\n",
        "-0.246403181343\n",
        "-0.318415042362\n",
        "-0.321757065365\n",
        "-0.325104984338\n",
        "-0.323977176566\n",
        "-0.326480106451\n",
        "-0.320932273753\n",
        "-0.331369987107\n",
        "-0.325498832972)"
       ]
      }
     ],
     "prompt_number": 20
    },
    {
     "cell_type": "heading",
     "level": 2,
     "metadata": {},
     "source": [
      "Residuals"
     ]
    },
    {
     "cell_type": "code",
     "collapsed": false,
     "input": [
      "import pint.residuals as r"
     ],
     "language": "python",
     "metadata": {},
     "outputs": [],
     "prompt_number": 21
    },
    {
     "cell_type": "code",
     "collapsed": false,
     "input": [
      "rs = r.resids(t, m).phase_resids"
     ],
     "language": "python",
     "metadata": {},
     "outputs": [],
     "prompt_number": 22
    },
    {
     "cell_type": "code",
     "collapsed": false,
     "input": [
      "plt.plot(t.get_mjds(), rs, 'x')\n",
      "plt.title(\"%s Pre-Fit Timing Residuals\" % m.PSR.value)\n",
      "plt.xlabel('MJD'); plt.ylabel('Residual (phase)')\n",
      "plt.grid()\n"
     ],
     "language": "python",
     "metadata": {},
     "outputs": [
      {
       "metadata": {},
       "output_type": "display_data",
       "png": "[encoded data removed]",
       "text": [
        "<matplotlib.figure.Figure at 0xaa9ab1cc>"
       ]
      }
     ],
     "prompt_number": 23
    },
    {
     "cell_type": "heading",
     "level": 2,
     "metadata": {},
     "source": [
      "Fitting and Post-Fit residuals"
     ]
    },
    {
     "cell_type": "markdown",
     "metadata": {},
     "source": [
      "The fitter is *completely* separate from the model and the TOA code.  So you can use any type of fitter with some easy coding.  This example uses a very simple Powell minimizer from the SciPy optimize module. "
     ]
    },
    {
     "cell_type": "code",
     "collapsed": false,
     "input": [
      "import pint.fitter as fit\n",
      "f = fit.fitter(t, m)\n",
      "f.call_minimize()"
     ],
     "language": "python",
     "metadata": {},
     "outputs": [],
     "prompt_number": 24
    },
    {
     "cell_type": "code",
     "collapsed": false,
     "input": [
      "print \"Best fit has reduced chi^2 of\", f.resids.chi2_reduced\n",
      "print \"RMS in phase is\", f.resids.phase_resids.std()\n",
      "print \"RMS in time is\", f.resids.time_resids.std().to(u.us)\n",
      "print \"\\n Best model is:\"\n",
      "print f.model.as_parfile()\n"
     ],
     "language": "python",
     "metadata": {},
     "outputs": [
      {
       "output_type": "stream",
       "stream": "stdout",
       "text": [
        "Best fit has reduced chi^2 of 1.04890006904\n",
        "RMS in phase is 0.00204343070126\n",
        "RMS in time is 33.2343638819 us\n",
        "\n",
        " Best model is:\n",
        "PSR                            1748-2021E\n",
        "PLANET_SHAPIRO                          N\n",
        "DM                          224.116571434 1\n",
        "F0                  61.485476554369035609 1\n",
        "F1                             -1.181e-15 1\n",
        "TZRMJD              53801.386051182230000\n",
        "PEPOCH              53750.000000000000000\n",
        "RAJ                     17:48:52.80035327 1\n",
        "DECJ                   -20:21:29.38780291 1\n",
        "POSEPOCH            53750.000000000000000\n",
        "PMRA                                  0.0\n",
        "PMDEC                                 0.0\n",
        "PX                                    0.0\n",
        "\n"
       ]
      }
     ],
     "prompt_number": 25
    },
    {
     "cell_type": "code",
     "collapsed": false,
     "input": [
      "plt.errorbar(t.get_mjds(),\n",
      "             f.resids.time_resids.to(u.us).value,\n",
      "             t.get_errors().to(u.us).value, fmt='x')\n",
      "plt.title(\"%s Post-Fit Timing Residuals\" % m.PSR.value)\n",
      "plt.xlabel('MJD'); plt.ylabel('Residual (us)')\n",
      "plt.grid()"
     ],
     "language": "python",
     "metadata": {},
     "outputs": [
      {
       "metadata": {},
       "output_type": "display_data",
       "png": "[encoded data removed]",
       "text": [
        "<matplotlib.figure.Figure at 0xabad0c2c>"
       ]
      }
     ],
     "prompt_number": 26
    },
    {
     "cell_type": "heading",
     "level": 2,
     "metadata": {},
     "source": [
      "Other interesting things"
     ]
    },
    {
     "cell_type": "markdown",
     "metadata": {},
     "source": [
      "We can make Barycentered TOAs in a single line!"
     ]
    },
    {
     "cell_type": "code",
     "collapsed": true,
     "input": [
      "tt['tdbld'] - m.delay(tt) / 86400.0"
     ],
     "language": "python",
     "metadata": {},
     "outputs": [
      {
       "html": [
        "&lt;Column name=&apos;tdbld&apos; dtype=&apos;float96&apos; length=62&gt;\n",
        "<table>\n",
        "<tr><td>53478.2895805</td></tr>\n",
        "<tr><td>53483.2808298</td></tr>\n",
        "<tr><td>53489.4729955</td></tr>\n",
        "<tr><td>53679.8722551</td></tr>\n",
        "<tr><td>53679.8722551</td></tr>\n",
        "<tr><td>53679.8722551</td></tr>\n",
        "<tr><td>53679.8722551</td></tr>\n",
        "<tr><td>53679.8722551</td></tr>\n",
        "<tr><td>53681.6972381</td></tr>\n",
        "<tr><td>53681.9510153</td></tr>\n",
        "<tr><td>53683.7331431</td></tr>\n",
        "<tr><td>53685.7336903</td></tr>\n",
        "<tr><td>...</td></tr>\n",
        "<tr><td>54153.5469941</td></tr>\n",
        "<tr><td>54160.5219243</td></tr>\n",
        "<tr><td>54187.3332868</td></tr>\n",
        "<tr><td>54187.5890525</td></tr>\n",
        "<tr><td>54099.7049526</td></tr>\n",
        "<tr><td>54099.7049526</td></tr>\n",
        "<tr><td>54099.7049526</td></tr>\n",
        "<tr><td>54099.7049526</td></tr>\n",
        "<tr><td>54099.7049526</td></tr>\n",
        "<tr><td>54099.7049526</td></tr>\n",
        "<tr><td>54099.7049526</td></tr>\n",
        "<tr><td>54099.7049526</td></tr>\n",
        "</table>"
       ],
       "metadata": {},
       "output_type": "pyout",
       "prompt_number": 27,
       "text": [
        "<Column name='tdbld' dtype='float96' length=62>\n",
        "53478.2895805\n",
        "53483.2808298\n",
        "53489.4729955\n",
        "53679.8722551\n",
        "53679.8722551\n",
        "53679.8722551\n",
        "53679.8722551\n",
        "53679.8722551\n",
        "53681.6972381\n",
        "53681.9510153\n",
        "53683.7331431\n",
        "53685.7336903\n",
        "          ...\n",
        "54153.5469941\n",
        "54160.5219243\n",
        "54187.3332868\n",
        "54187.5890525\n",
        "54099.7049526\n",
        "54099.7049526\n",
        "54099.7049526\n",
        "54099.7049526\n",
        "54099.7049526\n",
        "54099.7049526\n",
        "54099.7049526\n",
        "54099.7049526"
       ]
      }
     ],
     "prompt_number": 27
    },
    {
     "cell_type": "code",
     "collapsed": false,
     "input": [],
     "language": "python",
     "metadata": {},
     "outputs": []
    }
   ],
   "metadata": {}
  }
 ]
}