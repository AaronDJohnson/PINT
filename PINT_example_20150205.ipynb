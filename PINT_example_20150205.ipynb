{
 "metadata": {
  "name": "",
  "signature": "sha256:07b8c8b59033548474756c7d207eb1f0a3d6cf6fa55b78e9d5ef9a0440f20fcb"
 },
 "nbformat": 3,
 "nbformat_minor": 0,
 "worksheets": [
  {
   "cells": [
    {
     "cell_type": "heading",
     "level": 1,
     "metadata": {},
     "source": [
      "PINT Example Session (5 Feb 2015)"
     ]
    },
    {
     "cell_type": "markdown",
     "metadata": {},
     "source": [
      "The PINT \"homepage\":  https://github.com/nanograv/PINT\n",
      "\n",
      "PINT will normally be run via a script, or for \"work\", via a command line session like ipython"
     ]
    },
    {
     "cell_type": "heading",
     "level": 2,
     "metadata": {},
     "source": [
      "Times of Arrival (TOAs)"
     ]
    },
    {
     "cell_type": "markdown",
     "metadata": {},
     "source": [
      "Read in some TOAs.\n",
      "\n",
      "Note:  The first time that things get read in, lots of processing (can) happen.  Can take a few seconds.  But a \"pickle\" file is saved, so the next import (if nothing changed), things are much faster (typically ~1 second)"
     ]
    },
    {
     "cell_type": "code",
     "collapsed": false,
     "input": [
      "import pint.toa as toa\n",
      "t = toa.get_TOAs(\"examples/NGC6440E.tim\")"
     ],
     "language": "python",
     "metadata": {},
     "outputs": []
    },
    {
     "cell_type": "code",
     "collapsed": false,
     "input": [
      "t.print_summary()"
     ],
     "language": "python",
     "metadata": {},
     "outputs": []
    },
    {
     "cell_type": "code",
     "collapsed": false,
     "input": [
      "t.get_mjds()[0].value"
     ],
     "language": "python",
     "metadata": {},
     "outputs": []
    },
    {
     "cell_type": "markdown",
     "metadata": {},
     "source": [
      "Vast majority of the information is in an [Astropy Table](http://astropy.readthedocs.org/en/latest/table/):"
     ]
    },
    {
     "cell_type": "code",
     "collapsed": false,
     "input": [
      "t.table.colnames"
     ],
     "language": "python",
     "metadata": {},
     "outputs": []
    },
    {
     "cell_type": "markdown",
     "metadata": {},
     "source": [
      "Lots of cool things that tables can do..."
     ]
    },
    {
     "cell_type": "code",
     "collapsed": false,
     "input": [
      "tt = t.table\n",
      "tt.show_in_browser()"
     ],
     "language": "python",
     "metadata": {},
     "outputs": []
    },
    {
     "cell_type": "markdown",
     "metadata": {},
     "source": [
      "Can do fancy sorting, selecting, re-arranging very easily."
     ]
    },
    {
     "cell_type": "code",
     "collapsed": false,
     "input": [
      "select = tt['error'] < 20\n",
      "print(select)"
     ],
     "language": "python",
     "metadata": {},
     "outputs": []
    },
    {
     "cell_type": "code",
     "collapsed": false,
     "input": [
      "tt['tdb'][select]"
     ],
     "language": "python",
     "metadata": {},
     "outputs": []
    },
    {
     "cell_type": "markdown",
     "metadata": {},
     "source": [
      "Many PINT routines / classes / functions use [Astropy Units](http://astropy.readthedocs.org/en/latest/units/) internally or externally:"
     ]
    },
    {
     "cell_type": "code",
     "collapsed": false,
     "input": [
      "import astropy.units as u\n",
      "t.get_errors() < 20 * u.ns"
     ],
     "language": "python",
     "metadata": {},
     "outputs": []
    },
    {
     "cell_type": "markdown",
     "metadata": {},
     "source": [
      "The times in each row contain (or are derived from) [Astropy Time](http://astropy.readthedocs.org/en/latest/time/) objects:"
     ]
    },
    {
     "cell_type": "code",
     "collapsed": false,
     "input": [
      "t0 = tt['mjd'][0]"
     ],
     "language": "python",
     "metadata": {},
     "outputs": []
    },
    {
     "cell_type": "code",
     "collapsed": false,
     "input": [
      "t0.tai"
     ],
     "language": "python",
     "metadata": {},
     "outputs": []
    },
    {
     "cell_type": "markdown",
     "metadata": {},
     "source": [
      "But the most useful timescale, TDB (and maybe soon others) are also stored as long double (i.e. \"float96\") Numpy arrays:"
     ]
    },
    {
     "cell_type": "code",
     "collapsed": false,
     "input": [
      "tt['tdbld'][:3]"
     ],
     "language": "python",
     "metadata": {},
     "outputs": []
    },
    {
     "cell_type": "heading",
     "level": 2,
     "metadata": {},
     "source": [
      "Timing (or other) Models"
     ]
    },
    {
     "cell_type": "markdown",
     "metadata": {},
     "source": [
      "Now let's define and load a timing model"
     ]
    },
    {
     "cell_type": "code",
     "collapsed": false,
     "input": [
      "import pint.models as models\n",
      "m = models.StandardTimingModel()\n",
      "m.read_parfile(\"examples/NGC6440E.par\")"
     ],
     "language": "python",
     "metadata": {},
     "outputs": []
    },
    {
     "cell_type": "code",
     "collapsed": false,
     "input": [
      "print(m.as_parfile())"
     ],
     "language": "python",
     "metadata": {},
     "outputs": []
    },
    {
     "cell_type": "markdown",
     "metadata": {},
     "source": [
      "Timing models are basically composed of \"delay\" terms and \"phase\" terms:"
     ]
    },
    {
     "cell_type": "code",
     "collapsed": false,
     "input": [
      "m.delay_funcs"
     ],
     "language": "python",
     "metadata": {},
     "outputs": []
    },
    {
     "cell_type": "code",
     "collapsed": false,
     "input": [
      "m.phase_funcs"
     ],
     "language": "python",
     "metadata": {},
     "outputs": []
    },
    {
     "cell_type": "markdown",
     "metadata": {},
     "source": [
      "Can easily show/compute individual terms..."
     ]
    },
    {
     "cell_type": "code",
     "collapsed": false,
     "input": [
      "ds = m.solar_system_shapiro_delay(tt)\n",
      "print(ds)"
     ],
     "language": "python",
     "metadata": {},
     "outputs": []
    },
    {
     "cell_type": "code",
     "collapsed": false,
     "input": [
      "import matplotlib.pyplot as plt\n",
      "%matplotlib inline\n",
      "plt.plot(t.get_mjds(high_precision=False), ds*1e6, 'x')\n",
      "plt.xlabel(\"MJD\") ; plt.ylabel(\"Delay ($\\mu$s)\")"
     ],
     "language": "python",
     "metadata": {},
     "outputs": []
    },
    {
     "cell_type": "markdown",
     "metadata": {},
     "source": [
      "or all of the terms added together:"
     ]
    },
    {
     "cell_type": "code",
     "collapsed": false,
     "input": [
      "m.delay(tt)"
     ],
     "language": "python",
     "metadata": {},
     "outputs": []
    },
    {
     "cell_type": "code",
     "collapsed": false,
     "input": [
      "m.phase(tt)"
     ],
     "language": "python",
     "metadata": {},
     "outputs": []
    },
    {
     "cell_type": "heading",
     "level": 2,
     "metadata": {},
     "source": [
      "Residuals"
     ]
    },
    {
     "cell_type": "code",
     "collapsed": false,
     "input": [
      "import pint.residuals as r"
     ],
     "language": "python",
     "metadata": {},
     "outputs": []
    },
    {
     "cell_type": "code",
     "collapsed": false,
     "input": [
      "rs = r.resids(t, m).phase_resids"
     ],
     "language": "python",
     "metadata": {},
     "outputs": []
    },
    {
     "cell_type": "code",
     "collapsed": false,
     "input": [
      "plt.plot(t.get_mjds(high_precision=False), rs, 'x')\n",
      "plt.title(\"%s Pre-Fit Timing Residuals\" % m.PSR.value)\n",
      "plt.xlabel('MJD'); plt.ylabel('Residual (phase)')\n",
      "plt.grid()\n"
     ],
     "language": "python",
     "metadata": {},
     "outputs": []
    },
    {
     "cell_type": "heading",
     "level": 2,
     "metadata": {},
     "source": [
      "Fitting and Post-Fit residuals"
     ]
    },
    {
     "cell_type": "markdown",
     "metadata": {},
     "source": [
      "The fitter is *completely* separate from the model and the TOA code.  So you can use any type of fitter with some easy coding.  This example uses a very simple Powell minimizer from the SciPy optimize module. "
     ]
    },
    {
     "cell_type": "code",
     "collapsed": false,
     "input": [
      "import pint.fitter as fit\n",
      "f = fit.fitter(t, m)\n",
      "f.call_minimize()"
     ],
     "language": "python",
     "metadata": {},
     "outputs": []
    },
    {
     "cell_type": "code",
     "collapsed": false,
     "input": [
      "print \"Best fit has reduced chi^2 of\", f.resids.chi2_reduced\n",
      "print \"RMS in phase is\", f.resids.phase_resids.std()\n",
      "print \"RMS in time is\", f.resids.time_resids.std().to(u.us)\n",
      "print \"\\n Best model is:\"\n",
      "print f.model.as_parfile()\n"
     ],
     "language": "python",
     "metadata": {},
     "outputs": []
    },
    {
     "cell_type": "code",
     "collapsed": false,
     "input": [
      "plt.errorbar(t.get_mjds(high_precision=False),\n",
      "             f.resids.time_resids.to(u.us).value,\n",
      "             t.get_errors().to(u.us).value, fmt='x')\n",
      "plt.title(\"%s Post-Fit Timing Residuals\" % m.PSR.value)\n",
      "plt.xlabel('MJD'); plt.ylabel('Residual (us)')\n",
      "plt.grid()"
     ],
     "language": "python",
     "metadata": {},
     "outputs": []
    },
    {
     "cell_type": "heading",
     "level": 2,
     "metadata": {},
     "source": [
      "Other interesting things"
     ]
    },
    {
     "cell_type": "markdown",
     "metadata": {},
     "source": [
      "We can make Barycentered TOAs in a single line!"
     ]
    },
    {
     "cell_type": "code",
     "collapsed": true,
     "input": [
      "tt['tdbld'] - m.delay(tt) / 86400.0"
     ],
     "language": "python",
     "metadata": {},
     "outputs": []
    },
    {
     "cell_type": "code",
     "collapsed": false,
     "input": [],
     "language": "python",
     "metadata": {},
     "outputs": []
    }
   ],
   "metadata": {}
  }
 ]
}